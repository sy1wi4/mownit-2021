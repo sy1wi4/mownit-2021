{
 "cells": [
  {
   "cell_type": "markdown",
   "metadata": {},
   "source": [
    "# Język R\n",
    "## Postawowe informacje\n",
    "Język programowania oraz implementujący go system R jest środowiskiem do statystycznej analizy danych. Umożliwia pracę interaktywną i skryptową.\n",
    " \n",
    "Instalacja na Ubuntu:\n",
    "\n",
    "```apt-get install r-base```\n",
    "\n",
    "Jak dodać kernel R do Jupitera:\n",
    "\n",
    "https://datatofish.com/r-tutorials/\n",
    "\n",
    "Linki:\n",
    " - Strona główna projektu R: http://www.r-project.org/\n",
    " - Quick R: http://www.statmethods.net/\n",
    " - RStudio: https://www.rstudio.com/\n",
    "\n",
    "## Interaktywna praca z systemem\n",
    "\n",
    "Jest kilka możliwości:\n",
    "\n",
    " - Uruchamiamy RStudio, które zawiera zintegrowane środowisko do analizy danych w języku R\n",
    " - Można też uruchomić konsolę R bezpośrednio poleceniem R\n",
    " - W Jupyter tworzymy nowy notatnik z kernelem R"
   ]
  },
  {
   "cell_type": "markdown",
   "metadata": {},
   "source": [
    "Wbudowana pomoc:"
   ]
  },
  {
   "cell_type": "code",
   "execution_count": 1,
   "metadata": {},
   "outputs": [],
   "source": [
    "help()"
   ]
  },
  {
   "cell_type": "code",
   "execution_count": 2,
   "metadata": {},
   "outputs": [],
   "source": [
    "help(plot)"
   ]
  },
  {
   "cell_type": "markdown",
   "metadata": {},
   "source": [
    "bieżący katalog"
   ]
  },
  {
   "cell_type": "code",
   "execution_count": 3,
   "metadata": {},
   "outputs": [
    {
     "data": {
      "text/html": [
       "'D:/studia/sem4/MOwNiT/lab/lab5'"
      ],
      "text/latex": [
       "'D:/studia/sem4/MOwNiT/lab/lab5'"
      ],
      "text/markdown": [
       "'D:/studia/sem4/MOwNiT/lab/lab5'"
      ],
      "text/plain": [
       "[1] \"D:/studia/sem4/MOwNiT/lab/lab5\""
      ]
     },
     "metadata": {},
     "output_type": "display_data"
    }
   ],
   "source": [
    "getwd()"
   ]
  },
  {
   "cell_type": "markdown",
   "metadata": {},
   "source": [
    "zmiana katalogu bieżącego\n",
    "```\n",
    "setwd(\"~\")\n",
    "```"
   ]
  },
  {
   "cell_type": "markdown",
   "metadata": {},
   "source": [
    "#### Proste obliczenia"
   ]
  },
  {
   "cell_type": "code",
   "execution_count": 4,
   "metadata": {},
   "outputs": [
    {
     "data": {
      "text/html": [
       "4"
      ],
      "text/latex": [
       "4"
      ],
      "text/markdown": [
       "4"
      ],
      "text/plain": [
       "[1] 4"
      ]
     },
     "metadata": {},
     "output_type": "display_data"
    }
   ],
   "source": [
    "2+2"
   ]
  },
  {
   "cell_type": "markdown",
   "metadata": {},
   "source": [
    "Przypisanie \n",
    "\n",
    "więcej o rodzajach przypisania: http://stat.ethz.ch/R-manual/R-patched/library/base/html/assignOps.html"
   ]
  },
  {
   "cell_type": "code",
   "execution_count": 5,
   "metadata": {},
   "outputs": [],
   "source": [
    "a <- 2"
   ]
  },
  {
   "cell_type": "code",
   "execution_count": 6,
   "metadata": {},
   "outputs": [],
   "source": [
    "a = 2"
   ]
  },
  {
   "cell_type": "markdown",
   "metadata": {},
   "source": [
    "Działanie:"
   ]
  },
  {
   "cell_type": "code",
   "execution_count": 7,
   "metadata": {},
   "outputs": [
    {
     "data": {
      "text/html": [
       "4"
      ],
      "text/latex": [
       "4"
      ],
      "text/markdown": [
       "4"
      ],
      "text/plain": [
       "[1] 4"
      ]
     },
     "metadata": {},
     "output_type": "display_data"
    }
   ],
   "source": [
    "a * 2"
   ]
  },
  {
   "cell_type": "markdown",
   "metadata": {},
   "source": [
    "Listy\n",
    "\n",
    "Funkcja `c()` - konkatenacja"
   ]
  },
  {
   "cell_type": "code",
   "execution_count": 8,
   "metadata": {},
   "outputs": [
    {
     "data": {
      "text/html": [
       "<ol class=list-inline>\n",
       "\t<li>2</li>\n",
       "\t<li>4</li>\n",
       "\t<li>6</li>\n",
       "\t<li>8</li>\n",
       "</ol>\n"
      ],
      "text/latex": [
       "\\begin{enumerate*}\n",
       "\\item 2\n",
       "\\item 4\n",
       "\\item 6\n",
       "\\item 8\n",
       "\\end{enumerate*}\n"
      ],
      "text/markdown": [
       "1. 2\n",
       "2. 4\n",
       "3. 6\n",
       "4. 8\n",
       "\n",
       "\n"
      ],
      "text/plain": [
       "[1] 2 4 6 8"
      ]
     },
     "metadata": {},
     "output_type": "display_data"
    }
   ],
   "source": [
    "x = c(1,2,3,4)\n",
    "y = c(2,4,6,8)\n",
    "z = x*2\n",
    "z"
   ]
  },
  {
   "cell_type": "code",
   "execution_count": 9,
   "metadata": {},
   "outputs": [
    {
     "data": {
      "text/html": [
       "<ol class=list-inline>\n",
       "\t<li>3</li>\n",
       "\t<li>6</li>\n",
       "\t<li>9</li>\n",
       "\t<li>12</li>\n",
       "</ol>\n"
      ],
      "text/latex": [
       "\\begin{enumerate*}\n",
       "\\item 3\n",
       "\\item 6\n",
       "\\item 9\n",
       "\\item 12\n",
       "\\end{enumerate*}\n"
      ],
      "text/markdown": [
       "1. 3\n",
       "2. 6\n",
       "3. 9\n",
       "4. 12\n",
       "\n",
       "\n"
      ],
      "text/plain": [
       "[1]  3  6  9 12"
      ]
     },
     "metadata": {},
     "output_type": "display_data"
    }
   ],
   "source": [
    "x+y "
   ]
  },
  {
   "cell_type": "markdown",
   "metadata": {},
   "source": [
    "Funkcje"
   ]
  },
  {
   "cell_type": "code",
   "execution_count": 10,
   "metadata": {},
   "outputs": [
    {
     "data": {
      "text/html": [
       "<ol class=list-inline>\n",
       "\t<li>1</li>\n",
       "\t<li>2</li>\n",
       "\t<li>3</li>\n",
       "\t<li>4</li>\n",
       "\t<li>5</li>\n",
       "\t<li>6</li>\n",
       "\t<li>7</li>\n",
       "\t<li>8</li>\n",
       "\t<li>9</li>\n",
       "\t<li>10</li>\n",
       "</ol>\n"
      ],
      "text/latex": [
       "\\begin{enumerate*}\n",
       "\\item 1\n",
       "\\item 2\n",
       "\\item 3\n",
       "\\item 4\n",
       "\\item 5\n",
       "\\item 6\n",
       "\\item 7\n",
       "\\item 8\n",
       "\\item 9\n",
       "\\item 10\n",
       "\\end{enumerate*}\n"
      ],
      "text/markdown": [
       "1. 1\n",
       "2. 2\n",
       "3. 3\n",
       "4. 4\n",
       "5. 5\n",
       "6. 6\n",
       "7. 7\n",
       "8. 8\n",
       "9. 9\n",
       "10. 10\n",
       "\n",
       "\n"
      ],
      "text/plain": [
       " [1]  1  2  3  4  5  6  7  8  9 10"
      ]
     },
     "metadata": {},
     "output_type": "display_data"
    }
   ],
   "source": [
    "seq(1,10) "
   ]
  },
  {
   "cell_type": "code",
   "execution_count": 11,
   "metadata": {},
   "outputs": [],
   "source": [
    "x = seq(1,10)"
   ]
  },
  {
   "cell_type": "code",
   "execution_count": 12,
   "metadata": {},
   "outputs": [
    {
     "data": {
      "text/html": [
       "55"
      ],
      "text/latex": [
       "55"
      ],
      "text/markdown": [
       "55"
      ],
      "text/plain": [
       "[1] 55"
      ]
     },
     "metadata": {},
     "output_type": "display_data"
    }
   ],
   "source": [
    "sum(x)"
   ]
  },
  {
   "cell_type": "code",
   "execution_count": 13,
   "metadata": {},
   "outputs": [
    {
     "data": {
      "text/html": [
       "<ol class=list-inline>\n",
       "\t<li>1</li>\n",
       "\t<li>1.4142135623731</li>\n",
       "\t<li>1.73205080756888</li>\n",
       "\t<li>2</li>\n",
       "\t<li>2.23606797749979</li>\n",
       "\t<li>2.44948974278318</li>\n",
       "\t<li>2.64575131106459</li>\n",
       "\t<li>2.82842712474619</li>\n",
       "\t<li>3</li>\n",
       "\t<li>3.16227766016838</li>\n",
       "</ol>\n"
      ],
      "text/latex": [
       "\\begin{enumerate*}\n",
       "\\item 1\n",
       "\\item 1.4142135623731\n",
       "\\item 1.73205080756888\n",
       "\\item 2\n",
       "\\item 2.23606797749979\n",
       "\\item 2.44948974278318\n",
       "\\item 2.64575131106459\n",
       "\\item 2.82842712474619\n",
       "\\item 3\n",
       "\\item 3.16227766016838\n",
       "\\end{enumerate*}\n"
      ],
      "text/markdown": [
       "1. 1\n",
       "2. 1.4142135623731\n",
       "3. 1.73205080756888\n",
       "4. 2\n",
       "5. 2.23606797749979\n",
       "6. 2.44948974278318\n",
       "7. 2.64575131106459\n",
       "8. 2.82842712474619\n",
       "9. 3\n",
       "10. 3.16227766016838\n",
       "\n",
       "\n"
      ],
      "text/plain": [
       " [1] 1.000000 1.414214 1.732051 2.000000 2.236068 2.449490 2.645751 2.828427\n",
       " [9] 3.000000 3.162278"
      ]
     },
     "metadata": {},
     "output_type": "display_data"
    }
   ],
   "source": [
    "sqrt(x)"
   ]
  },
  {
   "cell_type": "markdown",
   "metadata": {},
   "source": [
    "## Import i przekształcanie danych"
   ]
  },
  {
   "cell_type": "markdown",
   "metadata": {},
   "source": [
    "R umożliwia wczytywanie danych z baz danych i plików w różnych formatach.\n",
    "\n",
    "Przykład: import z pliku CSV.\n",
    "\n",
    "Do importu służy funkcja read.\n",
    "\n",
    "Przykładowy plik: [data1.txt](https://www.icsr.agh.edu.pl/~malawski/dydakt/mownit/R/data1.txt)\n",
    "\n",
    "Kolumny t1 i t2 zawierają wyniki \"pomiarów\" czasu dla 2 \"algorytmów\"."
   ]
  },
  {
   "cell_type": "code",
   "execution_count": 14,
   "metadata": {},
   "outputs": [],
   "source": [
    "results = read.csv(\"data1.txt\")"
   ]
  },
  {
   "cell_type": "markdown",
   "metadata": {},
   "source": [
    "Zaimportowane dane są w postaci tabeli (data frame)."
   ]
  },
  {
   "cell_type": "code",
   "execution_count": 15,
   "metadata": {},
   "outputs": [
    {
     "data": {
      "text/html": [
       "<table>\n",
       "<thead><tr><th scope=col>n</th><th scope=col>t1</th><th scope=col>t2</th></tr></thead>\n",
       "<tbody>\n",
       "\t<tr><td> 1  </td><td> 1.1</td><td> 2.3</td></tr>\n",
       "\t<tr><td> 2  </td><td> 2.0</td><td> 4.1</td></tr>\n",
       "\t<tr><td> 3  </td><td> 2.8</td><td> 6.0</td></tr>\n",
       "\t<tr><td> 4  </td><td> 4.2</td><td> 8.2</td></tr>\n",
       "\t<tr><td> 5  </td><td> 5.1</td><td> 9.9</td></tr>\n",
       "\t<tr><td> 6  </td><td> 5.9</td><td>12.1</td></tr>\n",
       "\t<tr><td> 7  </td><td> 6.7</td><td>14.1</td></tr>\n",
       "\t<tr><td> 8  </td><td> 8.0</td><td>15.9</td></tr>\n",
       "\t<tr><td> 9  </td><td> 9.1</td><td>18.1</td></tr>\n",
       "\t<tr><td>10  </td><td>10.1</td><td>19.9</td></tr>\n",
       "</tbody>\n",
       "</table>\n"
      ],
      "text/latex": [
       "\\begin{tabular}{r|lll}\n",
       " n & t1 & t2\\\\\n",
       "\\hline\n",
       "\t  1   &  1.1 &  2.3\\\\\n",
       "\t  2   &  2.0 &  4.1\\\\\n",
       "\t  3   &  2.8 &  6.0\\\\\n",
       "\t  4   &  4.2 &  8.2\\\\\n",
       "\t  5   &  5.1 &  9.9\\\\\n",
       "\t  6   &  5.9 & 12.1\\\\\n",
       "\t  7   &  6.7 & 14.1\\\\\n",
       "\t  8   &  8.0 & 15.9\\\\\n",
       "\t  9   &  9.1 & 18.1\\\\\n",
       "\t 10   & 10.1 & 19.9\\\\\n",
       "\\end{tabular}\n"
      ],
      "text/markdown": [
       "\n",
       "| n | t1 | t2 |\n",
       "|---|---|---|\n",
       "|  1   |  1.1 |  2.3 |\n",
       "|  2   |  2.0 |  4.1 |\n",
       "|  3   |  2.8 |  6.0 |\n",
       "|  4   |  4.2 |  8.2 |\n",
       "|  5   |  5.1 |  9.9 |\n",
       "|  6   |  5.9 | 12.1 |\n",
       "|  7   |  6.7 | 14.1 |\n",
       "|  8   |  8.0 | 15.9 |\n",
       "|  9   |  9.1 | 18.1 |\n",
       "| 10   | 10.1 | 19.9 |\n",
       "\n"
      ],
      "text/plain": [
       "   n  t1   t2  \n",
       "1   1  1.1  2.3\n",
       "2   2  2.0  4.1\n",
       "3   3  2.8  6.0\n",
       "4   4  4.2  8.2\n",
       "5   5  5.1  9.9\n",
       "6   6  5.9 12.1\n",
       "7   7  6.7 14.1\n",
       "8   8  8.0 15.9\n",
       "9   9  9.1 18.1\n",
       "10 10 10.1 19.9"
      ]
     },
     "metadata": {},
     "output_type": "display_data"
    }
   ],
   "source": [
    "results"
   ]
  },
  {
   "cell_type": "markdown",
   "metadata": {},
   "source": [
    "Pobranie kolumny jako wektor kolumnowy:"
   ]
  },
  {
   "cell_type": "code",
   "execution_count": 16,
   "metadata": {},
   "outputs": [
    {
     "data": {
      "text/html": [
       "<table>\n",
       "<thead><tr><th scope=col>n</th></tr></thead>\n",
       "<tbody>\n",
       "\t<tr><td> 1</td></tr>\n",
       "\t<tr><td> 2</td></tr>\n",
       "\t<tr><td> 3</td></tr>\n",
       "\t<tr><td> 4</td></tr>\n",
       "\t<tr><td> 5</td></tr>\n",
       "\t<tr><td> 6</td></tr>\n",
       "\t<tr><td> 7</td></tr>\n",
       "\t<tr><td> 8</td></tr>\n",
       "\t<tr><td> 9</td></tr>\n",
       "\t<tr><td>10</td></tr>\n",
       "</tbody>\n",
       "</table>\n"
      ],
      "text/latex": [
       "\\begin{tabular}{r|l}\n",
       " n\\\\\n",
       "\\hline\n",
       "\t  1\\\\\n",
       "\t  2\\\\\n",
       "\t  3\\\\\n",
       "\t  4\\\\\n",
       "\t  5\\\\\n",
       "\t  6\\\\\n",
       "\t  7\\\\\n",
       "\t  8\\\\\n",
       "\t  9\\\\\n",
       "\t 10\\\\\n",
       "\\end{tabular}\n"
      ],
      "text/markdown": [
       "\n",
       "| n |\n",
       "|---|\n",
       "|  1 |\n",
       "|  2 |\n",
       "|  3 |\n",
       "|  4 |\n",
       "|  5 |\n",
       "|  6 |\n",
       "|  7 |\n",
       "|  8 |\n",
       "|  9 |\n",
       "| 10 |\n",
       "\n"
      ],
      "text/plain": [
       "   n \n",
       "1   1\n",
       "2   2\n",
       "3   3\n",
       "4   4\n",
       "5   5\n",
       "6   6\n",
       "7   7\n",
       "8   8\n",
       "9   9\n",
       "10 10"
      ]
     },
     "metadata": {},
     "output_type": "display_data"
    }
   ],
   "source": [
    "results[1]"
   ]
  },
  {
   "cell_type": "markdown",
   "metadata": {},
   "source": [
    "Pobranie kolumny jako lista:"
   ]
  },
  {
   "cell_type": "code",
   "execution_count": 17,
   "metadata": {},
   "outputs": [
    {
     "data": {
      "text/html": [
       "<ol class=list-inline>\n",
       "\t<li>1</li>\n",
       "\t<li>2</li>\n",
       "\t<li>3</li>\n",
       "\t<li>4</li>\n",
       "\t<li>5</li>\n",
       "\t<li>6</li>\n",
       "\t<li>7</li>\n",
       "\t<li>8</li>\n",
       "\t<li>9</li>\n",
       "\t<li>10</li>\n",
       "</ol>\n"
      ],
      "text/latex": [
       "\\begin{enumerate*}\n",
       "\\item 1\n",
       "\\item 2\n",
       "\\item 3\n",
       "\\item 4\n",
       "\\item 5\n",
       "\\item 6\n",
       "\\item 7\n",
       "\\item 8\n",
       "\\item 9\n",
       "\\item 10\n",
       "\\end{enumerate*}\n"
      ],
      "text/markdown": [
       "1. 1\n",
       "2. 2\n",
       "3. 3\n",
       "4. 4\n",
       "5. 5\n",
       "6. 6\n",
       "7. 7\n",
       "8. 8\n",
       "9. 9\n",
       "10. 10\n",
       "\n",
       "\n"
      ],
      "text/plain": [
       " [1]  1  2  3  4  5  6  7  8  9 10"
      ]
     },
     "metadata": {},
     "output_type": "display_data"
    }
   ],
   "source": [
    "results[[1]]"
   ]
  },
  {
   "cell_type": "markdown",
   "metadata": {},
   "source": [
    "pobranie kolumny po nazwie:"
   ]
  },
  {
   "cell_type": "code",
   "execution_count": 18,
   "metadata": {},
   "outputs": [
    {
     "data": {
      "text/html": [
       "<table>\n",
       "<thead><tr><th scope=col>t1</th></tr></thead>\n",
       "<tbody>\n",
       "\t<tr><td> 1.1</td></tr>\n",
       "\t<tr><td> 2.0</td></tr>\n",
       "\t<tr><td> 2.8</td></tr>\n",
       "\t<tr><td> 4.2</td></tr>\n",
       "\t<tr><td> 5.1</td></tr>\n",
       "\t<tr><td> 5.9</td></tr>\n",
       "\t<tr><td> 6.7</td></tr>\n",
       "\t<tr><td> 8.0</td></tr>\n",
       "\t<tr><td> 9.1</td></tr>\n",
       "\t<tr><td>10.1</td></tr>\n",
       "</tbody>\n",
       "</table>\n"
      ],
      "text/latex": [
       "\\begin{tabular}{r|l}\n",
       " t1\\\\\n",
       "\\hline\n",
       "\t  1.1\\\\\n",
       "\t  2.0\\\\\n",
       "\t  2.8\\\\\n",
       "\t  4.2\\\\\n",
       "\t  5.1\\\\\n",
       "\t  5.9\\\\\n",
       "\t  6.7\\\\\n",
       "\t  8.0\\\\\n",
       "\t  9.1\\\\\n",
       "\t 10.1\\\\\n",
       "\\end{tabular}\n"
      ],
      "text/markdown": [
       "\n",
       "| t1 |\n",
       "|---|\n",
       "|  1.1 |\n",
       "|  2.0 |\n",
       "|  2.8 |\n",
       "|  4.2 |\n",
       "|  5.1 |\n",
       "|  5.9 |\n",
       "|  6.7 |\n",
       "|  8.0 |\n",
       "|  9.1 |\n",
       "| 10.1 |\n",
       "\n"
      ],
      "text/plain": [
       "   t1  \n",
       "1   1.1\n",
       "2   2.0\n",
       "3   2.8\n",
       "4   4.2\n",
       "5   5.1\n",
       "6   5.9\n",
       "7   6.7\n",
       "8   8.0\n",
       "9   9.1\n",
       "10 10.1"
      ]
     },
     "metadata": {},
     "output_type": "display_data"
    }
   ],
   "source": [
    "results[\"t1\"]"
   ]
  },
  {
   "cell_type": "markdown",
   "metadata": {},
   "source": [
    "Pobranie wiersza lub wierszy:"
   ]
  },
  {
   "cell_type": "code",
   "execution_count": 19,
   "metadata": {},
   "outputs": [
    {
     "data": {
      "text/html": [
       "<table>\n",
       "<thead><tr><th></th><th scope=col>n</th><th scope=col>t1</th><th scope=col>t2</th></tr></thead>\n",
       "<tbody>\n",
       "\t<tr><th scope=row>2</th><td>2  </td><td>2  </td><td>4.1</td></tr>\n",
       "</tbody>\n",
       "</table>\n"
      ],
      "text/latex": [
       "\\begin{tabular}{r|lll}\n",
       "  & n & t1 & t2\\\\\n",
       "\\hline\n",
       "\t2 & 2   & 2   & 4.1\\\\\n",
       "\\end{tabular}\n"
      ],
      "text/markdown": [
       "\n",
       "| <!--/--> | n | t1 | t2 |\n",
       "|---|---|---|---|\n",
       "| 2 | 2   | 2   | 4.1 |\n",
       "\n"
      ],
      "text/plain": [
       "  n t1 t2 \n",
       "2 2 2  4.1"
      ]
     },
     "metadata": {},
     "output_type": "display_data"
    }
   ],
   "source": [
    "results[2,]"
   ]
  },
  {
   "cell_type": "code",
   "execution_count": 20,
   "metadata": {},
   "outputs": [
    {
     "data": {
      "text/html": [
       "<table>\n",
       "<thead><tr><th></th><th scope=col>n</th><th scope=col>t1</th><th scope=col>t2</th></tr></thead>\n",
       "<tbody>\n",
       "\t<tr><th scope=row>2</th><td>2   </td><td>2.0 </td><td> 4.1</td></tr>\n",
       "\t<tr><th scope=row>4</th><td>4   </td><td>4.2 </td><td> 8.2</td></tr>\n",
       "\t<tr><th scope=row>6</th><td>6   </td><td>5.9 </td><td>12.1</td></tr>\n",
       "</tbody>\n",
       "</table>\n"
      ],
      "text/latex": [
       "\\begin{tabular}{r|lll}\n",
       "  & n & t1 & t2\\\\\n",
       "\\hline\n",
       "\t2 & 2    & 2.0  &  4.1\\\\\n",
       "\t4 & 4    & 4.2  &  8.2\\\\\n",
       "\t6 & 6    & 5.9  & 12.1\\\\\n",
       "\\end{tabular}\n"
      ],
      "text/markdown": [
       "\n",
       "| <!--/--> | n | t1 | t2 |\n",
       "|---|---|---|---|\n",
       "| 2 | 2    | 2.0  |  4.1 |\n",
       "| 4 | 4    | 4.2  |  8.2 |\n",
       "| 6 | 6    | 5.9  | 12.1 |\n",
       "\n"
      ],
      "text/plain": [
       "  n t1  t2  \n",
       "2 2 2.0  4.1\n",
       "4 4 4.2  8.2\n",
       "6 6 5.9 12.1"
      ]
     },
     "metadata": {},
     "output_type": "display_data"
    }
   ],
   "source": [
    "results[c(2,4,6),]"
   ]
  },
  {
   "cell_type": "markdown",
   "metadata": {},
   "source": [
    "attach (dodanie tabeli do kontekstu) pozwala na pojedyncze odwołania do kolumn bez odwoływania sie do calej tabeli:"
   ]
  },
  {
   "cell_type": "code",
   "execution_count": 21,
   "metadata": {},
   "outputs": [
    {
     "data": {
      "text/html": [
       "<ol class=list-inline>\n",
       "\t<li>1.1</li>\n",
       "\t<li>2</li>\n",
       "\t<li>2.8</li>\n",
       "\t<li>4.2</li>\n",
       "\t<li>5.1</li>\n",
       "\t<li>5.9</li>\n",
       "\t<li>6.7</li>\n",
       "\t<li>8</li>\n",
       "\t<li>9.1</li>\n",
       "\t<li>10.1</li>\n",
       "</ol>\n"
      ],
      "text/latex": [
       "\\begin{enumerate*}\n",
       "\\item 1.1\n",
       "\\item 2\n",
       "\\item 2.8\n",
       "\\item 4.2\n",
       "\\item 5.1\n",
       "\\item 5.9\n",
       "\\item 6.7\n",
       "\\item 8\n",
       "\\item 9.1\n",
       "\\item 10.1\n",
       "\\end{enumerate*}\n"
      ],
      "text/markdown": [
       "1. 1.1\n",
       "2. 2\n",
       "3. 2.8\n",
       "4. 4.2\n",
       "5. 5.1\n",
       "6. 5.9\n",
       "7. 6.7\n",
       "8. 8\n",
       "9. 9.1\n",
       "10. 10.1\n",
       "\n",
       "\n"
      ],
      "text/plain": [
       " [1]  1.1  2.0  2.8  4.2  5.1  5.9  6.7  8.0  9.1 10.1"
      ]
     },
     "metadata": {},
     "output_type": "display_data"
    }
   ],
   "source": [
    "attach(results)\n",
    "t1"
   ]
  },
  {
   "cell_type": "code",
   "execution_count": 22,
   "metadata": {},
   "outputs": [
    {
     "data": {
      "text/html": [
       "<ol class=list-inline>\n",
       "\t<li>2.3</li>\n",
       "\t<li>4.1</li>\n",
       "\t<li>6</li>\n",
       "\t<li>8.2</li>\n",
       "\t<li>9.9</li>\n",
       "\t<li>12.1</li>\n",
       "\t<li>14.1</li>\n",
       "\t<li>15.9</li>\n",
       "\t<li>18.1</li>\n",
       "\t<li>19.9</li>\n",
       "</ol>\n"
      ],
      "text/latex": [
       "\\begin{enumerate*}\n",
       "\\item 2.3\n",
       "\\item 4.1\n",
       "\\item 6\n",
       "\\item 8.2\n",
       "\\item 9.9\n",
       "\\item 12.1\n",
       "\\item 14.1\n",
       "\\item 15.9\n",
       "\\item 18.1\n",
       "\\item 19.9\n",
       "\\end{enumerate*}\n"
      ],
      "text/markdown": [
       "1. 2.3\n",
       "2. 4.1\n",
       "3. 6\n",
       "4. 8.2\n",
       "5. 9.9\n",
       "6. 12.1\n",
       "7. 14.1\n",
       "8. 15.9\n",
       "9. 18.1\n",
       "10. 19.9\n",
       "\n",
       "\n"
      ],
      "text/plain": [
       " [1]  2.3  4.1  6.0  8.2  9.9 12.1 14.1 15.9 18.1 19.9"
      ]
     },
     "metadata": {},
     "output_type": "display_data"
    }
   ],
   "source": [
    "t2"
   ]
  },
  {
   "cell_type": "code",
   "execution_count": 23,
   "metadata": {},
   "outputs": [
    {
     "data": {
      "text/html": [
       "<ol class=list-inline>\n",
       "\t<li>1</li>\n",
       "\t<li>2</li>\n",
       "\t<li>3</li>\n",
       "\t<li>4</li>\n",
       "\t<li>5</li>\n",
       "\t<li>6</li>\n",
       "\t<li>7</li>\n",
       "\t<li>8</li>\n",
       "\t<li>9</li>\n",
       "\t<li>10</li>\n",
       "</ol>\n"
      ],
      "text/latex": [
       "\\begin{enumerate*}\n",
       "\\item 1\n",
       "\\item 2\n",
       "\\item 3\n",
       "\\item 4\n",
       "\\item 5\n",
       "\\item 6\n",
       "\\item 7\n",
       "\\item 8\n",
       "\\item 9\n",
       "\\item 10\n",
       "\\end{enumerate*}\n"
      ],
      "text/markdown": [
       "1. 1\n",
       "2. 2\n",
       "3. 3\n",
       "4. 4\n",
       "5. 5\n",
       "6. 6\n",
       "7. 7\n",
       "8. 8\n",
       "9. 9\n",
       "10. 10\n",
       "\n",
       "\n"
      ],
      "text/plain": [
       " [1]  1  2  3  4  5  6  7  8  9 10"
      ]
     },
     "metadata": {},
     "output_type": "display_data"
    }
   ],
   "source": [
    "n"
   ]
  },
  {
   "cell_type": "markdown",
   "metadata": {},
   "source": [
    "### Rysowanie wykresów\n",
    "\n",
    "Uzywamy pakietu ggplot2\n",
    "\n",
    "W przypadku własnej instalacji na początku może być potrzeba doinstalowania pakietu:\n",
    "\n",
    "```install.packages(\"ggplot2\")```"
   ]
  },
  {
   "cell_type": "code",
   "execution_count": 24,
   "metadata": {},
   "outputs": [
    {
     "name": "stderr",
     "output_type": "stream",
     "text": [
      "Warning message:\n",
      "\"package 'ggplot2' was built under R version 3.6.3\""
     ]
    }
   ],
   "source": [
    "library(\"ggplot2\")"
   ]
  },
  {
   "cell_type": "code",
   "execution_count": 25,
   "metadata": {},
   "outputs": [
    {
     "data": {
      "image/png": "[encoded data removed]",
      "text/plain": [
       "plot without title"
      ]
     },
     "metadata": {},
     "output_type": "display_data"
    }
   ],
   "source": [
    "ggplot(results,aes(n,t2)) + geom_point()"
   ]
  },
  {
   "cell_type": "code",
   "execution_count": 26,
   "metadata": {},
   "outputs": [
    {
     "data": {
      "image/png": "[encoded data removed]",
      "text/plain": [
       "plot without title"
      ]
     },
     "metadata": {},
     "output_type": "display_data"
    }
   ],
   "source": [
    "last_plot() + geom_line(data=results, aes(n,t2))"
   ]
  },
  {
   "cell_type": "markdown",
   "metadata": {},
   "source": [
    "## Przykład analizy danych"
   ]
  },
  {
   "cell_type": "markdown",
   "metadata": {},
   "source": [
    "Przetwarzanie danych w tabeli\n",
    "\n",
    "Dane w pliku [data2.txt](https://www.icsr.agh.edu.pl/~malawski/dydakt/mownit/R/data2.txt) mają postać tabeli faktów, w której wiersze są wynikami pomiarów. \n",
    "\n",
    "Przykładowo, zmierzono czas (time) dla różnych algorytmów (t1, t2).\n",
    "\n",
    "Kolumna `alg` jest typu `factorial` - jest to typ wyliczeniowy w R."
   ]
  },
  {
   "cell_type": "code",
   "execution_count": 27,
   "metadata": {},
   "outputs": [
    {
     "data": {
      "text/html": [
       "<table>\n",
       "<thead><tr><th scope=col>n</th><th scope=col>alg</th><th scope=col>time</th><th scope=col>error</th></tr></thead>\n",
       "<tbody>\n",
       "\t<tr><td> 1          </td><td>t1          </td><td> 1.010572   </td><td> 0.010572148</td></tr>\n",
       "\t<tr><td> 2          </td><td>t1          </td><td> 1.981689   </td><td>-0.018310993</td></tr>\n",
       "\t<tr><td> 3          </td><td>t1          </td><td> 3.066268   </td><td> 0.066268043</td></tr>\n",
       "\t<tr><td> 4          </td><td>t1          </td><td> 4.060221   </td><td> 0.060220570</td></tr>\n",
       "\t<tr><td> 5          </td><td>t1          </td><td> 5.029502   </td><td> 0.029502051</td></tr>\n",
       "\t<tr><td> 6          </td><td>t1          </td><td> 6.045928   </td><td> 0.045927536</td></tr>\n",
       "\t<tr><td> 7          </td><td>t1          </td><td> 6.957461   </td><td>-0.042538559</td></tr>\n",
       "\t<tr><td> 8          </td><td>t1          </td><td> 8.009891   </td><td> 0.009891313</td></tr>\n",
       "\t<tr><td> 9          </td><td>t1          </td><td> 9.053959   </td><td> 0.053959370</td></tr>\n",
       "\t<tr><td>10          </td><td>t1          </td><td> 9.982560   </td><td>-0.017439984</td></tr>\n",
       "\t<tr><td> 1          </td><td>t2          </td><td> 1.997585   </td><td>-0.002414813</td></tr>\n",
       "\t<tr><td> 2          </td><td>t2          </td><td> 3.953772   </td><td>-0.046227795</td></tr>\n",
       "\t<tr><td> 3          </td><td>t2          </td><td> 5.978172   </td><td>-0.021827928</td></tr>\n",
       "\t<tr><td> 4          </td><td>t2          </td><td> 8.052453   </td><td> 0.052453117</td></tr>\n",
       "\t<tr><td> 5          </td><td>t2          </td><td>10.072778   </td><td> 0.072777961</td></tr>\n",
       "\t<tr><td> 6          </td><td>t2          </td><td>11.957002   </td><td>-0.042997938</td></tr>\n",
       "\t<tr><td> 7          </td><td>t2          </td><td>14.002079   </td><td> 0.002078900</td></tr>\n",
       "\t<tr><td> 8          </td><td>t2          </td><td>16.031059   </td><td> 0.031058822</td></tr>\n",
       "\t<tr><td> 9          </td><td>t2          </td><td>18.046717   </td><td> 0.046716672</td></tr>\n",
       "\t<tr><td>10          </td><td>t2          </td><td>20.046959   </td><td> 0.046959194</td></tr>\n",
       "\t<tr><td> 1          </td><td>t1          </td><td> 1.079367   </td><td> 0.079366812</td></tr>\n",
       "\t<tr><td> 2          </td><td>t1          </td><td> 2.034495   </td><td> 0.034494559</td></tr>\n",
       "\t<tr><td> 3          </td><td>t1          </td><td> 2.942990   </td><td>-0.057010017</td></tr>\n",
       "\t<tr><td> 4          </td><td>t1          </td><td> 3.936265   </td><td>-0.063734966</td></tr>\n",
       "\t<tr><td> 5          </td><td>t1          </td><td> 4.971931   </td><td>-0.028069105</td></tr>\n",
       "\t<tr><td> 6          </td><td>t1          </td><td> 5.935258   </td><td>-0.064741864</td></tr>\n",
       "\t<tr><td> 7          </td><td>t1          </td><td> 6.930239   </td><td>-0.069760726</td></tr>\n",
       "\t<tr><td> 8          </td><td>t1          </td><td> 8.088869   </td><td> 0.088868510</td></tr>\n",
       "\t<tr><td> 9          </td><td>t1          </td><td> 8.949670   </td><td>-0.050330255</td></tr>\n",
       "\t<tr><td>10          </td><td>t1          </td><td> 9.963969   </td><td>-0.036030556</td></tr>\n",
       "\t<tr><td>...</td><td>...</td><td>...</td><td>...</td></tr>\n",
       "\t<tr><td> 1          </td><td>t2          </td><td> 2.0298945  </td><td> 0.029894485</td></tr>\n",
       "\t<tr><td> 2          </td><td>t2          </td><td> 3.9258667  </td><td>-0.074133292</td></tr>\n",
       "\t<tr><td> 3          </td><td>t2          </td><td> 6.0798658  </td><td> 0.079865815</td></tr>\n",
       "\t<tr><td> 4          </td><td>t2          </td><td> 8.0427000  </td><td> 0.042699961</td></tr>\n",
       "\t<tr><td> 5          </td><td>t2          </td><td>10.0047110  </td><td> 0.004710953</td></tr>\n",
       "\t<tr><td> 6          </td><td>t2          </td><td>12.0451718  </td><td> 0.045171754</td></tr>\n",
       "\t<tr><td> 7          </td><td>t2          </td><td>14.0277883  </td><td> 0.027788304</td></tr>\n",
       "\t<tr><td> 8          </td><td>t2          </td><td>15.9948606  </td><td>-0.005139422</td></tr>\n",
       "\t<tr><td> 9          </td><td>t2          </td><td>17.9814433  </td><td>-0.018556727</td></tr>\n",
       "\t<tr><td>10          </td><td>t2          </td><td>20.0706583  </td><td> 0.070658276</td></tr>\n",
       "\t<tr><td> 1          </td><td>t1          </td><td> 0.9608387  </td><td>-0.039161259</td></tr>\n",
       "\t<tr><td> 2          </td><td>t1          </td><td> 2.0267897  </td><td> 0.026789747</td></tr>\n",
       "\t<tr><td> 3          </td><td>t1          </td><td> 2.9177290  </td><td>-0.082271013</td></tr>\n",
       "\t<tr><td> 4          </td><td>t1          </td><td> 3.9467534  </td><td>-0.053246569</td></tr>\n",
       "\t<tr><td> 5          </td><td>t1          </td><td> 5.0340156  </td><td> 0.034015561</td></tr>\n",
       "\t<tr><td> 6          </td><td>t1          </td><td> 6.0447867  </td><td> 0.044786676</td></tr>\n",
       "\t<tr><td> 7          </td><td>t1          </td><td> 6.9471870  </td><td>-0.052813046</td></tr>\n",
       "\t<tr><td> 8          </td><td>t1          </td><td> 8.0205163  </td><td> 0.020516265</td></tr>\n",
       "\t<tr><td> 9          </td><td>t1          </td><td> 8.9359922  </td><td>-0.064007769</td></tr>\n",
       "\t<tr><td>10          </td><td>t1          </td><td>10.0013729  </td><td> 0.001372936</td></tr>\n",
       "\t<tr><td> 1          </td><td>t2          </td><td> 1.9076066  </td><td>-0.092393352</td></tr>\n",
       "\t<tr><td> 2          </td><td>t2          </td><td> 3.9216544  </td><td>-0.078345629</td></tr>\n",
       "\t<tr><td> 3          </td><td>t2          </td><td> 5.9047371  </td><td>-0.095262873</td></tr>\n",
       "\t<tr><td> 4          </td><td>t2          </td><td> 7.9451692  </td><td>-0.054830831</td></tr>\n",
       "\t<tr><td> 5          </td><td>t2          </td><td>10.0706839  </td><td> 0.070683864</td></tr>\n",
       "\t<tr><td> 6          </td><td>t2          </td><td>11.9154638  </td><td>-0.084536184</td></tr>\n",
       "\t<tr><td> 7          </td><td>t2          </td><td>13.9948929  </td><td>-0.005107067</td></tr>\n",
       "\t<tr><td> 8          </td><td>t2          </td><td>15.9483586  </td><td>-0.051641405</td></tr>\n",
       "\t<tr><td> 9          </td><td>t2          </td><td>17.9686723  </td><td>-0.031327676</td></tr>\n",
       "\t<tr><td>10          </td><td>t2          </td><td>19.9371683  </td><td>-0.062831726</td></tr>\n",
       "</tbody>\n",
       "</table>\n"
      ],
      "text/latex": [
       "\\begin{tabular}{r|llll}\n",
       " n & alg & time & error\\\\\n",
       "\\hline\n",
       "\t  1           & t1           &  1.010572    &  0.010572148\\\\\n",
       "\t  2           & t1           &  1.981689    & -0.018310993\\\\\n",
       "\t  3           & t1           &  3.066268    &  0.066268043\\\\\n",
       "\t  4           & t1           &  4.060221    &  0.060220570\\\\\n",
       "\t  5           & t1           &  5.029502    &  0.029502051\\\\\n",
       "\t  6           & t1           &  6.045928    &  0.045927536\\\\\n",
       "\t  7           & t1           &  6.957461    & -0.042538559\\\\\n",
       "\t  8           & t1           &  8.009891    &  0.009891313\\\\\n",
       "\t  9           & t1           &  9.053959    &  0.053959370\\\\\n",
       "\t 10           & t1           &  9.982560    & -0.017439984\\\\\n",
       "\t  1           & t2           &  1.997585    & -0.002414813\\\\\n",
       "\t  2           & t2           &  3.953772    & -0.046227795\\\\\n",
       "\t  3           & t2           &  5.978172    & -0.021827928\\\\\n",
       "\t  4           & t2           &  8.052453    &  0.052453117\\\\\n",
       "\t  5           & t2           & 10.072778    &  0.072777961\\\\\n",
       "\t  6           & t2           & 11.957002    & -0.042997938\\\\\n",
       "\t  7           & t2           & 14.002079    &  0.002078900\\\\\n",
       "\t  8           & t2           & 16.031059    &  0.031058822\\\\\n",
       "\t  9           & t2           & 18.046717    &  0.046716672\\\\\n",
       "\t 10           & t2           & 20.046959    &  0.046959194\\\\\n",
       "\t  1           & t1           &  1.079367    &  0.079366812\\\\\n",
       "\t  2           & t1           &  2.034495    &  0.034494559\\\\\n",
       "\t  3           & t1           &  2.942990    & -0.057010017\\\\\n",
       "\t  4           & t1           &  3.936265    & -0.063734966\\\\\n",
       "\t  5           & t1           &  4.971931    & -0.028069105\\\\\n",
       "\t  6           & t1           &  5.935258    & -0.064741864\\\\\n",
       "\t  7           & t1           &  6.930239    & -0.069760726\\\\\n",
       "\t  8           & t1           &  8.088869    &  0.088868510\\\\\n",
       "\t  9           & t1           &  8.949670    & -0.050330255\\\\\n",
       "\t 10           & t1           &  9.963969    & -0.036030556\\\\\n",
       "\t ... & ... & ... & ...\\\\\n",
       "\t  1           & t2           &  2.0298945   &  0.029894485\\\\\n",
       "\t  2           & t2           &  3.9258667   & -0.074133292\\\\\n",
       "\t  3           & t2           &  6.0798658   &  0.079865815\\\\\n",
       "\t  4           & t2           &  8.0427000   &  0.042699961\\\\\n",
       "\t  5           & t2           & 10.0047110   &  0.004710953\\\\\n",
       "\t  6           & t2           & 12.0451718   &  0.045171754\\\\\n",
       "\t  7           & t2           & 14.0277883   &  0.027788304\\\\\n",
       "\t  8           & t2           & 15.9948606   & -0.005139422\\\\\n",
       "\t  9           & t2           & 17.9814433   & -0.018556727\\\\\n",
       "\t 10           & t2           & 20.0706583   &  0.070658276\\\\\n",
       "\t  1           & t1           &  0.9608387   & -0.039161259\\\\\n",
       "\t  2           & t1           &  2.0267897   &  0.026789747\\\\\n",
       "\t  3           & t1           &  2.9177290   & -0.082271013\\\\\n",
       "\t  4           & t1           &  3.9467534   & -0.053246569\\\\\n",
       "\t  5           & t1           &  5.0340156   &  0.034015561\\\\\n",
       "\t  6           & t1           &  6.0447867   &  0.044786676\\\\\n",
       "\t  7           & t1           &  6.9471870   & -0.052813046\\\\\n",
       "\t  8           & t1           &  8.0205163   &  0.020516265\\\\\n",
       "\t  9           & t1           &  8.9359922   & -0.064007769\\\\\n",
       "\t 10           & t1           & 10.0013729   &  0.001372936\\\\\n",
       "\t  1           & t2           &  1.9076066   & -0.092393352\\\\\n",
       "\t  2           & t2           &  3.9216544   & -0.078345629\\\\\n",
       "\t  3           & t2           &  5.9047371   & -0.095262873\\\\\n",
       "\t  4           & t2           &  7.9451692   & -0.054830831\\\\\n",
       "\t  5           & t2           & 10.0706839   &  0.070683864\\\\\n",
       "\t  6           & t2           & 11.9154638   & -0.084536184\\\\\n",
       "\t  7           & t2           & 13.9948929   & -0.005107067\\\\\n",
       "\t  8           & t2           & 15.9483586   & -0.051641405\\\\\n",
       "\t  9           & t2           & 17.9686723   & -0.031327676\\\\\n",
       "\t 10           & t2           & 19.9371683   & -0.062831726\\\\\n",
       "\\end{tabular}\n"
      ],
      "text/markdown": [
       "\n",
       "| n | alg | time | error |\n",
       "|---|---|---|---|\n",
       "|  1           | t1           |  1.010572    |  0.010572148 |\n",
       "|  2           | t1           |  1.981689    | -0.018310993 |\n",
       "|  3           | t1           |  3.066268    |  0.066268043 |\n",
       "|  4           | t1           |  4.060221    |  0.060220570 |\n",
       "|  5           | t1           |  5.029502    |  0.029502051 |\n",
       "|  6           | t1           |  6.045928    |  0.045927536 |\n",
       "|  7           | t1           |  6.957461    | -0.042538559 |\n",
       "|  8           | t1           |  8.009891    |  0.009891313 |\n",
       "|  9           | t1           |  9.053959    |  0.053959370 |\n",
       "| 10           | t1           |  9.982560    | -0.017439984 |\n",
       "|  1           | t2           |  1.997585    | -0.002414813 |\n",
       "|  2           | t2           |  3.953772    | -0.046227795 |\n",
       "|  3           | t2           |  5.978172    | -0.021827928 |\n",
       "|  4           | t2           |  8.052453    |  0.052453117 |\n",
       "|  5           | t2           | 10.072778    |  0.072777961 |\n",
       "|  6           | t2           | 11.957002    | -0.042997938 |\n",
       "|  7           | t2           | 14.002079    |  0.002078900 |\n",
       "|  8           | t2           | 16.031059    |  0.031058822 |\n",
       "|  9           | t2           | 18.046717    |  0.046716672 |\n",
       "| 10           | t2           | 20.046959    |  0.046959194 |\n",
       "|  1           | t1           |  1.079367    |  0.079366812 |\n",
       "|  2           | t1           |  2.034495    |  0.034494559 |\n",
       "|  3           | t1           |  2.942990    | -0.057010017 |\n",
       "|  4           | t1           |  3.936265    | -0.063734966 |\n",
       "|  5           | t1           |  4.971931    | -0.028069105 |\n",
       "|  6           | t1           |  5.935258    | -0.064741864 |\n",
       "|  7           | t1           |  6.930239    | -0.069760726 |\n",
       "|  8           | t1           |  8.088869    |  0.088868510 |\n",
       "|  9           | t1           |  8.949670    | -0.050330255 |\n",
       "| 10           | t1           |  9.963969    | -0.036030556 |\n",
       "| ... | ... | ... | ... |\n",
       "|  1           | t2           |  2.0298945   |  0.029894485 |\n",
       "|  2           | t2           |  3.9258667   | -0.074133292 |\n",
       "|  3           | t2           |  6.0798658   |  0.079865815 |\n",
       "|  4           | t2           |  8.0427000   |  0.042699961 |\n",
       "|  5           | t2           | 10.0047110   |  0.004710953 |\n",
       "|  6           | t2           | 12.0451718   |  0.045171754 |\n",
       "|  7           | t2           | 14.0277883   |  0.027788304 |\n",
       "|  8           | t2           | 15.9948606   | -0.005139422 |\n",
       "|  9           | t2           | 17.9814433   | -0.018556727 |\n",
       "| 10           | t2           | 20.0706583   |  0.070658276 |\n",
       "|  1           | t1           |  0.9608387   | -0.039161259 |\n",
       "|  2           | t1           |  2.0267897   |  0.026789747 |\n",
       "|  3           | t1           |  2.9177290   | -0.082271013 |\n",
       "|  4           | t1           |  3.9467534   | -0.053246569 |\n",
       "|  5           | t1           |  5.0340156   |  0.034015561 |\n",
       "|  6           | t1           |  6.0447867   |  0.044786676 |\n",
       "|  7           | t1           |  6.9471870   | -0.052813046 |\n",
       "|  8           | t1           |  8.0205163   |  0.020516265 |\n",
       "|  9           | t1           |  8.9359922   | -0.064007769 |\n",
       "| 10           | t1           | 10.0013729   |  0.001372936 |\n",
       "|  1           | t2           |  1.9076066   | -0.092393352 |\n",
       "|  2           | t2           |  3.9216544   | -0.078345629 |\n",
       "|  3           | t2           |  5.9047371   | -0.095262873 |\n",
       "|  4           | t2           |  7.9451692   | -0.054830831 |\n",
       "|  5           | t2           | 10.0706839   |  0.070683864 |\n",
       "|  6           | t2           | 11.9154638   | -0.084536184 |\n",
       "|  7           | t2           | 13.9948929   | -0.005107067 |\n",
       "|  8           | t2           | 15.9483586   | -0.051641405 |\n",
       "|  9           | t2           | 17.9686723   | -0.031327676 |\n",
       "| 10           | t2           | 19.9371683   | -0.062831726 |\n",
       "\n"
      ],
      "text/plain": [
       "    n   alg time       error       \n",
       "1    1  t1   1.010572   0.010572148\n",
       "2    2  t1   1.981689  -0.018310993\n",
       "3    3  t1   3.066268   0.066268043\n",
       "4    4  t1   4.060221   0.060220570\n",
       "5    5  t1   5.029502   0.029502051\n",
       "6    6  t1   6.045928   0.045927536\n",
       "7    7  t1   6.957461  -0.042538559\n",
       "8    8  t1   8.009891   0.009891313\n",
       "9    9  t1   9.053959   0.053959370\n",
       "10  10  t1   9.982560  -0.017439984\n",
       "11   1  t2   1.997585  -0.002414813\n",
       "12   2  t2   3.953772  -0.046227795\n",
       "13   3  t2   5.978172  -0.021827928\n",
       "14   4  t2   8.052453   0.052453117\n",
       "15   5  t2  10.072778   0.072777961\n",
       "16   6  t2  11.957002  -0.042997938\n",
       "17   7  t2  14.002079   0.002078900\n",
       "18   8  t2  16.031059   0.031058822\n",
       "19   9  t2  18.046717   0.046716672\n",
       "20  10  t2  20.046959   0.046959194\n",
       "21   1  t1   1.079367   0.079366812\n",
       "22   2  t1   2.034495   0.034494559\n",
       "23   3  t1   2.942990  -0.057010017\n",
       "24   4  t1   3.936265  -0.063734966\n",
       "25   5  t1   4.971931  -0.028069105\n",
       "26   6  t1   5.935258  -0.064741864\n",
       "27   7  t1   6.930239  -0.069760726\n",
       "28   8  t1   8.088869   0.088868510\n",
       "29   9  t1   8.949670  -0.050330255\n",
       "30  10  t1   9.963969  -0.036030556\n",
       "... ... ... ...        ...         \n",
       "71   1  t2   2.0298945  0.029894485\n",
       "72   2  t2   3.9258667 -0.074133292\n",
       "73   3  t2   6.0798658  0.079865815\n",
       "74   4  t2   8.0427000  0.042699961\n",
       "75   5  t2  10.0047110  0.004710953\n",
       "76   6  t2  12.0451718  0.045171754\n",
       "77   7  t2  14.0277883  0.027788304\n",
       "78   8  t2  15.9948606 -0.005139422\n",
       "79   9  t2  17.9814433 -0.018556727\n",
       "80  10  t2  20.0706583  0.070658276\n",
       "81   1  t1   0.9608387 -0.039161259\n",
       "82   2  t1   2.0267897  0.026789747\n",
       "83   3  t1   2.9177290 -0.082271013\n",
       "84   4  t1   3.9467534 -0.053246569\n",
       "85   5  t1   5.0340156  0.034015561\n",
       "86   6  t1   6.0447867  0.044786676\n",
       "87   7  t1   6.9471870 -0.052813046\n",
       "88   8  t1   8.0205163  0.020516265\n",
       "89   9  t1   8.9359922 -0.064007769\n",
       "90  10  t1  10.0013729  0.001372936\n",
       "91   1  t2   1.9076066 -0.092393352\n",
       "92   2  t2   3.9216544 -0.078345629\n",
       "93   3  t2   5.9047371 -0.095262873\n",
       "94   4  t2   7.9451692 -0.054830831\n",
       "95   5  t2  10.0706839  0.070683864\n",
       "96   6  t2  11.9154638 -0.084536184\n",
       "97   7  t2  13.9948929 -0.005107067\n",
       "98   8  t2  15.9483586 -0.051641405\n",
       "99   9  t2  17.9686723 -0.031327676\n",
       "100 10  t2  19.9371683 -0.062831726"
      ]
     },
     "metadata": {},
     "output_type": "display_data"
    }
   ],
   "source": [
    "results = read.csv(\"data2.txt\")\n",
    "\n",
    "results"
   ]
  },
  {
   "cell_type": "markdown",
   "metadata": {},
   "source": [
    "Dodanie nowej kolumny:"
   ]
  },
  {
   "cell_type": "code",
   "execution_count": 28,
   "metadata": {},
   "outputs": [
    {
     "data": {
      "text/html": [
       "<table>\n",
       "<thead><tr><th scope=col>n</th><th scope=col>alg</th><th scope=col>time</th><th scope=col>error</th><th scope=col>speed</th></tr></thead>\n",
       "<tbody>\n",
       "\t<tr><td> 1          </td><td>t1          </td><td> 1.010572   </td><td> 0.010572148</td><td>0.9895385   </td></tr>\n",
       "\t<tr><td> 2          </td><td>t1          </td><td> 1.981689   </td><td>-0.018310993</td><td>1.0092401   </td></tr>\n",
       "\t<tr><td> 3          </td><td>t1          </td><td> 3.066268   </td><td> 0.066268043</td><td>0.9783880   </td></tr>\n",
       "\t<tr><td> 4          </td><td>t1          </td><td> 4.060221   </td><td> 0.060220570</td><td>0.9851682   </td></tr>\n",
       "\t<tr><td> 5          </td><td>t1          </td><td> 5.029502   </td><td> 0.029502051</td><td>0.9941342   </td></tr>\n",
       "\t<tr><td> 6          </td><td>t1          </td><td> 6.045928   </td><td> 0.045927536</td><td>0.9924036   </td></tr>\n",
       "\t<tr><td> 7          </td><td>t1          </td><td> 6.957461   </td><td>-0.042538559</td><td>1.0061141   </td></tr>\n",
       "\t<tr><td> 8          </td><td>t1          </td><td> 8.009891   </td><td> 0.009891313</td><td>0.9987651   </td></tr>\n",
       "\t<tr><td> 9          </td><td>t1          </td><td> 9.053959   </td><td> 0.053959370</td><td>0.9940402   </td></tr>\n",
       "\t<tr><td>10          </td><td>t1          </td><td> 9.982560   </td><td>-0.017439984</td><td>1.0017470   </td></tr>\n",
       "\t<tr><td> 1          </td><td>t2          </td><td> 1.997585   </td><td>-0.002414813</td><td>0.5006044   </td></tr>\n",
       "\t<tr><td> 2          </td><td>t2          </td><td> 3.953772   </td><td>-0.046227795</td><td>0.5058460   </td></tr>\n",
       "\t<tr><td> 3          </td><td>t2          </td><td> 5.978172   </td><td>-0.021827928</td><td>0.5018256   </td></tr>\n",
       "\t<tr><td> 4          </td><td>t2          </td><td> 8.052453   </td><td> 0.052453117</td><td>0.4967430   </td></tr>\n",
       "\t<tr><td> 5          </td><td>t2          </td><td>10.072778   </td><td> 0.072777961</td><td>0.4963874   </td></tr>\n",
       "\t<tr><td> 6          </td><td>t2          </td><td>11.957002   </td><td>-0.042997938</td><td>0.5017980   </td></tr>\n",
       "\t<tr><td> 7          </td><td>t2          </td><td>14.002079   </td><td> 0.002078900</td><td>0.4999258   </td></tr>\n",
       "\t<tr><td> 8          </td><td>t2          </td><td>16.031059   </td><td> 0.031058822</td><td>0.4990313   </td></tr>\n",
       "\t<tr><td> 9          </td><td>t2          </td><td>18.046717   </td><td> 0.046716672</td><td>0.4987057   </td></tr>\n",
       "\t<tr><td>10          </td><td>t2          </td><td>20.046959   </td><td> 0.046959194</td><td>0.4988288   </td></tr>\n",
       "\t<tr><td> 1          </td><td>t1          </td><td> 1.079367   </td><td> 0.079366812</td><td>0.9264691   </td></tr>\n",
       "\t<tr><td> 2          </td><td>t1          </td><td> 2.034495   </td><td> 0.034494559</td><td>0.9830451   </td></tr>\n",
       "\t<tr><td> 3          </td><td>t1          </td><td> 2.942990   </td><td>-0.057010017</td><td>1.0193715   </td></tr>\n",
       "\t<tr><td> 4          </td><td>t1          </td><td> 3.936265   </td><td>-0.063734966</td><td>1.0161917   </td></tr>\n",
       "\t<tr><td> 5          </td><td>t1          </td><td> 4.971931   </td><td>-0.028069105</td><td>1.0056455   </td></tr>\n",
       "\t<tr><td> 6          </td><td>t1          </td><td> 5.935258   </td><td>-0.064741864</td><td>1.0109080   </td></tr>\n",
       "\t<tr><td> 7          </td><td>t1          </td><td> 6.930239   </td><td>-0.069760726</td><td>1.0100661   </td></tr>\n",
       "\t<tr><td> 8          </td><td>t1          </td><td> 8.088869   </td><td> 0.088868510</td><td>0.9890135   </td></tr>\n",
       "\t<tr><td> 9          </td><td>t1          </td><td> 8.949670   </td><td>-0.050330255</td><td>1.0056237   </td></tr>\n",
       "\t<tr><td>10          </td><td>t1          </td><td> 9.963969   </td><td>-0.036030556</td><td>1.0036161   </td></tr>\n",
       "\t<tr><td>...</td><td>...</td><td>...</td><td>...</td><td>...</td></tr>\n",
       "\t<tr><td> 1          </td><td>t2          </td><td> 2.0298945  </td><td> 0.029894485</td><td>0.4926364   </td></tr>\n",
       "\t<tr><td> 2          </td><td>t2          </td><td> 3.9258667  </td><td>-0.074133292</td><td>0.5094416   </td></tr>\n",
       "\t<tr><td> 3          </td><td>t2          </td><td> 6.0798658  </td><td> 0.079865815</td><td>0.4934319   </td></tr>\n",
       "\t<tr><td> 4          </td><td>t2          </td><td> 8.0427000  </td><td> 0.042699961</td><td>0.4973454   </td></tr>\n",
       "\t<tr><td> 5          </td><td>t2          </td><td>10.0047110  </td><td> 0.004710953</td><td>0.4997646   </td></tr>\n",
       "\t<tr><td> 6          </td><td>t2          </td><td>12.0451718  </td><td> 0.045171754</td><td>0.4981249   </td></tr>\n",
       "\t<tr><td> 7          </td><td>t2          </td><td>14.0277883  </td><td> 0.027788304</td><td>0.4990095   </td></tr>\n",
       "\t<tr><td> 8          </td><td>t2          </td><td>15.9948606  </td><td>-0.005139422</td><td>0.5001607   </td></tr>\n",
       "\t<tr><td> 9          </td><td>t2          </td><td>17.9814433  </td><td>-0.018556727</td><td>0.5005160   </td></tr>\n",
       "\t<tr><td>10          </td><td>t2          </td><td>20.0706583  </td><td> 0.070658276</td><td>0.4982398   </td></tr>\n",
       "\t<tr><td> 1          </td><td>t1          </td><td> 0.9608387  </td><td>-0.039161259</td><td>1.0407574   </td></tr>\n",
       "\t<tr><td> 2          </td><td>t1          </td><td> 2.0267897  </td><td> 0.026789747</td><td>0.9867822   </td></tr>\n",
       "\t<tr><td> 3          </td><td>t1          </td><td> 2.9177290  </td><td>-0.082271013</td><td>1.0281969   </td></tr>\n",
       "\t<tr><td> 4          </td><td>t1          </td><td> 3.9467534  </td><td>-0.053246569</td><td>1.0134912   </td></tr>\n",
       "\t<tr><td> 5          </td><td>t1          </td><td> 5.0340156  </td><td> 0.034015561</td><td>0.9932429   </td></tr>\n",
       "\t<tr><td> 6          </td><td>t1          </td><td> 6.0447867  </td><td> 0.044786676</td><td>0.9925909   </td></tr>\n",
       "\t<tr><td> 7          </td><td>t1          </td><td> 6.9471870  </td><td>-0.052813046</td><td>1.0076021   </td></tr>\n",
       "\t<tr><td> 8          </td><td>t1          </td><td> 8.0205163  </td><td> 0.020516265</td><td>0.9974420   </td></tr>\n",
       "\t<tr><td> 9          </td><td>t1          </td><td> 8.9359922  </td><td>-0.064007769</td><td>1.0071629   </td></tr>\n",
       "\t<tr><td>10          </td><td>t1          </td><td>10.0013729  </td><td> 0.001372936</td><td>0.9998627   </td></tr>\n",
       "\t<tr><td> 1          </td><td>t2          </td><td> 1.9076066  </td><td>-0.092393352</td><td>0.5242171   </td></tr>\n",
       "\t<tr><td> 2          </td><td>t2          </td><td> 3.9216544  </td><td>-0.078345629</td><td>0.5099888   </td></tr>\n",
       "\t<tr><td> 3          </td><td>t2          </td><td> 5.9047371  </td><td>-0.095262873</td><td>0.5080666   </td></tr>\n",
       "\t<tr><td> 4          </td><td>t2          </td><td> 7.9451692  </td><td>-0.054830831</td><td>0.5034506   </td></tr>\n",
       "\t<tr><td> 5          </td><td>t2          </td><td>10.0706839  </td><td> 0.070683864</td><td>0.4964906   </td></tr>\n",
       "\t<tr><td> 6          </td><td>t2          </td><td>11.9154638  </td><td>-0.084536184</td><td>0.5035473   </td></tr>\n",
       "\t<tr><td> 7          </td><td>t2          </td><td>13.9948929  </td><td>-0.005107067</td><td>0.5001825   </td></tr>\n",
       "\t<tr><td> 8          </td><td>t2          </td><td>15.9483586  </td><td>-0.051641405</td><td>0.5016190   </td></tr>\n",
       "\t<tr><td> 9          </td><td>t2          </td><td>17.9686723  </td><td>-0.031327676</td><td>0.5008717   </td></tr>\n",
       "\t<tr><td>10          </td><td>t2          </td><td>19.9371683  </td><td>-0.062831726</td><td>0.5015757   </td></tr>\n",
       "</tbody>\n",
       "</table>\n"
      ],
      "text/latex": [
       "\\begin{tabular}{r|lllll}\n",
       " n & alg & time & error & speed\\\\\n",
       "\\hline\n",
       "\t  1           & t1           &  1.010572    &  0.010572148 & 0.9895385   \\\\\n",
       "\t  2           & t1           &  1.981689    & -0.018310993 & 1.0092401   \\\\\n",
       "\t  3           & t1           &  3.066268    &  0.066268043 & 0.9783880   \\\\\n",
       "\t  4           & t1           &  4.060221    &  0.060220570 & 0.9851682   \\\\\n",
       "\t  5           & t1           &  5.029502    &  0.029502051 & 0.9941342   \\\\\n",
       "\t  6           & t1           &  6.045928    &  0.045927536 & 0.9924036   \\\\\n",
       "\t  7           & t1           &  6.957461    & -0.042538559 & 1.0061141   \\\\\n",
       "\t  8           & t1           &  8.009891    &  0.009891313 & 0.9987651   \\\\\n",
       "\t  9           & t1           &  9.053959    &  0.053959370 & 0.9940402   \\\\\n",
       "\t 10           & t1           &  9.982560    & -0.017439984 & 1.0017470   \\\\\n",
       "\t  1           & t2           &  1.997585    & -0.002414813 & 0.5006044   \\\\\n",
       "\t  2           & t2           &  3.953772    & -0.046227795 & 0.5058460   \\\\\n",
       "\t  3           & t2           &  5.978172    & -0.021827928 & 0.5018256   \\\\\n",
       "\t  4           & t2           &  8.052453    &  0.052453117 & 0.4967430   \\\\\n",
       "\t  5           & t2           & 10.072778    &  0.072777961 & 0.4963874   \\\\\n",
       "\t  6           & t2           & 11.957002    & -0.042997938 & 0.5017980   \\\\\n",
       "\t  7           & t2           & 14.002079    &  0.002078900 & 0.4999258   \\\\\n",
       "\t  8           & t2           & 16.031059    &  0.031058822 & 0.4990313   \\\\\n",
       "\t  9           & t2           & 18.046717    &  0.046716672 & 0.4987057   \\\\\n",
       "\t 10           & t2           & 20.046959    &  0.046959194 & 0.4988288   \\\\\n",
       "\t  1           & t1           &  1.079367    &  0.079366812 & 0.9264691   \\\\\n",
       "\t  2           & t1           &  2.034495    &  0.034494559 & 0.9830451   \\\\\n",
       "\t  3           & t1           &  2.942990    & -0.057010017 & 1.0193715   \\\\\n",
       "\t  4           & t1           &  3.936265    & -0.063734966 & 1.0161917   \\\\\n",
       "\t  5           & t1           &  4.971931    & -0.028069105 & 1.0056455   \\\\\n",
       "\t  6           & t1           &  5.935258    & -0.064741864 & 1.0109080   \\\\\n",
       "\t  7           & t1           &  6.930239    & -0.069760726 & 1.0100661   \\\\\n",
       "\t  8           & t1           &  8.088869    &  0.088868510 & 0.9890135   \\\\\n",
       "\t  9           & t1           &  8.949670    & -0.050330255 & 1.0056237   \\\\\n",
       "\t 10           & t1           &  9.963969    & -0.036030556 & 1.0036161   \\\\\n",
       "\t ... & ... & ... & ... & ...\\\\\n",
       "\t  1           & t2           &  2.0298945   &  0.029894485 & 0.4926364   \\\\\n",
       "\t  2           & t2           &  3.9258667   & -0.074133292 & 0.5094416   \\\\\n",
       "\t  3           & t2           &  6.0798658   &  0.079865815 & 0.4934319   \\\\\n",
       "\t  4           & t2           &  8.0427000   &  0.042699961 & 0.4973454   \\\\\n",
       "\t  5           & t2           & 10.0047110   &  0.004710953 & 0.4997646   \\\\\n",
       "\t  6           & t2           & 12.0451718   &  0.045171754 & 0.4981249   \\\\\n",
       "\t  7           & t2           & 14.0277883   &  0.027788304 & 0.4990095   \\\\\n",
       "\t  8           & t2           & 15.9948606   & -0.005139422 & 0.5001607   \\\\\n",
       "\t  9           & t2           & 17.9814433   & -0.018556727 & 0.5005160   \\\\\n",
       "\t 10           & t2           & 20.0706583   &  0.070658276 & 0.4982398   \\\\\n",
       "\t  1           & t1           &  0.9608387   & -0.039161259 & 1.0407574   \\\\\n",
       "\t  2           & t1           &  2.0267897   &  0.026789747 & 0.9867822   \\\\\n",
       "\t  3           & t1           &  2.9177290   & -0.082271013 & 1.0281969   \\\\\n",
       "\t  4           & t1           &  3.9467534   & -0.053246569 & 1.0134912   \\\\\n",
       "\t  5           & t1           &  5.0340156   &  0.034015561 & 0.9932429   \\\\\n",
       "\t  6           & t1           &  6.0447867   &  0.044786676 & 0.9925909   \\\\\n",
       "\t  7           & t1           &  6.9471870   & -0.052813046 & 1.0076021   \\\\\n",
       "\t  8           & t1           &  8.0205163   &  0.020516265 & 0.9974420   \\\\\n",
       "\t  9           & t1           &  8.9359922   & -0.064007769 & 1.0071629   \\\\\n",
       "\t 10           & t1           & 10.0013729   &  0.001372936 & 0.9998627   \\\\\n",
       "\t  1           & t2           &  1.9076066   & -0.092393352 & 0.5242171   \\\\\n",
       "\t  2           & t2           &  3.9216544   & -0.078345629 & 0.5099888   \\\\\n",
       "\t  3           & t2           &  5.9047371   & -0.095262873 & 0.5080666   \\\\\n",
       "\t  4           & t2           &  7.9451692   & -0.054830831 & 0.5034506   \\\\\n",
       "\t  5           & t2           & 10.0706839   &  0.070683864 & 0.4964906   \\\\\n",
       "\t  6           & t2           & 11.9154638   & -0.084536184 & 0.5035473   \\\\\n",
       "\t  7           & t2           & 13.9948929   & -0.005107067 & 0.5001825   \\\\\n",
       "\t  8           & t2           & 15.9483586   & -0.051641405 & 0.5016190   \\\\\n",
       "\t  9           & t2           & 17.9686723   & -0.031327676 & 0.5008717   \\\\\n",
       "\t 10           & t2           & 19.9371683   & -0.062831726 & 0.5015757   \\\\\n",
       "\\end{tabular}\n"
      ],
      "text/markdown": [
       "\n",
       "| n | alg | time | error | speed |\n",
       "|---|---|---|---|---|\n",
       "|  1           | t1           |  1.010572    |  0.010572148 | 0.9895385    |\n",
       "|  2           | t1           |  1.981689    | -0.018310993 | 1.0092401    |\n",
       "|  3           | t1           |  3.066268    |  0.066268043 | 0.9783880    |\n",
       "|  4           | t1           |  4.060221    |  0.060220570 | 0.9851682    |\n",
       "|  5           | t1           |  5.029502    |  0.029502051 | 0.9941342    |\n",
       "|  6           | t1           |  6.045928    |  0.045927536 | 0.9924036    |\n",
       "|  7           | t1           |  6.957461    | -0.042538559 | 1.0061141    |\n",
       "|  8           | t1           |  8.009891    |  0.009891313 | 0.9987651    |\n",
       "|  9           | t1           |  9.053959    |  0.053959370 | 0.9940402    |\n",
       "| 10           | t1           |  9.982560    | -0.017439984 | 1.0017470    |\n",
       "|  1           | t2           |  1.997585    | -0.002414813 | 0.5006044    |\n",
       "|  2           | t2           |  3.953772    | -0.046227795 | 0.5058460    |\n",
       "|  3           | t2           |  5.978172    | -0.021827928 | 0.5018256    |\n",
       "|  4           | t2           |  8.052453    |  0.052453117 | 0.4967430    |\n",
       "|  5           | t2           | 10.072778    |  0.072777961 | 0.4963874    |\n",
       "|  6           | t2           | 11.957002    | -0.042997938 | 0.5017980    |\n",
       "|  7           | t2           | 14.002079    |  0.002078900 | 0.4999258    |\n",
       "|  8           | t2           | 16.031059    |  0.031058822 | 0.4990313    |\n",
       "|  9           | t2           | 18.046717    |  0.046716672 | 0.4987057    |\n",
       "| 10           | t2           | 20.046959    |  0.046959194 | 0.4988288    |\n",
       "|  1           | t1           |  1.079367    |  0.079366812 | 0.9264691    |\n",
       "|  2           | t1           |  2.034495    |  0.034494559 | 0.9830451    |\n",
       "|  3           | t1           |  2.942990    | -0.057010017 | 1.0193715    |\n",
       "|  4           | t1           |  3.936265    | -0.063734966 | 1.0161917    |\n",
       "|  5           | t1           |  4.971931    | -0.028069105 | 1.0056455    |\n",
       "|  6           | t1           |  5.935258    | -0.064741864 | 1.0109080    |\n",
       "|  7           | t1           |  6.930239    | -0.069760726 | 1.0100661    |\n",
       "|  8           | t1           |  8.088869    |  0.088868510 | 0.9890135    |\n",
       "|  9           | t1           |  8.949670    | -0.050330255 | 1.0056237    |\n",
       "| 10           | t1           |  9.963969    | -0.036030556 | 1.0036161    |\n",
       "| ... | ... | ... | ... | ... |\n",
       "|  1           | t2           |  2.0298945   |  0.029894485 | 0.4926364    |\n",
       "|  2           | t2           |  3.9258667   | -0.074133292 | 0.5094416    |\n",
       "|  3           | t2           |  6.0798658   |  0.079865815 | 0.4934319    |\n",
       "|  4           | t2           |  8.0427000   |  0.042699961 | 0.4973454    |\n",
       "|  5           | t2           | 10.0047110   |  0.004710953 | 0.4997646    |\n",
       "|  6           | t2           | 12.0451718   |  0.045171754 | 0.4981249    |\n",
       "|  7           | t2           | 14.0277883   |  0.027788304 | 0.4990095    |\n",
       "|  8           | t2           | 15.9948606   | -0.005139422 | 0.5001607    |\n",
       "|  9           | t2           | 17.9814433   | -0.018556727 | 0.5005160    |\n",
       "| 10           | t2           | 20.0706583   |  0.070658276 | 0.4982398    |\n",
       "|  1           | t1           |  0.9608387   | -0.039161259 | 1.0407574    |\n",
       "|  2           | t1           |  2.0267897   |  0.026789747 | 0.9867822    |\n",
       "|  3           | t1           |  2.9177290   | -0.082271013 | 1.0281969    |\n",
       "|  4           | t1           |  3.9467534   | -0.053246569 | 1.0134912    |\n",
       "|  5           | t1           |  5.0340156   |  0.034015561 | 0.9932429    |\n",
       "|  6           | t1           |  6.0447867   |  0.044786676 | 0.9925909    |\n",
       "|  7           | t1           |  6.9471870   | -0.052813046 | 1.0076021    |\n",
       "|  8           | t1           |  8.0205163   |  0.020516265 | 0.9974420    |\n",
       "|  9           | t1           |  8.9359922   | -0.064007769 | 1.0071629    |\n",
       "| 10           | t1           | 10.0013729   |  0.001372936 | 0.9998627    |\n",
       "|  1           | t2           |  1.9076066   | -0.092393352 | 0.5242171    |\n",
       "|  2           | t2           |  3.9216544   | -0.078345629 | 0.5099888    |\n",
       "|  3           | t2           |  5.9047371   | -0.095262873 | 0.5080666    |\n",
       "|  4           | t2           |  7.9451692   | -0.054830831 | 0.5034506    |\n",
       "|  5           | t2           | 10.0706839   |  0.070683864 | 0.4964906    |\n",
       "|  6           | t2           | 11.9154638   | -0.084536184 | 0.5035473    |\n",
       "|  7           | t2           | 13.9948929   | -0.005107067 | 0.5001825    |\n",
       "|  8           | t2           | 15.9483586   | -0.051641405 | 0.5016190    |\n",
       "|  9           | t2           | 17.9686723   | -0.031327676 | 0.5008717    |\n",
       "| 10           | t2           | 19.9371683   | -0.062831726 | 0.5015757    |\n",
       "\n"
      ],
      "text/plain": [
       "    n   alg time       error        speed    \n",
       "1    1  t1   1.010572   0.010572148 0.9895385\n",
       "2    2  t1   1.981689  -0.018310993 1.0092401\n",
       "3    3  t1   3.066268   0.066268043 0.9783880\n",
       "4    4  t1   4.060221   0.060220570 0.9851682\n",
       "5    5  t1   5.029502   0.029502051 0.9941342\n",
       "6    6  t1   6.045928   0.045927536 0.9924036\n",
       "7    7  t1   6.957461  -0.042538559 1.0061141\n",
       "8    8  t1   8.009891   0.009891313 0.9987651\n",
       "9    9  t1   9.053959   0.053959370 0.9940402\n",
       "10  10  t1   9.982560  -0.017439984 1.0017470\n",
       "11   1  t2   1.997585  -0.002414813 0.5006044\n",
       "12   2  t2   3.953772  -0.046227795 0.5058460\n",
       "13   3  t2   5.978172  -0.021827928 0.5018256\n",
       "14   4  t2   8.052453   0.052453117 0.4967430\n",
       "15   5  t2  10.072778   0.072777961 0.4963874\n",
       "16   6  t2  11.957002  -0.042997938 0.5017980\n",
       "17   7  t2  14.002079   0.002078900 0.4999258\n",
       "18   8  t2  16.031059   0.031058822 0.4990313\n",
       "19   9  t2  18.046717   0.046716672 0.4987057\n",
       "20  10  t2  20.046959   0.046959194 0.4988288\n",
       "21   1  t1   1.079367   0.079366812 0.9264691\n",
       "22   2  t1   2.034495   0.034494559 0.9830451\n",
       "23   3  t1   2.942990  -0.057010017 1.0193715\n",
       "24   4  t1   3.936265  -0.063734966 1.0161917\n",
       "25   5  t1   4.971931  -0.028069105 1.0056455\n",
       "26   6  t1   5.935258  -0.064741864 1.0109080\n",
       "27   7  t1   6.930239  -0.069760726 1.0100661\n",
       "28   8  t1   8.088869   0.088868510 0.9890135\n",
       "29   9  t1   8.949670  -0.050330255 1.0056237\n",
       "30  10  t1   9.963969  -0.036030556 1.0036161\n",
       "... ... ... ...        ...          ...      \n",
       "71   1  t2   2.0298945  0.029894485 0.4926364\n",
       "72   2  t2   3.9258667 -0.074133292 0.5094416\n",
       "73   3  t2   6.0798658  0.079865815 0.4934319\n",
       "74   4  t2   8.0427000  0.042699961 0.4973454\n",
       "75   5  t2  10.0047110  0.004710953 0.4997646\n",
       "76   6  t2  12.0451718  0.045171754 0.4981249\n",
       "77   7  t2  14.0277883  0.027788304 0.4990095\n",
       "78   8  t2  15.9948606 -0.005139422 0.5001607\n",
       "79   9  t2  17.9814433 -0.018556727 0.5005160\n",
       "80  10  t2  20.0706583  0.070658276 0.4982398\n",
       "81   1  t1   0.9608387 -0.039161259 1.0407574\n",
       "82   2  t1   2.0267897  0.026789747 0.9867822\n",
       "83   3  t1   2.9177290 -0.082271013 1.0281969\n",
       "84   4  t1   3.9467534 -0.053246569 1.0134912\n",
       "85   5  t1   5.0340156  0.034015561 0.9932429\n",
       "86   6  t1   6.0447867  0.044786676 0.9925909\n",
       "87   7  t1   6.9471870 -0.052813046 1.0076021\n",
       "88   8  t1   8.0205163  0.020516265 0.9974420\n",
       "89   9  t1   8.9359922 -0.064007769 1.0071629\n",
       "90  10  t1  10.0013729  0.001372936 0.9998627\n",
       "91   1  t2   1.9076066 -0.092393352 0.5242171\n",
       "92   2  t2   3.9216544 -0.078345629 0.5099888\n",
       "93   3  t2   5.9047371 -0.095262873 0.5080666\n",
       "94   4  t2   7.9451692 -0.054830831 0.5034506\n",
       "95   5  t2  10.0706839  0.070683864 0.4964906\n",
       "96   6  t2  11.9154638 -0.084536184 0.5035473\n",
       "97   7  t2  13.9948929 -0.005107067 0.5001825\n",
       "98   8  t2  15.9483586 -0.051641405 0.5016190\n",
       "99   9  t2  17.9686723 -0.031327676 0.5008717\n",
       "100 10  t2  19.9371683 -0.062831726 0.5015757"
      ]
     },
     "metadata": {},
     "output_type": "display_data"
    }
   ],
   "source": [
    "results$speed = results$n / results$time\n",
    "\n",
    "results"
   ]
  },
  {
   "cell_type": "markdown",
   "metadata": {},
   "source": [
    "Grupowanie (agregacja)\n",
    "\n",
    "Przyklad: zastosowanie funkcji FUN (tutaj: mean czyli obliczającej średnią) do wszystkich wartosci time dla takich samych n i alg:"
   ]
  },
  {
   "cell_type": "code",
   "execution_count": 29,
   "metadata": {},
   "outputs": [
    {
     "data": {
      "text/html": [
       "<table>\n",
       "<thead><tr><th scope=col>n</th><th scope=col>alg</th><th scope=col>time</th></tr></thead>\n",
       "<tbody>\n",
       "\t<tr><td> 1        </td><td>t1        </td><td> 0.9990494</td></tr>\n",
       "\t<tr><td> 2        </td><td>t1        </td><td> 2.0152520</td></tr>\n",
       "\t<tr><td> 3        </td><td>t1        </td><td> 2.9867132</td></tr>\n",
       "\t<tr><td> 4        </td><td>t1        </td><td> 3.9869472</td></tr>\n",
       "\t<tr><td> 5        </td><td>t1        </td><td> 4.9716765</td></tr>\n",
       "\t<tr><td> 6        </td><td>t1        </td><td> 6.0127196</td></tr>\n",
       "\t<tr><td> 7        </td><td>t1        </td><td> 6.9400184</td></tr>\n",
       "\t<tr><td> 8        </td><td>t1        </td><td> 8.0313431</td></tr>\n",
       "\t<tr><td> 9        </td><td>t1        </td><td> 8.9836556</td></tr>\n",
       "\t<tr><td>10        </td><td>t1        </td><td> 9.9948604</td></tr>\n",
       "\t<tr><td> 1        </td><td>t2        </td><td> 1.9878299</td></tr>\n",
       "\t<tr><td> 2        </td><td>t2        </td><td> 3.9599609</td></tr>\n",
       "\t<tr><td> 3        </td><td>t2        </td><td> 5.9861750</td></tr>\n",
       "\t<tr><td> 4        </td><td>t2        </td><td> 8.0300291</td></tr>\n",
       "\t<tr><td> 5        </td><td>t2        </td><td>10.0251302</td></tr>\n",
       "\t<tr><td> 6        </td><td>t2        </td><td>11.9724193</td></tr>\n",
       "\t<tr><td> 7        </td><td>t2        </td><td>14.0112964</td></tr>\n",
       "\t<tr><td> 8        </td><td>t2        </td><td>16.0212972</td></tr>\n",
       "\t<tr><td> 9        </td><td>t2        </td><td>17.9699109</td></tr>\n",
       "\t<tr><td>10        </td><td>t2        </td><td>19.9883028</td></tr>\n",
       "</tbody>\n",
       "</table>\n"
      ],
      "text/latex": [
       "\\begin{tabular}{r|lll}\n",
       " n & alg & time\\\\\n",
       "\\hline\n",
       "\t  1         & t1         &  0.9990494\\\\\n",
       "\t  2         & t1         &  2.0152520\\\\\n",
       "\t  3         & t1         &  2.9867132\\\\\n",
       "\t  4         & t1         &  3.9869472\\\\\n",
       "\t  5         & t1         &  4.9716765\\\\\n",
       "\t  6         & t1         &  6.0127196\\\\\n",
       "\t  7         & t1         &  6.9400184\\\\\n",
       "\t  8         & t1         &  8.0313431\\\\\n",
       "\t  9         & t1         &  8.9836556\\\\\n",
       "\t 10         & t1         &  9.9948604\\\\\n",
       "\t  1         & t2         &  1.9878299\\\\\n",
       "\t  2         & t2         &  3.9599609\\\\\n",
       "\t  3         & t2         &  5.9861750\\\\\n",
       "\t  4         & t2         &  8.0300291\\\\\n",
       "\t  5         & t2         & 10.0251302\\\\\n",
       "\t  6         & t2         & 11.9724193\\\\\n",
       "\t  7         & t2         & 14.0112964\\\\\n",
       "\t  8         & t2         & 16.0212972\\\\\n",
       "\t  9         & t2         & 17.9699109\\\\\n",
       "\t 10         & t2         & 19.9883028\\\\\n",
       "\\end{tabular}\n"
      ],
      "text/markdown": [
       "\n",
       "| n | alg | time |\n",
       "|---|---|---|\n",
       "|  1         | t1         |  0.9990494 |\n",
       "|  2         | t1         |  2.0152520 |\n",
       "|  3         | t1         |  2.9867132 |\n",
       "|  4         | t1         |  3.9869472 |\n",
       "|  5         | t1         |  4.9716765 |\n",
       "|  6         | t1         |  6.0127196 |\n",
       "|  7         | t1         |  6.9400184 |\n",
       "|  8         | t1         |  8.0313431 |\n",
       "|  9         | t1         |  8.9836556 |\n",
       "| 10         | t1         |  9.9948604 |\n",
       "|  1         | t2         |  1.9878299 |\n",
       "|  2         | t2         |  3.9599609 |\n",
       "|  3         | t2         |  5.9861750 |\n",
       "|  4         | t2         |  8.0300291 |\n",
       "|  5         | t2         | 10.0251302 |\n",
       "|  6         | t2         | 11.9724193 |\n",
       "|  7         | t2         | 14.0112964 |\n",
       "|  8         | t2         | 16.0212972 |\n",
       "|  9         | t2         | 17.9699109 |\n",
       "| 10         | t2         | 19.9883028 |\n",
       "\n"
      ],
      "text/plain": [
       "   n  alg time      \n",
       "1   1 t1   0.9990494\n",
       "2   2 t1   2.0152520\n",
       "3   3 t1   2.9867132\n",
       "4   4 t1   3.9869472\n",
       "5   5 t1   4.9716765\n",
       "6   6 t1   6.0127196\n",
       "7   7 t1   6.9400184\n",
       "8   8 t1   8.0313431\n",
       "9   9 t1   8.9836556\n",
       "10 10 t1   9.9948604\n",
       "11  1 t2   1.9878299\n",
       "12  2 t2   3.9599609\n",
       "13  3 t2   5.9861750\n",
       "14  4 t2   8.0300291\n",
       "15  5 t2  10.0251302\n",
       "16  6 t2  11.9724193\n",
       "17  7 t2  14.0112964\n",
       "18  8 t2  16.0212972\n",
       "19  9 t2  17.9699109\n",
       "20 10 t2  19.9883028"
      ]
     },
     "metadata": {},
     "output_type": "display_data"
    }
   ],
   "source": [
    "avg_results = aggregate( time ~ n:alg, data=results, FUN=mean)\n",
    "\n",
    "avg_results"
   ]
  },
  {
   "cell_type": "markdown",
   "metadata": {},
   "source": [
    "Dołączenie kolumny z obliczonym odchyleniem standardowym (sd) do tabeli:"
   ]
  },
  {
   "cell_type": "code",
   "execution_count": 30,
   "metadata": {},
   "outputs": [],
   "source": [
    "avg_results$sd = aggregate( time ~ n:alg, data=results, FUN=sd)$time"
   ]
  },
  {
   "cell_type": "markdown",
   "metadata": {},
   "source": [
    "Agregacja kilku wielkości:"
   ]
  },
  {
   "cell_type": "code",
   "execution_count": 31,
   "metadata": {},
   "outputs": [],
   "source": [
    "avg_results = aggregate( cbind(time,speed) ~ n:alg, data=results, FUN=mean) "
   ]
  },
  {
   "cell_type": "markdown",
   "metadata": {},
   "source": [
    "Filtrowanie danych:"
   ]
  },
  {
   "cell_type": "code",
   "execution_count": 32,
   "metadata": {},
   "outputs": [
    {
     "data": {
      "text/html": [
       "<table>\n",
       "<thead><tr><th scope=col>n</th><th scope=col>alg</th><th scope=col>time</th><th scope=col>speed</th></tr></thead>\n",
       "<tbody>\n",
       "\t<tr><td> 1       </td><td>t1       </td><td>0.9990494</td><td>1.0028054</td></tr>\n",
       "\t<tr><td> 2       </td><td>t1       </td><td>2.0152520</td><td>0.9928574</td></tr>\n",
       "\t<tr><td> 3       </td><td>t1       </td><td>2.9867132</td><td>1.0049406</td></tr>\n",
       "\t<tr><td> 4       </td><td>t1       </td><td>3.9869472</td><td>1.0036074</td></tr>\n",
       "\t<tr><td> 5       </td><td>t1       </td><td>4.9716765</td><td>1.0058149</td></tr>\n",
       "\t<tr><td> 6       </td><td>t1       </td><td>6.0127196</td><td>0.9979343</td></tr>\n",
       "\t<tr><td> 7       </td><td>t1       </td><td>6.9400184</td><td>1.0086470</td></tr>\n",
       "\t<tr><td> 8       </td><td>t1       </td><td>8.0313431</td><td>0.9961325</td></tr>\n",
       "\t<tr><td> 9       </td><td>t1       </td><td>8.9836556</td><td>1.0018430</td></tr>\n",
       "\t<tr><td>10       </td><td>t1       </td><td>9.9948604</td><td>1.0005453</td></tr>\n",
       "</tbody>\n",
       "</table>\n"
      ],
      "text/latex": [
       "\\begin{tabular}{r|llll}\n",
       " n & alg & time & speed\\\\\n",
       "\\hline\n",
       "\t  1        & t1        & 0.9990494 & 1.0028054\\\\\n",
       "\t  2        & t1        & 2.0152520 & 0.9928574\\\\\n",
       "\t  3        & t1        & 2.9867132 & 1.0049406\\\\\n",
       "\t  4        & t1        & 3.9869472 & 1.0036074\\\\\n",
       "\t  5        & t1        & 4.9716765 & 1.0058149\\\\\n",
       "\t  6        & t1        & 6.0127196 & 0.9979343\\\\\n",
       "\t  7        & t1        & 6.9400184 & 1.0086470\\\\\n",
       "\t  8        & t1        & 8.0313431 & 0.9961325\\\\\n",
       "\t  9        & t1        & 8.9836556 & 1.0018430\\\\\n",
       "\t 10        & t1        & 9.9948604 & 1.0005453\\\\\n",
       "\\end{tabular}\n"
      ],
      "text/markdown": [
       "\n",
       "| n | alg | time | speed |\n",
       "|---|---|---|---|\n",
       "|  1        | t1        | 0.9990494 | 1.0028054 |\n",
       "|  2        | t1        | 2.0152520 | 0.9928574 |\n",
       "|  3        | t1        | 2.9867132 | 1.0049406 |\n",
       "|  4        | t1        | 3.9869472 | 1.0036074 |\n",
       "|  5        | t1        | 4.9716765 | 1.0058149 |\n",
       "|  6        | t1        | 6.0127196 | 0.9979343 |\n",
       "|  7        | t1        | 6.9400184 | 1.0086470 |\n",
       "|  8        | t1        | 8.0313431 | 0.9961325 |\n",
       "|  9        | t1        | 8.9836556 | 1.0018430 |\n",
       "| 10        | t1        | 9.9948604 | 1.0005453 |\n",
       "\n"
      ],
      "text/plain": [
       "   n  alg time      speed    \n",
       "1   1 t1  0.9990494 1.0028054\n",
       "2   2 t1  2.0152520 0.9928574\n",
       "3   3 t1  2.9867132 1.0049406\n",
       "4   4 t1  3.9869472 1.0036074\n",
       "5   5 t1  4.9716765 1.0058149\n",
       "6   6 t1  6.0127196 0.9979343\n",
       "7   7 t1  6.9400184 1.0086470\n",
       "8   8 t1  8.0313431 0.9961325\n",
       "9   9 t1  8.9836556 1.0018430\n",
       "10 10 t1  9.9948604 1.0005453"
      ]
     },
     "metadata": {},
     "output_type": "display_data"
    }
   ],
   "source": [
    "avg_results[avg_results$alg==\"t1\",]"
   ]
  },
  {
   "cell_type": "markdown",
   "metadata": {},
   "source": [
    "Rysowanie wykresów.\n",
    "\n",
    "Wykres time w funkcji n:"
   ]
  },
  {
   "cell_type": "code",
   "execution_count": 33,
   "metadata": {},
   "outputs": [
    {
     "data": {
      "image/png": "[encoded data removed]",
      "text/plain": [
       "plot without title"
      ]
     },
     "metadata": {},
     "output_type": "display_data"
    }
   ],
   "source": [
    "ggplot(avg_results, aes(n,time)) + geom_point()"
   ]
  },
  {
   "cell_type": "markdown",
   "metadata": {},
   "source": [
    "Przykład skryptu rysującego wykres. Skrypt data2_plot.R uruchamiamy poleceniem:\n",
    "W wersji okienkowej: Plik -> Otworz skrypt i potem \"uruchom linijke lub zaznaczenie\"\n",
    "albo w konsoli:"
   ]
  },
  {
   "cell_type": "code",
   "execution_count": 34,
   "metadata": {},
   "outputs": [],
   "source": [
    "# source(\"data2_plot.R\")"
   ]
  },
  {
   "cell_type": "markdown",
   "metadata": {},
   "source": [
    "w bashu za pomoca polecenia:"
   ]
  },
  {
   "cell_type": "markdown",
   "metadata": {},
   "source": [
    "```Rscript data2_plot.R```"
   ]
  },
  {
   "cell_type": "markdown",
   "metadata": {},
   "source": [
    "W wyniku powstaje plik [myplot.png](myplot.png)"
   ]
  },
  {
   "cell_type": "markdown",
   "metadata": {},
   "source": [
    "## Przyklad aproksymacji wielomianami"
   ]
  },
  {
   "cell_type": "markdown",
   "metadata": {},
   "source": [
    "Generujemy ciąg punktów, który będziemy aproksymować"
   ]
  },
  {
   "cell_type": "code",
   "execution_count": 35,
   "metadata": {},
   "outputs": [
    {
     "data": {
      "text/html": [
       "<table>\n",
       "<thead><tr><th scope=col>x</th><th scope=col>y</th></tr></thead>\n",
       "<tbody>\n",
       "\t<tr><td> 32.0</td><td> 99.5</td></tr>\n",
       "\t<tr><td> 64.0</td><td>104.8</td></tr>\n",
       "\t<tr><td> 96.0</td><td>108.5</td></tr>\n",
       "\t<tr><td>118.0</td><td>100.0</td></tr>\n",
       "\t<tr><td>126.0</td><td> 86.0</td></tr>\n",
       "\t<tr><td>144.0</td><td> 64.0</td></tr>\n",
       "\t<tr><td>152.5</td><td> 35.3</td></tr>\n",
       "\t<tr><td>158.0</td><td> 15.0</td></tr>\n",
       "</tbody>\n",
       "</table>\n"
      ],
      "text/latex": [
       "\\begin{tabular}{r|ll}\n",
       " x & y\\\\\n",
       "\\hline\n",
       "\t  32.0 &  99.5\\\\\n",
       "\t  64.0 & 104.8\\\\\n",
       "\t  96.0 & 108.5\\\\\n",
       "\t 118.0 & 100.0\\\\\n",
       "\t 126.0 &  86.0\\\\\n",
       "\t 144.0 &  64.0\\\\\n",
       "\t 152.5 &  35.3\\\\\n",
       "\t 158.0 &  15.0\\\\\n",
       "\\end{tabular}\n"
      ],
      "text/markdown": [
       "\n",
       "| x | y |\n",
       "|---|---|\n",
       "|  32.0 |  99.5 |\n",
       "|  64.0 | 104.8 |\n",
       "|  96.0 | 108.5 |\n",
       "| 118.0 | 100.0 |\n",
       "| 126.0 |  86.0 |\n",
       "| 144.0 |  64.0 |\n",
       "| 152.5 |  35.3 |\n",
       "| 158.0 |  15.0 |\n",
       "\n"
      ],
      "text/plain": [
       "  x     y    \n",
       "1  32.0  99.5\n",
       "2  64.0 104.8\n",
       "3  96.0 108.5\n",
       "4 118.0 100.0\n",
       "5 126.0  86.0\n",
       "6 144.0  64.0\n",
       "7 152.5  35.3\n",
       "8 158.0  15.0"
      ]
     },
     "metadata": {},
     "output_type": "display_data"
    }
   ],
   "source": [
    "x = c(32,64,96,118,126,144,152.5,158)  \n",
    "y = c(99.5,104.8,108.5,100,86,64,35.3,15)\n",
    "mydata = data.frame(x,y)\n",
    "mydata"
   ]
  },
  {
   "cell_type": "markdown",
   "metadata": {},
   "source": [
    "Fitujemy zwyklym wielomianem stopnia 3"
   ]
  },
  {
   "cell_type": "code",
   "execution_count": 36,
   "metadata": {},
   "outputs": [],
   "source": [
    "fit = lm(y ~ poly(x, 3, raw=TRUE), data=mydata)"
   ]
  },
  {
   "cell_type": "markdown",
   "metadata": {},
   "source": [
    "Możemy wyświetlić współczynniki wielomianu:"
   ]
  },
  {
   "cell_type": "code",
   "execution_count": 37,
   "metadata": {},
   "outputs": [
    {
     "data": {
      "text/plain": [
       "\n",
       "Call:\n",
       "lm(formula = y ~ poly(x, 3, raw = TRUE), data = mydata)\n",
       "\n",
       "Coefficients:\n",
       "            (Intercept)  poly(x, 3, raw = TRUE)1  poly(x, 3, raw = TRUE)2  \n",
       "              1.269e+02               -1.626e+00                2.910e-02  \n",
       "poly(x, 3, raw = TRUE)3  \n",
       "             -1.468e-04  \n"
      ]
     },
     "metadata": {},
     "output_type": "display_data"
    }
   ],
   "source": [
    "fit "
   ]
  },
  {
   "cell_type": "markdown",
   "metadata": {},
   "source": [
    "Rysujemy wykres punktów:"
   ]
  },
  {
   "cell_type": "code",
   "execution_count": 38,
   "metadata": {},
   "outputs": [
    {
     "data": {
      "image/png": "[encoded data removed]",
      "text/plain": [
       "plot without title"
      ]
     },
     "metadata": {},
     "output_type": "display_data"
    }
   ],
   "source": [
    "ggplot(mydata,aes(x,y)) + geom_point()"
   ]
  },
  {
   "cell_type": "markdown",
   "metadata": {},
   "source": [
    "Generujemy gestą listę punktów dla wyliczenia wartości wielomianu aproksymujacego"
   ]
  },
  {
   "cell_type": "code",
   "execution_count": 39,
   "metadata": {},
   "outputs": [],
   "source": [
    " newdata = data.frame(x = seq(30,160, length.out=250))"
   ]
  },
  {
   "cell_type": "markdown",
   "metadata": {},
   "source": [
    "Dodajemy do wykresu krzywą wielomianu"
   ]
  },
  {
   "cell_type": "code",
   "execution_count": 40,
   "metadata": {},
   "outputs": [
    {
     "data": {
      "image/png": "[encoded data removed]",
      "text/plain": [
       "plot without title"
      ]
     },
     "metadata": {},
     "output_type": "display_data"
    }
   ],
   "source": [
    "newdata$y = predict(fit, newdata)\n",
    "last_plot() + geom_line(data=newdata, aes(x,y))"
   ]
  },
  {
   "cell_type": "markdown",
   "metadata": {},
   "source": [
    "[Multiple Regression in R](http://www.statmethods.net/stats/regression.html)"
   ]
  },
  {
   "cell_type": "markdown",
   "metadata": {},
   "source": [
    "## Zadanie"
   ]
  },
  {
   "cell_type": "markdown",
   "metadata": {},
   "source": [
    "Za pomocą języka R przeanalizować dowolne dane z poprzednich laboratoriów. Elementy obowiązkowe:\n",
    "\n",
    "1. W jednej tabeli języka R należy umieścić wyniki dwóch różnych eksperymentów (t.j. czas działania dwóch różnych funkcji) dla różnych parametrów (t.j. rozmiarów wektora(macierzy)) (1p.)\n",
    "2. Tabela powinna zawierać dane z 10-krotnego uruchomienia tego samego eksperymentu dla tych samych parametrów (dla każdego takiego zestawu)\n",
    "3. Należy przedstawić wykresy średnich czasów obliczenia wybranych funkcji w zależności od rozmiaru wektora (macierzy) (1p.)\n",
    "4. Wykresy powinny zawierać informację o odchyleniu standardowym dla uzyskanych wyników. Słupki błędów można narysować korzystając z funkcji geom_errorbar pakietu ggplot2 (1p.)\n",
    "5. Użyć aproksymacji wielomianowej dostępnej w języku R do znalezienia odpowiednich wielomianów, które najlepiej pasują do wyników każdego z algorytmów. Dodać wykresy uzyskanych wielomianow do wykresu. (1p.)\n",
    "6. Dopasować krzywą wykładniczą do liczby zakażonych koronawirusem. Przykładowe źródło danych w [GoogleDoc](https://docs.google.com/spreadsheets/d/1ZIdpVF5AfbkFvGxey92RQLjRVWF8_oWN5-hSbFDL8g0/htmlview#) lub https://ourworldindata.org/explorers/coronavirus-data-explorer. Jak zmieniają się krzywe w zależności od wybranego okresu czasu. Porównać na wykresach co najmniej 2 dopasowania (2p.)"
   ]
  },
  {
   "cell_type": "markdown",
   "metadata": {},
   "source": [
    "## Zad. 1, 2, 3, 4, 5"
   ]
  },
  {
   "cell_type": "markdown",
   "metadata": {},
   "source": [
    "## Read data"
   ]
  },
  {
   "cell_type": "code",
   "execution_count": 41,
   "metadata": {},
   "outputs": [],
   "source": [
    "res = read.csv(\"results.csv\")"
   ]
  },
  {
   "cell_type": "code",
   "execution_count": 42,
   "metadata": {},
   "outputs": [
    {
     "data": {
      "text/html": [
       "<table>\n",
       "<thead><tr><th scope=col>size</th><th scope=col>i</th><th scope=col>time</th><th scope=col>type</th></tr></thead>\n",
       "<tbody>\n",
       "\t<tr><td>600        </td><td> 1         </td><td>0.000000399</td><td>v          </td></tr>\n",
       "\t<tr><td>600        </td><td> 2         </td><td>0.000000499</td><td>v          </td></tr>\n",
       "\t<tr><td>600        </td><td> 3         </td><td>0.000000400</td><td>v          </td></tr>\n",
       "\t<tr><td>600        </td><td> 4         </td><td>0.000000400</td><td>v          </td></tr>\n",
       "\t<tr><td>600        </td><td> 5         </td><td>0.000000500</td><td>v          </td></tr>\n",
       "\t<tr><td>600        </td><td> 6         </td><td>0.000000500</td><td>v          </td></tr>\n",
       "\t<tr><td>600        </td><td> 7         </td><td>0.000000499</td><td>v          </td></tr>\n",
       "\t<tr><td>600        </td><td> 8         </td><td>0.000000500</td><td>v          </td></tr>\n",
       "\t<tr><td>600        </td><td> 9         </td><td>0.000000501</td><td>v          </td></tr>\n",
       "\t<tr><td>600        </td><td>10         </td><td>0.000000499</td><td>v          </td></tr>\n",
       "\t<tr><td>600        </td><td> 1         </td><td>0.001284600</td><td>m          </td></tr>\n",
       "\t<tr><td>600        </td><td> 2         </td><td>0.001371800</td><td>m          </td></tr>\n",
       "\t<tr><td>600        </td><td> 3         </td><td>0.020686200</td><td>m          </td></tr>\n",
       "\t<tr><td>600        </td><td> 4         </td><td>0.001182800</td><td>m          </td></tr>\n",
       "\t<tr><td>600        </td><td> 5         </td><td>0.001177401</td><td>m          </td></tr>\n",
       "\t<tr><td>600        </td><td> 6         </td><td>0.001383799</td><td>m          </td></tr>\n",
       "\t<tr><td>600        </td><td> 7         </td><td>0.001561201</td><td>m          </td></tr>\n",
       "\t<tr><td>600        </td><td> 8         </td><td>0.001478000</td><td>m          </td></tr>\n",
       "\t<tr><td>600        </td><td> 9         </td><td>0.001410399</td><td>m          </td></tr>\n",
       "\t<tr><td>600        </td><td>10         </td><td>0.003616700</td><td>m          </td></tr>\n",
       "\t<tr><td>700        </td><td> 1         </td><td>0.000001700</td><td>v          </td></tr>\n",
       "\t<tr><td>700        </td><td> 2         </td><td>0.000000599</td><td>v          </td></tr>\n",
       "\t<tr><td>700        </td><td> 3         </td><td>0.000000500</td><td>v          </td></tr>\n",
       "\t<tr><td>700        </td><td> 4         </td><td>0.000000500</td><td>v          </td></tr>\n",
       "\t<tr><td>700        </td><td> 5         </td><td>0.000000501</td><td>v          </td></tr>\n",
       "\t<tr><td>700        </td><td> 6         </td><td>0.000000500</td><td>v          </td></tr>\n",
       "\t<tr><td>700        </td><td> 7         </td><td>0.000000399</td><td>v          </td></tr>\n",
       "\t<tr><td>700        </td><td> 8         </td><td>0.000000500</td><td>v          </td></tr>\n",
       "\t<tr><td>700        </td><td> 9         </td><td>0.000000599</td><td>v          </td></tr>\n",
       "\t<tr><td>700        </td><td>10         </td><td>0.000000400</td><td>v          </td></tr>\n",
       "\t<tr><td>...</td><td>...</td><td>...</td><td>...</td></tr>\n",
       "\t<tr><td>3000       </td><td> 1         </td><td>0.000001900</td><td>v          </td></tr>\n",
       "\t<tr><td>3000       </td><td> 2         </td><td>0.000002001</td><td>v          </td></tr>\n",
       "\t<tr><td>3000       </td><td> 3         </td><td>0.000002101</td><td>v          </td></tr>\n",
       "\t<tr><td>3000       </td><td> 4         </td><td>0.000001900</td><td>v          </td></tr>\n",
       "\t<tr><td>3000       </td><td> 5         </td><td>0.000002299</td><td>v          </td></tr>\n",
       "\t<tr><td>3000       </td><td> 6         </td><td>0.000001999</td><td>v          </td></tr>\n",
       "\t<tr><td>3000       </td><td> 7         </td><td>0.000002000</td><td>v          </td></tr>\n",
       "\t<tr><td>3000       </td><td> 8         </td><td>0.000001900</td><td>v          </td></tr>\n",
       "\t<tr><td>3000       </td><td> 9         </td><td>0.000001900</td><td>v          </td></tr>\n",
       "\t<tr><td>3000       </td><td>10         </td><td>0.000001900</td><td>v          </td></tr>\n",
       "\t<tr><td>3000       </td><td> 1         </td><td>0.079070700</td><td>m          </td></tr>\n",
       "\t<tr><td>3000       </td><td> 2         </td><td>0.082648100</td><td>m          </td></tr>\n",
       "\t<tr><td>3000       </td><td> 3         </td><td>0.086365301</td><td>m          </td></tr>\n",
       "\t<tr><td>3000       </td><td> 4         </td><td>0.090904600</td><td>m          </td></tr>\n",
       "\t<tr><td>3000       </td><td> 5         </td><td>0.083539700</td><td>m          </td></tr>\n",
       "\t<tr><td>3000       </td><td> 6         </td><td>0.081703400</td><td>m          </td></tr>\n",
       "\t<tr><td>3000       </td><td> 7         </td><td>0.080103999</td><td>m          </td></tr>\n",
       "\t<tr><td>3000       </td><td> 8         </td><td>0.095924700</td><td>m          </td></tr>\n",
       "\t<tr><td>3000       </td><td> 9         </td><td>0.079976800</td><td>m          </td></tr>\n",
       "\t<tr><td>3000       </td><td>10         </td><td>0.081281600</td><td>m          </td></tr>\n",
       "\t<tr><td>3100       </td><td> 1         </td><td>0.000002000</td><td>v          </td></tr>\n",
       "\t<tr><td>3100       </td><td> 2         </td><td>0.000002301</td><td>v          </td></tr>\n",
       "\t<tr><td>3100       </td><td> 3         </td><td>0.000001999</td><td>v          </td></tr>\n",
       "\t<tr><td>3100       </td><td> 4         </td><td>0.000001999</td><td>v          </td></tr>\n",
       "\t<tr><td>3100       </td><td> 5         </td><td>0.000002000</td><td>v          </td></tr>\n",
       "\t<tr><td>3100       </td><td> 6         </td><td>0.000001900</td><td>v          </td></tr>\n",
       "\t<tr><td>3100       </td><td> 7         </td><td>0.000002000</td><td>v          </td></tr>\n",
       "\t<tr><td>3100       </td><td> 8         </td><td>0.000002101</td><td>v          </td></tr>\n",
       "\t<tr><td>3100       </td><td> 9         </td><td>0.000002001</td><td>v          </td></tr>\n",
       "\t<tr><td>3100       </td><td>10         </td><td>0.000002200</td><td>v          </td></tr>\n",
       "</tbody>\n",
       "</table>\n"
      ],
      "text/latex": [
       "\\begin{tabular}{r|llll}\n",
       " size & i & time & type\\\\\n",
       "\\hline\n",
       "\t 600         &  1          & 0.000000399 & v          \\\\\n",
       "\t 600         &  2          & 0.000000499 & v          \\\\\n",
       "\t 600         &  3          & 0.000000400 & v          \\\\\n",
       "\t 600         &  4          & 0.000000400 & v          \\\\\n",
       "\t 600         &  5          & 0.000000500 & v          \\\\\n",
       "\t 600         &  6          & 0.000000500 & v          \\\\\n",
       "\t 600         &  7          & 0.000000499 & v          \\\\\n",
       "\t 600         &  8          & 0.000000500 & v          \\\\\n",
       "\t 600         &  9          & 0.000000501 & v          \\\\\n",
       "\t 600         & 10          & 0.000000499 & v          \\\\\n",
       "\t 600         &  1          & 0.001284600 & m          \\\\\n",
       "\t 600         &  2          & 0.001371800 & m          \\\\\n",
       "\t 600         &  3          & 0.020686200 & m          \\\\\n",
       "\t 600         &  4          & 0.001182800 & m          \\\\\n",
       "\t 600         &  5          & 0.001177401 & m          \\\\\n",
       "\t 600         &  6          & 0.001383799 & m          \\\\\n",
       "\t 600         &  7          & 0.001561201 & m          \\\\\n",
       "\t 600         &  8          & 0.001478000 & m          \\\\\n",
       "\t 600         &  9          & 0.001410399 & m          \\\\\n",
       "\t 600         & 10          & 0.003616700 & m          \\\\\n",
       "\t 700         &  1          & 0.000001700 & v          \\\\\n",
       "\t 700         &  2          & 0.000000599 & v          \\\\\n",
       "\t 700         &  3          & 0.000000500 & v          \\\\\n",
       "\t 700         &  4          & 0.000000500 & v          \\\\\n",
       "\t 700         &  5          & 0.000000501 & v          \\\\\n",
       "\t 700         &  6          & 0.000000500 & v          \\\\\n",
       "\t 700         &  7          & 0.000000399 & v          \\\\\n",
       "\t 700         &  8          & 0.000000500 & v          \\\\\n",
       "\t 700         &  9          & 0.000000599 & v          \\\\\n",
       "\t 700         & 10          & 0.000000400 & v          \\\\\n",
       "\t ... & ... & ... & ...\\\\\n",
       "\t 3000        &  1          & 0.000001900 & v          \\\\\n",
       "\t 3000        &  2          & 0.000002001 & v          \\\\\n",
       "\t 3000        &  3          & 0.000002101 & v          \\\\\n",
       "\t 3000        &  4          & 0.000001900 & v          \\\\\n",
       "\t 3000        &  5          & 0.000002299 & v          \\\\\n",
       "\t 3000        &  6          & 0.000001999 & v          \\\\\n",
       "\t 3000        &  7          & 0.000002000 & v          \\\\\n",
       "\t 3000        &  8          & 0.000001900 & v          \\\\\n",
       "\t 3000        &  9          & 0.000001900 & v          \\\\\n",
       "\t 3000        & 10          & 0.000001900 & v          \\\\\n",
       "\t 3000        &  1          & 0.079070700 & m          \\\\\n",
       "\t 3000        &  2          & 0.082648100 & m          \\\\\n",
       "\t 3000        &  3          & 0.086365301 & m          \\\\\n",
       "\t 3000        &  4          & 0.090904600 & m          \\\\\n",
       "\t 3000        &  5          & 0.083539700 & m          \\\\\n",
       "\t 3000        &  6          & 0.081703400 & m          \\\\\n",
       "\t 3000        &  7          & 0.080103999 & m          \\\\\n",
       "\t 3000        &  8          & 0.095924700 & m          \\\\\n",
       "\t 3000        &  9          & 0.079976800 & m          \\\\\n",
       "\t 3000        & 10          & 0.081281600 & m          \\\\\n",
       "\t 3100        &  1          & 0.000002000 & v          \\\\\n",
       "\t 3100        &  2          & 0.000002301 & v          \\\\\n",
       "\t 3100        &  3          & 0.000001999 & v          \\\\\n",
       "\t 3100        &  4          & 0.000001999 & v          \\\\\n",
       "\t 3100        &  5          & 0.000002000 & v          \\\\\n",
       "\t 3100        &  6          & 0.000001900 & v          \\\\\n",
       "\t 3100        &  7          & 0.000002000 & v          \\\\\n",
       "\t 3100        &  8          & 0.000002101 & v          \\\\\n",
       "\t 3100        &  9          & 0.000002001 & v          \\\\\n",
       "\t 3100        & 10          & 0.000002200 & v          \\\\\n",
       "\\end{tabular}\n"
      ],
      "text/markdown": [
       "\n",
       "| size | i | time | type |\n",
       "|---|---|---|---|\n",
       "| 600         |  1          | 0.000000399 | v           |\n",
       "| 600         |  2          | 0.000000499 | v           |\n",
       "| 600         |  3          | 0.000000400 | v           |\n",
       "| 600         |  4          | 0.000000400 | v           |\n",
       "| 600         |  5          | 0.000000500 | v           |\n",
       "| 600         |  6          | 0.000000500 | v           |\n",
       "| 600         |  7          | 0.000000499 | v           |\n",
       "| 600         |  8          | 0.000000500 | v           |\n",
       "| 600         |  9          | 0.000000501 | v           |\n",
       "| 600         | 10          | 0.000000499 | v           |\n",
       "| 600         |  1          | 0.001284600 | m           |\n",
       "| 600         |  2          | 0.001371800 | m           |\n",
       "| 600         |  3          | 0.020686200 | m           |\n",
       "| 600         |  4          | 0.001182800 | m           |\n",
       "| 600         |  5          | 0.001177401 | m           |\n",
       "| 600         |  6          | 0.001383799 | m           |\n",
       "| 600         |  7          | 0.001561201 | m           |\n",
       "| 600         |  8          | 0.001478000 | m           |\n",
       "| 600         |  9          | 0.001410399 | m           |\n",
       "| 600         | 10          | 0.003616700 | m           |\n",
       "| 700         |  1          | 0.000001700 | v           |\n",
       "| 700         |  2          | 0.000000599 | v           |\n",
       "| 700         |  3          | 0.000000500 | v           |\n",
       "| 700         |  4          | 0.000000500 | v           |\n",
       "| 700         |  5          | 0.000000501 | v           |\n",
       "| 700         |  6          | 0.000000500 | v           |\n",
       "| 700         |  7          | 0.000000399 | v           |\n",
       "| 700         |  8          | 0.000000500 | v           |\n",
       "| 700         |  9          | 0.000000599 | v           |\n",
       "| 700         | 10          | 0.000000400 | v           |\n",
       "| ... | ... | ... | ... |\n",
       "| 3000        |  1          | 0.000001900 | v           |\n",
       "| 3000        |  2          | 0.000002001 | v           |\n",
       "| 3000        |  3          | 0.000002101 | v           |\n",
       "| 3000        |  4          | 0.000001900 | v           |\n",
       "| 3000        |  5          | 0.000002299 | v           |\n",
       "| 3000        |  6          | 0.000001999 | v           |\n",
       "| 3000        |  7          | 0.000002000 | v           |\n",
       "| 3000        |  8          | 0.000001900 | v           |\n",
       "| 3000        |  9          | 0.000001900 | v           |\n",
       "| 3000        | 10          | 0.000001900 | v           |\n",
       "| 3000        |  1          | 0.079070700 | m           |\n",
       "| 3000        |  2          | 0.082648100 | m           |\n",
       "| 3000        |  3          | 0.086365301 | m           |\n",
       "| 3000        |  4          | 0.090904600 | m           |\n",
       "| 3000        |  5          | 0.083539700 | m           |\n",
       "| 3000        |  6          | 0.081703400 | m           |\n",
       "| 3000        |  7          | 0.080103999 | m           |\n",
       "| 3000        |  8          | 0.095924700 | m           |\n",
       "| 3000        |  9          | 0.079976800 | m           |\n",
       "| 3000        | 10          | 0.081281600 | m           |\n",
       "| 3100        |  1          | 0.000002000 | v           |\n",
       "| 3100        |  2          | 0.000002301 | v           |\n",
       "| 3100        |  3          | 0.000001999 | v           |\n",
       "| 3100        |  4          | 0.000001999 | v           |\n",
       "| 3100        |  5          | 0.000002000 | v           |\n",
       "| 3100        |  6          | 0.000001900 | v           |\n",
       "| 3100        |  7          | 0.000002000 | v           |\n",
       "| 3100        |  8          | 0.000002101 | v           |\n",
       "| 3100        |  9          | 0.000002001 | v           |\n",
       "| 3100        | 10          | 0.000002200 | v           |\n",
       "\n"
      ],
      "text/plain": [
       "    size i   time        type\n",
       "1   600   1  0.000000399 v   \n",
       "2   600   2  0.000000499 v   \n",
       "3   600   3  0.000000400 v   \n",
       "4   600   4  0.000000400 v   \n",
       "5   600   5  0.000000500 v   \n",
       "6   600   6  0.000000500 v   \n",
       "7   600   7  0.000000499 v   \n",
       "8   600   8  0.000000500 v   \n",
       "9   600   9  0.000000501 v   \n",
       "10  600  10  0.000000499 v   \n",
       "11  600   1  0.001284600 m   \n",
       "12  600   2  0.001371800 m   \n",
       "13  600   3  0.020686200 m   \n",
       "14  600   4  0.001182800 m   \n",
       "15  600   5  0.001177401 m   \n",
       "16  600   6  0.001383799 m   \n",
       "17  600   7  0.001561201 m   \n",
       "18  600   8  0.001478000 m   \n",
       "19  600   9  0.001410399 m   \n",
       "20  600  10  0.003616700 m   \n",
       "21  700   1  0.000001700 v   \n",
       "22  700   2  0.000000599 v   \n",
       "23  700   3  0.000000500 v   \n",
       "24  700   4  0.000000500 v   \n",
       "25  700   5  0.000000501 v   \n",
       "26  700   6  0.000000500 v   \n",
       "27  700   7  0.000000399 v   \n",
       "28  700   8  0.000000500 v   \n",
       "29  700   9  0.000000599 v   \n",
       "30  700  10  0.000000400 v   \n",
       "... ...  ... ...         ... \n",
       "361 3000  1  0.000001900 v   \n",
       "362 3000  2  0.000002001 v   \n",
       "363 3000  3  0.000002101 v   \n",
       "364 3000  4  0.000001900 v   \n",
       "365 3000  5  0.000002299 v   \n",
       "366 3000  6  0.000001999 v   \n",
       "367 3000  7  0.000002000 v   \n",
       "368 3000  8  0.000001900 v   \n",
       "369 3000  9  0.000001900 v   \n",
       "370 3000 10  0.000001900 v   \n",
       "371 3000  1  0.079070700 m   \n",
       "372 3000  2  0.082648100 m   \n",
       "373 3000  3  0.086365301 m   \n",
       "374 3000  4  0.090904600 m   \n",
       "375 3000  5  0.083539700 m   \n",
       "376 3000  6  0.081703400 m   \n",
       "377 3000  7  0.080103999 m   \n",
       "378 3000  8  0.095924700 m   \n",
       "379 3000  9  0.079976800 m   \n",
       "380 3000 10  0.081281600 m   \n",
       "381 3100  1  0.000002000 v   \n",
       "382 3100  2  0.000002301 v   \n",
       "383 3100  3  0.000001999 v   \n",
       "384 3100  4  0.000001999 v   \n",
       "385 3100  5  0.000002000 v   \n",
       "386 3100  6  0.000001900 v   \n",
       "387 3100  7  0.000002000 v   \n",
       "388 3100  8  0.000002101 v   \n",
       "389 3100  9  0.000002001 v   \n",
       "390 3100 10  0.000002200 v   "
      ]
     },
     "metadata": {},
     "output_type": "display_data"
    }
   ],
   "source": [
    "# type: \n",
    "# v - vector * vector \n",
    "# m - matrix * vector\n",
    "\n",
    "res"
   ]
  },
  {
   "cell_type": "code",
   "execution_count": 43,
   "metadata": {},
   "outputs": [],
   "source": [
    "avg_res = aggregate( time ~ size:type, data=res, FUN=mean)"
   ]
  },
  {
   "cell_type": "code",
   "execution_count": 44,
   "metadata": {},
   "outputs": [
    {
     "data": {
      "text/html": [
       "<table>\n",
       "<thead><tr><th scope=col>size</th><th scope=col>type</th><th scope=col>time</th></tr></thead>\n",
       "<tbody>\n",
       "\t<tr><td> 600        </td><td>m           </td><td>0.0035152900</td></tr>\n",
       "\t<tr><td> 800        </td><td>m           </td><td>0.0024752801</td></tr>\n",
       "\t<tr><td>1000        </td><td>m           </td><td>0.0049106100</td></tr>\n",
       "\t<tr><td>1200        </td><td>m           </td><td>0.0075148997</td></tr>\n",
       "\t<tr><td>1400        </td><td>m           </td><td>0.0080056697</td></tr>\n",
       "\t<tr><td>1600        </td><td>m           </td><td>0.0150468504</td></tr>\n",
       "\t<tr><td>1800        </td><td>m           </td><td>0.0216109599</td></tr>\n",
       "\t<tr><td>2000        </td><td>m           </td><td>0.0256405897</td></tr>\n",
       "\t<tr><td>2200        </td><td>m           </td><td>0.0320328101</td></tr>\n",
       "\t<tr><td>2400        </td><td>m           </td><td>0.0457892802</td></tr>\n",
       "\t<tr><td>2600        </td><td>m           </td><td>0.0586773800</td></tr>\n",
       "\t<tr><td>2800        </td><td>m           </td><td>0.0698940597</td></tr>\n",
       "\t<tr><td>3000        </td><td>m           </td><td>0.0841518900</td></tr>\n",
       "\t<tr><td> 600        </td><td>v           </td><td>0.0000004697</td></tr>\n",
       "\t<tr><td> 700        </td><td>v           </td><td>0.0000006198</td></tr>\n",
       "\t<tr><td> 800        </td><td>v           </td><td>0.0000006298</td></tr>\n",
       "\t<tr><td> 900        </td><td>v           </td><td>0.0000006601</td></tr>\n",
       "\t<tr><td>1000        </td><td>v           </td><td>0.0000011401</td></tr>\n",
       "\t<tr><td>1100        </td><td>v           </td><td>0.0000010100</td></tr>\n",
       "\t<tr><td>1200        </td><td>v           </td><td>0.0000009697</td></tr>\n",
       "\t<tr><td>1300        </td><td>v           </td><td>0.0000008801</td></tr>\n",
       "\t<tr><td>1400        </td><td>v           </td><td>0.0000009701</td></tr>\n",
       "\t<tr><td>1500        </td><td>v           </td><td>0.0000010597</td></tr>\n",
       "\t<tr><td>1600        </td><td>v           </td><td>0.0000012198</td></tr>\n",
       "\t<tr><td>1700        </td><td>v           </td><td>0.0000011701</td></tr>\n",
       "\t<tr><td>1800        </td><td>v           </td><td>0.0000012499</td></tr>\n",
       "\t<tr><td>1900        </td><td>v           </td><td>0.0000013201</td></tr>\n",
       "\t<tr><td>2000        </td><td>v           </td><td>0.0000013800</td></tr>\n",
       "\t<tr><td>2100        </td><td>v           </td><td>0.0000014201</td></tr>\n",
       "\t<tr><td>2200        </td><td>v           </td><td>0.0000015002</td></tr>\n",
       "\t<tr><td>2300        </td><td>v           </td><td>0.0000015397</td></tr>\n",
       "\t<tr><td>2400        </td><td>v           </td><td>0.0000016999</td></tr>\n",
       "\t<tr><td>2500        </td><td>v           </td><td>0.0000016502</td></tr>\n",
       "\t<tr><td>2600        </td><td>v           </td><td>0.0000018099</td></tr>\n",
       "\t<tr><td>2700        </td><td>v           </td><td>0.0000018301</td></tr>\n",
       "\t<tr><td>2800        </td><td>v           </td><td>0.0000019099</td></tr>\n",
       "\t<tr><td>2900        </td><td>v           </td><td>0.0000019301</td></tr>\n",
       "\t<tr><td>3000        </td><td>v           </td><td>0.0000019900</td></tr>\n",
       "\t<tr><td>3100        </td><td>v           </td><td>0.0000020501</td></tr>\n",
       "</tbody>\n",
       "</table>\n"
      ],
      "text/latex": [
       "\\begin{tabular}{r|lll}\n",
       " size & type & time\\\\\n",
       "\\hline\n",
       "\t  600         & m            & 0.0035152900\\\\\n",
       "\t  800         & m            & 0.0024752801\\\\\n",
       "\t 1000         & m            & 0.0049106100\\\\\n",
       "\t 1200         & m            & 0.0075148997\\\\\n",
       "\t 1400         & m            & 0.0080056697\\\\\n",
       "\t 1600         & m            & 0.0150468504\\\\\n",
       "\t 1800         & m            & 0.0216109599\\\\\n",
       "\t 2000         & m            & 0.0256405897\\\\\n",
       "\t 2200         & m            & 0.0320328101\\\\\n",
       "\t 2400         & m            & 0.0457892802\\\\\n",
       "\t 2600         & m            & 0.0586773800\\\\\n",
       "\t 2800         & m            & 0.0698940597\\\\\n",
       "\t 3000         & m            & 0.0841518900\\\\\n",
       "\t  600         & v            & 0.0000004697\\\\\n",
       "\t  700         & v            & 0.0000006198\\\\\n",
       "\t  800         & v            & 0.0000006298\\\\\n",
       "\t  900         & v            & 0.0000006601\\\\\n",
       "\t 1000         & v            & 0.0000011401\\\\\n",
       "\t 1100         & v            & 0.0000010100\\\\\n",
       "\t 1200         & v            & 0.0000009697\\\\\n",
       "\t 1300         & v            & 0.0000008801\\\\\n",
       "\t 1400         & v            & 0.0000009701\\\\\n",
       "\t 1500         & v            & 0.0000010597\\\\\n",
       "\t 1600         & v            & 0.0000012198\\\\\n",
       "\t 1700         & v            & 0.0000011701\\\\\n",
       "\t 1800         & v            & 0.0000012499\\\\\n",
       "\t 1900         & v            & 0.0000013201\\\\\n",
       "\t 2000         & v            & 0.0000013800\\\\\n",
       "\t 2100         & v            & 0.0000014201\\\\\n",
       "\t 2200         & v            & 0.0000015002\\\\\n",
       "\t 2300         & v            & 0.0000015397\\\\\n",
       "\t 2400         & v            & 0.0000016999\\\\\n",
       "\t 2500         & v            & 0.0000016502\\\\\n",
       "\t 2600         & v            & 0.0000018099\\\\\n",
       "\t 2700         & v            & 0.0000018301\\\\\n",
       "\t 2800         & v            & 0.0000019099\\\\\n",
       "\t 2900         & v            & 0.0000019301\\\\\n",
       "\t 3000         & v            & 0.0000019900\\\\\n",
       "\t 3100         & v            & 0.0000020501\\\\\n",
       "\\end{tabular}\n"
      ],
      "text/markdown": [
       "\n",
       "| size | type | time |\n",
       "|---|---|---|\n",
       "|  600         | m            | 0.0035152900 |\n",
       "|  800         | m            | 0.0024752801 |\n",
       "| 1000         | m            | 0.0049106100 |\n",
       "| 1200         | m            | 0.0075148997 |\n",
       "| 1400         | m            | 0.0080056697 |\n",
       "| 1600         | m            | 0.0150468504 |\n",
       "| 1800         | m            | 0.0216109599 |\n",
       "| 2000         | m            | 0.0256405897 |\n",
       "| 2200         | m            | 0.0320328101 |\n",
       "| 2400         | m            | 0.0457892802 |\n",
       "| 2600         | m            | 0.0586773800 |\n",
       "| 2800         | m            | 0.0698940597 |\n",
       "| 3000         | m            | 0.0841518900 |\n",
       "|  600         | v            | 0.0000004697 |\n",
       "|  700         | v            | 0.0000006198 |\n",
       "|  800         | v            | 0.0000006298 |\n",
       "|  900         | v            | 0.0000006601 |\n",
       "| 1000         | v            | 0.0000011401 |\n",
       "| 1100         | v            | 0.0000010100 |\n",
       "| 1200         | v            | 0.0000009697 |\n",
       "| 1300         | v            | 0.0000008801 |\n",
       "| 1400         | v            | 0.0000009701 |\n",
       "| 1500         | v            | 0.0000010597 |\n",
       "| 1600         | v            | 0.0000012198 |\n",
       "| 1700         | v            | 0.0000011701 |\n",
       "| 1800         | v            | 0.0000012499 |\n",
       "| 1900         | v            | 0.0000013201 |\n",
       "| 2000         | v            | 0.0000013800 |\n",
       "| 2100         | v            | 0.0000014201 |\n",
       "| 2200         | v            | 0.0000015002 |\n",
       "| 2300         | v            | 0.0000015397 |\n",
       "| 2400         | v            | 0.0000016999 |\n",
       "| 2500         | v            | 0.0000016502 |\n",
       "| 2600         | v            | 0.0000018099 |\n",
       "| 2700         | v            | 0.0000018301 |\n",
       "| 2800         | v            | 0.0000019099 |\n",
       "| 2900         | v            | 0.0000019301 |\n",
       "| 3000         | v            | 0.0000019900 |\n",
       "| 3100         | v            | 0.0000020501 |\n",
       "\n"
      ],
      "text/plain": [
       "   size type time        \n",
       "1   600 m    0.0035152900\n",
       "2   800 m    0.0024752801\n",
       "3  1000 m    0.0049106100\n",
       "4  1200 m    0.0075148997\n",
       "5  1400 m    0.0080056697\n",
       "6  1600 m    0.0150468504\n",
       "7  1800 m    0.0216109599\n",
       "8  2000 m    0.0256405897\n",
       "9  2200 m    0.0320328101\n",
       "10 2400 m    0.0457892802\n",
       "11 2600 m    0.0586773800\n",
       "12 2800 m    0.0698940597\n",
       "13 3000 m    0.0841518900\n",
       "14  600 v    0.0000004697\n",
       "15  700 v    0.0000006198\n",
       "16  800 v    0.0000006298\n",
       "17  900 v    0.0000006601\n",
       "18 1000 v    0.0000011401\n",
       "19 1100 v    0.0000010100\n",
       "20 1200 v    0.0000009697\n",
       "21 1300 v    0.0000008801\n",
       "22 1400 v    0.0000009701\n",
       "23 1500 v    0.0000010597\n",
       "24 1600 v    0.0000012198\n",
       "25 1700 v    0.0000011701\n",
       "26 1800 v    0.0000012499\n",
       "27 1900 v    0.0000013201\n",
       "28 2000 v    0.0000013800\n",
       "29 2100 v    0.0000014201\n",
       "30 2200 v    0.0000015002\n",
       "31 2300 v    0.0000015397\n",
       "32 2400 v    0.0000016999\n",
       "33 2500 v    0.0000016502\n",
       "34 2600 v    0.0000018099\n",
       "35 2700 v    0.0000018301\n",
       "36 2800 v    0.0000019099\n",
       "37 2900 v    0.0000019301\n",
       "38 3000 v    0.0000019900\n",
       "39 3100 v    0.0000020501"
      ]
     },
     "metadata": {},
     "output_type": "display_data"
    }
   ],
   "source": [
    "avg_res"
   ]
  },
  {
   "cell_type": "code",
   "execution_count": 45,
   "metadata": {},
   "outputs": [],
   "source": [
    "# add standard deviation column\n",
    "avg_res$std = aggregate( time ~ size:type, data=res, FUN=sd)$time"
   ]
  },
  {
   "cell_type": "code",
   "execution_count": 46,
   "metadata": {},
   "outputs": [
    {
     "data": {
      "text/html": [
       "<table>\n",
       "<thead><tr><th scope=col>size</th><th scope=col>type</th><th scope=col>time</th><th scope=col>std</th></tr></thead>\n",
       "<tbody>\n",
       "\t<tr><td> 600        </td><td>m           </td><td>0.0035152900</td><td>6.076092e-03</td></tr>\n",
       "\t<tr><td> 800        </td><td>m           </td><td>0.0024752801</td><td>1.222068e-03</td></tr>\n",
       "\t<tr><td>1000        </td><td>m           </td><td>0.0049106100</td><td>9.052985e-04</td></tr>\n",
       "\t<tr><td>1200        </td><td>m           </td><td>0.0075148997</td><td>2.256381e-03</td></tr>\n",
       "\t<tr><td>1400        </td><td>m           </td><td>0.0080056697</td><td>1.003287e-03</td></tr>\n",
       "\t<tr><td>1600        </td><td>m           </td><td>0.0150468504</td><td>1.975471e-03</td></tr>\n",
       "\t<tr><td>1800        </td><td>m           </td><td>0.0216109599</td><td>1.438880e-03</td></tr>\n",
       "\t<tr><td>2000        </td><td>m           </td><td>0.0256405897</td><td>1.815071e-03</td></tr>\n",
       "\t<tr><td>2200        </td><td>m           </td><td>0.0320328101</td><td>4.676706e-03</td></tr>\n",
       "\t<tr><td>2400        </td><td>m           </td><td>0.0457892802</td><td>3.678654e-03</td></tr>\n",
       "\t<tr><td>2600        </td><td>m           </td><td>0.0586773800</td><td>3.998991e-03</td></tr>\n",
       "\t<tr><td>2800        </td><td>m           </td><td>0.0698940597</td><td>4.130852e-03</td></tr>\n",
       "\t<tr><td>3000        </td><td>m           </td><td>0.0841518900</td><td>5.432438e-03</td></tr>\n",
       "\t<tr><td> 600        </td><td>v           </td><td>0.0000004697</td><td>4.833230e-08</td></tr>\n",
       "\t<tr><td> 700        </td><td>v           </td><td>0.0000006198</td><td>3.853258e-07</td></tr>\n",
       "\t<tr><td> 800        </td><td>v           </td><td>0.0000006298</td><td>1.059987e-07</td></tr>\n",
       "\t<tr><td> 900        </td><td>v           </td><td>0.0000006601</td><td>6.982589e-08</td></tr>\n",
       "\t<tr><td>1000        </td><td>v           </td><td>0.0000011401</td><td>6.900502e-07</td></tr>\n",
       "\t<tr><td>1100        </td><td>v           </td><td>0.0000010100</td><td>2.558216e-07</td></tr>\n",
       "\t<tr><td>1200        </td><td>v           </td><td>0.0000009697</td><td>1.567816e-07</td></tr>\n",
       "\t<tr><td>1300        </td><td>v           </td><td>0.0000008801</td><td>6.310564e-08</td></tr>\n",
       "\t<tr><td>1400        </td><td>v           </td><td>0.0000009701</td><td>9.502333e-08</td></tr>\n",
       "\t<tr><td>1500        </td><td>v           </td><td>0.0000010597</td><td>6.941510e-08</td></tr>\n",
       "\t<tr><td>1600        </td><td>v           </td><td>0.0000012198</td><td>1.618235e-07</td></tr>\n",
       "\t<tr><td>1700        </td><td>v           </td><td>0.0000011701</td><td>4.837688e-08</td></tr>\n",
       "\t<tr><td>1800        </td><td>v           </td><td>0.0000012499</td><td>5.260006e-08</td></tr>\n",
       "\t<tr><td>1900        </td><td>v           </td><td>0.0000013201</td><td>4.211215e-08</td></tr>\n",
       "\t<tr><td>2000        </td><td>v           </td><td>0.0000013800</td><td>6.342274e-08</td></tr>\n",
       "\t<tr><td>2100        </td><td>v           </td><td>0.0000014201</td><td>7.941655e-08</td></tr>\n",
       "\t<tr><td>2200        </td><td>v           </td><td>0.0000015002</td><td>9.439962e-08</td></tr>\n",
       "\t<tr><td>2300        </td><td>v           </td><td>0.0000015397</td><td>6.963883e-08</td></tr>\n",
       "\t<tr><td>2400        </td><td>v           </td><td>0.0000016999</td><td>1.560644e-07</td></tr>\n",
       "\t<tr><td>2500        </td><td>v           </td><td>0.0000016502</td><td>7.071194e-08</td></tr>\n",
       "\t<tr><td>2600        </td><td>v           </td><td>0.0000018099</td><td>1.793894e-07</td></tr>\n",
       "\t<tr><td>2700        </td><td>v           </td><td>0.0000018301</td><td>1.061157e-07</td></tr>\n",
       "\t<tr><td>2800        </td><td>v           </td><td>0.0000019099</td><td>2.235131e-07</td></tr>\n",
       "\t<tr><td>2900        </td><td>v           </td><td>0.0000019301</td><td>8.242229e-08</td></tr>\n",
       "\t<tr><td>3000        </td><td>v           </td><td>0.0000019900</td><td>1.284973e-07</td></tr>\n",
       "\t<tr><td>3100        </td><td>v           </td><td>0.0000020501</td><td>1.181830e-07</td></tr>\n",
       "</tbody>\n",
       "</table>\n"
      ],
      "text/latex": [
       "\\begin{tabular}{r|llll}\n",
       " size & type & time & std\\\\\n",
       "\\hline\n",
       "\t  600         & m            & 0.0035152900 & 6.076092e-03\\\\\n",
       "\t  800         & m            & 0.0024752801 & 1.222068e-03\\\\\n",
       "\t 1000         & m            & 0.0049106100 & 9.052985e-04\\\\\n",
       "\t 1200         & m            & 0.0075148997 & 2.256381e-03\\\\\n",
       "\t 1400         & m            & 0.0080056697 & 1.003287e-03\\\\\n",
       "\t 1600         & m            & 0.0150468504 & 1.975471e-03\\\\\n",
       "\t 1800         & m            & 0.0216109599 & 1.438880e-03\\\\\n",
       "\t 2000         & m            & 0.0256405897 & 1.815071e-03\\\\\n",
       "\t 2200         & m            & 0.0320328101 & 4.676706e-03\\\\\n",
       "\t 2400         & m            & 0.0457892802 & 3.678654e-03\\\\\n",
       "\t 2600         & m            & 0.0586773800 & 3.998991e-03\\\\\n",
       "\t 2800         & m            & 0.0698940597 & 4.130852e-03\\\\\n",
       "\t 3000         & m            & 0.0841518900 & 5.432438e-03\\\\\n",
       "\t  600         & v            & 0.0000004697 & 4.833230e-08\\\\\n",
       "\t  700         & v            & 0.0000006198 & 3.853258e-07\\\\\n",
       "\t  800         & v            & 0.0000006298 & 1.059987e-07\\\\\n",
       "\t  900         & v            & 0.0000006601 & 6.982589e-08\\\\\n",
       "\t 1000         & v            & 0.0000011401 & 6.900502e-07\\\\\n",
       "\t 1100         & v            & 0.0000010100 & 2.558216e-07\\\\\n",
       "\t 1200         & v            & 0.0000009697 & 1.567816e-07\\\\\n",
       "\t 1300         & v            & 0.0000008801 & 6.310564e-08\\\\\n",
       "\t 1400         & v            & 0.0000009701 & 9.502333e-08\\\\\n",
       "\t 1500         & v            & 0.0000010597 & 6.941510e-08\\\\\n",
       "\t 1600         & v            & 0.0000012198 & 1.618235e-07\\\\\n",
       "\t 1700         & v            & 0.0000011701 & 4.837688e-08\\\\\n",
       "\t 1800         & v            & 0.0000012499 & 5.260006e-08\\\\\n",
       "\t 1900         & v            & 0.0000013201 & 4.211215e-08\\\\\n",
       "\t 2000         & v            & 0.0000013800 & 6.342274e-08\\\\\n",
       "\t 2100         & v            & 0.0000014201 & 7.941655e-08\\\\\n",
       "\t 2200         & v            & 0.0000015002 & 9.439962e-08\\\\\n",
       "\t 2300         & v            & 0.0000015397 & 6.963883e-08\\\\\n",
       "\t 2400         & v            & 0.0000016999 & 1.560644e-07\\\\\n",
       "\t 2500         & v            & 0.0000016502 & 7.071194e-08\\\\\n",
       "\t 2600         & v            & 0.0000018099 & 1.793894e-07\\\\\n",
       "\t 2700         & v            & 0.0000018301 & 1.061157e-07\\\\\n",
       "\t 2800         & v            & 0.0000019099 & 2.235131e-07\\\\\n",
       "\t 2900         & v            & 0.0000019301 & 8.242229e-08\\\\\n",
       "\t 3000         & v            & 0.0000019900 & 1.284973e-07\\\\\n",
       "\t 3100         & v            & 0.0000020501 & 1.181830e-07\\\\\n",
       "\\end{tabular}\n"
      ],
      "text/markdown": [
       "\n",
       "| size | type | time | std |\n",
       "|---|---|---|---|\n",
       "|  600         | m            | 0.0035152900 | 6.076092e-03 |\n",
       "|  800         | m            | 0.0024752801 | 1.222068e-03 |\n",
       "| 1000         | m            | 0.0049106100 | 9.052985e-04 |\n",
       "| 1200         | m            | 0.0075148997 | 2.256381e-03 |\n",
       "| 1400         | m            | 0.0080056697 | 1.003287e-03 |\n",
       "| 1600         | m            | 0.0150468504 | 1.975471e-03 |\n",
       "| 1800         | m            | 0.0216109599 | 1.438880e-03 |\n",
       "| 2000         | m            | 0.0256405897 | 1.815071e-03 |\n",
       "| 2200         | m            | 0.0320328101 | 4.676706e-03 |\n",
       "| 2400         | m            | 0.0457892802 | 3.678654e-03 |\n",
       "| 2600         | m            | 0.0586773800 | 3.998991e-03 |\n",
       "| 2800         | m            | 0.0698940597 | 4.130852e-03 |\n",
       "| 3000         | m            | 0.0841518900 | 5.432438e-03 |\n",
       "|  600         | v            | 0.0000004697 | 4.833230e-08 |\n",
       "|  700         | v            | 0.0000006198 | 3.853258e-07 |\n",
       "|  800         | v            | 0.0000006298 | 1.059987e-07 |\n",
       "|  900         | v            | 0.0000006601 | 6.982589e-08 |\n",
       "| 1000         | v            | 0.0000011401 | 6.900502e-07 |\n",
       "| 1100         | v            | 0.0000010100 | 2.558216e-07 |\n",
       "| 1200         | v            | 0.0000009697 | 1.567816e-07 |\n",
       "| 1300         | v            | 0.0000008801 | 6.310564e-08 |\n",
       "| 1400         | v            | 0.0000009701 | 9.502333e-08 |\n",
       "| 1500         | v            | 0.0000010597 | 6.941510e-08 |\n",
       "| 1600         | v            | 0.0000012198 | 1.618235e-07 |\n",
       "| 1700         | v            | 0.0000011701 | 4.837688e-08 |\n",
       "| 1800         | v            | 0.0000012499 | 5.260006e-08 |\n",
       "| 1900         | v            | 0.0000013201 | 4.211215e-08 |\n",
       "| 2000         | v            | 0.0000013800 | 6.342274e-08 |\n",
       "| 2100         | v            | 0.0000014201 | 7.941655e-08 |\n",
       "| 2200         | v            | 0.0000015002 | 9.439962e-08 |\n",
       "| 2300         | v            | 0.0000015397 | 6.963883e-08 |\n",
       "| 2400         | v            | 0.0000016999 | 1.560644e-07 |\n",
       "| 2500         | v            | 0.0000016502 | 7.071194e-08 |\n",
       "| 2600         | v            | 0.0000018099 | 1.793894e-07 |\n",
       "| 2700         | v            | 0.0000018301 | 1.061157e-07 |\n",
       "| 2800         | v            | 0.0000019099 | 2.235131e-07 |\n",
       "| 2900         | v            | 0.0000019301 | 8.242229e-08 |\n",
       "| 3000         | v            | 0.0000019900 | 1.284973e-07 |\n",
       "| 3100         | v            | 0.0000020501 | 1.181830e-07 |\n",
       "\n"
      ],
      "text/plain": [
       "   size type time         std         \n",
       "1   600 m    0.0035152900 6.076092e-03\n",
       "2   800 m    0.0024752801 1.222068e-03\n",
       "3  1000 m    0.0049106100 9.052985e-04\n",
       "4  1200 m    0.0075148997 2.256381e-03\n",
       "5  1400 m    0.0080056697 1.003287e-03\n",
       "6  1600 m    0.0150468504 1.975471e-03\n",
       "7  1800 m    0.0216109599 1.438880e-03\n",
       "8  2000 m    0.0256405897 1.815071e-03\n",
       "9  2200 m    0.0320328101 4.676706e-03\n",
       "10 2400 m    0.0457892802 3.678654e-03\n",
       "11 2600 m    0.0586773800 3.998991e-03\n",
       "12 2800 m    0.0698940597 4.130852e-03\n",
       "13 3000 m    0.0841518900 5.432438e-03\n",
       "14  600 v    0.0000004697 4.833230e-08\n",
       "15  700 v    0.0000006198 3.853258e-07\n",
       "16  800 v    0.0000006298 1.059987e-07\n",
       "17  900 v    0.0000006601 6.982589e-08\n",
       "18 1000 v    0.0000011401 6.900502e-07\n",
       "19 1100 v    0.0000010100 2.558216e-07\n",
       "20 1200 v    0.0000009697 1.567816e-07\n",
       "21 1300 v    0.0000008801 6.310564e-08\n",
       "22 1400 v    0.0000009701 9.502333e-08\n",
       "23 1500 v    0.0000010597 6.941510e-08\n",
       "24 1600 v    0.0000012198 1.618235e-07\n",
       "25 1700 v    0.0000011701 4.837688e-08\n",
       "26 1800 v    0.0000012499 5.260006e-08\n",
       "27 1900 v    0.0000013201 4.211215e-08\n",
       "28 2000 v    0.0000013800 6.342274e-08\n",
       "29 2100 v    0.0000014201 7.941655e-08\n",
       "30 2200 v    0.0000015002 9.439962e-08\n",
       "31 2300 v    0.0000015397 6.963883e-08\n",
       "32 2400 v    0.0000016999 1.560644e-07\n",
       "33 2500 v    0.0000016502 7.071194e-08\n",
       "34 2600 v    0.0000018099 1.793894e-07\n",
       "35 2700 v    0.0000018301 1.061157e-07\n",
       "36 2800 v    0.0000019099 2.235131e-07\n",
       "37 2900 v    0.0000019301 8.242229e-08\n",
       "38 3000 v    0.0000019900 1.284973e-07\n",
       "39 3100 v    0.0000020501 1.181830e-07"
      ]
     },
     "metadata": {},
     "output_type": "display_data"
    }
   ],
   "source": [
    "avg_res"
   ]
  },
  {
   "cell_type": "code",
   "execution_count": 47,
   "metadata": {},
   "outputs": [],
   "source": [
    "# install.packages(\"ggplot2\")\n",
    "library(\"ggplot2\")"
   ]
  },
  {
   "cell_type": "code",
   "execution_count": 48,
   "metadata": {},
   "outputs": [],
   "source": [
    "# split into two Data Frames by type\n",
    "\n",
    "avg_res_v = avg_res[avg_res$type=='v',]\n",
    "avg_res_m = avg_res[avg_res$type=='m',]"
   ]
  },
  {
   "cell_type": "markdown",
   "metadata": {},
   "source": [
    "## Plot data from Data Frames"
   ]
  },
  {
   "cell_type": "markdown",
   "metadata": {},
   "source": [
    "### Dot product between two vectors"
   ]
  },
  {
   "cell_type": "code",
   "execution_count": 49,
   "metadata": {},
   "outputs": [
    {
     "data": {
      "image/png": "[encoded data removed]",
      "text/plain": [
       "plot without title"
      ]
     },
     "metadata": {},
     "output_type": "display_data"
    }
   ],
   "source": [
    "ggplot(avg_res_v, aes(size,time)) + geom_point(color = 'dodgerblue3') + ylab(\"time [s]\") + \n",
    "    ggtitle(\"Time of computing dot product between two vectors\") "
   ]
  },
  {
   "cell_type": "markdown",
   "metadata": {},
   "source": [
    "### Matrix-vector product"
   ]
  },
  {
   "cell_type": "code",
   "execution_count": 50,
   "metadata": {},
   "outputs": [
    {
     "data": {
      "image/png": "[encoded data removed]",
      "text/plain": [
       "plot without title"
      ]
     },
     "metadata": {},
     "output_type": "display_data"
    }
   ],
   "source": [
    "ggplot(avg_res_m, aes(size,time)) + geom_point(color = 'dodgerblue3') + ylab(\"time [s]\") + \n",
    "    ggtitle(\"Time of computing matrix-vector product\")"
   ]
  },
  {
   "cell_type": "markdown",
   "metadata": {},
   "source": [
    "## Plots with added error bar"
   ]
  },
  {
   "cell_type": "markdown",
   "metadata": {},
   "source": [
    "### Dot product between two vectors"
   ]
  },
  {
   "cell_type": "code",
   "execution_count": 51,
   "metadata": {},
   "outputs": [
    {
     "data": {
      "image/png": "[encoded data removed]",
      "text/plain": [
       "plot without title"
      ]
     },
     "metadata": {},
     "output_type": "display_data"
    }
   ],
   "source": [
    "ggplot(avg_res_v, aes(size,time)) + geom_point(color = 'dodgerblue3') + ylab(\"time [s]\") + \n",
    "    ggtitle(\"Time of computing dot product between two vectors + error bar\") + \n",
    "    geom_errorbar(aes(x=size, ymin=time-std, ymax=time+std), width=30, color = 'dodgerblue3', position = position_dodge(.5))\n"
   ]
  },
  {
   "cell_type": "markdown",
   "metadata": {},
   "source": [
    "### Matrix-vector product"
   ]
  },
  {
   "cell_type": "code",
   "execution_count": 52,
   "metadata": {},
   "outputs": [
    {
     "data": {
      "image/png": "[encoded data removed]",
      "text/plain": [
       "plot without title"
      ]
     },
     "metadata": {},
     "output_type": "display_data"
    }
   ],
   "source": [
    "ggplot(avg_res_m, aes(size,time)) + geom_point(color = 'dodgerblue3') + ylab(\"time [s]\") + \n",
    "    ggtitle(\"Time of computing matrix-vector product + error bar\") + \n",
    "    geom_errorbar(aes(x=size, ymin=time-std, ymax=time+std), width=30, color = 'dodgerblue3', position = position_dodge(.5))"
   ]
  },
  {
   "cell_type": "markdown",
   "metadata": {},
   "source": [
    "## Polynomial approximation"
   ]
  },
  {
   "cell_type": "markdown",
   "metadata": {},
   "source": [
    "### Dot product between two vectors"
   ]
  },
  {
   "cell_type": "markdown",
   "metadata": {},
   "source": [
    "Complexity of computing dot product between two vectors is $O(n)$, so we fit linear polynomial."
   ]
  },
  {
   "cell_type": "code",
   "execution_count": 53,
   "metadata": {},
   "outputs": [],
   "source": [
    "fit = lm(time ~ poly(size, 1, raw=TRUE), data=avg_res_v)"
   ]
  },
  {
   "cell_type": "code",
   "execution_count": 54,
   "metadata": {},
   "outputs": [
    {
     "data": {
      "text/plain": [
       "\n",
       "Call:\n",
       "lm(formula = time ~ poly(size, 1, raw = TRUE), data = avg_res_v)\n",
       "\n",
       "Coefficients:\n",
       "              (Intercept)  poly(size, 1, raw = TRUE)  \n",
       "                2.129e-07                  5.934e-10  \n"
      ]
     },
     "metadata": {},
     "output_type": "display_data"
    }
   ],
   "source": [
    "fit"
   ]
  },
  {
   "cell_type": "code",
   "execution_count": 55,
   "metadata": {},
   "outputs": [],
   "source": [
    " newdata = data.frame(size = seq(600,3100, length.out=10000))"
   ]
  },
  {
   "cell_type": "code",
   "execution_count": 56,
   "metadata": {},
   "outputs": [],
   "source": [
    "newdata$time = predict(fit, newdata)"
   ]
  },
  {
   "cell_type": "code",
   "execution_count": 57,
   "metadata": {},
   "outputs": [
    {
     "data": {
      "image/png": "[encoded data removed]",
      "text/plain": [
       "plot without title"
      ]
     },
     "metadata": {},
     "output_type": "display_data"
    }
   ],
   "source": [
    "ggplot(avg_res_v, aes(size,time)) + geom_point(color = 'dodgerblue3') + ylab(\"time [s]\") + \n",
    "    ggtitle(\"Time of computing dot product between two vectors + fitted polynomial\") + \n",
    "    geom_line(data=newdata, aes(size,time), color = 'deeppink3',size = .8)"
   ]
  },
  {
   "cell_type": "markdown",
   "metadata": {},
   "source": [
    "### Matrix-vector product"
   ]
  },
  {
   "cell_type": "markdown",
   "metadata": {},
   "source": [
    "Complexity of computing matrix-vector product is $O(n^2)$, so we fit quadratic polynomial."
   ]
  },
  {
   "cell_type": "code",
   "execution_count": 58,
   "metadata": {},
   "outputs": [],
   "source": [
    "fit = lm(time ~ poly(size, 2, raw=TRUE), data=avg_res_m)"
   ]
  },
  {
   "cell_type": "code",
   "execution_count": 59,
   "metadata": {},
   "outputs": [
    {
     "data": {
      "text/plain": [
       "\n",
       "Call:\n",
       "lm(formula = time ~ poly(size, 2, raw = TRUE), data = avg_res_m)\n",
       "\n",
       "Coefficients:\n",
       "               (Intercept)  poly(size, 2, raw = TRUE)1  \n",
       "                 1.466e-02                  -2.762e-05  \n",
       "poly(size, 2, raw = TRUE)2  \n",
       "                 1.690e-08  \n"
      ]
     },
     "metadata": {},
     "output_type": "display_data"
    }
   ],
   "source": [
    "fit"
   ]
  },
  {
   "cell_type": "code",
   "execution_count": 60,
   "metadata": {},
   "outputs": [],
   "source": [
    "newdata = data.frame(size = seq(600,3100, length.out=10000))"
   ]
  },
  {
   "cell_type": "code",
   "execution_count": 61,
   "metadata": {},
   "outputs": [],
   "source": [
    "newdata$time = predict(fit, newdata)"
   ]
  },
  {
   "cell_type": "code",
   "execution_count": 62,
   "metadata": {},
   "outputs": [
    {
     "data": {
      "image/png": "[encoded data removed]",
      "text/plain": [
       "plot without title"
      ]
     },
     "metadata": {},
     "output_type": "display_data"
    }
   ],
   "source": [
    "ggplot(avg_res_m, aes(size,time)) + geom_point(color = 'dodgerblue3') + ylab(\"time [s]\") + \n",
    "    ggtitle(\"Execution time of computing matrix-vector product + fitted polynomial\") + \n",
    "    geom_line(data=newdata, aes(size,time), color = 'deeppink3',size = .8)"
   ]
  },
  {
   "cell_type": "markdown",
   "metadata": {},
   "source": [
    "## Zad 6."
   ]
  },
  {
   "cell_type": "markdown",
   "metadata": {},
   "source": [
    "## Daily new confirmed COVID-19 cases\n",
    "### October 2020, Poland"
   ]
  },
  {
   "cell_type": "code",
   "execution_count": 63,
   "metadata": {},
   "outputs": [],
   "source": [
    "covid_oct = read.csv(\"covid_oct2020.csv\")"
   ]
  },
  {
   "cell_type": "code",
   "execution_count": 64,
   "metadata": {},
   "outputs": [
    {
     "data": {
      "text/html": [
       "<table>\n",
       "<thead><tr><th scope=col>day</th><th scope=col>cases</th></tr></thead>\n",
       "<tbody>\n",
       "\t<tr><td> 1   </td><td> 1967</td></tr>\n",
       "\t<tr><td> 2   </td><td> 2292</td></tr>\n",
       "\t<tr><td> 3   </td><td> 2367</td></tr>\n",
       "\t<tr><td> 4   </td><td> 1934</td></tr>\n",
       "\t<tr><td> 5   </td><td> 2006</td></tr>\n",
       "\t<tr><td> 6   </td><td> 2236</td></tr>\n",
       "\t<tr><td> 7   </td><td> 3003</td></tr>\n",
       "\t<tr><td> 8   </td><td> 4280</td></tr>\n",
       "\t<tr><td> 9   </td><td> 4739</td></tr>\n",
       "\t<tr><td>10   </td><td> 5300</td></tr>\n",
       "\t<tr><td>11   </td><td> 4178</td></tr>\n",
       "\t<tr><td>12   </td><td> 4394</td></tr>\n",
       "\t<tr><td>13   </td><td> 5068</td></tr>\n",
       "\t<tr><td>14   </td><td> 6526</td></tr>\n",
       "\t<tr><td>15   </td><td> 8099</td></tr>\n",
       "\t<tr><td>16   </td><td> 7705</td></tr>\n",
       "\t<tr><td>17   </td><td> 9622</td></tr>\n",
       "\t<tr><td>18   </td><td> 8536</td></tr>\n",
       "\t<tr><td>19   </td><td> 7482</td></tr>\n",
       "\t<tr><td>20   </td><td> 9291</td></tr>\n",
       "\t<tr><td>21   </td><td>10040</td></tr>\n",
       "\t<tr><td>22   </td><td>12107</td></tr>\n",
       "\t<tr><td>23   </td><td>13632</td></tr>\n",
       "\t<tr><td>24   </td><td>13628</td></tr>\n",
       "\t<tr><td>25   </td><td>11742</td></tr>\n",
       "\t<tr><td>26   </td><td>10241</td></tr>\n",
       "\t<tr><td>27   </td><td>16300</td></tr>\n",
       "\t<tr><td>28   </td><td>18820</td></tr>\n",
       "\t<tr><td>29   </td><td>20156</td></tr>\n",
       "\t<tr><td>30   </td><td>21629</td></tr>\n",
       "\t<tr><td>31   </td><td>21897</td></tr>\n",
       "</tbody>\n",
       "</table>\n"
      ],
      "text/latex": [
       "\\begin{tabular}{r|ll}\n",
       " day & cases\\\\\n",
       "\\hline\n",
       "\t  1    &  1967\\\\\n",
       "\t  2    &  2292\\\\\n",
       "\t  3    &  2367\\\\\n",
       "\t  4    &  1934\\\\\n",
       "\t  5    &  2006\\\\\n",
       "\t  6    &  2236\\\\\n",
       "\t  7    &  3003\\\\\n",
       "\t  8    &  4280\\\\\n",
       "\t  9    &  4739\\\\\n",
       "\t 10    &  5300\\\\\n",
       "\t 11    &  4178\\\\\n",
       "\t 12    &  4394\\\\\n",
       "\t 13    &  5068\\\\\n",
       "\t 14    &  6526\\\\\n",
       "\t 15    &  8099\\\\\n",
       "\t 16    &  7705\\\\\n",
       "\t 17    &  9622\\\\\n",
       "\t 18    &  8536\\\\\n",
       "\t 19    &  7482\\\\\n",
       "\t 20    &  9291\\\\\n",
       "\t 21    & 10040\\\\\n",
       "\t 22    & 12107\\\\\n",
       "\t 23    & 13632\\\\\n",
       "\t 24    & 13628\\\\\n",
       "\t 25    & 11742\\\\\n",
       "\t 26    & 10241\\\\\n",
       "\t 27    & 16300\\\\\n",
       "\t 28    & 18820\\\\\n",
       "\t 29    & 20156\\\\\n",
       "\t 30    & 21629\\\\\n",
       "\t 31    & 21897\\\\\n",
       "\\end{tabular}\n"
      ],
      "text/markdown": [
       "\n",
       "| day | cases |\n",
       "|---|---|\n",
       "|  1    |  1967 |\n",
       "|  2    |  2292 |\n",
       "|  3    |  2367 |\n",
       "|  4    |  1934 |\n",
       "|  5    |  2006 |\n",
       "|  6    |  2236 |\n",
       "|  7    |  3003 |\n",
       "|  8    |  4280 |\n",
       "|  9    |  4739 |\n",
       "| 10    |  5300 |\n",
       "| 11    |  4178 |\n",
       "| 12    |  4394 |\n",
       "| 13    |  5068 |\n",
       "| 14    |  6526 |\n",
       "| 15    |  8099 |\n",
       "| 16    |  7705 |\n",
       "| 17    |  9622 |\n",
       "| 18    |  8536 |\n",
       "| 19    |  7482 |\n",
       "| 20    |  9291 |\n",
       "| 21    | 10040 |\n",
       "| 22    | 12107 |\n",
       "| 23    | 13632 |\n",
       "| 24    | 13628 |\n",
       "| 25    | 11742 |\n",
       "| 26    | 10241 |\n",
       "| 27    | 16300 |\n",
       "| 28    | 18820 |\n",
       "| 29    | 20156 |\n",
       "| 30    | 21629 |\n",
       "| 31    | 21897 |\n",
       "\n"
      ],
      "text/plain": [
       "   day cases\n",
       "1   1   1967\n",
       "2   2   2292\n",
       "3   3   2367\n",
       "4   4   1934\n",
       "5   5   2006\n",
       "6   6   2236\n",
       "7   7   3003\n",
       "8   8   4280\n",
       "9   9   4739\n",
       "10 10   5300\n",
       "11 11   4178\n",
       "12 12   4394\n",
       "13 13   5068\n",
       "14 14   6526\n",
       "15 15   8099\n",
       "16 16   7705\n",
       "17 17   9622\n",
       "18 18   8536\n",
       "19 19   7482\n",
       "20 20   9291\n",
       "21 21  10040\n",
       "22 22  12107\n",
       "23 23  13632\n",
       "24 24  13628\n",
       "25 25  11742\n",
       "26 26  10241\n",
       "27 27  16300\n",
       "28 28  18820\n",
       "29 29  20156\n",
       "30 30  21629\n",
       "31 31  21897"
      ]
     },
     "metadata": {},
     "output_type": "display_data"
    }
   ],
   "source": [
    "covid_oct"
   ]
  },
  {
   "cell_type": "code",
   "execution_count": 65,
   "metadata": {},
   "outputs": [
    {
     "data": {
      "image/png": "[encoded data removed]",
      "text/plain": [
       "plot without title"
      ]
     },
     "metadata": {},
     "output_type": "display_data"
    }
   ],
   "source": [
    "ggplot(covid_oct, aes(day,cases)) + geom_point(color = 'turquoise4') +\n",
    "    ggtitle(\"Daily new confirmed COVID-19 cases in Poland, October 2020\") "
   ]
  },
  {
   "cell_type": "markdown",
   "metadata": {},
   "source": [
    "### February - March 2021, Poland"
   ]
  },
  {
   "cell_type": "code",
   "execution_count": 66,
   "metadata": {},
   "outputs": [],
   "source": [
    "covid_feb_mar = read.csv(\"covid_feb_mar2021.csv\")"
   ]
  },
  {
   "cell_type": "code",
   "execution_count": 67,
   "metadata": {},
   "outputs": [
    {
     "data": {
      "text/html": [
       "<table>\n",
       "<thead><tr><th scope=col>day</th><th scope=col>cases</th></tr></thead>\n",
       "<tbody>\n",
       "\t<tr><td> 1   </td><td> 2504</td></tr>\n",
       "\t<tr><td> 2   </td><td> 4326</td></tr>\n",
       "\t<tr><td> 3   </td><td> 6801</td></tr>\n",
       "\t<tr><td> 4   </td><td> 6495</td></tr>\n",
       "\t<tr><td> 5   </td><td> 6053</td></tr>\n",
       "\t<tr><td> 6   </td><td> 5966</td></tr>\n",
       "\t<tr><td> 7   </td><td> 4725</td></tr>\n",
       "\t<tr><td> 8   </td><td> 2431</td></tr>\n",
       "\t<tr><td> 9   </td><td> 3999</td></tr>\n",
       "\t<tr><td>10   </td><td> 6960</td></tr>\n",
       "\t<tr><td>11   </td><td> 7013</td></tr>\n",
       "\t<tr><td>12   </td><td> 6378</td></tr>\n",
       "\t<tr><td>13   </td><td> 6585</td></tr>\n",
       "\t<tr><td>14   </td><td> 5334</td></tr>\n",
       "\t<tr><td>15   </td><td> 2542</td></tr>\n",
       "\t<tr><td>16   </td><td> 5176</td></tr>\n",
       "\t<tr><td>17   </td><td> 8699</td></tr>\n",
       "\t<tr><td>18   </td><td> 9074</td></tr>\n",
       "\t<tr><td>19   </td><td> 8772</td></tr>\n",
       "\t<tr><td>20   </td><td> 8509</td></tr>\n",
       "\t<tr><td>21   </td><td> 7040</td></tr>\n",
       "\t<tr><td>22   </td><td> 3891</td></tr>\n",
       "\t<tr><td>23   </td><td> 6304</td></tr>\n",
       "\t<tr><td>24   </td><td>12147</td></tr>\n",
       "\t<tr><td>25   </td><td>12143</td></tr>\n",
       "\t<tr><td>26   </td><td>11536</td></tr>\n",
       "\t<tr><td>27   </td><td>12097</td></tr>\n",
       "\t<tr><td>28   </td><td>10101</td></tr>\n",
       "\t<tr><td>29   </td><td> 4786</td></tr>\n",
       "\t<tr><td>30   </td><td> 7936</td></tr>\n",
       "\t<tr><td>31   </td><td>15698</td></tr>\n",
       "\t<tr><td>32   </td><td>15253</td></tr>\n",
       "\t<tr><td>33   </td><td>15831</td></tr>\n",
       "\t<tr><td>34   </td><td>14855</td></tr>\n",
       "\t<tr><td>35   </td><td>13569</td></tr>\n",
       "\t<tr><td>36   </td><td> 6169</td></tr>\n",
       "\t<tr><td>37   </td><td> 9953</td></tr>\n",
       "\t<tr><td>38   </td><td>17277</td></tr>\n",
       "\t<tr><td>39   </td><td>21111</td></tr>\n",
       "\t<tr><td>40   </td><td>18873</td></tr>\n",
       "\t<tr><td>41   </td><td>21063</td></tr>\n",
       "\t<tr><td>42   </td><td>17272</td></tr>\n",
       "\t<tr><td>43   </td><td>10895</td></tr>\n",
       "\t<tr><td>44   </td><td>14394</td></tr>\n",
       "\t<tr><td>45   </td><td>25053</td></tr>\n",
       "\t<tr><td>46   </td><td>27274</td></tr>\n",
       "\t<tr><td>47   </td><td>25996</td></tr>\n",
       "\t<tr><td>48   </td><td>26456</td></tr>\n",
       "\t<tr><td>49   </td><td>21850</td></tr>\n",
       "\t<tr><td>50   </td><td>14579</td></tr>\n",
       "\t<tr><td>51   </td><td>16740</td></tr>\n",
       "\t<tr><td>52   </td><td>30802</td></tr>\n",
       "\t<tr><td>53   </td><td>34150</td></tr>\n",
       "\t<tr><td>54   </td><td>35145</td></tr>\n",
       "\t<tr><td>55   </td><td>31759</td></tr>\n",
       "\t<tr><td>56   </td><td>29266</td></tr>\n",
       "\t<tr><td>57   </td><td>16973</td></tr>\n",
       "\t<tr><td>58   </td><td>20862</td></tr>\n",
       "\t<tr><td>59   </td><td>32891</td></tr>\n",
       "</tbody>\n",
       "</table>\n"
      ],
      "text/latex": [
       "\\begin{tabular}{r|ll}\n",
       " day & cases\\\\\n",
       "\\hline\n",
       "\t  1    &  2504\\\\\n",
       "\t  2    &  4326\\\\\n",
       "\t  3    &  6801\\\\\n",
       "\t  4    &  6495\\\\\n",
       "\t  5    &  6053\\\\\n",
       "\t  6    &  5966\\\\\n",
       "\t  7    &  4725\\\\\n",
       "\t  8    &  2431\\\\\n",
       "\t  9    &  3999\\\\\n",
       "\t 10    &  6960\\\\\n",
       "\t 11    &  7013\\\\\n",
       "\t 12    &  6378\\\\\n",
       "\t 13    &  6585\\\\\n",
       "\t 14    &  5334\\\\\n",
       "\t 15    &  2542\\\\\n",
       "\t 16    &  5176\\\\\n",
       "\t 17    &  8699\\\\\n",
       "\t 18    &  9074\\\\\n",
       "\t 19    &  8772\\\\\n",
       "\t 20    &  8509\\\\\n",
       "\t 21    &  7040\\\\\n",
       "\t 22    &  3891\\\\\n",
       "\t 23    &  6304\\\\\n",
       "\t 24    & 12147\\\\\n",
       "\t 25    & 12143\\\\\n",
       "\t 26    & 11536\\\\\n",
       "\t 27    & 12097\\\\\n",
       "\t 28    & 10101\\\\\n",
       "\t 29    &  4786\\\\\n",
       "\t 30    &  7936\\\\\n",
       "\t 31    & 15698\\\\\n",
       "\t 32    & 15253\\\\\n",
       "\t 33    & 15831\\\\\n",
       "\t 34    & 14855\\\\\n",
       "\t 35    & 13569\\\\\n",
       "\t 36    &  6169\\\\\n",
       "\t 37    &  9953\\\\\n",
       "\t 38    & 17277\\\\\n",
       "\t 39    & 21111\\\\\n",
       "\t 40    & 18873\\\\\n",
       "\t 41    & 21063\\\\\n",
       "\t 42    & 17272\\\\\n",
       "\t 43    & 10895\\\\\n",
       "\t 44    & 14394\\\\\n",
       "\t 45    & 25053\\\\\n",
       "\t 46    & 27274\\\\\n",
       "\t 47    & 25996\\\\\n",
       "\t 48    & 26456\\\\\n",
       "\t 49    & 21850\\\\\n",
       "\t 50    & 14579\\\\\n",
       "\t 51    & 16740\\\\\n",
       "\t 52    & 30802\\\\\n",
       "\t 53    & 34150\\\\\n",
       "\t 54    & 35145\\\\\n",
       "\t 55    & 31759\\\\\n",
       "\t 56    & 29266\\\\\n",
       "\t 57    & 16973\\\\\n",
       "\t 58    & 20862\\\\\n",
       "\t 59    & 32891\\\\\n",
       "\\end{tabular}\n"
      ],
      "text/markdown": [
       "\n",
       "| day | cases |\n",
       "|---|---|\n",
       "|  1    |  2504 |\n",
       "|  2    |  4326 |\n",
       "|  3    |  6801 |\n",
       "|  4    |  6495 |\n",
       "|  5    |  6053 |\n",
       "|  6    |  5966 |\n",
       "|  7    |  4725 |\n",
       "|  8    |  2431 |\n",
       "|  9    |  3999 |\n",
       "| 10    |  6960 |\n",
       "| 11    |  7013 |\n",
       "| 12    |  6378 |\n",
       "| 13    |  6585 |\n",
       "| 14    |  5334 |\n",
       "| 15    |  2542 |\n",
       "| 16    |  5176 |\n",
       "| 17    |  8699 |\n",
       "| 18    |  9074 |\n",
       "| 19    |  8772 |\n",
       "| 20    |  8509 |\n",
       "| 21    |  7040 |\n",
       "| 22    |  3891 |\n",
       "| 23    |  6304 |\n",
       "| 24    | 12147 |\n",
       "| 25    | 12143 |\n",
       "| 26    | 11536 |\n",
       "| 27    | 12097 |\n",
       "| 28    | 10101 |\n",
       "| 29    |  4786 |\n",
       "| 30    |  7936 |\n",
       "| 31    | 15698 |\n",
       "| 32    | 15253 |\n",
       "| 33    | 15831 |\n",
       "| 34    | 14855 |\n",
       "| 35    | 13569 |\n",
       "| 36    |  6169 |\n",
       "| 37    |  9953 |\n",
       "| 38    | 17277 |\n",
       "| 39    | 21111 |\n",
       "| 40    | 18873 |\n",
       "| 41    | 21063 |\n",
       "| 42    | 17272 |\n",
       "| 43    | 10895 |\n",
       "| 44    | 14394 |\n",
       "| 45    | 25053 |\n",
       "| 46    | 27274 |\n",
       "| 47    | 25996 |\n",
       "| 48    | 26456 |\n",
       "| 49    | 21850 |\n",
       "| 50    | 14579 |\n",
       "| 51    | 16740 |\n",
       "| 52    | 30802 |\n",
       "| 53    | 34150 |\n",
       "| 54    | 35145 |\n",
       "| 55    | 31759 |\n",
       "| 56    | 29266 |\n",
       "| 57    | 16973 |\n",
       "| 58    | 20862 |\n",
       "| 59    | 32891 |\n",
       "\n"
      ],
      "text/plain": [
       "   day cases\n",
       "1   1   2504\n",
       "2   2   4326\n",
       "3   3   6801\n",
       "4   4   6495\n",
       "5   5   6053\n",
       "6   6   5966\n",
       "7   7   4725\n",
       "8   8   2431\n",
       "9   9   3999\n",
       "10 10   6960\n",
       "11 11   7013\n",
       "12 12   6378\n",
       "13 13   6585\n",
       "14 14   5334\n",
       "15 15   2542\n",
       "16 16   5176\n",
       "17 17   8699\n",
       "18 18   9074\n",
       "19 19   8772\n",
       "20 20   8509\n",
       "21 21   7040\n",
       "22 22   3891\n",
       "23 23   6304\n",
       "24 24  12147\n",
       "25 25  12143\n",
       "26 26  11536\n",
       "27 27  12097\n",
       "28 28  10101\n",
       "29 29   4786\n",
       "30 30   7936\n",
       "31 31  15698\n",
       "32 32  15253\n",
       "33 33  15831\n",
       "34 34  14855\n",
       "35 35  13569\n",
       "36 36   6169\n",
       "37 37   9953\n",
       "38 38  17277\n",
       "39 39  21111\n",
       "40 40  18873\n",
       "41 41  21063\n",
       "42 42  17272\n",
       "43 43  10895\n",
       "44 44  14394\n",
       "45 45  25053\n",
       "46 46  27274\n",
       "47 47  25996\n",
       "48 48  26456\n",
       "49 49  21850\n",
       "50 50  14579\n",
       "51 51  16740\n",
       "52 52  30802\n",
       "53 53  34150\n",
       "54 54  35145\n",
       "55 55  31759\n",
       "56 56  29266\n",
       "57 57  16973\n",
       "58 58  20862\n",
       "59 59  32891"
      ]
     },
     "metadata": {},
     "output_type": "display_data"
    }
   ],
   "source": [
    "covid_feb_mar"
   ]
  },
  {
   "cell_type": "code",
   "execution_count": 68,
   "metadata": {},
   "outputs": [
    {
     "data": {
      "image/png": "[encoded data removed]",
      "text/plain": [
       "plot without title"
      ]
     },
     "metadata": {},
     "output_type": "display_data"
    }
   ],
   "source": [
    "ggplot(covid_feb_mar, aes(day,cases)) + geom_point(color = 'turquoise4') +\n",
    "    ggtitle(\"Daily new confirmed COVID-19 cases in Poland, February - March 2021\")"
   ]
  },
  {
   "cell_type": "markdown",
   "metadata": {},
   "source": [
    "## Fitting exponential curve"
   ]
  },
  {
   "cell_type": "markdown",
   "metadata": {},
   "source": [
    "### October 2020, Poland"
   ]
  },
  {
   "cell_type": "code",
   "execution_count": 69,
   "metadata": {},
   "outputs": [
    {
     "data": {
      "text/html": [
       "<dl>\n",
       "\t<dt>$alpha</dt>\n",
       "\t\t<dd><strong>(Intercept):</strong> 1045.83540523115</dd>\n",
       "\t<dt>$beta</dt>\n",
       "\t\t<dd><strong>day:</strong> 0.10217862849273</dd>\n",
       "\t<dt>$theta</dt>\n",
       "\t\t<dd>967</dd>\n",
       "</dl>\n"
      ],
      "text/latex": [
       "\\begin{description}\n",
       "\\item[\\$alpha] \\textbf{(Intercept):} 1045.83540523115\n",
       "\\item[\\$beta] \\textbf{day:} 0.10217862849273\n",
       "\\item[\\$theta] 967\n",
       "\\end{description}\n"
      ],
      "text/markdown": [
       "$alpha\n",
       ":   **(Intercept):** 1045.83540523115\n",
       "$beta\n",
       ":   **day:** 0.10217862849273\n",
       "$theta\n",
       ":   967\n",
       "\n",
       "\n"
      ],
      "text/plain": [
       "$alpha\n",
       "(Intercept) \n",
       "   1045.835 \n",
       "\n",
       "$beta\n",
       "      day \n",
       "0.1021786 \n",
       "\n",
       "$theta\n",
       "[1] 967\n"
      ]
     },
     "metadata": {},
     "output_type": "display_data"
    }
   ],
   "source": [
    "# Select an approximate $\\theta$, since theta must be lower than min(y), and greater than zero\n",
    "theta.0 <- min(covid_oct$cases) * 0.5  \n",
    "\n",
    "# Estimate the rest parameters using a linear model\n",
    "model.0 <- lm(log(cases - theta.0) ~ day, data=covid_oct)  \n",
    "alpha.0 <- exp(coef(model.0)[1])\n",
    "beta.0 <- coef(model.0)[2]\n",
    "\n",
    "# Starting parameters\n",
    "start <- list(alpha = alpha.0, beta = beta.0, theta = theta.0)\n",
    "start"
   ]
  },
  {
   "cell_type": "code",
   "execution_count": 70,
   "metadata": {},
   "outputs": [],
   "source": [
    "model <- nls(cases ~ alpha * exp(beta * day) + theta , data = covid_oct, start = start)"
   ]
  },
  {
   "cell_type": "code",
   "execution_count": 71,
   "metadata": {},
   "outputs": [
    {
     "data": {
      "text/plain": [
       "Nonlinear regression model\n",
       "  model: cases ~ alpha * exp(beta * day) + theta\n",
       "   data: covid_oct\n",
       "     alpha       beta      theta \n",
       "2397.09927    0.07248 -604.77072 \n",
       " residual sum-of-squares: 51863515\n",
       "\n",
       "Number of iterations to convergence: 7 \n",
       "Achieved convergence tolerance: 1.85e-06"
      ]
     },
     "metadata": {},
     "output_type": "display_data"
    }
   ],
   "source": [
    "model"
   ]
  },
  {
   "cell_type": "code",
   "execution_count": 72,
   "metadata": {},
   "outputs": [],
   "source": [
    "newdata = data.frame(day = seq(1,31, length.out=1000))\n",
    "newdata$cases = predict(model, newdata)"
   ]
  },
  {
   "cell_type": "code",
   "execution_count": 73,
   "metadata": {},
   "outputs": [
    {
     "data": {
      "image/png": "[encoded data removed]",
      "text/plain": [
       "plot without title"
      ]
     },
     "metadata": {},
     "output_type": "display_data"
    }
   ],
   "source": [
    "ggplot(covid_oct, aes(day,cases)) + geom_point(color = 'turquoise4') +\n",
    "    ggtitle(\"Daily new confirmed COVID-19 cases in Poland, October 2020 + fitted curve\") +\n",
    "    geom_line(data=newdata, aes(day,cases), color = 'salmon2',size = .8)"
   ]
  },
  {
   "cell_type": "markdown",
   "metadata": {},
   "source": [
    "### February - March 2021, Poland"
   ]
  },
  {
   "cell_type": "code",
   "execution_count": 74,
   "metadata": {},
   "outputs": [
    {
     "data": {
      "text/html": [
       "<dl>\n",
       "\t<dt>$alpha</dt>\n",
       "\t\t<dd><strong>(Intercept):</strong> 2653.49055995351</dd>\n",
       "\t<dt>$beta</dt>\n",
       "\t\t<dd><strong>day:</strong> 0.0416691594889474</dd>\n",
       "\t<dt>$theta</dt>\n",
       "\t\t<dd>1215.5</dd>\n",
       "</dl>\n"
      ],
      "text/latex": [
       "\\begin{description}\n",
       "\\item[\\$alpha] \\textbf{(Intercept):} 2653.49055995351\n",
       "\\item[\\$beta] \\textbf{day:} 0.0416691594889474\n",
       "\\item[\\$theta] 1215.5\n",
       "\\end{description}\n"
      ],
      "text/markdown": [
       "$alpha\n",
       ":   **(Intercept):** 2653.49055995351\n",
       "$beta\n",
       ":   **day:** 0.0416691594889474\n",
       "$theta\n",
       ":   1215.5\n",
       "\n",
       "\n"
      ],
      "text/plain": [
       "$alpha\n",
       "(Intercept) \n",
       "   2653.491 \n",
       "\n",
       "$beta\n",
       "       day \n",
       "0.04166916 \n",
       "\n",
       "$theta\n",
       "[1] 1215.5\n"
      ]
     },
     "metadata": {},
     "output_type": "display_data"
    }
   ],
   "source": [
    "# Select an approximate $\\theta$, since theta must be lower than min(y), and greater than zero\n",
    "theta.0 <- min(covid_feb_mar$cases) * 0.5  \n",
    "\n",
    "# Estimate the rest parameters using a linear model\n",
    "model.0 <- lm(log(cases - theta.0) ~ day, data=covid_feb_mar)  \n",
    "alpha.0 <- exp(coef(model.0)[1])\n",
    "beta.0 <- coef(model.0)[2]\n",
    "\n",
    "# Starting parameters\n",
    "start <- list(alpha = alpha.0, beta = beta.0, theta = theta.0)\n",
    "start"
   ]
  },
  {
   "cell_type": "code",
   "execution_count": 75,
   "metadata": {},
   "outputs": [],
   "source": [
    "model <- nls(cases ~ alpha * exp(beta * day) + theta , data = covid_feb_mar, start = start)"
   ]
  },
  {
   "cell_type": "code",
   "execution_count": 76,
   "metadata": {},
   "outputs": [
    {
     "data": {
      "text/plain": [
       "Nonlinear regression model\n",
       "  model: cases ~ alpha * exp(beta * day) + theta\n",
       "   data: covid_feb_mar\n",
       "     alpha       beta      theta \n",
       " 6.871e+03  2.724e-02 -3.586e+03 \n",
       " residual sum-of-squares: 1.11e+09\n",
       "\n",
       "Number of iterations to convergence: 9 \n",
       "Achieved convergence tolerance: 3.976e-06"
      ]
     },
     "metadata": {},
     "output_type": "display_data"
    }
   ],
   "source": [
    "model"
   ]
  },
  {
   "cell_type": "code",
   "execution_count": 77,
   "metadata": {},
   "outputs": [],
   "source": [
    "newdata = data.frame(day = seq(1,59, length.out=1000))\n",
    "newdata$cases = predict(model, newdata)"
   ]
  },
  {
   "cell_type": "code",
   "execution_count": 79,
   "metadata": {},
   "outputs": [
    {
     "data": {
      "image/png": "[encoded data removed]",
      "text/plain": [
       "plot without title"
      ]
     },
     "metadata": {},
     "output_type": "display_data"
    }
   ],
   "source": [
    "ggplot(covid_feb_mar, aes(day,cases)) + geom_point(color = 'turquoise4') +\n",
    "    ggtitle(\"Daily new confirmed COVID-19 cases in Poland, February - March 2021 + fitted curve\") + \n",
    "    geom_line(data=newdata, aes(day,cases), color = 'salmon2',size = .8)"
   ]
  }
 ],
 "metadata": {
  "kernelspec": {
   "display_name": "R",
   "language": "R",
   "name": "ir"
  },
  "language_info": {
   "codemirror_mode": "r",
   "file_extension": ".r",
   "mimetype": "text/x-r-source",
   "name": "R",
   "pygments_lexer": "r",
   "version": "3.6.1"
  }
 },
 "nbformat": 4,
 "nbformat_minor": 4
}
