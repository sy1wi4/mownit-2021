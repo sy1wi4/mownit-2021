{
 "cells": [
  {
   "cell_type": "markdown",
   "metadata": {},
   "source": [
    "# MOwNiT \n",
    "## Laboratorium\n",
    "## Wybrane zagadnienia algebry liniowej, faktoryzacja\n",
    "### Algebra liniowa w Julii\n",
    "https://docs.julialang.org/en/v1.2/stdlib/LinearAlgebra/index.html"
   ]
  },
  {
   "cell_type": "code",
   "execution_count": 1,
   "metadata": {},
   "outputs": [],
   "source": [
    "using(LinearAlgebra)"
   ]
  },
  {
   "cell_type": "code",
   "execution_count": 2,
   "metadata": {
    "scrolled": true
   },
   "outputs": [
    {
     "data": {
      "text/html": [
       "# 11 methods for generic function <b>factorize</b>:<ul><li> factorize(A::<b>StridedArray{T, 2}</b>)<i> where T</i> in LinearAlgebra at <a href=\"file://C:/buildbot/worker/package_win64/build/usr/share/julia/stdlib/v1.5/LinearAlgebra/src/dense.jl\" target=\"_blank\">C:\\Users\\sylwi\\AppData\\Local\\Programs\\Julia 1.5.3\\share\\julia\\stdlib\\v1.5\\LinearAlgebra\\src\\dense.jl:1207</a></li> <li> factorize(A::<b>Adjoint</b>) in LinearAlgebra at <a href=\"file://C:/buildbot/worker/package_win64/build/usr/share/julia/stdlib/v1.5/LinearAlgebra/src/dense.jl\" target=\"_blank\">C:\\Users\\sylwi\\AppData\\Local\\Programs\\Julia 1.5.3\\share\\julia\\stdlib\\v1.5\\LinearAlgebra\\src\\dense.jl:1283</a></li> <li> factorize(A::<b>Transpose</b>) in LinearAlgebra at <a href=\"file://C:/buildbot/worker/package_win64/build/usr/share/julia/stdlib/v1.5/LinearAlgebra/src/dense.jl\" target=\"_blank\">C:\\Users\\sylwi\\AppData\\Local\\Programs\\Julia 1.5.3\\share\\julia\\stdlib\\v1.5\\LinearAlgebra\\src\\dense.jl:1284</a></li> <li> factorize(A::<b>LinearAlgebra.AbstractTriangular</b>) in LinearAlgebra at <a href=\"file://C:/buildbot/worker/package_win64/build/usr/share/julia/stdlib/v1.5/LinearAlgebra/src/triangular.jl\" target=\"_blank\">C:\\Users\\sylwi\\AppData\\Local\\Programs\\Julia 1.5.3\\share\\julia\\stdlib\\v1.5\\LinearAlgebra\\src\\triangular.jl:2676</a></li> <li> factorize(A::<b>Union{Hermitian{Complex{Float64},var\"#s828\"}, Hermitian{Float64,var\"#s828\"}, Symmetric{Float64,var\"#s828\"}} where var\"#s828\"<:SparseArrays.AbstractSparseMatrixCSC</b>) in SparseArrays at <a href=\"file://C:/buildbot/worker/package_win64/build/usr/share/julia/stdlib/v1.5/SparseArrays/src/linalg.jl\" target=\"_blank\">C:\\Users\\sylwi\\AppData\\Local\\Programs\\Julia 1.5.3\\share\\julia\\stdlib\\v1.5\\SparseArrays\\src\\linalg.jl:1538</a></li> <li> factorize(A::<b>Union{Hermitian{T,S}, Symmetric{T,S}} where S where T</b>) in LinearAlgebra at <a href=\"file://C:/buildbot/worker/package_win64/build/usr/share/julia/stdlib/v1.5/LinearAlgebra/src/symmetric.jl\" target=\"_blank\">C:\\Users\\sylwi\\AppData\\Local\\Programs\\Julia 1.5.3\\share\\julia\\stdlib\\v1.5\\LinearAlgebra\\src\\symmetric.jl:634</a></li> <li> factorize(A::<b>Tridiagonal</b>) in LinearAlgebra at <a href=\"file://C:/buildbot/worker/package_win64/build/usr/share/julia/stdlib/v1.5/LinearAlgebra/src/lu.jl\" target=\"_blank\">C:\\Users\\sylwi\\AppData\\Local\\Programs\\Julia 1.5.3\\share\\julia\\stdlib\\v1.5\\LinearAlgebra\\src\\lu.jl:555</a></li> <li> factorize(D::<b>Diagonal</b>) in LinearAlgebra at <a href=\"file://C:/buildbot/worker/package_win64/build/usr/share/julia/stdlib/v1.5/LinearAlgebra/src/diagonal.jl\" target=\"_blank\">C:\\Users\\sylwi\\AppData\\Local\\Programs\\Julia 1.5.3\\share\\julia\\stdlib\\v1.5\\LinearAlgebra\\src\\diagonal.jl:121</a></li> <li> factorize(A::<b>Bidiagonal</b>) in LinearAlgebra at <a href=\"file://C:/buildbot/worker/package_win64/build/usr/share/julia/stdlib/v1.5/LinearAlgebra/src/bidiag.jl\" target=\"_blank\">C:\\Users\\sylwi\\AppData\\Local\\Programs\\Julia 1.5.3\\share\\julia\\stdlib\\v1.5\\LinearAlgebra\\src\\bidiag.jl:875</a></li> <li> factorize(S::<b>SymTridiagonal</b>) in LinearAlgebra at <a href=\"file://C:/buildbot/worker/package_win64/build/usr/share/julia/stdlib/v1.5/LinearAlgebra/src/ldlt.jl\" target=\"_blank\">C:\\Users\\sylwi\\AppData\\Local\\Programs\\Julia 1.5.3\\share\\julia\\stdlib\\v1.5\\LinearAlgebra\\src\\ldlt.jl:166</a></li> <li> factorize(A::<b>SparseArrays.AbstractSparseMatrixCSC</b>) in SparseArrays at <a href=\"file://C:/buildbot/worker/package_win64/build/usr/share/julia/stdlib/v1.5/SparseArrays/src/linalg.jl\" target=\"_blank\">C:\\Users\\sylwi\\AppData\\Local\\Programs\\Julia 1.5.3\\share\\julia\\stdlib\\v1.5\\SparseArrays\\src\\linalg.jl:1508</a></li> </ul>"
      ],
      "text/plain": [
       "# 11 methods for generic function \"factorize\":\n",
       "[1] factorize(A::StridedArray{T, 2}) where T in LinearAlgebra at C:\\Users\\sylwi\\AppData\\Local\\Programs\\Julia 1.5.3\\share\\julia\\stdlib\\v1.5\\LinearAlgebra\\src\\dense.jl:1207\n",
       "[2] factorize(A::Adjoint) in LinearAlgebra at C:\\Users\\sylwi\\AppData\\Local\\Programs\\Julia 1.5.3\\share\\julia\\stdlib\\v1.5\\LinearAlgebra\\src\\dense.jl:1283\n",
       "[3] factorize(A::Transpose) in LinearAlgebra at C:\\Users\\sylwi\\AppData\\Local\\Programs\\Julia 1.5.3\\share\\julia\\stdlib\\v1.5\\LinearAlgebra\\src\\dense.jl:1284\n",
       "[4] factorize(A::LinearAlgebra.AbstractTriangular) in LinearAlgebra at C:\\Users\\sylwi\\AppData\\Local\\Programs\\Julia 1.5.3\\share\\julia\\stdlib\\v1.5\\LinearAlgebra\\src\\triangular.jl:2676\n",
       "[5] factorize(A::Union{Hermitian{Complex{Float64},var\"#s828\"}, Hermitian{Float64,var\"#s828\"}, Symmetric{Float64,var\"#s828\"}} where var\"#s828\"<:SparseArrays.AbstractSparseMatrixCSC) in SparseArrays at C:\\Users\\sylwi\\AppData\\Local\\Programs\\Julia 1.5.3\\share\\julia\\stdlib\\v1.5\\SparseArrays\\src\\linalg.jl:1538\n",
       "[6] factorize(A::Union{Hermitian{T,S}, Symmetric{T,S}} where S where T) in LinearAlgebra at C:\\Users\\sylwi\\AppData\\Local\\Programs\\Julia 1.5.3\\share\\julia\\stdlib\\v1.5\\LinearAlgebra\\src\\symmetric.jl:634\n",
       "[7] factorize(A::Tridiagonal) in LinearAlgebra at C:\\Users\\sylwi\\AppData\\Local\\Programs\\Julia 1.5.3\\share\\julia\\stdlib\\v1.5\\LinearAlgebra\\src\\lu.jl:555\n",
       "[8] factorize(D::Diagonal) in LinearAlgebra at C:\\Users\\sylwi\\AppData\\Local\\Programs\\Julia 1.5.3\\share\\julia\\stdlib\\v1.5\\LinearAlgebra\\src\\diagonal.jl:121\n",
       "[9] factorize(A::Bidiagonal) in LinearAlgebra at C:\\Users\\sylwi\\AppData\\Local\\Programs\\Julia 1.5.3\\share\\julia\\stdlib\\v1.5\\LinearAlgebra\\src\\bidiag.jl:875\n",
       "[10] factorize(S::SymTridiagonal) in LinearAlgebra at C:\\Users\\sylwi\\AppData\\Local\\Programs\\Julia 1.5.3\\share\\julia\\stdlib\\v1.5\\LinearAlgebra\\src\\ldlt.jl:166\n",
       "[11] factorize(A::SparseArrays.AbstractSparseMatrixCSC) in SparseArrays at C:\\Users\\sylwi\\AppData\\Local\\Programs\\Julia 1.5.3\\share\\julia\\stdlib\\v1.5\\SparseArrays\\src\\linalg.jl:1508"
      ]
     },
     "execution_count": 2,
     "metadata": {},
     "output_type": "execute_result"
    }
   ],
   "source": [
    "methods(factorize)"
   ]
  },
  {
   "cell_type": "code",
   "execution_count": 3,
   "metadata": {},
   "outputs": [
    {
     "data": {
      "text/plain": [
       "1×3 Array{Int64,2}:\n",
       " 1  2  2"
      ]
     },
     "execution_count": 3,
     "metadata": {},
     "output_type": "execute_result"
    }
   ],
   "source": [
    "#wiersze vs kolumny\n",
    "x1=[1 2 2]"
   ]
  },
  {
   "cell_type": "code",
   "execution_count": 4,
   "metadata": {},
   "outputs": [
    {
     "data": {
      "text/plain": [
       "3-element Array{Int64,1}:\n",
       " 1\n",
       " 2\n",
       " 3"
      ]
     },
     "execution_count": 4,
     "metadata": {},
     "output_type": "execute_result"
    }
   ],
   "source": [
    "y1=[1 ;2 ;3]"
   ]
  },
  {
   "cell_type": "code",
   "execution_count": 5,
   "metadata": {},
   "outputs": [
    {
     "data": {
      "text/plain": [
       "3×1 Transpose{Int64,Array{Int64,2}}:\n",
       " 1\n",
       " 2\n",
       " 2"
      ]
     },
     "execution_count": 5,
     "metadata": {},
     "output_type": "execute_result"
    }
   ],
   "source": [
    "transpose(x1)"
   ]
  },
  {
   "cell_type": "code",
   "execution_count": 6,
   "metadata": {},
   "outputs": [
    {
     "data": {
      "text/plain": [
       "11"
      ]
     },
     "execution_count": 6,
     "metadata": {},
     "output_type": "execute_result"
    }
   ],
   "source": [
    "#iloczyn skalarny\n",
    "dot(x1,y1)"
   ]
  },
  {
   "cell_type": "markdown",
   "metadata": {},
   "source": [
    " Długość wektora liczymy jako pierwiastek z jego iloczynu skalarnego \n",
    "$$ \\lVert\\mathbf{v}\\rVert = \\sqrt{\\mathbf{v}\\cdot \\mathbf{v}}=\\sqrt{\\sum_{i=1}^nv_i^2}$$\n",
    "\n"
   ]
  },
  {
   "cell_type": "markdown",
   "metadata": {},
   "source": [
    "#### Przykładowe dane"
   ]
  },
  {
   "cell_type": "code",
   "execution_count": 7,
   "metadata": {},
   "outputs": [
    {
     "data": {
      "text/plain": [
       "3×3 Array{Float64,2}:\n",
       " 0.565936   0.300095  0.00172226\n",
       " 0.0766113  0.488387  0.149067\n",
       " 0.364564   0.225734  0.770428"
      ]
     },
     "execution_count": 7,
     "metadata": {},
     "output_type": "execute_result"
    }
   ],
   "source": [
    "#losujemy macierz 3x3\n",
    "A=rand(3,3)"
   ]
  },
  {
   "cell_type": "code",
   "execution_count": 8,
   "metadata": {},
   "outputs": [
    {
     "data": {
      "text/plain": [
       "3-element Array{Float64,1}:\n",
       " 0.8870913489238519\n",
       " 0.26124660107879594\n",
       " 0.9173661470271073"
      ]
     },
     "execution_count": 8,
     "metadata": {},
     "output_type": "execute_result"
    }
   ],
   "source": [
    "#losujemy wektor x\n",
    "x=rand(3)"
   ]
  },
  {
   "cell_type": "code",
   "execution_count": 9,
   "metadata": {},
   "outputs": [
    {
     "data": {
      "text/plain": [
       "3-element Array{Float64,1}:\n",
       " 0.5820156081609066\n",
       " 0.3323001953791924\n",
       " 1.089138591836072"
      ]
     },
     "execution_count": 9,
     "metadata": {},
     "output_type": "execute_result"
    }
   ],
   "source": [
    "# wyliczamy b\n",
    "b=A*x"
   ]
  },
  {
   "cell_type": "markdown",
   "metadata": {},
   "source": [
    "### Sposoby rozwiązania Ax=b"
   ]
  },
  {
   "cell_type": "code",
   "execution_count": 10,
   "metadata": {},
   "outputs": [
    {
     "data": {
      "text/plain": [
       "3-element Array{Float64,1}:\n",
       " 0.8870913489238518\n",
       " 0.261246601078796\n",
       " 0.9173661470271074"
      ]
     },
     "execution_count": 10,
     "metadata": {},
     "output_type": "execute_result"
    }
   ],
   "source": [
    "#mozemy policzyc odwrotność macierzy i wymnożyć\n",
    "#uwaga: nieefektywne!\n",
    "inv(A) * b"
   ]
  },
  {
   "cell_type": "code",
   "execution_count": 11,
   "metadata": {},
   "outputs": [
    {
     "data": {
      "text/plain": [
       "3-element Array{Float64,1}:\n",
       " 0.8870913489238518\n",
       " 0.261246601078796\n",
       " 0.9173661470271075"
      ]
     },
     "execution_count": 11,
     "metadata": {},
     "output_type": "execute_result"
    }
   ],
   "source": [
    "#najlepiej używać zoptymalizowanego operatora \"\\\"\"\n",
    "x=A\\b"
   ]
  },
  {
   "cell_type": "markdown",
   "metadata": {},
   "source": [
    " operator \"\\\\\" wybiera odpowiednią faktoryzację:\n",
    "- https://docs.julialang.org/en/v1.2/stdlib/LinearAlgebra/#LinearAlgebra.factorize\n",
    "- https://docs.julialang.org/en/v1.2/stdlib/LinearAlgebra/#man-linalg-factorizations-1\n",
    " \n"
   ]
  },
  {
   "cell_type": "markdown",
   "metadata": {},
   "source": [
    "### Faktoryzacja LU"
   ]
  },
  {
   "cell_type": "code",
   "execution_count": 12,
   "metadata": {},
   "outputs": [
    {
     "data": {
      "text/plain": [
       "LU{Float64,Array{Float64,2}}\n",
       "L factor:\n",
       "3×3 Array{Float64,2}:\n",
       " 1.0       0.0        0.0\n",
       " 0.135371  1.0        0.0\n",
       " 0.64418   0.0724013  1.0\n",
       "U factor:\n",
       "3×3 Array{Float64,2}:\n",
       " 0.565936  0.300095  0.00172226\n",
       " 0.0       0.447763  0.148834\n",
       " 0.0       0.0       0.758543"
      ]
     },
     "execution_count": 12,
     "metadata": {},
     "output_type": "execute_result"
    }
   ],
   "source": [
    "# W przypadku ogólnej macierzy kwadratowej jest to faktoryzacja LU z pivotem\n",
    "Af=factorize(A)"
   ]
  },
  {
   "cell_type": "code",
   "execution_count": 13,
   "metadata": {},
   "outputs": [
    {
     "data": {
      "text/plain": [
       "3×3 Array{Float64,2}:\n",
       " 1.0       0.0        0.0\n",
       " 0.135371  1.0        0.0\n",
       " 0.64418   0.0724013  1.0"
      ]
     },
     "execution_count": 13,
     "metadata": {},
     "output_type": "execute_result"
    }
   ],
   "source": [
    "# Macierz L\n",
    "Af.L"
   ]
  },
  {
   "cell_type": "code",
   "execution_count": 14,
   "metadata": {},
   "outputs": [
    {
     "data": {
      "text/plain": [
       "3×3 Array{Float64,2}:\n",
       " 0.565936  0.300095  0.00172226\n",
       " 0.0       0.447763  0.148834\n",
       " 0.0       0.0       0.758543"
      ]
     },
     "execution_count": 14,
     "metadata": {},
     "output_type": "execute_result"
    }
   ],
   "source": [
    "#Macierz U\n",
    "Af.U"
   ]
  },
  {
   "cell_type": "code",
   "execution_count": 15,
   "metadata": {},
   "outputs": [
    {
     "data": {
      "text/plain": [
       "3-element Array{Int64,1}:\n",
       " 1\n",
       " 2\n",
       " 3"
      ]
     },
     "execution_count": 15,
     "metadata": {},
     "output_type": "execute_result"
    }
   ],
   "source": [
    "# wektor permutacji wierszy \n",
    "Af.p"
   ]
  },
  {
   "cell_type": "code",
   "execution_count": 16,
   "metadata": {},
   "outputs": [
    {
     "data": {
      "text/plain": [
       "LU{Float64,Array{Float64,2}}\n",
       "L factor:\n",
       "3×3 Array{Float64,2}:\n",
       " 1.0       0.0        0.0\n",
       " 0.135371  1.0        0.0\n",
       " 0.64418   0.0724013  1.0\n",
       "U factor:\n",
       "3×3 Array{Float64,2}:\n",
       " 0.565936  0.300095  0.00172226\n",
       " 0.0       0.447763  0.148834\n",
       " 0.0       0.0       0.758543"
      ]
     },
     "execution_count": 16,
     "metadata": {},
     "output_type": "execute_result"
    }
   ],
   "source": [
    "# mozemy zamienic macierz A na postać zfaktoryzowaną\n",
    "A=factorize(A)"
   ]
  },
  {
   "cell_type": "code",
   "execution_count": 17,
   "metadata": {},
   "outputs": [
    {
     "data": {
      "text/plain": [
       "3-element Array{Float64,1}:\n",
       " 0.8870913489238518\n",
       " 0.261246601078796\n",
       " 0.9173661470271075"
      ]
     },
     "execution_count": 17,
     "metadata": {},
     "output_type": "execute_result"
    }
   ],
   "source": [
    "# i działać na niej operatorem \\\n",
    "# operator ten będzie wykorzytywał raz utworzony wynik faktoryzacji\n",
    "A\\b"
   ]
  },
  {
   "cell_type": "code",
   "execution_count": 18,
   "metadata": {},
   "outputs": [
    {
     "data": {
      "text/plain": [
       "3-element Array{Float64,1}:\n",
       " -0.5601436931096339\n",
       "  1.5191708928945309\n",
       "  0.4273529746320426"
      ]
     },
     "execution_count": 18,
     "metadata": {},
     "output_type": "execute_result"
    }
   ],
   "source": [
    "# dla różnych prawych stron równania z tą samą macierzą\n",
    "c=rand(3);\n",
    "A\\c"
   ]
  },
  {
   "cell_type": "markdown",
   "metadata": {},
   "source": [
    "### Faktoryzacja QR\n"
   ]
  },
  {
   "cell_type": "code",
   "execution_count": 19,
   "metadata": {},
   "outputs": [
    {
     "data": {
      "text/plain": [
       "10×5 Array{Float64,2}:\n",
       " 0.487816   0.343795   0.312645   0.906513  0.342731\n",
       " 0.0671475  0.26938    0.664036   0.183178  0.0450427\n",
       " 0.884488   0.0149139  0.747245   0.167878  0.947538\n",
       " 0.699025   0.996289   0.798687   0.733003  0.335665\n",
       " 0.350462   0.110614   0.960855   0.166565  0.421037\n",
       " 0.596881   0.0843095  0.998431   0.432924  0.758062\n",
       " 0.396232   0.1664     0.0680702  0.903408  0.579591\n",
       " 0.615443   0.0326784  0.559247   0.924661  0.443435\n",
       " 0.263517   0.0709799  0.520381   0.743365  0.421093\n",
       " 0.773755   0.521304   0.79689    0.277798  0.967744"
      ]
     },
     "execution_count": 19,
     "metadata": {},
     "output_type": "execute_result"
    }
   ],
   "source": [
    "B=rand(10,5)"
   ]
  },
  {
   "cell_type": "code",
   "execution_count": 20,
   "metadata": {},
   "outputs": [
    {
     "data": {
      "text/plain": [
       "QRPivoted{Float64,Array{Float64,2}}\n",
       "Q factor:\n",
       "10×10 LinearAlgebra.QRPackedQ{Float64,Array{Float64,2}}:\n",
       " -0.141553    0.484017   0.0631977  …  -0.719128   -0.289376    0.154581\n",
       " -0.300648   -0.141583   0.429959      -0.120818    0.110327    0.159551\n",
       " -0.338321   -0.185006  -0.519702      -0.174156    0.291237   -0.34991\n",
       " -0.361612    0.173889   0.340916       0.15104     0.150863   -0.296393\n",
       " -0.435035   -0.270992   0.201924       0.201244   -0.493521   -0.326037\n",
       " -0.452047   -0.107145  -0.0765447  …  -0.264848   -0.134611    0.0450458\n",
       " -0.0308193   0.579373  -0.358884       0.23979    -0.27192    -0.37758\n",
       " -0.253203    0.397951   0.116662       0.472562   -0.0254096   0.414319\n",
       " -0.235607    0.291725   0.0682187     -0.0293753   0.677222   -0.0750133\n",
       " -0.360798   -0.130991  -0.480763       0.150979   -0.0401536   0.55873\n",
       "R factor:\n",
       "5×5 Array{Float64,2}:\n",
       " -2.20869  -1.31075  -1.60837   -0.799413  -1.57284\n",
       "  0.0       1.48956   0.355601   0.321571   0.475598\n",
       "  0.0       0.0      -0.902789   0.183644  -0.561002\n",
       "  0.0       0.0       0.0       -0.855731  -0.216607\n",
       "  0.0       0.0       0.0        0.0        0.367116\n",
       "permutation:\n",
       "5-element Array{Int64,1}:\n",
       " 3\n",
       " 4\n",
       " 5\n",
       " 2\n",
       " 1"
      ]
     },
     "execution_count": 20,
     "metadata": {},
     "output_type": "execute_result"
    }
   ],
   "source": [
    "# W przypadku ogólnej macierzy prostokątnej wybierana jest faktoryzacja QR z pivotem\n",
    "factorize(B)"
   ]
  },
  {
   "cell_type": "markdown",
   "metadata": {},
   "source": [
    "- $Q$ to macierz  ortogonalna mxm, co oznacza, że  $Q^T*Q=Q*Q^T=I$ czyli $Q^{-1}=Q^T$ (odwracanie takich macierzy jest szybkie i nie generuje dodatkowych błędów !)\n",
    "- $R$ to macierz postaci $\\begin{pmatrix} Rfactor \\\\ 0 \\end{pmatrix} $ , gdzie $Rfactor$ jest macierzą trójkątną górną, a 0 to macierz zer o wymierze nx(m-n)"
   ]
  },
  {
   "cell_type": "markdown",
   "metadata": {},
   "source": [
    "### Zastosowanie faktoryzacji do metody najmniejszych kwadratów\n",
    "\n",
    "Jednym z zastosowań faktoryzacji QR jest użycie jej do metody najmniejszych kwadratów.\n",
    "\n",
    "Przykład:\n",
    "\n",
    "Obliczmy dopasowanie wielomianu $$f(x)=wsp_2*x^2+wsp_1*x+wsp_0$$ do punktów (1,1) (2,2) (3,4) (4, 4) (5,3) (6,0)\n",
    "\n",
    "- Budujemy układ równań wg wzoru $$wsp_2x_i^2+wsp_1x_i+wsp_0=y_i$$:\n",
    "$$wsp_2*1^2+wsp_1*1+wsp_0=1$$\n",
    "$$wsp_2*2^2+wsp_1*2+wsp_0=2$$\n",
    "$$wsp_2*3^2+wsp_1*3+wsp_0=4$$\n",
    "$$wsp_2*4^2+wsp_1*4+wsp_0=4$$\n",
    "$$wsp_2*5^2+wsp_1*5+wsp_0=3$$\n",
    "$$wsp_2*6^2+wsp_1*6+wsp_0=0$$\n",
    "\n",
    "- Układ ten  nie ma dokładnego rozwiązania. Możemy jednak znaleźć najlepsze przybliżenie, czyli takie $wsp_i$, które minimalizują odległość:\n",
    "\n",
    "$$\\sqrt{\\sum_{i=1}^{6}{(y_i-f(x_i))^2}}=\\lVert y-A*wsp\\rVert$$\n",
    "\n",
    "\n",
    "\n"
   ]
  },
  {
   "cell_type": "markdown",
   "metadata": {},
   "source": [
    "Jak użyć do tej mimalizacji faktoryzacji QR:\n",
    "\n",
    "#### 1. Tworzymy macierz A na postawie $(x_i,y_i)$"
   ]
  },
  {
   "cell_type": "code",
   "execution_count": 21,
   "metadata": {},
   "outputs": [
    {
     "data": {
      "text/plain": [
       "6×3 Array{Float64,2}:\n",
       " 0.0  0.0  0.0\n",
       " 0.0  0.0  0.0\n",
       " 0.0  0.0  0.0\n",
       " 0.0  0.0  0.0\n",
       " 0.0  0.0  0.0\n",
       " 0.0  0.0  0.0"
      ]
     },
     "execution_count": 21,
     "metadata": {},
     "output_type": "execute_result"
    }
   ],
   "source": [
    "A=zeros(6,3) "
   ]
  },
  {
   "cell_type": "markdown",
   "metadata": {},
   "source": [
    " punkty $(x_i,y_i)$\n"
   ]
  },
  {
   "cell_type": "code",
   "execution_count": 22,
   "metadata": {},
   "outputs": [
    {
     "data": {
      "text/plain": [
       "6-element Array{Int64,1}:\n",
       " 1\n",
       " 2\n",
       " 4\n",
       " 4\n",
       " 3\n",
       " 0"
      ]
     },
     "execution_count": 22,
     "metadata": {},
     "output_type": "execute_result"
    }
   ],
   "source": [
    "x=[1; 2 ;3 ;4 ;5 ;6]\n",
    "y=[1; 2; 4; 4; 3; 0]"
   ]
  },
  {
   "cell_type": "code",
   "execution_count": 23,
   "metadata": {},
   "outputs": [
    {
     "data": {
      "text/plain": [
       "6-element Array{Int64,1}:\n",
       "  1\n",
       "  4\n",
       "  9\n",
       " 16\n",
       " 25\n",
       " 36"
      ]
     },
     "execution_count": 23,
     "metadata": {},
     "output_type": "execute_result"
    }
   ],
   "source": [
    "A[:,1]=x.^2"
   ]
  },
  {
   "cell_type": "code",
   "execution_count": 24,
   "metadata": {},
   "outputs": [
    {
     "data": {
      "text/plain": [
       "6-element Array{Int64,1}:\n",
       " 1\n",
       " 2\n",
       " 3\n",
       " 4\n",
       " 5\n",
       " 6"
      ]
     },
     "execution_count": 24,
     "metadata": {},
     "output_type": "execute_result"
    }
   ],
   "source": [
    "A[:,2]=x"
   ]
  },
  {
   "cell_type": "code",
   "execution_count": 25,
   "metadata": {},
   "outputs": [
    {
     "data": {
      "text/plain": [
       "6-element Array{Float64,1}:\n",
       " 1.0\n",
       " 1.0\n",
       " 1.0\n",
       " 1.0\n",
       " 1.0\n",
       " 1.0"
      ]
     },
     "execution_count": 25,
     "metadata": {},
     "output_type": "execute_result"
    }
   ],
   "source": [
    "A[:,3]=ones(6)"
   ]
  },
  {
   "cell_type": "code",
   "execution_count": 26,
   "metadata": {},
   "outputs": [
    {
     "data": {
      "text/plain": [
       "6×3 Array{Float64,2}:\n",
       "  1.0  1.0  1.0\n",
       "  4.0  2.0  1.0\n",
       "  9.0  3.0  1.0\n",
       " 16.0  4.0  1.0\n",
       " 25.0  5.0  1.0\n",
       " 36.0  6.0  1.0"
      ]
     },
     "execution_count": 26,
     "metadata": {},
     "output_type": "execute_result"
    }
   ],
   "source": [
    "A"
   ]
  },
  {
   "cell_type": "markdown",
   "metadata": {},
   "source": [
    "#### 2. Dokonujemy faktoryzacji QR macierzy A "
   ]
  },
  {
   "cell_type": "code",
   "execution_count": 27,
   "metadata": {},
   "outputs": [
    {
     "data": {
      "text/plain": [
       "QRPivoted{Float64,Array{Float64,2}}\n",
       "Q factor:\n",
       "6×6 LinearAlgebra.QRPackedQ{Float64,Array{Float64,2}}:\n",
       " -0.0209657  -0.343313    0.838525   0.112335    -0.0400677  -0.405397\n",
       " -0.0838628  -0.521522    0.167705  -0.00636667   0.34634     0.756879\n",
       " -0.188691   -0.534625   -0.223607  -0.612934    -0.487947   -0.121617\n",
       " -0.335451   -0.382624   -0.33541    0.753648    -0.213523   -0.122449\n",
       " -0.524142   -0.0655178  -0.167705  -0.204705     0.705864   -0.390779\n",
       " -0.754765    0.416693    0.279508  -0.0419783   -0.310667    0.283364\n",
       "R factor:\n",
       "3×3 Array{Float64,2}:\n",
       " -47.697  -9.24587  -1.90788\n",
       "   0.0    -2.34816  -1.43091\n",
       "   0.0     0.0       0.559017\n",
       "permutation:\n",
       "3-element Array{Int64,1}:\n",
       " 1\n",
       " 2\n",
       " 3"
      ]
     },
     "execution_count": 27,
     "metadata": {},
     "output_type": "execute_result"
    }
   ],
   "source": [
    " AF=factorize(A)"
   ]
  },
  {
   "cell_type": "code",
   "execution_count": 28,
   "metadata": {},
   "outputs": [
    {
     "data": {
      "text/plain": [
       "6×6 Array{Float64,2}:\n",
       "  1.0           0.0           1.11022e-16  …   8.32667e-17   0.0\n",
       "  0.0           1.0           9.71445e-17     -5.55112e-17  -1.249e-16\n",
       "  1.11022e-16   9.71445e-17   1.0             -4.16334e-17   0.0\n",
       " -9.71445e-17   3.46945e-17   2.60209e-17     -9.88792e-17  -2.08167e-17\n",
       "  8.32667e-17  -5.55112e-17  -4.16334e-17      1.0           0.0\n",
       "  0.0          -1.249e-16     0.0          …   0.0           1.0"
      ]
     },
     "execution_count": 28,
     "metadata": {},
     "output_type": "execute_result"
    }
   ],
   "source": [
    "# można przetestować ortogonalność:\n",
    "Transpose(AF.Q)*AF.Q"
   ]
  },
  {
   "cell_type": "markdown",
   "metadata": {},
   "source": [
    "Mamy równanie:\n",
    "$$A*wsp=y$$\n",
    "Dla $A=QR$:\n",
    "$$QR*wsp =y$$\n",
    "Możemy obydwie strony wymnożyć z lewej przez $Q^T$:\n",
    "$$R*wsp =Q^T y$$\n",
    "$$\\begin{pmatrix} Rfactor \\\\ 0 \\end{pmatrix} wsp= Q^T y$$\n",
    "\n",
    "Poszukiwanym rozwiązaniem jest rozwiązanie równania będącego górną niezerową częścią:\n",
    "$$Rfactor * wsp= Q^T y[1:n]$$\n",
    "$$wsp=Rfactor \\setminus Q^T y[1:n]$$"
   ]
  },
  {
   "cell_type": "code",
   "execution_count": 29,
   "metadata": {},
   "outputs": [
    {
     "data": {
      "text/plain": [
       "3-element Array{Float64,1}:\n",
       " -0.5714285714285725\n",
       "  3.9428571428571515\n",
       " -2.8000000000000163"
      ]
     },
     "execution_count": 29,
     "metadata": {},
     "output_type": "execute_result"
    }
   ],
   "source": [
    "# implementacja powyższego (uwaga: w tym przykladzie nie jest potrzebna permutacja,\n",
    "# bo wektor permutacji wynosi[1 2 3])\n",
    "AF.R\\((Transpose(AF.Q)*y)[1:3])"
   ]
  },
  {
   "cell_type": "markdown",
   "metadata": {},
   "source": [
    "Więcej informacji:\n",
    "- http://www.math.uconn.edu/~leykekhman/courses/MATH3795/Lectures/Lecture_8_Linear_least_squares_orthogonal_matrices.pdf\n",
    "- http://www.seas.ucla.edu/~vandenbe/133A/lectures/qr.pdf"
   ]
  },
  {
   "cell_type": "markdown",
   "metadata": {},
   "source": [
    "W praktyce używamy tego algorytmu poprzez operator \"\\\\\", za którym jest on \"schowany\"."
   ]
  },
  {
   "cell_type": "code",
   "execution_count": 30,
   "metadata": {},
   "outputs": [
    {
     "data": {
      "text/plain": [
       "3-element Array{Float64,1}:\n",
       " -0.5714285714285726\n",
       "  3.942857142857151\n",
       " -2.8000000000000145"
      ]
     },
     "execution_count": 30,
     "metadata": {},
     "output_type": "execute_result"
    }
   ],
   "source": [
    "A \\ y"
   ]
  },
  {
   "cell_type": "code",
   "execution_count": 31,
   "metadata": {},
   "outputs": [
    {
     "data": {
      "text/html": [
       "&#45;2.8 &#43; 3.9428571428571417&#8729;x &#45; 0.5714285714285711&#8729;x<sup>2</sup>"
      ],
      "text/latex": [
       "$-2.8 + 3.9428571428571417\\cdot x - 0.5714285714285711\\cdot x^{2}$"
      ],
      "text/plain": [
       "Polynomial(-2.8 + 3.9428571428571417*x - 0.5714285714285711*x^2)"
      ]
     },
     "execution_count": 31,
     "metadata": {},
     "output_type": "execute_result"
    }
   ],
   "source": [
    "#sprawdzamy czy dostaliśmy dobre współczynniki\n",
    "using Polynomials\n",
    "fit(x,y, 2)"
   ]
  },
  {
   "cell_type": "code",
   "execution_count": 32,
   "metadata": {},
   "outputs": [
    {
     "data": {
      "text/plain": [
       "Polynomials"
      ]
     },
     "execution_count": 32,
     "metadata": {},
     "output_type": "execute_result"
    }
   ],
   "source": [
    "@which fit"
   ]
  },
  {
   "cell_type": "markdown",
   "metadata": {},
   "source": [
    "Funkcja <a href=\"https://github.com/JuliaMath/Polynomials.jl/blob/master/src/common.jl#L142\">\n",
    "fit</a>  z pakietu Polynomials używa własnie tej metody\n"
   ]
  },
  {
   "cell_type": "markdown",
   "metadata": {},
   "source": [
    "### Zadania"
   ]
  },
  {
   "cell_type": "markdown",
   "metadata": {},
   "source": [
    "#### Zadanie 1 (1pkt)\n",
    "Ustal losowe (referencyjne) x rozmiaru 1000 oraz losowe A rozmiaru 1000x1000, policz b=A*x.\n",
    "Nastepnie rozwiąż równanie Ax=b trzema metodami:\n",
    "- inv()\n",
    "- \\\n",
    "- factorize()\n",
    "\n",
    "Porównaj jakość wyniku (zmierzoną jako długość różnicy wektorów wyniku oraz referencyjnego x) oraz czas wykonania (@time). UWAGA: pierwsze wykonanie funkcji w Julii zawiera czas kompilacji tej funkcji, dlatego czas mierzymy  od drugiego wywołania !\n",
    "\n",
    "#### Zadanie 2 (1pkt)\n",
    "Policz współczynniki wielomianu aproksymującego dowolne dane z poprzednich laboratoriów tworząc wprost układ równań i rozwiązujac go (metoda z użyciem faktoryzacji QR zaprezentowana na tym laboratorium).\n",
    "Porównaj wyniki z tymi otrzymanymi poprzednio.\n",
    "\n",
    "#### Zadanie 3 (2 pkt)\n",
    "\n",
    "Znajdź i zaprezentuj działanie innego zastosowania wybranej faktoryzacji. Przykładowe (ale nie jedyne!) tematy:\n",
    "\n",
    "-    tworzenie pseudoinversji macierzy (http://buzzard.ups.edu/courses/2014spring/420projects/math420-UPS-spring-2014-macausland-pseudo-inverse-present.pdf).\n",
    "\n",
    "-   uzycie faktoryzacji QR do znajdowania wartości własnych (https://en.wikipedia.org/wiki/QR_algorithm)\n",
    "\n",
    "-  zastosowanie faktoryzacji SVD - przykład zastosowania w uczeniu maszynowym https://blog.statsbot.co/singular-value-decomposition-tutorial-52c695315254\n",
    "\n",
    "\n"
   ]
  },
  {
   "cell_type": "markdown",
   "metadata": {},
   "source": [
    "## Zad 1."
   ]
  },
  {
   "cell_type": "code",
   "execution_count": 33,
   "metadata": {},
   "outputs": [
    {
     "data": {
      "text/plain": [
       "1000×1000 Array{Float64,2}:\n",
       " 0.083294   0.617632    0.944548    …  0.830245  0.0488413  0.989938\n",
       " 0.257234   0.0237225   0.1777         0.751845  0.127206   0.0103696\n",
       " 0.407145   0.992247    0.560034       0.441706  0.965907   0.494085\n",
       " 0.201782   0.189819    0.816871       0.188394  0.207522   0.509339\n",
       " 0.9084     0.00638772  0.263995       0.857943  0.5271     0.938044\n",
       " 0.253842   0.805761    0.641803    …  0.662608  0.430011   0.426338\n",
       " 0.0156398  0.685418    0.823024       0.925031  0.580355   0.530805\n",
       " 0.0142553  0.242992    0.571203       0.881923  0.772944   0.0270614\n",
       " 0.471706   0.671394    0.818199       0.164838  0.151561   0.530101\n",
       " 0.299181   0.780179    0.542065       0.561579  0.149826   0.609578\n",
       " 0.689117   0.105427    0.248772    …  0.457921  0.647267   0.322066\n",
       " 0.0849191  0.757639    0.0472726      0.355325  0.744914   0.411827\n",
       " 0.681094   0.264835    0.369256       0.693933  0.557482   0.196894\n",
       " ⋮                                  ⋱                       \n",
       " 0.399969   0.467223    0.691414       0.296154  0.358884   0.864031\n",
       " 0.483938   0.745373    0.517138       0.137798  0.086049   0.524441\n",
       " 0.0441426  0.586988    0.00515159  …  0.420642  0.5451     0.561086\n",
       " 0.745585   0.772794    0.280852       0.246049  0.719839   0.534209\n",
       " 0.293214   0.293552    0.0186337      0.784044  0.957153   0.754837\n",
       " 0.153785   0.202693    0.747958       0.309452  0.209798   0.206091\n",
       " 0.849062   0.421704    0.809198       0.157757  0.367957   0.11724\n",
       " 0.87998    0.858173    0.912285    …  0.966182  0.349498   0.0464048\n",
       " 0.697775   0.853982    0.979579       0.749856  0.30268    0.285218\n",
       " 0.788155   0.319924    0.8332         0.640809  0.659389   0.22636\n",
       " 0.991109   0.962801    0.973448       0.486097  0.42538    0.366843\n",
       " 0.16002    0.321595    0.626094       0.142418  0.672482   0.659543"
      ]
     },
     "execution_count": 33,
     "metadata": {},
     "output_type": "execute_result"
    }
   ],
   "source": [
    "A = rand(1000,1000)"
   ]
  },
  {
   "cell_type": "code",
   "execution_count": 34,
   "metadata": {},
   "outputs": [
    {
     "data": {
      "text/plain": [
       "1000-element Array{Float64,1}:\n",
       " 0.7777679797328616\n",
       " 0.48088902853302873\n",
       " 0.8909080479166267\n",
       " 0.8382812479987813\n",
       " 0.5946533327450354\n",
       " 0.41374589920557314\n",
       " 0.1387045685462458\n",
       " 0.6477305464982752\n",
       " 0.6099490525864166\n",
       " 0.5064772073739952\n",
       " 0.9163979480964695\n",
       " 0.36758155284603133\n",
       " 0.5549082952870064\n",
       " ⋮\n",
       " 0.312703810086576\n",
       " 0.0741322478700761\n",
       " 0.7108961777203275\n",
       " 0.6052323454703319\n",
       " 0.9133932196187169\n",
       " 0.57038521340729\n",
       " 0.8232166979940994\n",
       " 0.6274797033623498\n",
       " 0.7364640118133305\n",
       " 0.2125580543702288\n",
       " 0.8952208339291952\n",
       " 0.8094716611391883"
      ]
     },
     "execution_count": 34,
     "metadata": {},
     "output_type": "execute_result"
    }
   ],
   "source": [
    "x = rand(1000)"
   ]
  },
  {
   "cell_type": "code",
   "execution_count": 35,
   "metadata": {},
   "outputs": [
    {
     "data": {
      "text/plain": [
       "1000-element Array{Float64,1}:\n",
       " 242.21604489031813\n",
       " 244.72170157395587\n",
       " 254.6454059740323\n",
       " 251.70931892541736\n",
       " 246.4119300909217\n",
       " 249.745506045543\n",
       " 249.28044378779123\n",
       " 237.95506215057787\n",
       " 251.53441988724833\n",
       " 253.38585418855075\n",
       " 261.1553670158279\n",
       " 251.10946954104304\n",
       " 244.9612369127479\n",
       "   ⋮\n",
       " 245.1169700740595\n",
       " 253.08899410996094\n",
       " 249.43325685996382\n",
       " 245.73255281650958\n",
       " 247.7344906513948\n",
       " 253.06006737561785\n",
       " 255.2922119049028\n",
       " 251.0041109576564\n",
       " 244.05749727005502\n",
       " 249.56423383437902\n",
       " 252.64391514346715\n",
       " 258.3517290409023"
      ]
     },
     "execution_count": 35,
     "metadata": {},
     "output_type": "execute_result"
    }
   ],
   "source": [
    "b = A*x"
   ]
  },
  {
   "cell_type": "code",
   "execution_count": 36,
   "metadata": {},
   "outputs": [
    {
     "name": "stdout",
     "output_type": "stream",
     "text": [
      "inv() time:        0.0746334897\n",
      "\\ time:            0.0278131404\n",
      "factorize() time:  0.0275442304\n"
     ]
    }
   ],
   "source": [
    "# initial compilation \n",
    "inv(A) * b\n",
    "A\\b\n",
    "Af = factorize(A)\n",
    "Af\\b\n",
    "\n",
    "\n",
    "# time measure\n",
    "time_inv = time_div = time_fac = 0\n",
    "x1 = []\n",
    "x2 = []\n",
    "x3 = []\n",
    "\n",
    "for i in 1:10\n",
    "    time_inv += @elapsed x1 = inv(A) * b\n",
    "    time_div += @elapsed x2 = A\\b\n",
    "    time_fac += @elapsed Af = factorize(A); x3 = Af\\b\n",
    "end\n",
    "\n",
    "time_inv /= 10\n",
    "time_div /= 10\n",
    "time_fac /= 10\n",
    "\n",
    "println(\"inv() time:        \",  round(time_inv, digits=10))\n",
    "println(\"\\\\ time:            \", round(time_div, digits=10))\n",
    "println(\"factorize() time:  \",  round(time_fac, digits=10))"
   ]
  },
  {
   "cell_type": "code",
   "execution_count": 37,
   "metadata": {},
   "outputs": [
    {
     "name": "stdout",
     "output_type": "stream",
     "text": [
      "inv() quality:        4.138099214374059e-10\n",
      "\\ quality:            2.0230510305378292e-10\n",
      "factorize() quality:  2.0230510305378292e-10\n"
     ]
    }
   ],
   "source": [
    "q1 = sqrt(dot(x-x1,x-x1))\n",
    "q2 = sqrt(dot(x-x2,x-x2))\n",
    "q3 = sqrt(dot(x-x3,x-x3))\n",
    "\n",
    "println(\"inv() quality:        \",  q1)\n",
    "println(\"\\\\ quality:            \", q2)\n",
    "println(\"factorize() quality:  \",  q3)"
   ]
  },
  {
   "cell_type": "markdown",
   "metadata": {},
   "source": [
    "## Zad 2.\n",
    "Wykorzystałam dane z lab2 (mnożenie macierzy kwadratowej przez wektor - $O(N^2)$."
   ]
  },
  {
   "cell_type": "code",
   "execution_count": 38,
   "metadata": {},
   "outputs": [],
   "source": [
    "using CSV\n",
    "using DataFrames\n",
    "using Statistics"
   ]
  },
  {
   "cell_type": "code",
   "execution_count": 39,
   "metadata": {},
   "outputs": [
    {
     "data": {
      "text/html": [
       "<table class=\"data-frame\"><thead><tr><th></th><th>size</th><th>i</th><th>time</th><th>type</th></tr><tr><th></th><th>Int64</th><th>Int64</th><th>Float64</th><th>String</th></tr></thead><tbody><p>390 rows × 4 columns</p><tr><th>1</th><td>600</td><td>1</td><td>3.99e-7</td><td>v</td></tr><tr><th>2</th><td>600</td><td>2</td><td>4.99e-7</td><td>v</td></tr><tr><th>3</th><td>600</td><td>3</td><td>4.0e-7</td><td>v</td></tr><tr><th>4</th><td>600</td><td>4</td><td>4.0e-7</td><td>v</td></tr><tr><th>5</th><td>600</td><td>5</td><td>5.0e-7</td><td>v</td></tr><tr><th>6</th><td>600</td><td>6</td><td>5.0e-7</td><td>v</td></tr><tr><th>7</th><td>600</td><td>7</td><td>4.99e-7</td><td>v</td></tr><tr><th>8</th><td>600</td><td>8</td><td>5.0e-7</td><td>v</td></tr><tr><th>9</th><td>600</td><td>9</td><td>5.01e-7</td><td>v</td></tr><tr><th>10</th><td>600</td><td>10</td><td>4.99e-7</td><td>v</td></tr><tr><th>11</th><td>600</td><td>1</td><td>0.0012846</td><td>m</td></tr><tr><th>12</th><td>600</td><td>2</td><td>0.0013718</td><td>m</td></tr><tr><th>13</th><td>600</td><td>3</td><td>0.0206862</td><td>m</td></tr><tr><th>14</th><td>600</td><td>4</td><td>0.0011828</td><td>m</td></tr><tr><th>15</th><td>600</td><td>5</td><td>0.0011774</td><td>m</td></tr><tr><th>16</th><td>600</td><td>6</td><td>0.0013838</td><td>m</td></tr><tr><th>17</th><td>600</td><td>7</td><td>0.0015612</td><td>m</td></tr><tr><th>18</th><td>600</td><td>8</td><td>0.001478</td><td>m</td></tr><tr><th>19</th><td>600</td><td>9</td><td>0.0014104</td><td>m</td></tr><tr><th>20</th><td>600</td><td>10</td><td>0.0036167</td><td>m</td></tr><tr><th>21</th><td>700</td><td>1</td><td>1.7e-6</td><td>v</td></tr><tr><th>22</th><td>700</td><td>2</td><td>5.99e-7</td><td>v</td></tr><tr><th>23</th><td>700</td><td>3</td><td>5.0e-7</td><td>v</td></tr><tr><th>24</th><td>700</td><td>4</td><td>5.0e-7</td><td>v</td></tr><tr><th>25</th><td>700</td><td>5</td><td>5.01e-7</td><td>v</td></tr><tr><th>26</th><td>700</td><td>6</td><td>5.0e-7</td><td>v</td></tr><tr><th>27</th><td>700</td><td>7</td><td>3.99e-7</td><td>v</td></tr><tr><th>28</th><td>700</td><td>8</td><td>5.0e-7</td><td>v</td></tr><tr><th>29</th><td>700</td><td>9</td><td>5.99e-7</td><td>v</td></tr><tr><th>30</th><td>700</td><td>10</td><td>4.0e-7</td><td>v</td></tr><tr><th>&vellip;</th><td>&vellip;</td><td>&vellip;</td><td>&vellip;</td><td>&vellip;</td></tr></tbody></table>"
      ],
      "text/latex": [
       "\\begin{tabular}{r|cccc}\n",
       "\t& size & i & time & type\\\\\n",
       "\t\\hline\n",
       "\t& Int64 & Int64 & Float64 & String\\\\\n",
       "\t\\hline\n",
       "\t1 & 600 & 1 & 3.99e-7 & v \\\\\n",
       "\t2 & 600 & 2 & 4.99e-7 & v \\\\\n",
       "\t3 & 600 & 3 & 4.0e-7 & v \\\\\n",
       "\t4 & 600 & 4 & 4.0e-7 & v \\\\\n",
       "\t5 & 600 & 5 & 5.0e-7 & v \\\\\n",
       "\t6 & 600 & 6 & 5.0e-7 & v \\\\\n",
       "\t7 & 600 & 7 & 4.99e-7 & v \\\\\n",
       "\t8 & 600 & 8 & 5.0e-7 & v \\\\\n",
       "\t9 & 600 & 9 & 5.01e-7 & v \\\\\n",
       "\t10 & 600 & 10 & 4.99e-7 & v \\\\\n",
       "\t11 & 600 & 1 & 0.0012846 & m \\\\\n",
       "\t12 & 600 & 2 & 0.0013718 & m \\\\\n",
       "\t13 & 600 & 3 & 0.0206862 & m \\\\\n",
       "\t14 & 600 & 4 & 0.0011828 & m \\\\\n",
       "\t15 & 600 & 5 & 0.0011774 & m \\\\\n",
       "\t16 & 600 & 6 & 0.0013838 & m \\\\\n",
       "\t17 & 600 & 7 & 0.0015612 & m \\\\\n",
       "\t18 & 600 & 8 & 0.001478 & m \\\\\n",
       "\t19 & 600 & 9 & 0.0014104 & m \\\\\n",
       "\t20 & 600 & 10 & 0.0036167 & m \\\\\n",
       "\t21 & 700 & 1 & 1.7e-6 & v \\\\\n",
       "\t22 & 700 & 2 & 5.99e-7 & v \\\\\n",
       "\t23 & 700 & 3 & 5.0e-7 & v \\\\\n",
       "\t24 & 700 & 4 & 5.0e-7 & v \\\\\n",
       "\t25 & 700 & 5 & 5.01e-7 & v \\\\\n",
       "\t26 & 700 & 6 & 5.0e-7 & v \\\\\n",
       "\t27 & 700 & 7 & 3.99e-7 & v \\\\\n",
       "\t28 & 700 & 8 & 5.0e-7 & v \\\\\n",
       "\t29 & 700 & 9 & 5.99e-7 & v \\\\\n",
       "\t30 & 700 & 10 & 4.0e-7 & v \\\\\n",
       "\t$\\dots$ & $\\dots$ & $\\dots$ & $\\dots$ & $\\dots$ \\\\\n",
       "\\end{tabular}\n"
      ],
      "text/plain": [
       "\u001b[1m390×4 DataFrame\u001b[0m\n",
       "\u001b[1m Row \u001b[0m│\u001b[1m size  \u001b[0m\u001b[1m i     \u001b[0m\u001b[1m time      \u001b[0m\u001b[1m type   \u001b[0m\n",
       "\u001b[1m     \u001b[0m│\u001b[90m Int64 \u001b[0m\u001b[90m Int64 \u001b[0m\u001b[90m Float64   \u001b[0m\u001b[90m String \u001b[0m\n",
       "─────┼─────────────────────────────────\n",
       "   1 │   600      1  3.99e-7    v\n",
       "   2 │   600      2  4.99e-7    v\n",
       "   3 │   600      3  4.0e-7     v\n",
       "   4 │   600      4  4.0e-7     v\n",
       "   5 │   600      5  5.0e-7     v\n",
       "   6 │   600      6  5.0e-7     v\n",
       "   7 │   600      7  4.99e-7    v\n",
       "   8 │   600      8  5.0e-7     v\n",
       "   9 │   600      9  5.01e-7    v\n",
       "  10 │   600     10  4.99e-7    v\n",
       "  11 │   600      1  0.0012846  m\n",
       "  ⋮  │   ⋮      ⋮        ⋮        ⋮\n",
       " 381 │  3100      1  2.0e-6     v\n",
       " 382 │  3100      2  2.301e-6   v\n",
       " 383 │  3100      3  1.999e-6   v\n",
       " 384 │  3100      4  1.999e-6   v\n",
       " 385 │  3100      5  2.0e-6     v\n",
       " 386 │  3100      6  1.9e-6     v\n",
       " 387 │  3100      7  2.0e-6     v\n",
       " 388 │  3100      8  2.101e-6   v\n",
       " 389 │  3100      9  2.001e-6   v\n",
       " 390 │  3100     10  2.2e-6     v\n",
       "\u001b[36m                       369 rows omitted\u001b[0m"
      ]
     },
     "execution_count": 39,
     "metadata": {},
     "output_type": "execute_result"
    }
   ],
   "source": [
    "res = CSV.read(\"results.csv\", DataFrame)"
   ]
  },
  {
   "cell_type": "code",
   "execution_count": 62,
   "metadata": {},
   "outputs": [
    {
     "data": {
      "text/html": [
       "<table class=\"data-frame\"><thead><tr><th></th><th>size</th><th>time_mean</th></tr><tr><th></th><th>Int64</th><th>Float64</th></tr></thead><tbody><p>13 rows × 2 columns</p><tr><th>1</th><td>600</td><td>0.00351529</td></tr><tr><th>2</th><td>800</td><td>0.00247528</td></tr><tr><th>3</th><td>1000</td><td>0.00491061</td></tr><tr><th>4</th><td>1200</td><td>0.0075149</td></tr><tr><th>5</th><td>1400</td><td>0.00800567</td></tr><tr><th>6</th><td>1600</td><td>0.0150469</td></tr><tr><th>7</th><td>1800</td><td>0.021611</td></tr><tr><th>8</th><td>2000</td><td>0.0256406</td></tr><tr><th>9</th><td>2200</td><td>0.0320328</td></tr><tr><th>10</th><td>2400</td><td>0.0457893</td></tr><tr><th>11</th><td>2600</td><td>0.0586774</td></tr><tr><th>12</th><td>2800</td><td>0.0698941</td></tr><tr><th>13</th><td>3000</td><td>0.0841519</td></tr></tbody></table>"
      ],
      "text/latex": [
       "\\begin{tabular}{r|cc}\n",
       "\t& size & time\\_mean\\\\\n",
       "\t\\hline\n",
       "\t& Int64 & Float64\\\\\n",
       "\t\\hline\n",
       "\t1 & 600 & 0.00351529 \\\\\n",
       "\t2 & 800 & 0.00247528 \\\\\n",
       "\t3 & 1000 & 0.00491061 \\\\\n",
       "\t4 & 1200 & 0.0075149 \\\\\n",
       "\t5 & 1400 & 0.00800567 \\\\\n",
       "\t6 & 1600 & 0.0150469 \\\\\n",
       "\t7 & 1800 & 0.021611 \\\\\n",
       "\t8 & 2000 & 0.0256406 \\\\\n",
       "\t9 & 2200 & 0.0320328 \\\\\n",
       "\t10 & 2400 & 0.0457893 \\\\\n",
       "\t11 & 2600 & 0.0586774 \\\\\n",
       "\t12 & 2800 & 0.0698941 \\\\\n",
       "\t13 & 3000 & 0.0841519 \\\\\n",
       "\\end{tabular}\n"
      ],
      "text/plain": [
       "\u001b[1m13×2 DataFrame\u001b[0m\n",
       "\u001b[1m Row \u001b[0m│\u001b[1m size  \u001b[0m\u001b[1m time_mean  \u001b[0m\n",
       "\u001b[1m     \u001b[0m│\u001b[90m Int64 \u001b[0m\u001b[90m Float64    \u001b[0m\n",
       "─────┼───────────────────\n",
       "   1 │   600  0.00351529\n",
       "   2 │   800  0.00247528\n",
       "   3 │  1000  0.00491061\n",
       "   4 │  1200  0.0075149\n",
       "   5 │  1400  0.00800567\n",
       "   6 │  1600  0.0150469\n",
       "   7 │  1800  0.021611\n",
       "   8 │  2000  0.0256406\n",
       "   9 │  2200  0.0320328\n",
       "  10 │  2400  0.0457893\n",
       "  11 │  2600  0.0586774\n",
       "  12 │  2800  0.0698941\n",
       "  13 │  3000  0.0841519"
      ]
     },
     "execution_count": 62,
     "metadata": {},
     "output_type": "execute_result"
    }
   ],
   "source": [
    "res_m = res[res[!,:type] .== \"m\", :]\n",
    "res_grouped = combine(groupby(res_m, :size), \"time\" => mean)"
   ]
  },
  {
   "cell_type": "markdown",
   "metadata": {},
   "source": [
    "#### Dopasowanie do danych wielomianu przy użyciu funcji ```fit()``` z pakietu Polynomials"
   ]
  },
  {
   "cell_type": "code",
   "execution_count": 41,
   "metadata": {},
   "outputs": [
    {
     "data": {
      "text/html": [
       "0.01466387135334673 &#45; 2.762089318581425e-5&#8729;x &#43; 1.690210814685316e-8&#8729;x<sup>2</sup>"
      ],
      "text/latex": [
       "$0.01466387135334673 - 2.762089318581425e-5\\cdot x + 1.690210814685316e-8\\cdot x^{2}$"
      ],
      "text/plain": [
       "Polynomial(0.01466387135334673 - 2.762089318581425e-5*x + 1.690210814685316e-8*x^2)"
      ]
     },
     "execution_count": 41,
     "metadata": {},
     "output_type": "execute_result"
    }
   ],
   "source": [
    "x = res_grouped[!, :size]\n",
    "y = res_grouped[!, :time_mean]\n",
    "\n",
    "fit(x,y,2)"
   ]
  },
  {
   "cell_type": "markdown",
   "metadata": {},
   "source": [
    "#### Dopasowanie do danych wielomianu tworząc wprost układ równań i rozwiązujac go"
   ]
  },
  {
   "cell_type": "code",
   "execution_count": 42,
   "metadata": {},
   "outputs": [
    {
     "data": {
      "text/plain": [
       "13×3 Array{Float64,2}:\n",
       " 360000.0      600.0  1.0\n",
       " 640000.0      800.0  1.0\n",
       "      1.0e6   1000.0  1.0\n",
       "      1.44e6  1200.0  1.0\n",
       "      1.96e6  1400.0  1.0\n",
       "      2.56e6  1600.0  1.0\n",
       "      3.24e6  1800.0  1.0\n",
       "      4.0e6   2000.0  1.0\n",
       "      4.84e6  2200.0  1.0\n",
       "      5.76e6  2400.0  1.0\n",
       "      6.76e6  2600.0  1.0\n",
       "      7.84e6  2800.0  1.0\n",
       "      9.0e6   3000.0  1.0"
      ]
     },
     "execution_count": 42,
     "metadata": {},
     "output_type": "execute_result"
    }
   ],
   "source": [
    "A = zeros(length(x),3)\n",
    "A[:,1] = x.^2\n",
    "A[:,2] = x\n",
    "A[:,3] = ones(length(x))\n",
    "\n",
    "A"
   ]
  },
  {
   "cell_type": "code",
   "execution_count": 43,
   "metadata": {},
   "outputs": [
    {
     "data": {
      "text/plain": [
       "3-element Array{Float64,1}:\n",
       "  1.690210814685312e-8\n",
       " -2.7620893185814095e-5\n",
       "  0.01466387135334658"
      ]
     },
     "execution_count": 43,
     "metadata": {},
     "output_type": "execute_result"
    }
   ],
   "source": [
    "coef = A\\y"
   ]
  },
  {
   "cell_type": "code",
   "execution_count": 44,
   "metadata": {},
   "outputs": [
    {
     "data": {
      "text/html": [
       "0.01466387135334658 &#45; 2.7620893185814095e-5&#8729;x &#43; 1.690210814685312e-8&#8729;x<sup>2</sup>"
      ],
      "text/latex": [
       "$0.01466387135334658 - 2.7620893185814095e-5\\cdot x + 1.690210814685312e-8\\cdot x^{2}$"
      ],
      "text/plain": [
       "Polynomial(0.01466387135334658 - 2.7620893185814095e-5*x + 1.690210814685312e-8*x^2)"
      ]
     },
     "execution_count": 44,
     "metadata": {},
     "output_type": "execute_result"
    }
   ],
   "source": [
    "Polynomial(reverse(coef))"
   ]
  },
  {
   "cell_type": "markdown",
   "metadata": {},
   "source": [
    "### Wnioski:\n",
    "Wielomiany otrzymane przy użyciu obydwu metod są do siebie bardzo zbliżone, współczynniki różnią się w okolicy 16 miejsca po przecinku."
   ]
  },
  {
   "cell_type": "markdown",
   "metadata": {},
   "source": [
    "## Zad 3.\n",
    "### Użycie faktoryzacji QR do znajdowania wektorów i wartości własnych\n",
    "\n",
    "* https://en.wikipedia.org/wiki/QR_algorithm\n",
    "* https://duch.mimuw.edu.pl/~m_korch/pl/12-eigenvalues-and-eigenvectors/\n",
    "* http://matrix.umcs.lublin.pl/~lbocian/Studia/Pracownia_obliczen_numerycznych_II/algorytm_qr.htm\n",
    "* https://people.inf.ethz.ch/arbenz/ewp/Lnotes/chapter4.pdf\n",
    "\n",
    "### Wstęp:\n",
    "$v$ - wektor własny przekształcenia (wektor, którego kierunek nie ulega zmianie po przekształceniu go endomorfizmem)\n",
    "\n",
    "$\\lambda$ - wartość własna przekształcenia $\\varphi$ (skala podobieństwa tych wektorów)\n",
    "\n",
    "Spełniają one następujący warunek:\n",
    "$$ \\varphi(v)=\\lambda v $$\n",
    "\n",
    "\n",
    "W ogólności, aby znaleźć wartości własne przekształcenia, należy rozwiązać równanie:\n",
    "\n",
    "$$ \\det (M-\\lambda I)=0, $$\n",
    "gdzie $M$ jest macierzą przekształcenia $\\varphi$.\n",
    "\n",
    "Gdy znamy już wartości własne, jesteśmy w stanie wyliczyc odpowiadające im wektory własne, rozwiązując odpowiednie równania."
   ]
  },
  {
   "cell_type": "markdown",
   "metadata": {},
   "source": [
    "### Algorytm:\n",
    "Do wyznaczenia wartości i wektorów własnych możemy wykorzystać faktoryzację $QR$.\n",
    "\n",
    "Niech dana jest macierz $M$ (symetryczna), mająca rozkład $QR$ postaci $M = QR$, gdzie gdzie $Q$ jest macierzą ortogonalną $(Q^{T}Q=I)$ i $R$ jest macierzą trójkątną górną. Tworzymy macierz $Q product$, która będzie wykorzystywana do odczytania wektorów własnych (początkowo jest to macierz jednostkowa, inaczej identycznościowa).\n",
    "\n",
    "* przyjmijmy za początkową wartość $M_1 = M$\n",
    "* dla każdego $M_k$ dokonujemy rozkładu $QR$ ($M_k = Q_k R_k$) \n",
    "* i przyjmujemy, że $M_{k+1} = R_k Q_k$\n",
    "\n",
    "Wówczas dla dostatecznie dużej liczby iteracji macierze $M_k$ zbiegają to pewnej macierzy górnej trójkatnej $D$, na jej głównej przekątnej leżą wartości własne przekształcenia. Wektory własne znajdują sie w kolumnach macierzy $Q product = \\Pi_i Q_i$, będącej iloczynem wyliczanych kolejno macierzy ortogonalnych $Q_i$."
   ]
  },
  {
   "cell_type": "markdown",
   "metadata": {},
   "source": [
    "### Przykład 1."
   ]
  },
  {
   "cell_type": "code",
   "execution_count": 45,
   "metadata": {},
   "outputs": [
    {
     "data": {
      "text/plain": [
       "4×4 Array{Float64,2}:\n",
       " 52.0  30.0  49.0  28.0\n",
       " 30.0  50.0   8.0  44.0\n",
       " 49.0   8.0  46.0  16.0\n",
       " 28.0  44.0  16.0  22.0"
      ]
     },
     "execution_count": 45,
     "metadata": {},
     "output_type": "execute_result"
    }
   ],
   "source": [
    "M1 = [52.0 30.0 49.0 28.0;\n",
    "     30.0 50.0 8.0 44.0;\n",
    "     49.0 8.0 46.0 16.0;\n",
    "     28.0 44.0 16.0 22.0]"
   ]
  },
  {
   "cell_type": "markdown",
   "metadata": {},
   "source": [
    "#### Przy użyciu funkcji bibliotecznych:"
   ]
  },
  {
   "cell_type": "code",
   "execution_count": 46,
   "metadata": {},
   "outputs": [
    {
     "data": {
      "text/plain": [
       "4-element Array{Float64,1}:\n",
       " -11.541130784673527\n",
       "  -3.529044547945997\n",
       "  52.44229999841107\n",
       " 132.62787533420826"
      ]
     },
     "execution_count": 46,
     "metadata": {},
     "output_type": "execute_result"
    }
   ],
   "source": [
    "eigen(M1).values"
   ]
  },
  {
   "cell_type": "code",
   "execution_count": 47,
   "metadata": {},
   "outputs": [
    {
     "data": {
      "text/plain": [
       "4×4 Array{Float64,2}:\n",
       "  0.0998774   0.727071   0.299919  -0.60946\n",
       " -0.577249   -0.06069   -0.651997  -0.487853\n",
       " -0.221563   -0.60898    0.601962  -0.466578\n",
       "  0.779562   -0.311173  -0.350128  -0.415769"
      ]
     },
     "execution_count": 47,
     "metadata": {},
     "output_type": "execute_result"
    }
   ],
   "source": [
    "eigen(M1).vectors"
   ]
  },
  {
   "cell_type": "markdown",
   "metadata": {},
   "source": [
    "#### Przy użyciu faktoryzacji QR:"
   ]
  },
  {
   "cell_type": "code",
   "execution_count": 48,
   "metadata": {},
   "outputs": [
    {
     "data": {
      "text/plain": [
       "eigen_own (generic function with 1 method)"
      ]
     },
     "execution_count": 48,
     "metadata": {},
     "output_type": "execute_result"
    }
   ],
   "source": [
    "function eigen_own(M)\n",
    "    Mk = M\n",
    "    Q_product = Array{Float64}(I,size(M)[1],size(M)[1])   # identity matrix\n",
    "\n",
    "    for i in 1:500\n",
    "        Q, R = qr(Mk)\n",
    "        Q_product *= Q\n",
    "        Mk = R*Q\n",
    "    end\n",
    "    \n",
    "    eigen_values = diag(Mk)\n",
    "    eigen_vectors = round.(Q_product, digits=6)\n",
    "    return eigen_values, eigen_vectors\n",
    "end"
   ]
  },
  {
   "cell_type": "code",
   "execution_count": 49,
   "metadata": {},
   "outputs": [
    {
     "data": {
      "text/plain": [
       "4-element Array{Float64,1}:\n",
       " 132.62787533420854\n",
       "  52.44229999841114\n",
       " -11.541130784673536\n",
       "  -3.5290445479460026"
      ]
     },
     "execution_count": 49,
     "metadata": {},
     "output_type": "execute_result"
    }
   ],
   "source": [
    "eigen_values = eigen_own(M1)[1]"
   ]
  },
  {
   "cell_type": "code",
   "execution_count": 50,
   "metadata": {},
   "outputs": [
    {
     "data": {
      "text/plain": [
       "4×4 Array{Float64,2}:\n",
       " 0.60946    0.299919  -0.099877  -0.727071\n",
       " 0.487853  -0.651997   0.577249   0.06069\n",
       " 0.466578   0.601962   0.221563   0.60898\n",
       " 0.415769  -0.350128  -0.779562   0.311173"
      ]
     },
     "execution_count": 50,
     "metadata": {},
     "output_type": "execute_result"
    }
   ],
   "source": [
    "eigen_vectors = eigen_own(M1)[2]"
   ]
  },
  {
   "cell_type": "markdown",
   "metadata": {},
   "source": [
    "### Przykład 2."
   ]
  },
  {
   "cell_type": "code",
   "execution_count": 51,
   "metadata": {},
   "outputs": [
    {
     "data": {
      "text/plain": [
       "3×3 Array{Float64,2}:\n",
       " 1.0   2.0  1.0\n",
       " 2.0  14.0  5.0\n",
       " 1.0   5.0  8.0"
      ]
     },
     "execution_count": 51,
     "metadata": {},
     "output_type": "execute_result"
    }
   ],
   "source": [
    "M2 = [1.0 2.0 1.0;\n",
    "      2.0 14.0 5.0;\n",
    "      1.0 5.0 8.0]"
   ]
  },
  {
   "cell_type": "markdown",
   "metadata": {},
   "source": [
    "#### Wartości własne"
   ]
  },
  {
   "cell_type": "code",
   "execution_count": 52,
   "metadata": {},
   "outputs": [
    {
     "data": {
      "text/plain": [
       "3-element Array{Float64,1}:\n",
       "  0.6881254087357362\n",
       "  5.171933220863287\n",
       " 17.139941370400983"
      ]
     },
     "execution_count": 52,
     "metadata": {},
     "output_type": "execute_result"
    }
   ],
   "source": [
    "eigen(M2).values"
   ]
  },
  {
   "cell_type": "code",
   "execution_count": 53,
   "metadata": {},
   "outputs": [
    {
     "data": {
      "text/plain": [
       "3-element Array{Float64,1}:\n",
       " 17.13994137040098\n",
       "  5.171933220863286\n",
       "  0.6881254087357356"
      ]
     },
     "execution_count": 53,
     "metadata": {},
     "output_type": "execute_result"
    }
   ],
   "source": [
    "eigen_own(M2)[1]"
   ]
  },
  {
   "cell_type": "code",
   "execution_count": 54,
   "metadata": {},
   "outputs": [
    {
     "data": {
      "text/plain": [
       "3-element Array{Float64,1}:\n",
       "  0.6881254087357362\n",
       "  5.171933220863287\n",
       " 17.139941370400983"
      ]
     },
     "execution_count": 54,
     "metadata": {},
     "output_type": "execute_result"
    }
   ],
   "source": [
    "eigen(M2).values"
   ]
  },
  {
   "cell_type": "markdown",
   "metadata": {},
   "source": [
    "#### Wektory własne"
   ]
  },
  {
   "cell_type": "code",
   "execution_count": 55,
   "metadata": {},
   "outputs": [
    {
     "data": {
      "text/plain": [
       "3×3 Array{Float64,2}:\n",
       "  0.990246   -0.0250368  -0.137062\n",
       " -0.131747   -0.488366   -0.862636\n",
       " -0.0453388   0.87228    -0.486901"
      ]
     },
     "execution_count": 55,
     "metadata": {},
     "output_type": "execute_result"
    }
   ],
   "source": [
    "eigen(M2).vectors"
   ]
  },
  {
   "cell_type": "code",
   "execution_count": 56,
   "metadata": {},
   "outputs": [
    {
     "data": {
      "text/plain": [
       "3×3 Array{Float64,2}:\n",
       " 0.137062   0.025037  -0.990246\n",
       " 0.862636   0.488366   0.131747\n",
       " 0.486901  -0.87228    0.045339"
      ]
     },
     "execution_count": 56,
     "metadata": {},
     "output_type": "execute_result"
    }
   ],
   "source": [
    "eigen_own(M2)[2]"
   ]
  },
  {
   "cell_type": "markdown",
   "metadata": {},
   "source": [
    "### Przykład 3. \n",
    "Losowa macierz (symetryczna)"
   ]
  },
  {
   "cell_type": "code",
   "execution_count": 57,
   "metadata": {},
   "outputs": [
    {
     "data": {
      "text/plain": [
       "7×7 Symmetric{Float64,Array{Float64,2}}:\n",
       " 0.386441  0.765316   0.178615   0.839148  0.23297   0.734343   0.349815\n",
       " 0.765316  0.0971688  0.844735   0.604433  0.307829  0.976312   0.13269\n",
       " 0.178615  0.844735   0.0552335  0.786777  0.608066  0.0511545  0.248499\n",
       " 0.839148  0.604433   0.786777   0.237771  0.915904  0.939517   0.571161\n",
       " 0.23297   0.307829   0.608066   0.915904  0.132652  0.300375   0.794191\n",
       " 0.734343  0.976312   0.0511545  0.939517  0.300375  0.882472   0.969728\n",
       " 0.349815  0.13269    0.248499   0.571161  0.794191  0.969728   0.358194"
      ]
     },
     "execution_count": 57,
     "metadata": {},
     "output_type": "execute_result"
    }
   ],
   "source": [
    "M3 = Symmetric(rand(7,7))"
   ]
  },
  {
   "cell_type": "markdown",
   "metadata": {},
   "source": [
    "#### Wartości własne"
   ]
  },
  {
   "cell_type": "code",
   "execution_count": 58,
   "metadata": {},
   "outputs": [
    {
     "data": {
      "text/plain": [
       "7-element Array{Float64,1}:\n",
       " -1.3384273425223516\n",
       " -0.8573390419361162\n",
       " -0.6119895417292647\n",
       " -0.1647199967050328\n",
       "  0.5268573616813899\n",
       "  0.6750229198877316\n",
       "  3.9205283792463588"
      ]
     },
     "execution_count": 58,
     "metadata": {},
     "output_type": "execute_result"
    }
   ],
   "source": [
    "eigen(M3).values"
   ]
  },
  {
   "cell_type": "code",
   "execution_count": 59,
   "metadata": {},
   "outputs": [
    {
     "data": {
      "text/plain": [
       "7-element Array{Float64,1}:\n",
       "  3.9205283792463708\n",
       " -1.338427342522353\n",
       " -0.8573390419361138\n",
       "  0.6750229198877364\n",
       " -0.611989541729266\n",
       "  0.5268573616813919\n",
       " -0.16471999670503223"
      ]
     },
     "execution_count": 59,
     "metadata": {},
     "output_type": "execute_result"
    }
   ],
   "source": [
    "eigen_own(M3)[1]"
   ]
  },
  {
   "cell_type": "markdown",
   "metadata": {},
   "source": [
    "#### Wektory własne"
   ]
  },
  {
   "cell_type": "code",
   "execution_count": 60,
   "metadata": {},
   "outputs": [
    {
     "data": {
      "text/plain": [
       "7×7 Array{Float64,2}:\n",
       "  0.243239   0.0222288   0.307522  …   0.356257   0.250366   -0.357744\n",
       " -0.518891   0.384347    0.262339      0.488481   0.0226082  -0.365435\n",
       "  0.468806  -0.400014    0.234833      0.271378  -0.567141   -0.267519\n",
       " -0.427255  -0.40796    -0.586247      0.031785  -0.207942   -0.455802\n",
       "  0.199376   0.683715   -0.161026     -0.334741  -0.480672   -0.315982\n",
       "  0.403455   0.0224619  -0.29831   …  -0.123844   0.58223    -0.490563\n",
       " -0.25833   -0.23952     0.568206     -0.657588   0.0433616  -0.344468"
      ]
     },
     "execution_count": 60,
     "metadata": {},
     "output_type": "execute_result"
    }
   ],
   "source": [
    "eigen(M3).vectors"
   ]
  },
  {
   "cell_type": "code",
   "execution_count": 61,
   "metadata": {},
   "outputs": [
    {
     "data": {
      "text/plain": [
       "7×7 Array{Float64,2}:\n",
       " 0.357744  -0.243239   0.022229  -0.250366  -0.307522   0.356257  -0.726766\n",
       " 0.365435   0.518891   0.384347  -0.022608  -0.262339   0.488481   0.376217\n",
       " 0.267519  -0.468806  -0.400014   0.567141  -0.234833   0.271378   0.313371\n",
       " 0.455802   0.427255  -0.40796    0.207942   0.586247   0.031785  -0.235227\n",
       " 0.315982  -0.199376   0.683715   0.480672   0.161026  -0.334741  -0.154633\n",
       " 0.490563  -0.403455   0.022462  -0.58223    0.29831   -0.123844   0.390833\n",
       " 0.344468   0.25833   -0.23952   -0.043362  -0.568206  -0.657588   0.008797"
      ]
     },
     "execution_count": 61,
     "metadata": {},
     "output_type": "execute_result"
    }
   ],
   "source": [
    "eigen_own(M3)[2]"
   ]
  },
  {
   "cell_type": "markdown",
   "metadata": {},
   "source": [
    "### Obserwacje:\n",
    "Jak widzimy w powyżej przedstawionych przykładach, wartości i wektory własne wyliczone przy użyciu faktoryzacji $QR$ są takie same, jak te otrzymane wykorzystując wbudowaną funkcję ```eigen()``` (z odpowiednią dokładnością)."
   ]
  }
 ],
 "metadata": {
  "kernelspec": {
   "display_name": "Julia 1.5.3",
   "language": "julia",
   "name": "julia-1.5"
  },
  "language_info": {
   "file_extension": ".jl",
   "mimetype": "application/julia",
   "name": "julia",
   "version": "1.5.3"
  }
 },
 "nbformat": 4,
 "nbformat_minor": 2
}
