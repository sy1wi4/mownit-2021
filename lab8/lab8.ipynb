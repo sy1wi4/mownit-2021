{
 "cells": [
  {
   "cell_type": "markdown",
   "metadata": {},
   "source": [
    "# MOwNiT \n",
    "## Laboratorium\n",
    "### Znajdowanie pierwiastków"
   ]
  },
  {
   "cell_type": "markdown",
   "metadata": {},
   "source": [
    "Do poszukiwania pierwiastków funkcji w Julii używamy pakietu Roots"
   ]
  },
  {
   "cell_type": "markdown",
   "metadata": {},
   "source": [
    "```julia\n",
    "Pkg.add(\"Roots\")\n",
    "Pkg.add(\"ForwardDiff\")\n",
    "```"
   ]
  },
  {
   "cell_type": "code",
   "execution_count": 1,
   "metadata": {},
   "outputs": [],
   "source": [
    "using Pkg\n",
    "# Pkg.add(\"Roots\")\n",
    "# Pkg.add(\"ForwardDiff\")\n",
    "using Roots  \n",
    "using Plots\n",
    "using ForwardDiff"
   ]
  },
  {
   "cell_type": "code",
   "execution_count": 2,
   "metadata": {},
   "outputs": [
    {
     "data": {
      "image/svg+xml": [
       "<?xml version=\"1.0\" encoding=\"utf-8\"?>\n",
       "<svg xmlns=\"http://www.w3.org/2000/svg\" xmlns:xlink=\"http://www.w3.org/1999/xlink\" width=\"600\" height=\"400\" viewBox=\"0 0 2400 1600\">\n",
       "<defs>\n",
       "  <clipPath id=\"clip180\">\n",
       "    <rect x=\"0\" y=\"0\" width=\"2400\" height=\"1600\"/>\n",
       "  </clipPath>\n",
       "</defs>\n",
       "<path clip-path=\"url(#clip180)\" d=\"\n",
       "M0 1600 L2400 1600 L2400 0 L0 0  Z\n",
       "  \" fill=\"#ffffff\" fill-rule=\"evenodd\" fill-opacity=\"1\"/>\n",
       "<defs>\n",
       "  <clipPath id=\"clip181\">\n",
       "    <rect x=\"480\" y=\"0\" width=\"1681\" height=\"1600\"/>\n",
       "  </clipPath>\n",
       "</defs>\n",
       "<path clip-path=\"url(#clip180)\" d=\"\n",
       "M142.455 1486.45 L2352.76 1486.45 L2352.76 47.2441 L142.455 47.2441  Z\n",
       "  \" fill=\"#ffffff\" fill-rule=\"evenodd\" fill-opacity=\"1\"/>\n",
       "<defs>\n",
       "  <clipPath id=\"clip182\">\n",
       "    <rect x=\"142\" y=\"47\" width=\"2211\" height=\"1440\"/>\n",
       "  </clipPath>\n",
       "</defs>\n",
       "<polyline clip-path=\"url(#clip182)\" style=\"stroke:#000000; stroke-width:2; stroke-opacity:0.1; fill:none\" points=\"\n",
       "  205.01,1486.45 205.01,47.2441 \n",
       "  \"/>\n",
       "<polyline clip-path=\"url(#clip182)\" style=\"stroke:#000000; stroke-width:2; stroke-opacity:0.1; fill:none\" points=\"\n",
       "  726.308,1486.45 726.308,47.2441 \n",
       "  \"/>\n",
       "<polyline clip-path=\"url(#clip182)\" style=\"stroke:#000000; stroke-width:2; stroke-opacity:0.1; fill:none\" points=\"\n",
       "  1247.61,1486.45 1247.61,47.2441 \n",
       "  \"/>\n",
       "<polyline clip-path=\"url(#clip182)\" style=\"stroke:#000000; stroke-width:2; stroke-opacity:0.1; fill:none\" points=\"\n",
       "  1768.9,1486.45 1768.9,47.2441 \n",
       "  \"/>\n",
       "<polyline clip-path=\"url(#clip182)\" style=\"stroke:#000000; stroke-width:2; stroke-opacity:0.1; fill:none\" points=\"\n",
       "  2290.2,1486.45 2290.2,47.2441 \n",
       "  \"/>\n",
       "<polyline clip-path=\"url(#clip180)\" style=\"stroke:#000000; stroke-width:4; stroke-opacity:1; fill:none\" points=\"\n",
       "  142.455,1486.45 2352.76,1486.45 \n",
       "  \"/>\n",
       "<polyline clip-path=\"url(#clip180)\" style=\"stroke:#000000; stroke-width:4; stroke-opacity:1; fill:none\" points=\"\n",
       "  205.01,1486.45 205.01,1469.18 \n",
       "  \"/>\n",
       "<polyline clip-path=\"url(#clip180)\" style=\"stroke:#000000; stroke-width:4; stroke-opacity:1; fill:none\" points=\"\n",
       "  726.308,1486.45 726.308,1469.18 \n",
       "  \"/>\n",
       "<polyline clip-path=\"url(#clip180)\" style=\"stroke:#000000; stroke-width:4; stroke-opacity:1; fill:none\" points=\"\n",
       "  1247.61,1486.45 1247.61,1469.18 \n",
       "  \"/>\n",
       "<polyline clip-path=\"url(#clip180)\" style=\"stroke:#000000; stroke-width:4; stroke-opacity:1; fill:none\" points=\"\n",
       "  1768.9,1486.45 1768.9,1469.18 \n",
       "  \"/>\n",
       "<polyline clip-path=\"url(#clip180)\" style=\"stroke:#000000; stroke-width:4; stroke-opacity:1; fill:none\" points=\"\n",
       "  2290.2,1486.45 2290.2,1469.18 \n",
       "  \"/>\n",
       "<path clip-path=\"url(#clip180)\" d=\"M 0 0 M177.464 1530.29 L207.14 1530.29 L207.14 1534.23 L177.464 1534.23 L177.464 1530.29 Z\" fill=\"#000000\" fill-rule=\"evenodd\" fill-opacity=\"1\" /><path clip-path=\"url(#clip180)\" d=\"M 0 0 M216.237 1543.18 L232.557 1543.18 L232.557 1547.12 L210.612 1547.12 L210.612 1543.18 Q213.274 1540.43 217.858 1535.8 Q222.464 1531.15 223.645 1529.81 Q225.89 1527.28 226.77 1525.55 Q227.672 1523.79 227.672 1522.1 Q227.672 1519.34 225.728 1517.61 Q223.807 1515.87 220.705 1515.87 Q218.506 1515.87 216.052 1516.63 Q213.622 1517.4 210.844 1518.95 L210.844 1514.23 Q213.668 1513.09 216.122 1512.51 Q218.575 1511.93 220.612 1511.93 Q225.983 1511.93 229.177 1514.62 Q232.371 1517.31 232.371 1521.8 Q232.371 1523.93 231.561 1525.85 Q230.774 1527.74 228.668 1530.34 Q228.089 1531.01 224.987 1534.23 Q221.885 1537.42 216.237 1543.18 Z\" fill=\"#000000\" fill-rule=\"evenodd\" fill-opacity=\"1\" /><path clip-path=\"url(#clip180)\" d=\"M 0 0 M698.577 1530.29 L728.252 1530.29 L728.252 1534.23 L698.577 1534.23 L698.577 1530.29 Z\" fill=\"#000000\" fill-rule=\"evenodd\" fill-opacity=\"1\" /><path clip-path=\"url(#clip180)\" d=\"M 0 0 M734.132 1543.18 L741.771 1543.18 L741.771 1516.82 L733.461 1518.49 L733.461 1514.23 L741.725 1512.56 L746.4 1512.56 L746.4 1543.18 L754.039 1543.18 L754.039 1547.12 L734.132 1547.12 L734.132 1543.18 Z\" fill=\"#000000\" fill-rule=\"evenodd\" fill-opacity=\"1\" /><path clip-path=\"url(#clip180)\" d=\"M 0 0 M1247.61 1515.64 Q1243.99 1515.64 1242.17 1519.2 Q1240.36 1522.75 1240.36 1529.87 Q1240.36 1536.98 1242.17 1540.55 Q1243.99 1544.09 1247.61 1544.09 Q1251.24 1544.09 1253.05 1540.55 Q1254.87 1536.98 1254.87 1529.87 Q1254.87 1522.75 1253.05 1519.2 Q1251.24 1515.64 1247.61 1515.64 M1247.61 1511.93 Q1253.42 1511.93 1256.47 1516.54 Q1259.55 1521.12 1259.55 1529.87 Q1259.55 1538.6 1256.47 1543.21 Q1253.42 1547.79 1247.61 1547.79 Q1241.8 1547.79 1238.72 1543.21 Q1235.66 1538.6 1235.66 1529.87 Q1235.66 1521.12 1238.72 1516.54 Q1241.8 1511.93 1247.61 1511.93 Z\" fill=\"#000000\" fill-rule=\"evenodd\" fill-opacity=\"1\" /><path clip-path=\"url(#clip180)\" d=\"M 0 0 M1759.28 1543.18 L1766.92 1543.18 L1766.92 1516.82 L1758.61 1518.49 L1758.61 1514.23 L1766.88 1512.56 L1771.55 1512.56 L1771.55 1543.18 L1779.19 1543.18 L1779.19 1547.12 L1759.28 1547.12 L1759.28 1543.18 Z\" fill=\"#000000\" fill-rule=\"evenodd\" fill-opacity=\"1\" /><path clip-path=\"url(#clip180)\" d=\"M 0 0 M2284.85 1543.18 L2301.17 1543.18 L2301.17 1547.12 L2279.23 1547.12 L2279.23 1543.18 Q2281.89 1540.43 2286.47 1535.8 Q2291.08 1531.15 2292.26 1529.81 Q2294.51 1527.28 2295.39 1525.55 Q2296.29 1523.79 2296.29 1522.1 Q2296.29 1519.34 2294.34 1517.61 Q2292.42 1515.87 2289.32 1515.87 Q2287.12 1515.87 2284.67 1516.63 Q2282.24 1517.4 2279.46 1518.95 L2279.46 1514.23 Q2282.28 1513.09 2284.74 1512.51 Q2287.19 1511.93 2289.23 1511.93 Q2294.6 1511.93 2297.79 1514.62 Q2300.99 1517.31 2300.99 1521.8 Q2300.99 1523.93 2300.18 1525.85 Q2299.39 1527.74 2297.28 1530.34 Q2296.7 1531.01 2293.6 1534.23 Q2290.5 1537.42 2284.85 1543.18 Z\" fill=\"#000000\" fill-rule=\"evenodd\" fill-opacity=\"1\" /><polyline clip-path=\"url(#clip182)\" style=\"stroke:#000000; stroke-width:2; stroke-opacity:0.1; fill:none\" points=\"\n",
       "  142.455,1304.46 2352.76,1304.46 \n",
       "  \"/>\n",
       "<polyline clip-path=\"url(#clip182)\" style=\"stroke:#000000; stroke-width:2; stroke-opacity:0.1; fill:none\" points=\"\n",
       "  142.455,965.026 2352.76,965.026 \n",
       "  \"/>\n",
       "<polyline clip-path=\"url(#clip182)\" style=\"stroke:#000000; stroke-width:2; stroke-opacity:0.1; fill:none\" points=\"\n",
       "  142.455,625.591 2352.76,625.591 \n",
       "  \"/>\n",
       "<polyline clip-path=\"url(#clip182)\" style=\"stroke:#000000; stroke-width:2; stroke-opacity:0.1; fill:none\" points=\"\n",
       "  142.455,286.156 2352.76,286.156 \n",
       "  \"/>\n",
       "<polyline clip-path=\"url(#clip180)\" style=\"stroke:#000000; stroke-width:4; stroke-opacity:1; fill:none\" points=\"\n",
       "  142.455,1486.45 142.455,47.2441 \n",
       "  \"/>\n",
       "<polyline clip-path=\"url(#clip180)\" style=\"stroke:#000000; stroke-width:4; stroke-opacity:1; fill:none\" points=\"\n",
       "  142.455,1304.46 168.978,1304.46 \n",
       "  \"/>\n",
       "<polyline clip-path=\"url(#clip180)\" style=\"stroke:#000000; stroke-width:4; stroke-opacity:1; fill:none\" points=\"\n",
       "  142.455,965.026 168.978,965.026 \n",
       "  \"/>\n",
       "<polyline clip-path=\"url(#clip180)\" style=\"stroke:#000000; stroke-width:4; stroke-opacity:1; fill:none\" points=\"\n",
       "  142.455,625.591 168.978,625.591 \n",
       "  \"/>\n",
       "<polyline clip-path=\"url(#clip180)\" style=\"stroke:#000000; stroke-width:4; stroke-opacity:1; fill:none\" points=\"\n",
       "  142.455,286.156 168.978,286.156 \n",
       "  \"/>\n",
       "<path clip-path=\"url(#clip180)\" d=\"M 0 0 M51.3625 1304.91 L81.0383 1304.91 L81.0383 1308.85 L51.3625 1308.85 L51.3625 1304.91 Z\" fill=\"#000000\" fill-rule=\"evenodd\" fill-opacity=\"1\" /><path clip-path=\"url(#clip180)\" d=\"M 0 0 M90.1354 1317.81 L106.455 1317.81 L106.455 1321.74 L84.5105 1321.74 L84.5105 1317.81 Q87.1725 1315.05 91.7558 1310.42 Q96.3623 1305.77 97.5428 1304.43 Q99.7882 1301.9 100.668 1300.17 Q101.571 1298.41 101.571 1296.72 Q101.571 1293.96 99.6261 1292.23 Q97.7048 1290.49 94.603 1290.49 Q92.4039 1290.49 89.9503 1291.26 Q87.5197 1292.02 84.7419 1293.57 L84.7419 1288.85 Q87.566 1287.71 90.0197 1287.13 Q92.4734 1286.56 94.5104 1286.56 Q99.8808 1286.56 103.075 1289.24 Q106.27 1291.93 106.27 1296.42 Q106.27 1298.55 105.459 1300.47 Q104.672 1302.37 102.566 1304.96 Q101.987 1305.63 98.8854 1308.85 Q95.7836 1312.04 90.1354 1317.81 Z\" fill=\"#000000\" fill-rule=\"evenodd\" fill-opacity=\"1\" /><path clip-path=\"url(#clip180)\" d=\"M 0 0 M50.9921 965.477 L80.6679 965.477 L80.6679 969.413 L50.9921 969.413 L50.9921 965.477 Z\" fill=\"#000000\" fill-rule=\"evenodd\" fill-opacity=\"1\" /><path clip-path=\"url(#clip180)\" d=\"M 0 0 M86.5475 978.371 L94.1863 978.371 L94.1863 952.005 L85.8762 953.672 L85.8762 949.413 L94.14 947.746 L98.8159 947.746 L98.8159 978.371 L106.455 978.371 L106.455 982.306 L86.5475 982.306 L86.5475 978.371 Z\" fill=\"#000000\" fill-rule=\"evenodd\" fill-opacity=\"1\" /><path clip-path=\"url(#clip180)\" d=\"M 0 0 M94.5104 611.39 Q90.8993 611.39 89.0706 614.955 Q87.2651 618.496 87.2651 625.626 Q87.2651 632.732 89.0706 636.297 Q90.8993 639.839 94.5104 639.839 Q98.1447 639.839 99.9502 636.297 Q101.779 632.732 101.779 625.626 Q101.779 618.496 99.9502 614.955 Q98.1447 611.39 94.5104 611.39 M94.5104 607.686 Q100.321 607.686 103.376 612.293 Q106.455 616.876 106.455 625.626 Q106.455 634.353 103.376 638.959 Q100.321 643.543 94.5104 643.543 Q88.7003 643.543 85.6216 638.959 Q82.566 634.353 82.566 625.626 Q82.566 616.876 85.6216 612.293 Q88.7003 607.686 94.5104 607.686 Z\" fill=\"#000000\" fill-rule=\"evenodd\" fill-opacity=\"1\" /><path clip-path=\"url(#clip180)\" d=\"M 0 0 M86.5475 299.501 L94.1863 299.501 L94.1863 273.136 L85.8762 274.802 L85.8762 270.543 L94.14 268.876 L98.8159 268.876 L98.8159 299.501 L106.455 299.501 L106.455 303.436 L86.5475 303.436 L86.5475 299.501 Z\" fill=\"#000000\" fill-rule=\"evenodd\" fill-opacity=\"1\" /><polyline clip-path=\"url(#clip182)\" style=\"stroke:#009af9; stroke-width:4; stroke-opacity:1; fill:none\" points=\"\n",
       "  205.01,87.9763 225.374,89.0742 413.665,92.4069 526.82,92.7842 622.491,95.2922 726.416,102.77 822.226,116.052 924.945,139.032 1043.95,179.126 1149.72,228.384 \n",
       "  1242.46,282.822 1343.58,354.381 1445.29,438.992 1557.75,546.426 1664.75,660.777 1776.01,790.171 1869.67,905.524 1984.01,1051.63 2091.5,1191.38 2263.7,1412.59 \n",
       "  2290.2,1445.72 \n",
       "  \"/>\n",
       "<path clip-path=\"url(#clip180)\" d=\"\n",
       "M1982.47 216.178 L2279.08 216.178 L2279.08 95.2176 L1982.47 95.2176  Z\n",
       "  \" fill=\"#ffffff\" fill-rule=\"evenodd\" fill-opacity=\"1\"/>\n",
       "<polyline clip-path=\"url(#clip180)\" style=\"stroke:#000000; stroke-width:4; stroke-opacity:1; fill:none\" points=\"\n",
       "  1982.47,216.178 2279.08,216.178 2279.08,95.2176 1982.47,95.2176 1982.47,216.178 \n",
       "  \"/>\n",
       "<polyline clip-path=\"url(#clip180)\" style=\"stroke:#009af9; stroke-width:4; stroke-opacity:1; fill:none\" points=\"\n",
       "  2007.03,155.698 2154.38,155.698 \n",
       "  \"/>\n",
       "<path clip-path=\"url(#clip180)\" d=\"M 0 0 M2192.79 175.385 Q2190.98 180.015 2189.27 181.427 Q2187.55 182.839 2184.68 182.839 L2181.28 182.839 L2181.28 179.274 L2183.78 179.274 Q2185.54 179.274 2186.51 178.44 Q2187.48 177.607 2188.67 174.505 L2189.43 172.561 L2178.94 147.052 L2183.46 147.052 L2191.56 167.329 L2199.66 147.052 L2204.17 147.052 L2192.79 175.385 Z\" fill=\"#000000\" fill-rule=\"evenodd\" fill-opacity=\"1\" /><path clip-path=\"url(#clip180)\" d=\"M 0 0 M2210.05 169.042 L2217.69 169.042 L2217.69 142.677 L2209.38 144.343 L2209.38 140.084 L2217.65 138.418 L2222.32 138.418 L2222.32 169.042 L2229.96 169.042 L2229.96 172.978 L2210.05 172.978 L2210.05 169.042 Z\" fill=\"#000000\" fill-rule=\"evenodd\" fill-opacity=\"1\" /></svg>\n"
      ]
     },
     "execution_count": 2,
     "metadata": {},
     "output_type": "execute_result"
    }
   ],
   "source": [
    "# przykładowa funkcja do testów\n",
    "f(x) = cos(x) - x\n",
    "plot(f, -2, 2)"
   ]
  },
  {
   "cell_type": "markdown",
   "metadata": {},
   "source": [
    "Funkcja <i> find_zero</i>  dobiera odpowiedni algorytm w zależności od sposobu wywołania.\n"
   ]
  },
  {
   "cell_type": "markdown",
   "metadata": {},
   "source": [
    "### 1. Metody wykorzytujące  przedział i zmianę znaku"
   ]
  },
  {
   "cell_type": "markdown",
   "metadata": {},
   "source": [
    "#### 1.1 Metoda bisekcji - jesli wywołamy fzero z podaniem  przedziału (tutaj (0,1))"
   ]
  },
  {
   "cell_type": "code",
   "execution_count": 3,
   "metadata": {},
   "outputs": [
    {
     "name": "stdout",
     "output_type": "stream",
     "text": [
      "Results of univariate zero finding:\n",
      "\n",
      "* Converged to: 0.7390851332151609\n",
      "* Algorithm: Roots.BisectionExact()\n",
      "* iterations: 60\n",
      "* function evaluations: 62\n",
      "* stopped as x_n ≈ x_{n-1} using atol=xatol, rtol=xrtol\n",
      "* stopped as |f(x_n)| ≤ max(δ, max(1,|x|)⋅ϵ) using δ = atol, ϵ = rtol\n",
      "\n",
      "Trace:\n",
      "(a_0, b_0) = ( 0.0000000000000000,  1.0000000000000000)\n",
      "(a_1, b_1) = ( 0.0000000000000000,  1.0000000000000000)\n",
      "(a_2, b_2) = ( 0.0000000000000000,  1.0000000000000000)\n",
      "(a_3, b_3) = ( 0.0000000000000000,  1.0000000000000000)\n",
      "(a_4, b_4) = ( 0.0000000000000000,  1.0000000000000000)\n",
      "(a_5, b_5) = ( 0.0000000002401066,  1.0000000000000000)\n",
      "(a_6, b_6) = ( 0.0000154972076416,  1.0000000000000000)\n",
      "(a_7, b_7) = ( 0.0039367675781250,  1.0000000000000000)\n",
      "(a_8, b_8) = ( 0.0627441406250000,  1.0000000000000000)\n",
      "(a_9, b_9) = ( 0.2504882812500000,  1.0000000000000000)\n",
      "(a_10, b_10) = ( 0.5004882812500000,  1.0000000000000000)\n",
      "(a_11, b_11) = ( 0.5004882812500000,  0.7502441406250000)\n",
      "(a_12, b_12) = ( 0.6253662109375000,  0.7502441406250000)\n",
      "(a_13, b_13) = ( 0.6878051757812500,  0.7502441406250000)\n",
      "(a_14, b_14) = ( 0.7190246582031250,  0.7502441406250000)\n",
      "(a_15, b_15) = ( 0.7346343994140625,  0.7502441406250000)\n",
      "(a_16, b_16) = ( 0.7346343994140625,  0.7424392700195313)\n",
      "(a_17, b_17) = ( 0.7385368347167969,  0.7424392700195313)\n",
      "(a_18, b_18) = ( 0.7385368347167969,  0.7404880523681641)\n",
      "(a_19, b_19) = ( 0.7385368347167969,  0.7395124435424805)\n",
      "(a_20, b_20) = ( 0.7390246391296387,  0.7395124435424805)\n",
      "(a_21, b_21) = ( 0.7390246391296387,  0.7392685413360596)\n",
      "(a_22, b_22) = ( 0.7390246391296387,  0.7391465902328491)\n",
      "(a_23, b_23) = ( 0.7390246391296387,  0.7390856146812439)\n",
      "(a_24, b_24) = ( 0.7390551269054413,  0.7390856146812439)\n",
      "(a_25, b_25) = ( 0.7390703707933426,  0.7390856146812439)\n",
      "(a_26, b_26) = ( 0.7390779927372932,  0.7390856146812439)\n",
      "(a_27, b_27) = ( 0.7390818037092686,  0.7390856146812439)\n",
      "(a_28, b_28) = ( 0.7390837091952562,  0.7390856146812439)\n",
      "(a_29, b_29) = ( 0.7390846619382501,  0.7390856146812439)\n",
      "(a_30, b_30) = ( 0.7390846619382501,  0.7390851383097470)\n",
      "(a_31, b_31) = ( 0.7390849001239985,  0.7390851383097470)\n",
      "(a_32, b_32) = ( 0.7390850192168728,  0.7390851383097470)\n",
      "(a_33, b_33) = ( 0.7390850787633099,  0.7390851383097470)\n",
      "(a_34, b_34) = ( 0.7390851085365284,  0.7390851383097470)\n",
      "(a_35, b_35) = ( 0.7390851234231377,  0.7390851383097470)\n",
      "(a_36, b_36) = ( 0.7390851308664423,  0.7390851383097470)\n",
      "(a_37, b_37) = ( 0.7390851308664423,  0.7390851345880947)\n",
      "(a_38, b_38) = ( 0.7390851327272685,  0.7390851345880947)\n",
      "(a_39, b_39) = ( 0.7390851327272685,  0.7390851336576816)\n",
      "(a_40, b_40) = ( 0.7390851331924750,  0.7390851336576816)\n",
      "(a_41, b_41) = ( 0.7390851331924750,  0.7390851334250783)\n",
      "(a_42, b_42) = ( 0.7390851331924750,  0.7390851333087767)\n",
      "(a_43, b_43) = ( 0.7390851331924750,  0.7390851332506259)\n",
      "(a_44, b_44) = ( 0.7390851331924750,  0.7390851332215504)\n",
      "(a_45, b_45) = ( 0.7390851332070127,  0.7390851332215504)\n",
      "(a_46, b_46) = ( 0.7390851332142816,  0.7390851332215504)\n",
      "(a_47, b_47) = ( 0.7390851332142816,  0.7390851332179160)\n",
      "(a_48, b_48) = ( 0.7390851332142816,  0.7390851332160988)\n",
      "(a_49, b_49) = ( 0.7390851332142816,  0.7390851332151902)\n",
      "(a_50, b_50) = ( 0.7390851332147359,  0.7390851332151902)\n",
      "(a_51, b_51) = ( 0.7390851332149631,  0.7390851332151902)\n",
      "(a_52, b_52) = ( 0.7390851332150766,  0.7390851332151902)\n",
      "(a_53, b_53) = ( 0.7390851332151334,  0.7390851332151902)\n",
      "(a_54, b_54) = ( 0.7390851332151334,  0.7390851332151618)\n",
      "(a_55, b_55) = ( 0.7390851332151476,  0.7390851332151618)\n",
      "(a_56, b_56) = ( 0.7390851332151547,  0.7390851332151618)\n",
      "(a_57, b_57) = ( 0.7390851332151582,  0.7390851332151618)\n",
      "(a_58, b_58) = ( 0.7390851332151600,  0.7390851332151618)\n",
      "(a_59, b_59) = ( 0.7390851332151600,  0.7390851332151609)\n",
      "(a_60, b_60) = ( 0.7390851332151605,  0.7390851332151609)\n",
      "\n"
     ]
    },
    {
     "data": {
      "text/plain": [
       "0.7390851332151607"
      ]
     },
     "execution_count": 3,
     "metadata": {},
     "output_type": "execute_result"
    }
   ],
   "source": [
    "x = find_zero(f, (0, 1),verbose=true)  "
   ]
  },
  {
   "cell_type": "code",
   "execution_count": 4,
   "metadata": {
    "scrolled": true
   },
   "outputs": [
    {
     "name": "stdout",
     "output_type": "stream",
     "text": [
      "Results of univariate zero finding:\n",
      "\n",
      "* Converged to: 0.7390851332151609\n",
      "* Algorithm: Roots.BisectionExact()\n",
      "* iterations: 60\n",
      "* function evaluations: 62\n",
      "* stopped as x_n ≈ x_{n-1} using atol=xatol, rtol=xrtol\n",
      "* stopped as |f(x_n)| ≤ max(δ, max(1,|x|)⋅ϵ) using δ = atol, ϵ = rtol\n",
      "\n",
      "Trace:\n",
      "(a_0, b_0) = ( 0.0000000000000000,  1.0000000000000000)\n",
      "(a_1, b_1) = ( 0.0000000000000000,  1.0000000000000000)\n",
      "(a_2, b_2) = ( 0.0000000000000000,  1.0000000000000000)\n",
      "(a_3, b_3) = ( 0.0000000000000000,  1.0000000000000000)\n",
      "(a_4, b_4) = ( 0.0000000000000000,  1.0000000000000000)\n",
      "(a_5, b_5) = ( 0.0000000002401066,  1.0000000000000000)\n",
      "(a_6, b_6) = ( 0.0000154972076416,  1.0000000000000000)\n",
      "(a_7, b_7) = ( 0.0039367675781250,  1.0000000000000000)\n",
      "(a_8, b_8) = ( 0.0627441406250000,  1.0000000000000000)\n",
      "(a_9, b_9) = ( 0.2504882812500000,  1.0000000000000000)\n",
      "(a_10, b_10) = ( 0.5004882812500000,  1.0000000000000000)\n",
      "(a_11, b_11) = ( 0.5004882812500000,  0.7502441406250000)\n",
      "(a_12, b_12) = ( 0.6253662109375000,  0.7502441406250000)\n",
      "(a_13, b_13) = ( 0.6878051757812500,  0.7502441406250000)\n",
      "(a_14, b_14) = ( 0.7190246582031250,  0.7502441406250000)\n",
      "(a_15, b_15) = ( 0.7346343994140625,  0.7502441406250000)\n",
      "(a_16, b_16) = ( 0.7346343994140625,  0.7424392700195313)\n",
      "(a_17, b_17) = ( 0.7385368347167969,  0.7424392700195313)\n",
      "(a_18, b_18) = ( 0.7385368347167969,  0.7404880523681641)\n",
      "(a_19, b_19) = ( 0.7385368347167969,  0.7395124435424805)\n",
      "(a_20, b_20) = ( 0.7390246391296387,  0.7395124435424805)\n",
      "(a_21, b_21) = ( 0.7390246391296387,  0.7392685413360596)\n",
      "(a_22, b_22) = ( 0.7390246391296387,  0.7391465902328491)\n",
      "(a_23, b_23) = ( 0.7390246391296387,  0.7390856146812439)\n",
      "(a_24, b_24) = ( 0.7390551269054413,  0.7390856146812439)\n",
      "(a_25, b_25) = ( 0.7390703707933426,  0.7390856146812439)\n",
      "(a_26, b_26) = ( 0.7390779927372932,  0.7390856146812439)\n",
      "(a_27, b_27) = ( 0.7390818037092686,  0.7390856146812439)\n",
      "(a_28, b_28) = ( 0.7390837091952562,  0.7390856146812439)\n",
      "(a_29, b_29) = ( 0.7390846619382501,  0.7390856146812439)\n",
      "(a_30, b_30) = ( 0.7390846619382501,  0.7390851383097470)\n",
      "(a_31, b_31) = ( 0.7390849001239985,  0.7390851383097470)\n",
      "(a_32, b_32) = ( 0.7390850192168728,  0.7390851383097470)\n",
      "(a_33, b_33) = ( 0.7390850787633099,  0.7390851383097470)\n",
      "(a_34, b_34) = ( 0.7390851085365284,  0.7390851383097470)\n",
      "(a_35, b_35) = ( 0.7390851234231377,  0.7390851383097470)\n",
      "(a_36, b_36) = ( 0.7390851308664423,  0.7390851383097470)\n",
      "(a_37, b_37) = ( 0.7390851308664423,  0.7390851345880947)\n",
      "(a_38, b_38) = ( 0.7390851327272685,  0.7390851345880947)\n",
      "(a_39, b_39) = ( 0.7390851327272685,  0.7390851336576816)\n",
      "(a_40, b_40) = ( 0.7390851331924750,  0.7390851336576816)\n",
      "(a_41, b_41) = ( 0.7390851331924750,  0.7390851334250783)\n",
      "(a_42, b_42) = ( 0.7390851331924750,  0.7390851333087767)\n",
      "(a_43, b_43) = ( 0.7390851331924750,  0.7390851332506259)\n",
      "(a_44, b_44) = ( 0.7390851331924750,  0.7390851332215504)\n",
      "(a_45, b_45) = ( 0.7390851332070127,  0.7390851332215504)\n",
      "(a_46, b_46) = ( 0.7390851332142816,  0.7390851332215504)\n",
      "(a_47, b_47) = ( 0.7390851332142816,  0.7390851332179160)\n",
      "(a_48, b_48) = ( 0.7390851332142816,  0.7390851332160988)\n",
      "(a_49, b_49) = ( 0.7390851332142816,  0.7390851332151902)\n",
      "(a_50, b_50) = ( 0.7390851332147359,  0.7390851332151902)\n",
      "(a_51, b_51) = ( 0.7390851332149631,  0.7390851332151902)\n",
      "(a_52, b_52) = ( 0.7390851332150766,  0.7390851332151902)\n",
      "(a_53, b_53) = ( 0.7390851332151334,  0.7390851332151902)\n",
      "(a_54, b_54) = ( 0.7390851332151334,  0.7390851332151618)\n",
      "(a_55, b_55) = ( 0.7390851332151476,  0.7390851332151618)\n",
      "(a_56, b_56) = ( 0.7390851332151547,  0.7390851332151618)\n",
      "(a_57, b_57) = ( 0.7390851332151582,  0.7390851332151618)\n",
      "(a_58, b_58) = ( 0.7390851332151600,  0.7390851332151618)\n",
      "(a_59, b_59) = ( 0.7390851332151600,  0.7390851332151609)\n",
      "(a_60, b_60) = ( 0.7390851332151605,  0.7390851332151609)\n",
      "\n"
     ]
    },
    {
     "data": {
      "text/plain": [
       "0.7390851332151607"
      ]
     },
     "execution_count": 4,
     "metadata": {},
     "output_type": "execute_result"
    }
   ],
   "source": [
    "# mozna wyspecyfikowac wprost\n",
    "x = find_zero(f, (0, 1), Bisection(),verbose=true)  "
   ]
  },
  {
   "cell_type": "markdown",
   "metadata": {},
   "source": [
    "#### Sprawdzanie, czy znaleźliśmy 0"
   ]
  },
  {
   "cell_type": "code",
   "execution_count": 5,
   "metadata": {},
   "outputs": [
    {
     "data": {
      "text/plain": [
       "true"
      ]
     },
     "execution_count": 5,
     "metadata": {},
     "output_type": "execute_result"
    }
   ],
   "source": [
    "#Sprawdzamy czy znaleźliśmy 0\n",
    "iszero(f(x))"
   ]
  },
  {
   "cell_type": "code",
   "execution_count": 6,
   "metadata": {},
   "outputs": [
    {
     "data": {
      "text/plain": [
       "-1.0"
      ]
     },
     "execution_count": 6,
     "metadata": {},
     "output_type": "execute_result"
    }
   ],
   "source": [
    "# można też sprawdzić, czy funkcja zmienia znak dla lewego i prawego sąsiada miejsca zerowego.\n",
    "sign(f(prevfloat(x))) *sign(f(nextfloat(x))) "
   ]
  },
  {
   "cell_type": "code",
   "execution_count": 7,
   "metadata": {},
   "outputs": [
    {
     "data": {
      "text/plain": [
       "(3.1415926535897936, -3.216245299353273e-16)"
      ]
     },
     "execution_count": 7,
     "metadata": {},
     "output_type": "execute_result"
    }
   ],
   "source": [
    "# czasem algorytm znajduje najlepsze przybliżenie 0\n",
    "g(x) = sin(x)\n",
    "x = find_zero(g, (pi/2, 3pi/2))\n",
    "x, g(x)"
   ]
  },
  {
   "cell_type": "code",
   "execution_count": 8,
   "metadata": {},
   "outputs": [
    {
     "data": {
      "text/plain": [
       "false"
      ]
     },
     "execution_count": 8,
     "metadata": {},
     "output_type": "execute_result"
    }
   ],
   "source": [
    "# nie jest to dokładnie 0, ale ...\n",
    "iszero(g(x))"
   ]
  },
  {
   "cell_type": "code",
   "execution_count": 9,
   "metadata": {},
   "outputs": [
    {
     "data": {
      "text/plain": [
       "true"
      ]
     },
     "execution_count": 9,
     "metadata": {},
     "output_type": "execute_result"
    }
   ],
   "source": [
    "#... najbliższy lewy albo prawy sąsiad leży po przeciwnej stronie osi x  niż nasze 0.\n",
    "g(prevfloat(x)) * g(x) < 0.0 || g(x) * g(nextfloat(x)) < 0.0"
   ]
  },
  {
   "cell_type": "markdown",
   "metadata": {},
   "source": [
    "#### 1.2 Metoda regula falsi"
   ]
  },
  {
   "cell_type": "code",
   "execution_count": 10,
   "metadata": {},
   "outputs": [
    {
     "name": "stdout",
     "output_type": "stream",
     "text": [
      "Results of univariate zero finding:\n",
      "\n",
      "* Converged to: 0.7390851332151607\n",
      "* Algorithm: FalsePosition{:anderson_bjork}()\n",
      "* iterations: 6\n",
      "* function evaluations: 8\n",
      "* stopped as |f(x_n)| ≤ max(δ, max(1,|x|)⋅ϵ) using δ = atol, ϵ = rtol\n",
      "\n",
      "Trace:\n",
      "(a_0, b_0) = ( 0.0000000000000000,  1.0000000000000000)\n",
      "(a_1, b_1) = ( 1.0000000000000000,  0.6850733573260451)\n",
      "(a_2, b_2) = ( 1.0000000000000000,  0.7362989976136540)\n",
      "(a_3, b_3) = ( 0.7362989976136540,  0.7390895164441823)\n",
      "(a_4, b_4) = ( 0.7390895164441823,  0.7390851305146882)\n",
      "(a_5, b_5) = ( 0.7390895164441823,  0.7390851332151580)\n",
      "(a_6, b_6) = ( 0.7390895164441823,  0.7390851332151607)\n",
      "\n"
     ]
    },
    {
     "data": {
      "text/plain": [
       "0.7390851332151607"
      ]
     },
     "execution_count": 10,
     "metadata": {},
     "output_type": "execute_result"
    }
   ],
   "source": [
    "find_zero(f, (0, 1), FalsePosition(), verbose=true) "
   ]
  },
  {
   "cell_type": "code",
   "execution_count": 11,
   "metadata": {},
   "outputs": [
    {
     "name": "stdout",
     "output_type": "stream",
     "text": [
      "Results of univariate zero finding:\n",
      "\n",
      "* Converged to: 0.7390851332151607\n",
      "* Algorithm: FalsePosition{12}()\n",
      "* iterations: 6\n",
      "* function evaluations: 8\n",
      "* stopped as |f(x_n)| ≤ max(δ, max(1,|x|)⋅ϵ) using δ = atol, ϵ = rtol\n",
      "\n",
      "Trace:\n",
      "(a_0, b_0) = ( 0.0000000000000000,  1.0000000000000000)\n",
      "(a_1, b_1) = ( 1.0000000000000000,  0.6850733573260451)\n",
      "(a_2, b_2) = ( 1.0000000000000000,  0.7362989976136540)\n",
      "(a_3, b_3) = ( 0.7362989976136540,  0.7390895164441823)\n",
      "(a_4, b_4) = ( 0.7390895164441823,  0.7390851305146882)\n",
      "(a_5, b_5) = ( 0.7390895164441823,  0.7390851332151580)\n",
      "(a_6, b_6) = ( 0.7390895164441823,  0.7390851332151607)\n",
      "\n"
     ]
    },
    {
     "data": {
      "text/plain": [
       "0.7390851332151607"
      ]
     },
     "execution_count": 11,
     "metadata": {},
     "output_type": "execute_result"
    }
   ],
   "source": [
    "# do dyspozycji mamy  12 wersji algorytmu regula falsi\n",
    "find_zero(f, (0, 1), FalsePosition(12), verbose=true)"
   ]
  },
  {
   "cell_type": "markdown",
   "metadata": {},
   "source": [
    "### 2. Metody korzytające z pochodnych\n",
    "\n",
    "#### 2.1 Metoda Newtona, potrzebuje punktu startowego i wykorzystuje pochodną funkcji."
   ]
  },
  {
   "cell_type": "markdown",
   "metadata": {},
   "source": [
    "Aby użyć Metody Newtona, można skorzystać z pakietu ForwardDiff, aby obliczyć pochodną funkcji. "
   ]
  },
  {
   "cell_type": "code",
   "execution_count": 12,
   "metadata": {},
   "outputs": [
    {
     "data": {
      "text/plain": [
       "D (generic function with 1 method)"
      ]
     },
     "execution_count": 12,
     "metadata": {},
     "output_type": "execute_result"
    }
   ],
   "source": [
    "# definujemy D(f) obliczającą  funkcje pochodną \n",
    "D(f) = x->ForwardDiff.derivative(f, float(x))"
   ]
  },
  {
   "cell_type": "code",
   "execution_count": 13,
   "metadata": {},
   "outputs": [
    {
     "data": {
      "image/svg+xml": [
       "<?xml version=\"1.0\" encoding=\"utf-8\"?>\n",
       "<svg xmlns=\"http://www.w3.org/2000/svg\" xmlns:xlink=\"http://www.w3.org/1999/xlink\" width=\"600\" height=\"400\" viewBox=\"0 0 2400 1600\">\n",
       "<defs>\n",
       "  <clipPath id=\"clip220\">\n",
       "    <rect x=\"0\" y=\"0\" width=\"2400\" height=\"1600\"/>\n",
       "  </clipPath>\n",
       "</defs>\n",
       "<path clip-path=\"url(#clip220)\" d=\"\n",
       "M0 1600 L2400 1600 L2400 0 L0 0  Z\n",
       "  \" fill=\"#ffffff\" fill-rule=\"evenodd\" fill-opacity=\"1\"/>\n",
       "<defs>\n",
       "  <clipPath id=\"clip221\">\n",
       "    <rect x=\"480\" y=\"0\" width=\"1681\" height=\"1600\"/>\n",
       "  </clipPath>\n",
       "</defs>\n",
       "<path clip-path=\"url(#clip220)\" d=\"\n",
       "M179.654 1486.45 L2352.76 1486.45 L2352.76 47.2441 L179.654 47.2441  Z\n",
       "  \" fill=\"#ffffff\" fill-rule=\"evenodd\" fill-opacity=\"1\"/>\n",
       "<defs>\n",
       "  <clipPath id=\"clip222\">\n",
       "    <rect x=\"179\" y=\"47\" width=\"2174\" height=\"1440\"/>\n",
       "  </clipPath>\n",
       "</defs>\n",
       "<polyline clip-path=\"url(#clip222)\" style=\"stroke:#000000; stroke-width:2; stroke-opacity:0.1; fill:none\" points=\"\n",
       "  241.157,1486.45 241.157,47.2441 \n",
       "  \"/>\n",
       "<polyline clip-path=\"url(#clip222)\" style=\"stroke:#000000; stroke-width:2; stroke-opacity:0.1; fill:none\" points=\"\n",
       "  753.681,1486.45 753.681,47.2441 \n",
       "  \"/>\n",
       "<polyline clip-path=\"url(#clip222)\" style=\"stroke:#000000; stroke-width:2; stroke-opacity:0.1; fill:none\" points=\"\n",
       "  1266.2,1486.45 1266.2,47.2441 \n",
       "  \"/>\n",
       "<polyline clip-path=\"url(#clip222)\" style=\"stroke:#000000; stroke-width:2; stroke-opacity:0.1; fill:none\" points=\"\n",
       "  1778.73,1486.45 1778.73,47.2441 \n",
       "  \"/>\n",
       "<polyline clip-path=\"url(#clip222)\" style=\"stroke:#000000; stroke-width:2; stroke-opacity:0.1; fill:none\" points=\"\n",
       "  2291.25,1486.45 2291.25,47.2441 \n",
       "  \"/>\n",
       "<polyline clip-path=\"url(#clip220)\" style=\"stroke:#000000; stroke-width:4; stroke-opacity:1; fill:none\" points=\"\n",
       "  179.654,1486.45 2352.76,1486.45 \n",
       "  \"/>\n",
       "<polyline clip-path=\"url(#clip220)\" style=\"stroke:#000000; stroke-width:4; stroke-opacity:1; fill:none\" points=\"\n",
       "  241.157,1486.45 241.157,1469.18 \n",
       "  \"/>\n",
       "<polyline clip-path=\"url(#clip220)\" style=\"stroke:#000000; stroke-width:4; stroke-opacity:1; fill:none\" points=\"\n",
       "  753.681,1486.45 753.681,1469.18 \n",
       "  \"/>\n",
       "<polyline clip-path=\"url(#clip220)\" style=\"stroke:#000000; stroke-width:4; stroke-opacity:1; fill:none\" points=\"\n",
       "  1266.2,1486.45 1266.2,1469.18 \n",
       "  \"/>\n",
       "<polyline clip-path=\"url(#clip220)\" style=\"stroke:#000000; stroke-width:4; stroke-opacity:1; fill:none\" points=\"\n",
       "  1778.73,1486.45 1778.73,1469.18 \n",
       "  \"/>\n",
       "<polyline clip-path=\"url(#clip220)\" style=\"stroke:#000000; stroke-width:4; stroke-opacity:1; fill:none\" points=\"\n",
       "  2291.25,1486.45 2291.25,1469.18 \n",
       "  \"/>\n",
       "<path clip-path=\"url(#clip220)\" d=\"M 0 0 M213.61 1530.29 L243.286 1530.29 L243.286 1534.23 L213.61 1534.23 L213.61 1530.29 Z\" fill=\"#000000\" fill-rule=\"evenodd\" fill-opacity=\"1\" /><path clip-path=\"url(#clip220)\" d=\"M 0 0 M252.383 1543.18 L268.703 1543.18 L268.703 1547.12 L246.758 1547.12 L246.758 1543.18 Q249.42 1540.43 254.004 1535.8 Q258.61 1531.15 259.791 1529.81 Q262.036 1527.28 262.916 1525.55 Q263.818 1523.79 263.818 1522.1 Q263.818 1519.34 261.874 1517.61 Q259.953 1515.87 256.851 1515.87 Q254.652 1515.87 252.198 1516.63 Q249.768 1517.4 246.99 1518.95 L246.99 1514.23 Q249.814 1513.09 252.268 1512.51 Q254.721 1511.93 256.758 1511.93 Q262.129 1511.93 265.323 1514.62 Q268.518 1517.31 268.518 1521.8 Q268.518 1523.93 267.707 1525.85 Q266.92 1527.74 264.814 1530.34 Q264.235 1531.01 261.133 1534.23 Q258.031 1537.42 252.383 1543.18 Z\" fill=\"#000000\" fill-rule=\"evenodd\" fill-opacity=\"1\" /><path clip-path=\"url(#clip220)\" d=\"M 0 0 M725.949 1530.29 L755.625 1530.29 L755.625 1534.23 L725.949 1534.23 L725.949 1530.29 Z\" fill=\"#000000\" fill-rule=\"evenodd\" fill-opacity=\"1\" /><path clip-path=\"url(#clip220)\" d=\"M 0 0 M761.505 1543.18 L769.144 1543.18 L769.144 1516.82 L760.833 1518.49 L760.833 1514.23 L769.097 1512.56 L773.773 1512.56 L773.773 1543.18 L781.412 1543.18 L781.412 1547.12 L761.505 1547.12 L761.505 1543.18 Z\" fill=\"#000000\" fill-rule=\"evenodd\" fill-opacity=\"1\" /><path clip-path=\"url(#clip220)\" d=\"M 0 0 M1266.2 1515.64 Q1262.59 1515.64 1260.77 1519.2 Q1258.96 1522.75 1258.96 1529.87 Q1258.96 1536.98 1260.77 1540.55 Q1262.59 1544.09 1266.2 1544.09 Q1269.84 1544.09 1271.64 1540.55 Q1273.47 1536.98 1273.47 1529.87 Q1273.47 1522.75 1271.64 1519.2 Q1269.84 1515.64 1266.2 1515.64 M1266.2 1511.93 Q1272.01 1511.93 1275.07 1516.54 Q1278.15 1521.12 1278.15 1529.87 Q1278.15 1538.6 1275.07 1543.21 Q1272.01 1547.79 1266.2 1547.79 Q1260.39 1547.79 1257.32 1543.21 Q1254.26 1538.6 1254.26 1529.87 Q1254.26 1521.12 1257.32 1516.54 Q1260.39 1511.93 1266.2 1511.93 Z\" fill=\"#000000\" fill-rule=\"evenodd\" fill-opacity=\"1\" /><path clip-path=\"url(#clip220)\" d=\"M 0 0 M1769.11 1543.18 L1776.75 1543.18 L1776.75 1516.82 L1768.44 1518.49 L1768.44 1514.23 L1776.7 1512.56 L1781.38 1512.56 L1781.38 1543.18 L1789.02 1543.18 L1789.02 1547.12 L1769.11 1547.12 L1769.11 1543.18 Z\" fill=\"#000000\" fill-rule=\"evenodd\" fill-opacity=\"1\" /><path clip-path=\"url(#clip220)\" d=\"M 0 0 M2285.91 1543.18 L2302.23 1543.18 L2302.23 1547.12 L2280.28 1547.12 L2280.28 1543.18 Q2282.94 1540.43 2287.53 1535.8 Q2292.13 1531.15 2293.31 1529.81 Q2295.56 1527.28 2296.44 1525.55 Q2297.34 1523.79 2297.34 1522.1 Q2297.34 1519.34 2295.4 1517.61 Q2293.48 1515.87 2290.37 1515.87 Q2288.17 1515.87 2285.72 1516.63 Q2283.29 1517.4 2280.51 1518.95 L2280.51 1514.23 Q2283.34 1513.09 2285.79 1512.51 Q2288.24 1511.93 2290.28 1511.93 Q2295.65 1511.93 2298.85 1514.62 Q2302.04 1517.31 2302.04 1521.8 Q2302.04 1523.93 2301.23 1525.85 Q2300.44 1527.74 2298.34 1530.34 Q2297.76 1531.01 2294.66 1534.23 Q2291.55 1537.42 2285.91 1543.18 Z\" fill=\"#000000\" fill-rule=\"evenodd\" fill-opacity=\"1\" /><polyline clip-path=\"url(#clip222)\" style=\"stroke:#000000; stroke-width:2; stroke-opacity:0.1; fill:none\" points=\"\n",
       "  179.654,1446.5 2352.76,1446.5 \n",
       "  \"/>\n",
       "<polyline clip-path=\"url(#clip222)\" style=\"stroke:#000000; stroke-width:2; stroke-opacity:0.1; fill:none\" points=\"\n",
       "  179.654,1106.8 2352.76,1106.8 \n",
       "  \"/>\n",
       "<polyline clip-path=\"url(#clip222)\" style=\"stroke:#000000; stroke-width:2; stroke-opacity:0.1; fill:none\" points=\"\n",
       "  179.654,767.096 2352.76,767.096 \n",
       "  \"/>\n",
       "<polyline clip-path=\"url(#clip222)\" style=\"stroke:#000000; stroke-width:2; stroke-opacity:0.1; fill:none\" points=\"\n",
       "  179.654,427.394 2352.76,427.394 \n",
       "  \"/>\n",
       "<polyline clip-path=\"url(#clip222)\" style=\"stroke:#000000; stroke-width:2; stroke-opacity:0.1; fill:none\" points=\"\n",
       "  179.654,87.6917 2352.76,87.6917 \n",
       "  \"/>\n",
       "<polyline clip-path=\"url(#clip220)\" style=\"stroke:#000000; stroke-width:4; stroke-opacity:1; fill:none\" points=\"\n",
       "  179.654,1486.45 179.654,47.2441 \n",
       "  \"/>\n",
       "<polyline clip-path=\"url(#clip220)\" style=\"stroke:#000000; stroke-width:4; stroke-opacity:1; fill:none\" points=\"\n",
       "  179.654,1446.5 205.731,1446.5 \n",
       "  \"/>\n",
       "<polyline clip-path=\"url(#clip220)\" style=\"stroke:#000000; stroke-width:4; stroke-opacity:1; fill:none\" points=\"\n",
       "  179.654,1106.8 205.731,1106.8 \n",
       "  \"/>\n",
       "<polyline clip-path=\"url(#clip220)\" style=\"stroke:#000000; stroke-width:4; stroke-opacity:1; fill:none\" points=\"\n",
       "  179.654,767.096 205.731,767.096 \n",
       "  \"/>\n",
       "<polyline clip-path=\"url(#clip220)\" style=\"stroke:#000000; stroke-width:4; stroke-opacity:1; fill:none\" points=\"\n",
       "  179.654,427.394 205.731,427.394 \n",
       "  \"/>\n",
       "<polyline clip-path=\"url(#clip220)\" style=\"stroke:#000000; stroke-width:4; stroke-opacity:1; fill:none\" points=\"\n",
       "  179.654,87.6917 205.731,87.6917 \n",
       "  \"/>\n",
       "<path clip-path=\"url(#clip220)\" d=\"M 0 0 M51.594 1446.95 L81.2697 1446.95 L81.2697 1450.89 L51.594 1450.89 L51.594 1446.95 Z\" fill=\"#000000\" fill-rule=\"evenodd\" fill-opacity=\"1\" /><path clip-path=\"url(#clip220)\" d=\"M 0 0 M90.3669 1459.84 L106.686 1459.84 L106.686 1463.78 L84.7419 1463.78 L84.7419 1459.84 Q87.404 1457.09 91.9873 1452.46 Q96.5937 1447.81 97.7743 1446.46 Q100.02 1443.94 100.899 1442.21 Q101.802 1440.45 101.802 1438.76 Q101.802 1436 99.8576 1434.27 Q97.9363 1432.53 94.8345 1432.53 Q92.6354 1432.53 90.1817 1433.29 Q87.7512 1434.06 84.9734 1435.61 L84.9734 1430.89 Q87.7975 1429.75 90.2512 1429.17 Q92.7049 1428.59 94.7419 1428.59 Q100.112 1428.59 103.307 1431.28 Q106.501 1433.96 106.501 1438.46 Q106.501 1440.59 105.691 1442.51 Q104.904 1444.4 102.797 1447 Q102.219 1447.67 99.1169 1450.89 Q96.015 1454.08 90.3669 1459.84 Z\" fill=\"#000000\" fill-rule=\"evenodd\" fill-opacity=\"1\" /><path clip-path=\"url(#clip220)\" d=\"M 0 0 M111.756 1457.9 L116.64 1457.9 L116.64 1463.78 L111.756 1463.78 L111.756 1457.9 Z\" fill=\"#000000\" fill-rule=\"evenodd\" fill-opacity=\"1\" /><path clip-path=\"url(#clip220)\" d=\"M 0 0 M131.709 1432.3 Q128.098 1432.3 126.27 1435.86 Q124.464 1439.4 124.464 1446.53 Q124.464 1453.64 126.27 1457.21 Q128.098 1460.75 131.709 1460.75 Q135.344 1460.75 137.149 1457.21 Q138.978 1453.64 138.978 1446.53 Q138.978 1439.4 137.149 1435.86 Q135.344 1432.3 131.709 1432.3 M131.709 1428.59 Q137.519 1428.59 140.575 1433.2 Q143.654 1437.78 143.654 1446.53 Q143.654 1455.26 140.575 1459.87 Q137.519 1464.45 131.709 1464.45 Q125.899 1464.45 122.82 1459.87 Q119.765 1455.26 119.765 1446.53 Q119.765 1437.78 122.82 1433.2 Q125.899 1428.59 131.709 1428.59 Z\" fill=\"#000000\" fill-rule=\"evenodd\" fill-opacity=\"1\" /><path clip-path=\"url(#clip220)\" d=\"M 0 0 M52.219 1107.25 L81.8947 1107.25 L81.8947 1111.18 L52.219 1111.18 L52.219 1107.25 Z\" fill=\"#000000\" fill-rule=\"evenodd\" fill-opacity=\"1\" /><path clip-path=\"url(#clip220)\" d=\"M 0 0 M87.7743 1120.14 L95.4132 1120.14 L95.4132 1093.78 L87.103 1095.44 L87.103 1091.18 L95.3669 1089.52 L100.043 1089.52 L100.043 1120.14 L107.682 1120.14 L107.682 1124.08 L87.7743 1124.08 L87.7743 1120.14 Z\" fill=\"#000000\" fill-rule=\"evenodd\" fill-opacity=\"1\" /><path clip-path=\"url(#clip220)\" d=\"M 0 0 M112.751 1118.2 L117.635 1118.2 L117.635 1124.08 L112.751 1124.08 L112.751 1118.2 Z\" fill=\"#000000\" fill-rule=\"evenodd\" fill-opacity=\"1\" /><path clip-path=\"url(#clip220)\" d=\"M 0 0 M122.751 1089.52 L141.107 1089.52 L141.107 1093.45 L127.033 1093.45 L127.033 1101.92 Q128.052 1101.58 129.07 1101.42 Q130.089 1101.23 131.107 1101.23 Q136.894 1101.23 140.274 1104.4 Q143.654 1107.57 143.654 1112.99 Q143.654 1118.57 140.181 1121.67 Q136.709 1124.75 130.39 1124.75 Q128.214 1124.75 125.945 1124.38 Q123.7 1124.01 121.293 1123.27 L121.293 1118.57 Q123.376 1119.7 125.598 1120.26 Q127.82 1120.81 130.297 1120.81 Q134.302 1120.81 136.64 1118.71 Q138.978 1116.6 138.978 1112.99 Q138.978 1109.38 136.64 1107.27 Q134.302 1105.17 130.297 1105.17 Q128.422 1105.17 126.547 1105.58 Q124.695 1106 122.751 1106.88 L122.751 1089.52 Z\" fill=\"#000000\" fill-rule=\"evenodd\" fill-opacity=\"1\" /><path clip-path=\"url(#clip220)\" d=\"M 0 0 M51.2236 767.547 L80.8994 767.547 L80.8994 771.482 L51.2236 771.482 L51.2236 767.547 Z\" fill=\"#000000\" fill-rule=\"evenodd\" fill-opacity=\"1\" /><path clip-path=\"url(#clip220)\" d=\"M 0 0 M86.779 780.44 L94.4178 780.44 L94.4178 754.075 L86.1077 755.741 L86.1077 751.482 L94.3715 749.816 L99.0474 749.816 L99.0474 780.44 L106.686 780.44 L106.686 784.376 L86.779 784.376 L86.779 780.44 Z\" fill=\"#000000\" fill-rule=\"evenodd\" fill-opacity=\"1\" /><path clip-path=\"url(#clip220)\" d=\"M 0 0 M111.756 778.496 L116.64 778.496 L116.64 784.376 L111.756 784.376 L111.756 778.496 Z\" fill=\"#000000\" fill-rule=\"evenodd\" fill-opacity=\"1\" /><path clip-path=\"url(#clip220)\" d=\"M 0 0 M131.709 752.894 Q128.098 752.894 126.27 756.459 Q124.464 760.001 124.464 767.13 Q124.464 774.237 126.27 777.802 Q128.098 781.343 131.709 781.343 Q135.344 781.343 137.149 777.802 Q138.978 774.237 138.978 767.13 Q138.978 760.001 137.149 756.459 Q135.344 752.894 131.709 752.894 M131.709 749.191 Q137.519 749.191 140.575 753.797 Q143.654 758.38 143.654 767.13 Q143.654 775.857 140.575 780.464 Q137.519 785.047 131.709 785.047 Q125.899 785.047 122.82 780.464 Q119.765 775.857 119.765 767.13 Q119.765 758.38 122.82 753.797 Q125.899 749.191 131.709 749.191 Z\" fill=\"#000000\" fill-rule=\"evenodd\" fill-opacity=\"1\" /><path clip-path=\"url(#clip220)\" d=\"M 0 0 M50.9921 427.845 L80.6679 427.845 L80.6679 431.78 L50.9921 431.78 L50.9921 427.845 Z\" fill=\"#000000\" fill-rule=\"evenodd\" fill-opacity=\"1\" /><path clip-path=\"url(#clip220)\" d=\"M 0 0 M95.7373 413.192 Q92.1262 413.192 90.2975 416.757 Q88.4919 420.299 88.4919 427.428 Q88.4919 434.535 90.2975 438.1 Q92.1262 441.641 95.7373 441.641 Q99.3715 441.641 101.177 438.1 Q103.006 434.535 103.006 427.428 Q103.006 420.299 101.177 416.757 Q99.3715 413.192 95.7373 413.192 M95.7373 409.489 Q101.547 409.489 104.603 414.095 Q107.682 418.678 107.682 427.428 Q107.682 436.155 104.603 440.762 Q101.547 445.345 95.7373 445.345 Q89.9271 445.345 86.8484 440.762 Q83.7929 436.155 83.7929 427.428 Q83.7929 418.678 86.8484 414.095 Q89.9271 409.489 95.7373 409.489 Z\" fill=\"#000000\" fill-rule=\"evenodd\" fill-opacity=\"1\" /><path clip-path=\"url(#clip220)\" d=\"M 0 0 M112.751 438.794 L117.635 438.794 L117.635 444.674 L112.751 444.674 L112.751 438.794 Z\" fill=\"#000000\" fill-rule=\"evenodd\" fill-opacity=\"1\" /><path clip-path=\"url(#clip220)\" d=\"M 0 0 M122.751 410.114 L141.107 410.114 L141.107 414.049 L127.033 414.049 L127.033 422.521 Q128.052 422.174 129.07 422.012 Q130.089 421.827 131.107 421.827 Q136.894 421.827 140.274 424.998 Q143.654 428.169 143.654 433.586 Q143.654 439.164 140.181 442.266 Q136.709 445.345 130.39 445.345 Q128.214 445.345 125.945 444.975 Q123.7 444.604 121.293 443.863 L121.293 439.164 Q123.376 440.299 125.598 440.854 Q127.82 441.41 130.297 441.41 Q134.302 441.41 136.64 439.303 Q138.978 437.197 138.978 433.586 Q138.978 429.975 136.64 427.868 Q134.302 425.762 130.297 425.762 Q128.422 425.762 126.547 426.178 Q124.695 426.595 122.751 427.475 L122.751 410.114 Z\" fill=\"#000000\" fill-rule=\"evenodd\" fill-opacity=\"1\" /><path clip-path=\"url(#clip220)\" d=\"M 0 0 M94.7419 73.4904 Q91.1308 73.4904 89.3021 77.0552 Q87.4966 80.5968 87.4966 87.7264 Q87.4966 94.8329 89.3021 98.3977 Q91.1308 101.939 94.7419 101.939 Q98.3761 101.939 100.182 98.3977 Q102.01 94.8329 102.01 87.7264 Q102.01 80.5968 100.182 77.0552 Q98.3761 73.4904 94.7419 73.4904 M94.7419 69.7867 Q100.552 69.7867 103.608 74.3932 Q106.686 78.9765 106.686 87.7264 Q106.686 96.4532 103.608 101.06 Q100.552 105.643 94.7419 105.643 Q88.9317 105.643 85.8531 101.06 Q82.7975 96.4532 82.7975 87.7264 Q82.7975 78.9765 85.8531 74.3932 Q88.9317 69.7867 94.7419 69.7867 Z\" fill=\"#000000\" fill-rule=\"evenodd\" fill-opacity=\"1\" /><path clip-path=\"url(#clip220)\" d=\"M 0 0 M111.756 99.0921 L116.64 99.0921 L116.64 104.972 L111.756 104.972 L111.756 99.0921 Z\" fill=\"#000000\" fill-rule=\"evenodd\" fill-opacity=\"1\" /><path clip-path=\"url(#clip220)\" d=\"M 0 0 M131.709 73.4904 Q128.098 73.4904 126.27 77.0552 Q124.464 80.5968 124.464 87.7264 Q124.464 94.8329 126.27 98.3977 Q128.098 101.939 131.709 101.939 Q135.344 101.939 137.149 98.3977 Q138.978 94.8329 138.978 87.7264 Q138.978 80.5968 137.149 77.0552 Q135.344 73.4904 131.709 73.4904 M131.709 69.7867 Q137.519 69.7867 140.575 74.3932 Q143.654 78.9765 143.654 87.7264 Q143.654 96.4532 140.575 101.06 Q137.519 105.643 131.709 105.643 Q125.899 105.643 122.82 101.06 Q119.765 96.4532 119.765 87.7264 Q119.765 78.9765 122.82 74.3932 Q125.899 69.7867 131.709 69.7867 Z\" fill=\"#000000\" fill-rule=\"evenodd\" fill-opacity=\"1\" /><polyline clip-path=\"url(#clip222)\" style=\"stroke:#009af9; stroke-width:4; stroke-opacity:1; fill:none\" points=\"\n",
       "  241.157,149.315 251.167,143.911 261.177,138.745 353.738,102.553 446.299,87.9763 501.925,89.8423 557.55,99.6781 604.58,114.129 651.611,134.074 702.699,161.769 \n",
       "  753.787,195.473 800.886,231.582 847.985,272.21 948.975,372.915 1065.98,508.379 1169.96,640.266 1261.15,760.389 1360.56,891.467 1460.56,1018.61 1571.13,1147.88 \n",
       "  1676.33,1254.57 1731.03,1302.2 1785.72,1343.75 1831.76,1373.65 1877.8,1398.66 1934.01,1422.28 1990.22,1438.02 2043.06,1445.47 2095.9,1445.72 2180.55,1431.12 \n",
       "  2265.2,1398.44 2278.23,1391.86 2291.25,1384.88 \n",
       "  \"/>\n",
       "<path clip-path=\"url(#clip220)\" d=\"\n",
       "M1987.85 216.178 L2280.32 216.178 L2280.32 95.2176 L1987.85 95.2176  Z\n",
       "  \" fill=\"#ffffff\" fill-rule=\"evenodd\" fill-opacity=\"1\"/>\n",
       "<polyline clip-path=\"url(#clip220)\" style=\"stroke:#000000; stroke-width:4; stroke-opacity:1; fill:none\" points=\"\n",
       "  1987.85,216.178 2280.32,216.178 2280.32,95.2176 1987.85,95.2176 1987.85,216.178 \n",
       "  \"/>\n",
       "<polyline clip-path=\"url(#clip220)\" style=\"stroke:#009af9; stroke-width:4; stroke-opacity:1; fill:none\" points=\"\n",
       "  2011.99,155.698 2156.86,155.698 \n",
       "  \"/>\n",
       "<path clip-path=\"url(#clip220)\" d=\"M 0 0 M2194.85 175.385 Q2193.05 180.015 2191.33 181.427 Q2189.62 182.839 2186.75 182.839 L2183.35 182.839 L2183.35 179.274 L2185.85 179.274 Q2187.61 179.274 2188.58 178.44 Q2189.55 177.607 2190.73 174.505 L2191.5 172.561 L2181.01 147.052 L2185.52 147.052 L2193.63 167.329 L2201.73 147.052 L2206.24 147.052 L2194.85 175.385 Z\" fill=\"#000000\" fill-rule=\"evenodd\" fill-opacity=\"1\" /><path clip-path=\"url(#clip220)\" d=\"M 0 0 M2212.12 169.042 L2219.76 169.042 L2219.76 142.677 L2211.45 144.343 L2211.45 140.084 L2219.71 138.418 L2224.39 138.418 L2224.39 169.042 L2232.03 169.042 L2232.03 172.978 L2212.12 172.978 L2212.12 169.042 Z\" fill=\"#000000\" fill-rule=\"evenodd\" fill-opacity=\"1\" /></svg>\n"
      ]
     },
     "execution_count": 13,
     "metadata": {},
     "output_type": "execute_result"
    }
   ],
   "source": [
    "plot(D(f), -2,2)"
   ]
  },
  {
   "cell_type": "code",
   "execution_count": 14,
   "metadata": {},
   "outputs": [
    {
     "name": "stdout",
     "output_type": "stream",
     "text": [
      "Results of univariate zero finding:\n",
      "\n",
      "* Converged to: 0.7390851332151607\n",
      "* Algorithm: Roots.Newton()\n",
      "* iterations: 5\n",
      "* function evaluations: 11\n",
      "* stopped as |f(x_n)| ≤ max(δ, max(1,|x|)⋅ϵ) using δ = atol, ϵ = rtol\n",
      "\n",
      "Trace:\n",
      "x_0 =  0.0000000000000000,\t fx_0 =  1.0000000000000000\n",
      "x_1 =  1.0000000000000000,\t fx_1 = -0.4596976941318602\n",
      "x_2 =  0.7503638678402439,\t fx_2 = -0.0189230738221174\n",
      "x_3 =  0.7391128909113617,\t fx_3 = -0.0000464558989908\n",
      "x_4 =  0.7390851333852840,\t fx_4 = -0.0000000002847206\n",
      "x_5 =  0.7390851332151607,\t fx_5 =  0.0000000000000000\n",
      "\n"
     ]
    },
    {
     "data": {
      "text/plain": [
       "0.7390851332151607"
      ]
     },
     "execution_count": 14,
     "metadata": {},
     "output_type": "execute_result"
    }
   ],
   "source": [
    "#wywolanie metody Newtona\n",
    "find_zero((f, D(f)),0, Roots.Newton(),verbose=true)"
   ]
  },
  {
   "cell_type": "markdown",
   "metadata": {},
   "source": [
    "#### 2.2 Metoda Halleya (potrzebuje pierwszej i drugiej pochodnej)"
   ]
  },
  {
   "cell_type": "code",
   "execution_count": 15,
   "metadata": {},
   "outputs": [
    {
     "name": "stdout",
     "output_type": "stream",
     "text": [
      "Results of univariate zero finding:\n",
      "\n",
      "* Converged to: 0.7390851332151606\n",
      "* Algorithm: Roots.Halley()\n",
      "* iterations: 4\n",
      "* function evaluations: 15\n",
      "* stopped as |f(x_n)| ≤ max(δ, max(1,|x|)⋅ϵ) using δ = atol, ϵ = rtol\n",
      "\n",
      "Trace:\n",
      "x_0 =  0.0000000000000000,\t fx_0 =  1.0000000000000000\n",
      "x_1 =  0.6666666666666666,\t fx_1 =  0.1192205941102814\n",
      "x_2 =  0.7390392624463102,\t fx_2 =  0.0000767690929604\n",
      "x_3 =  0.7390851332151495,\t fx_3 =  0.0000000000000187\n",
      "x_4 =  0.7390851332151606,\t fx_4 =  0.0000000000000001\n",
      "\n"
     ]
    },
    {
     "data": {
      "text/plain": [
       "0.7390851332151606"
      ]
     },
     "execution_count": 15,
     "metadata": {},
     "output_type": "execute_result"
    }
   ],
   "source": [
    "DD(f) = x->ForwardDiff.derivative(D(f), float(x))\n",
    "find_zero((f, D(f), DD(f)), 0.0, Roots.Halley(), verbose=true) "
   ]
  },
  {
   "cell_type": "markdown",
   "metadata": {},
   "source": [
    "### 3. Metody korzystające z przybliżenia pochodnej"
   ]
  },
  {
   "cell_type": "markdown",
   "metadata": {},
   "source": [
    "#### 3.1 Domyślna metoda bazuje na metodzie z <a href=\"http://www.hpl.hp.com/hpjournal/pdfs/IssuePDFs/1979-12.pdf\"> kalkulatorów HP-34</a> , używa metody siecznych\n",
    "oraz metody bazującej na przedziale wg artykułu:\n",
    "\n",
    "<a href=\"http://na.math.kit.edu/alefeld/download/1995_Algorithm_748_Enclosing_Zeros_of_Continuous_Functions.pdf\">G. E. Alefeld, F. A. Potra, and\n",
    "Y. Shi, \"Algorithm 748: enclosing zeros of continuous functions,\" ACM\n",
    "Trans. Math. Softw. 21, 327–344 (1995), DOI: 10.1145/210089.210111. </a>"
   ]
  },
  {
   "cell_type": "code",
   "execution_count": 16,
   "metadata": {},
   "outputs": [
    {
     "name": "stdout",
     "output_type": "stream",
     "text": [
      "Results of univariate zero finding:\n",
      "\n",
      "* Converged to: 0.7390851344824166\n",
      "* Algorithm: Roots.Secant(), with possible bracketing with Roots.AlefeldPotraShi()\n",
      "* iterations: 2\n",
      "* function evaluations: 11\n",
      "* Note: Exact zero found. Bracketing used over (0.0, 0.9999969722835389), those steps not shown. \n",
      "\n",
      "Trace:\n",
      "x_0 =  0.0000000000000000,\t fx_0 =  1.0000000000000000\n",
      "\n"
     ]
    },
    {
     "data": {
      "text/plain": [
       "0.7390851332151607"
      ]
     },
     "execution_count": 16,
     "metadata": {},
     "output_type": "execute_result"
    }
   ],
   "source": [
    "x = find_zero(f, 0,   verbose=true)"
   ]
  },
  {
   "cell_type": "markdown",
   "metadata": {},
   "source": [
    "Metody find_zero dla wyzszych rzędów to wariacje metody Newtona, które nie korzystaja z pochodnej, ale ja przyblizają.\n"
   ]
  },
  {
   "cell_type": "markdown",
   "metadata": {},
   "source": [
    "#### 3.2 Metoda siecznych"
   ]
  },
  {
   "cell_type": "code",
   "execution_count": 17,
   "metadata": {},
   "outputs": [
    {
     "name": "stdout",
     "output_type": "stream",
     "text": [
      "Results of univariate zero finding:\n",
      "\n",
      "* Converged to: 0.7390851332151607\n",
      "* Algorithm: Roots.Secant()\n",
      "* iterations: 7\n",
      "* function evaluations: 9\n",
      "* stopped as |f(x_n)| ≤ max(δ, max(1,|x|)⋅ϵ) using δ = atol, ϵ = rtol\n",
      "\n",
      "Trace:\n",
      "x_0 =  0.0000000000000000,\t fx_0 =  1.0000000000000000\n",
      "x_1 =  0.9999969722835389,\t fx_1 = -0.4596921186823234\n",
      "x_2 =  0.6850738998209052,\t fx_2 =  0.0892983907342113\n",
      "x_3 =  0.7362990541607766,\t fx_3 =  0.0046599445167859\n",
      "x_4 =  0.7391193608624661,\t fx_4 = -0.0000572842351875\n",
      "x_5 =  0.7390851121285389,\t fx_5 =  0.0000000352908237\n",
      "x_6 =  0.7390851332150014,\t fx_6 =  0.0000000000002666\n",
      "x_7 =  0.7390851332151607,\t fx_7 =  0.0000000000000000\n",
      "\n"
     ]
    },
    {
     "data": {
      "text/plain": [
       "0.7390851332151607"
      ]
     },
     "execution_count": 17,
     "metadata": {},
     "output_type": "execute_result"
    }
   ],
   "source": [
    "# wywołanie find_zero używając punktu startowego (a nie przedziału) \n",
    "# oraz opcji order=1   wykorzystuje metodę siecznych  \n",
    "x = find_zero(f, 0, Order1(),  verbose=true) "
   ]
  },
  {
   "cell_type": "code",
   "execution_count": 18,
   "metadata": {},
   "outputs": [
    {
     "data": {
      "text/plain": [
       "0.7390851332151607"
      ]
     },
     "execution_count": 18,
     "metadata": {},
     "output_type": "execute_result"
    }
   ],
   "source": [
    "# metoda siecznych może być wywołana bezpośrednio \n",
    "# implementacja taka sama jak find_zero(f, 0, Order1()), ale bez\n",
    "# narzutów frameworku oraz mniejsza ilość sprawdzanych warunków zbieżności - szybsza\n",
    "Roots.secant_method(f, 0)"
   ]
  },
  {
   "cell_type": "code",
   "execution_count": 19,
   "metadata": {},
   "outputs": [
    {
     "data": {
      "text/plain": [
       "0.7390851332151607"
      ]
     },
     "execution_count": 19,
     "metadata": {},
     "output_type": "execute_result"
    }
   ],
   "source": [
    "# mozemy podać przedział\n",
    "Roots.secant_method(f, (0,1))"
   ]
  },
  {
   "cell_type": "markdown",
   "metadata": {},
   "source": [
    "#### 3.3 Metoda Steffensena \n",
    "przybliża pochodną poprzez  (f(x + f(x)) - f(x))/f(x)  \n",
    "aby ja wywołać podajemy punkt startowy oraz order 2"
   ]
  },
  {
   "cell_type": "code",
   "execution_count": 20,
   "metadata": {},
   "outputs": [
    {
     "name": "stdout",
     "output_type": "stream",
     "text": [
      "Results of univariate zero finding:\n",
      "\n",
      "* Converged to: 0.7390851332151607\n",
      "* Algorithm: Order2()\n",
      "* iterations: 6\n",
      "* function evaluations: 10\n",
      "* stopped as |f(x_n)| ≤ max(δ, max(1,|x|)⋅ϵ) using δ = atol, ϵ = rtol\n",
      "\n",
      "Trace:\n",
      "x_0 =  0.0000000000000000,\t fx_0 =  1.0000000000000000\n",
      "x_1 =  0.9999969722835389,\t fx_1 = -0.4596921186823234\n",
      "x_2 =  0.6850738998209052,\t fx_2 =  0.0892983907342113\n",
      "x_3 =  0.7362990541607766,\t fx_3 =  0.0046599445167859\n",
      "x_4 =  0.7391193608624661,\t fx_4 = -0.0000572842351875\n",
      "x_5 =  0.7390851330409081,\t fx_5 =  0.0000000002916313\n",
      "x_6 =  0.7390851332151607,\t fx_6 =  0.0000000000000000\n",
      "\n"
     ]
    },
    {
     "data": {
      "text/plain": [
       "0.7390851332151607"
      ]
     },
     "execution_count": 20,
     "metadata": {},
     "output_type": "execute_result"
    }
   ],
   "source": [
    "x = find_zero(f, 0, Order2(), verbose=true) "
   ]
  },
  {
   "cell_type": "code",
   "execution_count": 21,
   "metadata": {},
   "outputs": [
    {
     "name": "stdout",
     "output_type": "stream",
     "text": [
      "Results of univariate zero finding:\n",
      "\n",
      "* Converged to: 0.7390851332151607\n",
      "* Algorithm: Order8()\n",
      "* iterations: 2\n",
      "* function evaluations: 10\n",
      "* stopped as |f(x_n)| ≤ max(δ, max(1,|x|)⋅ϵ) using δ = atol, ϵ = rtol\n",
      "\n",
      "Trace:\n",
      "x_0 =  0.0000000000000000,\t fx_0 =  1.0000000000000000\n",
      "x_1 =  0.7369285852997423,\t fx_1 =  0.0036075047762146\n",
      "x_2 =  0.7390851332151607,\t fx_2 =  0.0000000000000000\n",
      "\n"
     ]
    },
    {
     "data": {
      "text/plain": [
       "0.7390851332151607"
      ]
     },
     "execution_count": 21,
     "metadata": {},
     "output_type": "execute_result"
    }
   ],
   "source": [
    "# mozliwe sa jeszcze rzędy 5, 8 i 16\n",
    "x = find_zero(f, 0, Order8(), verbose=true) "
   ]
  },
  {
   "cell_type": "markdown",
   "metadata": {},
   "source": [
    "Można użyć funkcji fzero do znajdowania nieciagłości"
   ]
  },
  {
   "cell_type": "code",
   "execution_count": 22,
   "metadata": {},
   "outputs": [
    {
     "data": {
      "image/svg+xml": [
       "<?xml version=\"1.0\" encoding=\"utf-8\"?>\n",
       "<svg xmlns=\"http://www.w3.org/2000/svg\" xmlns:xlink=\"http://www.w3.org/1999/xlink\" width=\"600\" height=\"400\" viewBox=\"0 0 2400 1600\">\n",
       "<defs>\n",
       "  <clipPath id=\"clip260\">\n",
       "    <rect x=\"0\" y=\"0\" width=\"2400\" height=\"1600\"/>\n",
       "  </clipPath>\n",
       "</defs>\n",
       "<path clip-path=\"url(#clip260)\" d=\"\n",
       "M0 1600 L2400 1600 L2400 0 L0 0  Z\n",
       "  \" fill=\"#ffffff\" fill-rule=\"evenodd\" fill-opacity=\"1\"/>\n",
       "<defs>\n",
       "  <clipPath id=\"clip261\">\n",
       "    <rect x=\"480\" y=\"0\" width=\"1681\" height=\"1600\"/>\n",
       "  </clipPath>\n",
       "</defs>\n",
       "<path clip-path=\"url(#clip260)\" d=\"\n",
       "M198.195 1486.45 L2352.76 1486.45 L2352.76 47.2441 L198.195 47.2441  Z\n",
       "  \" fill=\"#ffffff\" fill-rule=\"evenodd\" fill-opacity=\"1\"/>\n",
       "<defs>\n",
       "  <clipPath id=\"clip262\">\n",
       "    <rect x=\"198\" y=\"47\" width=\"2156\" height=\"1440\"/>\n",
       "  </clipPath>\n",
       "</defs>\n",
       "<polyline clip-path=\"url(#clip262)\" style=\"stroke:#000000; stroke-width:2; stroke-opacity:0.1; fill:none\" points=\"\n",
       "  462.434,1486.45 462.434,47.2441 \n",
       "  \"/>\n",
       "<polyline clip-path=\"url(#clip262)\" style=\"stroke:#000000; stroke-width:2; stroke-opacity:0.1; fill:none\" points=\"\n",
       "  868.955,1486.45 868.955,47.2441 \n",
       "  \"/>\n",
       "<polyline clip-path=\"url(#clip262)\" style=\"stroke:#000000; stroke-width:2; stroke-opacity:0.1; fill:none\" points=\"\n",
       "  1275.48,1486.45 1275.48,47.2441 \n",
       "  \"/>\n",
       "<polyline clip-path=\"url(#clip262)\" style=\"stroke:#000000; stroke-width:2; stroke-opacity:0.1; fill:none\" points=\"\n",
       "  1682,1486.45 1682,47.2441 \n",
       "  \"/>\n",
       "<polyline clip-path=\"url(#clip262)\" style=\"stroke:#000000; stroke-width:2; stroke-opacity:0.1; fill:none\" points=\"\n",
       "  2088.52,1486.45 2088.52,47.2441 \n",
       "  \"/>\n",
       "<polyline clip-path=\"url(#clip260)\" style=\"stroke:#000000; stroke-width:4; stroke-opacity:1; fill:none\" points=\"\n",
       "  198.195,1486.45 2352.76,1486.45 \n",
       "  \"/>\n",
       "<polyline clip-path=\"url(#clip260)\" style=\"stroke:#000000; stroke-width:4; stroke-opacity:1; fill:none\" points=\"\n",
       "  462.434,1486.45 462.434,1469.18 \n",
       "  \"/>\n",
       "<polyline clip-path=\"url(#clip260)\" style=\"stroke:#000000; stroke-width:4; stroke-opacity:1; fill:none\" points=\"\n",
       "  868.955,1486.45 868.955,1469.18 \n",
       "  \"/>\n",
       "<polyline clip-path=\"url(#clip260)\" style=\"stroke:#000000; stroke-width:4; stroke-opacity:1; fill:none\" points=\"\n",
       "  1275.48,1486.45 1275.48,1469.18 \n",
       "  \"/>\n",
       "<polyline clip-path=\"url(#clip260)\" style=\"stroke:#000000; stroke-width:4; stroke-opacity:1; fill:none\" points=\"\n",
       "  1682,1486.45 1682,1469.18 \n",
       "  \"/>\n",
       "<polyline clip-path=\"url(#clip260)\" style=\"stroke:#000000; stroke-width:4; stroke-opacity:1; fill:none\" points=\"\n",
       "  2088.52,1486.45 2088.52,1469.18 \n",
       "  \"/>\n",
       "<path clip-path=\"url(#clip260)\" d=\"M 0 0 M433.846 1530.29 L463.522 1530.29 L463.522 1534.23 L433.846 1534.23 L433.846 1530.29 Z\" fill=\"#000000\" fill-rule=\"evenodd\" fill-opacity=\"1\" /><path clip-path=\"url(#clip260)\" d=\"M 0 0 M481.438 1516.63 L469.633 1535.08 L481.438 1535.08 L481.438 1516.63 M480.211 1512.56 L486.091 1512.56 L486.091 1535.08 L491.022 1535.08 L491.022 1538.97 L486.091 1538.97 L486.091 1547.12 L481.438 1547.12 L481.438 1538.97 L465.837 1538.97 L465.837 1534.46 L480.211 1512.56 Z\" fill=\"#000000\" fill-rule=\"evenodd\" fill-opacity=\"1\" /><path clip-path=\"url(#clip260)\" d=\"M 0 0 M841.409 1530.29 L871.084 1530.29 L871.084 1534.23 L841.409 1534.23 L841.409 1530.29 Z\" fill=\"#000000\" fill-rule=\"evenodd\" fill-opacity=\"1\" /><path clip-path=\"url(#clip260)\" d=\"M 0 0 M880.181 1543.18 L896.501 1543.18 L896.501 1547.12 L874.557 1547.12 L874.557 1543.18 Q877.219 1540.43 881.802 1535.8 Q886.408 1531.15 887.589 1529.81 Q889.834 1527.28 890.714 1525.55 Q891.617 1523.79 891.617 1522.1 Q891.617 1519.34 889.672 1517.61 Q887.751 1515.87 884.649 1515.87 Q882.45 1515.87 879.996 1516.63 Q877.566 1517.4 874.788 1518.95 L874.788 1514.23 Q877.612 1513.09 880.066 1512.51 Q882.519 1511.93 884.556 1511.93 Q889.927 1511.93 893.121 1514.62 Q896.316 1517.31 896.316 1521.8 Q896.316 1523.93 895.505 1525.85 Q894.718 1527.74 892.612 1530.34 Q892.033 1531.01 888.931 1534.23 Q885.83 1537.42 880.181 1543.18 Z\" fill=\"#000000\" fill-rule=\"evenodd\" fill-opacity=\"1\" /><path clip-path=\"url(#clip260)\" d=\"M 0 0 M1275.48 1515.64 Q1271.86 1515.64 1270.04 1519.2 Q1268.23 1522.75 1268.23 1529.87 Q1268.23 1536.98 1270.04 1540.55 Q1271.86 1544.09 1275.48 1544.09 Q1279.11 1544.09 1280.92 1540.55 Q1282.74 1536.98 1282.74 1529.87 Q1282.74 1522.75 1280.92 1519.2 Q1279.11 1515.64 1275.48 1515.64 M1275.48 1511.93 Q1281.29 1511.93 1284.34 1516.54 Q1287.42 1521.12 1287.42 1529.87 Q1287.42 1538.6 1284.34 1543.21 Q1281.29 1547.79 1275.48 1547.79 Q1269.67 1547.79 1266.59 1543.21 Q1263.53 1538.6 1263.53 1529.87 Q1263.53 1521.12 1266.59 1516.54 Q1269.67 1511.93 1275.48 1511.93 Z\" fill=\"#000000\" fill-rule=\"evenodd\" fill-opacity=\"1\" /><path clip-path=\"url(#clip260)\" d=\"M 0 0 M1676.65 1543.18 L1692.97 1543.18 L1692.97 1547.12 L1671.02 1547.12 L1671.02 1543.18 Q1673.69 1540.43 1678.27 1535.8 Q1682.88 1531.15 1684.06 1529.81 Q1686.3 1527.28 1687.18 1525.55 Q1688.08 1523.79 1688.08 1522.1 Q1688.08 1519.34 1686.14 1517.61 Q1684.22 1515.87 1681.12 1515.87 Q1678.92 1515.87 1676.46 1516.63 Q1674.03 1517.4 1671.26 1518.95 L1671.26 1514.23 Q1674.08 1513.09 1676.53 1512.51 Q1678.99 1511.93 1681.02 1511.93 Q1686.39 1511.93 1689.59 1514.62 Q1692.78 1517.31 1692.78 1521.8 Q1692.78 1523.93 1691.97 1525.85 Q1691.19 1527.74 1689.08 1530.34 Q1688.5 1531.01 1685.4 1534.23 Q1682.3 1537.42 1676.65 1543.18 Z\" fill=\"#000000\" fill-rule=\"evenodd\" fill-opacity=\"1\" /><path clip-path=\"url(#clip260)\" d=\"M 0 0 M2091.53 1516.63 L2079.72 1535.08 L2091.53 1535.08 L2091.53 1516.63 M2090.3 1512.56 L2096.18 1512.56 L2096.18 1535.08 L2101.11 1535.08 L2101.11 1538.97 L2096.18 1538.97 L2096.18 1547.12 L2091.53 1547.12 L2091.53 1538.97 L2075.92 1538.97 L2075.92 1534.46 L2090.3 1512.56 Z\" fill=\"#000000\" fill-rule=\"evenodd\" fill-opacity=\"1\" /><polyline clip-path=\"url(#clip262)\" style=\"stroke:#000000; stroke-width:2; stroke-opacity:0.1; fill:none\" points=\"\n",
       "  198.195,1299.37 2352.76,1299.37 \n",
       "  \"/>\n",
       "<polyline clip-path=\"url(#clip262)\" style=\"stroke:#000000; stroke-width:2; stroke-opacity:0.1; fill:none\" points=\"\n",
       "  198.195,1042.38 2352.76,1042.38 \n",
       "  \"/>\n",
       "<polyline clip-path=\"url(#clip262)\" style=\"stroke:#000000; stroke-width:2; stroke-opacity:0.1; fill:none\" points=\"\n",
       "  198.195,785.385 2352.76,785.385 \n",
       "  \"/>\n",
       "<polyline clip-path=\"url(#clip262)\" style=\"stroke:#000000; stroke-width:2; stroke-opacity:0.1; fill:none\" points=\"\n",
       "  198.195,528.391 2352.76,528.391 \n",
       "  \"/>\n",
       "<polyline clip-path=\"url(#clip262)\" style=\"stroke:#000000; stroke-width:2; stroke-opacity:0.1; fill:none\" points=\"\n",
       "  198.195,271.397 2352.76,271.397 \n",
       "  \"/>\n",
       "<polyline clip-path=\"url(#clip260)\" style=\"stroke:#000000; stroke-width:4; stroke-opacity:1; fill:none\" points=\"\n",
       "  198.195,1486.45 198.195,47.2441 \n",
       "  \"/>\n",
       "<polyline clip-path=\"url(#clip260)\" style=\"stroke:#000000; stroke-width:4; stroke-opacity:1; fill:none\" points=\"\n",
       "  198.195,1299.37 224.05,1299.37 \n",
       "  \"/>\n",
       "<polyline clip-path=\"url(#clip260)\" style=\"stroke:#000000; stroke-width:4; stroke-opacity:1; fill:none\" points=\"\n",
       "  198.195,1042.38 224.05,1042.38 \n",
       "  \"/>\n",
       "<polyline clip-path=\"url(#clip260)\" style=\"stroke:#000000; stroke-width:4; stroke-opacity:1; fill:none\" points=\"\n",
       "  198.195,785.385 224.05,785.385 \n",
       "  \"/>\n",
       "<polyline clip-path=\"url(#clip260)\" style=\"stroke:#000000; stroke-width:4; stroke-opacity:1; fill:none\" points=\"\n",
       "  198.195,528.391 224.05,528.391 \n",
       "  \"/>\n",
       "<polyline clip-path=\"url(#clip260)\" style=\"stroke:#000000; stroke-width:4; stroke-opacity:1; fill:none\" points=\"\n",
       "  198.195,271.397 224.05,271.397 \n",
       "  \"/>\n",
       "<path clip-path=\"url(#clip260)\" d=\"M 0 0 M50.9921 1299.83 L80.6679 1299.83 L80.6679 1303.76 L50.9921 1303.76 L50.9921 1299.83 Z\" fill=\"#000000\" fill-rule=\"evenodd\" fill-opacity=\"1\" /><path clip-path=\"url(#clip260)\" d=\"M 0 0 M98.5845 1286.17 L86.779 1304.62 L98.5845 1304.62 L98.5845 1286.17 M97.3576 1282.09 L103.237 1282.09 L103.237 1304.62 L108.168 1304.62 L108.168 1308.51 L103.237 1308.51 L103.237 1316.65 L98.5845 1316.65 L98.5845 1308.51 L82.9827 1308.51 L82.9827 1303.99 L97.3576 1282.09 Z\" fill=\"#000000\" fill-rule=\"evenodd\" fill-opacity=\"1\" /><path clip-path=\"url(#clip260)\" d=\"M 0 0 M123.237 1285.17 Q119.626 1285.17 117.797 1288.74 Q115.992 1292.28 115.992 1299.41 Q115.992 1306.52 117.797 1310.08 Q119.626 1313.62 123.237 1313.62 Q126.871 1313.62 128.677 1310.08 Q130.506 1306.52 130.506 1299.41 Q130.506 1292.28 128.677 1288.74 Q126.871 1285.17 123.237 1285.17 M123.237 1281.47 Q129.047 1281.47 132.103 1286.08 Q135.181 1290.66 135.181 1299.41 Q135.181 1308.14 132.103 1312.74 Q129.047 1317.33 123.237 1317.33 Q117.427 1317.33 114.348 1312.74 Q111.293 1308.14 111.293 1299.41 Q111.293 1290.66 114.348 1286.08 Q117.427 1281.47 123.237 1281.47 Z\" fill=\"#000000\" fill-rule=\"evenodd\" fill-opacity=\"1\" /><path clip-path=\"url(#clip260)\" d=\"M 0 0 M150.251 1285.17 Q146.64 1285.17 144.811 1288.74 Q143.006 1292.28 143.006 1299.41 Q143.006 1306.52 144.811 1310.08 Q146.64 1313.62 150.251 1313.62 Q153.885 1313.62 155.691 1310.08 Q157.519 1306.52 157.519 1299.41 Q157.519 1292.28 155.691 1288.74 Q153.885 1285.17 150.251 1285.17 M150.251 1281.47 Q156.061 1281.47 159.117 1286.08 Q162.195 1290.66 162.195 1299.41 Q162.195 1308.14 159.117 1312.74 Q156.061 1317.33 150.251 1317.33 Q144.441 1317.33 141.362 1312.74 Q138.306 1308.14 138.306 1299.41 Q138.306 1290.66 141.362 1286.08 Q144.441 1281.47 150.251 1281.47 Z\" fill=\"#000000\" fill-rule=\"evenodd\" fill-opacity=\"1\" /><path clip-path=\"url(#clip260)\" d=\"M 0 0 M53.0754 1042.83 L82.7512 1042.83 L82.7512 1046.77 L53.0754 1046.77 L53.0754 1042.83 Z\" fill=\"#000000\" fill-rule=\"evenodd\" fill-opacity=\"1\" /><path clip-path=\"url(#clip260)\" d=\"M 0 0 M91.8484 1055.72 L108.168 1055.72 L108.168 1059.66 L86.2234 1059.66 L86.2234 1055.72 Q88.8854 1052.97 93.4688 1048.34 Q98.0752 1043.69 99.2558 1042.35 Q101.501 1039.82 102.381 1038.09 Q103.284 1036.33 103.284 1034.64 Q103.284 1031.88 101.339 1030.15 Q99.4178 1028.41 96.316 1028.41 Q94.1169 1028.41 91.6632 1029.17 Q89.2327 1029.94 86.4549 1031.49 L86.4549 1026.77 Q89.279 1025.63 91.7326 1025.05 Q94.1863 1024.47 96.2234 1024.47 Q101.594 1024.47 104.788 1027.16 Q107.983 1029.85 107.983 1034.34 Q107.983 1036.47 107.172 1038.39 Q106.385 1040.28 104.279 1042.88 Q103.7 1043.55 100.598 1046.77 Q97.4965 1049.96 91.8484 1055.72 Z\" fill=\"#000000\" fill-rule=\"evenodd\" fill-opacity=\"1\" /><path clip-path=\"url(#clip260)\" d=\"M 0 0 M123.237 1028.18 Q119.626 1028.18 117.797 1031.74 Q115.992 1035.28 115.992 1042.41 Q115.992 1049.52 117.797 1053.09 Q119.626 1056.63 123.237 1056.63 Q126.871 1056.63 128.677 1053.09 Q130.506 1049.52 130.506 1042.41 Q130.506 1035.28 128.677 1031.74 Q126.871 1028.18 123.237 1028.18 M123.237 1024.47 Q129.047 1024.47 132.103 1029.08 Q135.181 1033.66 135.181 1042.41 Q135.181 1051.14 132.103 1055.75 Q129.047 1060.33 123.237 1060.33 Q117.427 1060.33 114.348 1055.75 Q111.293 1051.14 111.293 1042.41 Q111.293 1033.66 114.348 1029.08 Q117.427 1024.47 123.237 1024.47 Z\" fill=\"#000000\" fill-rule=\"evenodd\" fill-opacity=\"1\" /><path clip-path=\"url(#clip260)\" d=\"M 0 0 M150.251 1028.18 Q146.64 1028.18 144.811 1031.74 Q143.006 1035.28 143.006 1042.41 Q143.006 1049.52 144.811 1053.09 Q146.64 1056.63 150.251 1056.63 Q153.885 1056.63 155.691 1053.09 Q157.519 1049.52 157.519 1042.41 Q157.519 1035.28 155.691 1031.74 Q153.885 1028.18 150.251 1028.18 M150.251 1024.47 Q156.061 1024.47 159.117 1029.08 Q162.195 1033.66 162.195 1042.41 Q162.195 1051.14 159.117 1055.75 Q156.061 1060.33 150.251 1060.33 Q144.441 1060.33 141.362 1055.75 Q138.306 1051.14 138.306 1042.41 Q138.306 1033.66 141.362 1029.08 Q144.441 1024.47 150.251 1024.47 Z\" fill=\"#000000\" fill-rule=\"evenodd\" fill-opacity=\"1\" /><path clip-path=\"url(#clip260)\" d=\"M 0 0 M150.251 771.184 Q146.64 771.184 144.811 774.749 Q143.006 778.291 143.006 785.42 Q143.006 792.527 144.811 796.091 Q146.64 799.633 150.251 799.633 Q153.885 799.633 155.691 796.091 Q157.519 792.527 157.519 785.42 Q157.519 778.291 155.691 774.749 Q153.885 771.184 150.251 771.184 M150.251 767.48 Q156.061 767.48 159.117 772.087 Q162.195 776.67 162.195 785.42 Q162.195 794.147 159.117 798.753 Q156.061 803.337 150.251 803.337 Q144.441 803.337 141.362 798.753 Q138.306 794.147 138.306 785.42 Q138.306 776.67 141.362 772.087 Q144.441 767.48 150.251 767.48 Z\" fill=\"#000000\" fill-rule=\"evenodd\" fill-opacity=\"1\" /><path clip-path=\"url(#clip260)\" d=\"M 0 0 M91.8484 541.736 L108.168 541.736 L108.168 545.671 L86.2234 545.671 L86.2234 541.736 Q88.8854 538.981 93.4688 534.352 Q98.0752 529.699 99.2558 528.356 Q101.501 525.833 102.381 524.097 Q103.284 522.338 103.284 520.648 Q103.284 517.893 101.339 516.157 Q99.4178 514.421 96.316 514.421 Q94.1169 514.421 91.6632 515.185 Q89.2327 515.949 86.4549 517.5 L86.4549 512.778 Q89.279 511.643 91.7326 511.065 Q94.1863 510.486 96.2234 510.486 Q101.594 510.486 104.788 513.171 Q107.983 515.856 107.983 520.347 Q107.983 522.477 107.172 524.398 Q106.385 526.296 104.279 528.889 Q103.7 529.56 100.598 532.778 Q97.4965 535.972 91.8484 541.736 Z\" fill=\"#000000\" fill-rule=\"evenodd\" fill-opacity=\"1\" /><path clip-path=\"url(#clip260)\" d=\"M 0 0 M123.237 514.19 Q119.626 514.19 117.797 517.755 Q115.992 521.296 115.992 528.426 Q115.992 535.532 117.797 539.097 Q119.626 542.639 123.237 542.639 Q126.871 542.639 128.677 539.097 Q130.506 535.532 130.506 528.426 Q130.506 521.296 128.677 517.755 Q126.871 514.19 123.237 514.19 M123.237 510.486 Q129.047 510.486 132.103 515.093 Q135.181 519.676 135.181 528.426 Q135.181 537.153 132.103 541.759 Q129.047 546.342 123.237 546.342 Q117.427 546.342 114.348 541.759 Q111.293 537.153 111.293 528.426 Q111.293 519.676 114.348 515.093 Q117.427 510.486 123.237 510.486 Z\" fill=\"#000000\" fill-rule=\"evenodd\" fill-opacity=\"1\" /><path clip-path=\"url(#clip260)\" d=\"M 0 0 M150.251 514.19 Q146.64 514.19 144.811 517.755 Q143.006 521.296 143.006 528.426 Q143.006 535.532 144.811 539.097 Q146.64 542.639 150.251 542.639 Q153.885 542.639 155.691 539.097 Q157.519 535.532 157.519 528.426 Q157.519 521.296 155.691 517.755 Q153.885 514.19 150.251 514.19 M150.251 510.486 Q156.061 510.486 159.117 515.093 Q162.195 519.676 162.195 528.426 Q162.195 537.153 159.117 541.759 Q156.061 546.342 150.251 546.342 Q144.441 546.342 141.362 541.759 Q138.306 537.153 138.306 528.426 Q138.306 519.676 141.362 515.093 Q144.441 510.486 150.251 510.486 Z\" fill=\"#000000\" fill-rule=\"evenodd\" fill-opacity=\"1\" /><path clip-path=\"url(#clip260)\" d=\"M 0 0 M98.5845 258.191 L86.779 276.64 L98.5845 276.64 L98.5845 258.191 M97.3576 254.117 L103.237 254.117 L103.237 276.64 L108.168 276.64 L108.168 280.529 L103.237 280.529 L103.237 288.677 L98.5845 288.677 L98.5845 280.529 L82.9827 280.529 L82.9827 276.015 L97.3576 254.117 Z\" fill=\"#000000\" fill-rule=\"evenodd\" fill-opacity=\"1\" /><path clip-path=\"url(#clip260)\" d=\"M 0 0 M123.237 257.195 Q119.626 257.195 117.797 260.76 Q115.992 264.302 115.992 271.431 Q115.992 278.538 117.797 282.103 Q119.626 285.644 123.237 285.644 Q126.871 285.644 128.677 282.103 Q130.506 278.538 130.506 271.431 Q130.506 264.302 128.677 260.76 Q126.871 257.195 123.237 257.195 M123.237 253.492 Q129.047 253.492 132.103 258.098 Q135.181 262.681 135.181 271.431 Q135.181 280.158 132.103 284.765 Q129.047 289.348 123.237 289.348 Q117.427 289.348 114.348 284.765 Q111.293 280.158 111.293 271.431 Q111.293 262.681 114.348 258.098 Q117.427 253.492 123.237 253.492 Z\" fill=\"#000000\" fill-rule=\"evenodd\" fill-opacity=\"1\" /><path clip-path=\"url(#clip260)\" d=\"M 0 0 M150.251 257.195 Q146.64 257.195 144.811 260.76 Q143.006 264.302 143.006 271.431 Q143.006 278.538 144.811 282.103 Q146.64 285.644 150.251 285.644 Q153.885 285.644 155.691 282.103 Q157.519 278.538 157.519 271.431 Q157.519 264.302 155.691 260.76 Q153.885 257.195 150.251 257.195 M150.251 253.492 Q156.061 253.492 159.117 258.098 Q162.195 262.681 162.195 271.431 Q162.195 280.158 159.117 284.765 Q156.061 289.348 150.251 289.348 Q144.441 289.348 141.362 284.765 Q138.306 280.158 138.306 271.431 Q138.306 262.681 141.362 258.098 Q144.441 253.492 150.251 253.492 Z\" fill=\"#000000\" fill-rule=\"evenodd\" fill-opacity=\"1\" /><polyline clip-path=\"url(#clip262)\" style=\"stroke:#009af9; stroke-width:4; stroke-opacity:1; fill:none\" points=\"\n",
       "  259.173,785.642 279.023,785.648 462.566,785.707 572.867,785.757 666.125,785.814 767.43,785.9 860.824,786.015 960.952,786.216 1076.96,786.701 1102.73,786.897 \n",
       "  1128.51,787.163 1154.28,787.541 1180.06,788.123 1191.36,788.49 1202.66,788.972 1213.96,789.631 1225.26,790.586 1230.91,791.246 1236.56,792.097 1242.21,793.237 \n",
       "  1247.86,794.843 1253.51,797.275 1259.16,801.393 1261.98,804.745 1264.81,809.873 1266.22,813.611 1267.63,818.696 1269.05,826.015 1270.46,837.458 1271.23,846.902 \n",
       "  1272,860.531 1272.77,881.918 1273.54,920.321 1274.31,1009.47 1275.08,1445.72 1275.85,87.9763 1276.62,557.187 1277.39,648.968 1278.16,688.097 1278.93,709.782 \n",
       "  1279.7,723.563 1281.24,740.079 1282.78,749.631 1284.32,755.856 1285.86,760.235 1287.4,763.483 1288.94,765.988 1292.02,769.599 1295.1,772.077 1301.26,775.256 \n",
       "  1307.42,777.21 1313.58,778.531 1319.74,779.485 1332.06,780.77 1344.38,781.595 1356.7,782.17 1369.03,782.593 1393.81,783.178 1418.6,783.561 1443.39,783.83 \n",
       "  1468.18,784.03 1577.8,784.521 1682.11,784.743 1790.56,784.878 1881.85,784.955 1993.31,785.022 2098.09,785.068 2265.95,785.122 2291.78,785.128 \n",
       "  \"/>\n",
       "<path clip-path=\"url(#clip260)\" d=\"\n",
       "M1990.52 216.178 L2280.94 216.178 L2280.94 95.2176 L1990.52 95.2176  Z\n",
       "  \" fill=\"#ffffff\" fill-rule=\"evenodd\" fill-opacity=\"1\"/>\n",
       "<polyline clip-path=\"url(#clip260)\" style=\"stroke:#000000; stroke-width:4; stroke-opacity:1; fill:none\" points=\"\n",
       "  1990.52,216.178 2280.94,216.178 2280.94,95.2176 1990.52,95.2176 1990.52,216.178 \n",
       "  \"/>\n",
       "<polyline clip-path=\"url(#clip260)\" style=\"stroke:#009af9; stroke-width:4; stroke-opacity:1; fill:none\" points=\"\n",
       "  2014.46,155.698 2158.1,155.698 \n",
       "  \"/>\n",
       "<path clip-path=\"url(#clip260)\" d=\"M 0 0 M2195.88 175.385 Q2194.08 180.015 2192.36 181.427 Q2190.65 182.839 2187.78 182.839 L2184.38 182.839 L2184.38 179.274 L2186.88 179.274 Q2188.64 179.274 2189.61 178.44 Q2190.58 177.607 2191.76 174.505 L2192.53 172.561 L2182.04 147.052 L2186.55 147.052 L2194.66 167.329 L2202.76 147.052 L2207.27 147.052 L2195.88 175.385 Z\" fill=\"#000000\" fill-rule=\"evenodd\" fill-opacity=\"1\" /><path clip-path=\"url(#clip260)\" d=\"M 0 0 M2213.15 169.042 L2220.79 169.042 L2220.79 142.677 L2212.48 144.343 L2212.48 140.084 L2220.74 138.418 L2225.42 138.418 L2225.42 169.042 L2233.06 169.042 L2233.06 172.978 L2213.15 172.978 L2213.15 169.042 Z\" fill=\"#000000\" fill-rule=\"evenodd\" fill-opacity=\"1\" /></svg>\n"
      ]
     },
     "execution_count": 22,
     "metadata": {},
     "output_type": "execute_result"
    }
   ],
   "source": [
    "plot(x -> 1/x)"
   ]
  },
  {
   "cell_type": "code",
   "execution_count": 23,
   "metadata": {},
   "outputs": [
    {
     "name": "stdout",
     "output_type": "stream",
     "text": [
      "Results of univariate zero finding:\n",
      "\n",
      "* Converged to: 0.0\n",
      "* Algorithm: Roots.BisectionExact()\n",
      "* iterations: 61\n",
      "* function evaluations: 63\n",
      "* stopped as x_n ≈ x_{n-1} using atol=xatol, rtol=xrtol\n",
      "* Note: Change of sign at xn identified. \n",
      "\n",
      "Trace:\n",
      "(a_0, b_0) = (-1.0000000000000000,  0.0000000000000000)\n",
      "(a_1, b_1) = (-0.0000000000000000,  0.0000000000000000)\n",
      "(a_2, b_2) = (-0.0000000000000000,  0.0000000000000000)\n",
      "(a_3, b_3) = (-0.0000000000000000,  0.0000000000000000)\n",
      "(a_4, b_4) = (-0.0000000000000000,  0.0000000000000000)\n",
      "(a_5, b_5) = (-0.0000000000000000,  0.0000000000000000)\n",
      "(a_6, b_6) = (-0.0000000000000000,  0.0000000000000000)\n",
      "(a_7, b_7) = (-0.0000000000000000,  0.0000000000000000)\n",
      "(a_8, b_8) = (-0.0000000000000000,  0.0000000000000000)\n",
      "(a_9, b_9) = (-0.0000000000000000,  0.0000000000000000)\n",
      "(a_10, b_10) = (-0.0000000000000000,  0.0000000000000000)\n",
      "(a_11, b_11) = (-0.0000000000000000,  0.0000000000000000)\n",
      "(a_12, b_12) = (-0.0000000000000000,  0.0000000000000000)\n",
      "(a_13, b_13) = (-0.0000000000000000,  0.0000000000000000)\n",
      "(a_14, b_14) = (-0.0000000000000000,  0.0000000000000000)\n",
      "(a_15, b_15) = (-0.0000000000000000,  0.0000000000000000)\n",
      "(a_16, b_16) = (-0.0000000000000000,  0.0000000000000000)\n",
      "(a_17, b_17) = (-0.0000000000000000,  0.0000000000000000)\n",
      "(a_18, b_18) = (-0.0000000000000000,  0.0000000000000000)\n",
      "(a_19, b_19) = (-0.0000000000000000,  0.0000000000000000)\n",
      "(a_20, b_20) = (-0.0000000000000000,  0.0000000000000000)\n",
      "(a_21, b_21) = (-0.0000000000000000,  0.0000000000000000)\n",
      "(a_22, b_22) = (-0.0000000000000000,  0.0000000000000000)\n",
      "(a_23, b_23) = (-0.0000000000000000,  0.0000000000000000)\n",
      "(a_24, b_24) = (-0.0000000000000000,  0.0000000000000000)\n",
      "(a_25, b_25) = (-0.0000000000000000,  0.0000000000000000)\n",
      "(a_26, b_26) = (-0.0000000000000000,  0.0000000000000000)\n",
      "(a_27, b_27) = (-0.0000000000000000,  0.0000000000000000)\n",
      "(a_28, b_28) = (-0.0000000000000000,  0.0000000000000000)\n",
      "(a_29, b_29) = (-0.0000000000000000,  0.0000000000000000)\n",
      "(a_30, b_30) = (-0.0000000000000000,  0.0000000000000000)\n",
      "(a_31, b_31) = (-0.0000000000000000,  0.0000000000000000)\n",
      "(a_32, b_32) = (-0.0000000000000000,  0.0000000000000000)\n",
      "(a_33, b_33) = (-0.0000000000000000,  0.0000000000000000)\n",
      "(a_34, b_34) = (-0.0000000000000000,  0.0000000000000000)\n",
      "(a_35, b_35) = (-0.0000000000000000,  0.0000000000000000)\n",
      "(a_36, b_36) = (-0.0000000000000000,  0.0000000000000000)\n",
      "(a_37, b_37) = (-0.0000000000000000,  0.0000000000000000)\n",
      "(a_38, b_38) = (-0.0000000000000000,  0.0000000000000000)\n",
      "(a_39, b_39) = (-0.0000000000000000,  0.0000000000000000)\n",
      "(a_40, b_40) = (-0.0000000000000000,  0.0000000000000000)\n",
      "(a_41, b_41) = (-0.0000000000000000,  0.0000000000000000)\n",
      "(a_42, b_42) = (-0.0000000000000000,  0.0000000000000000)\n",
      "(a_43, b_43) = (-0.0000000000000000,  0.0000000000000000)\n",
      "(a_44, b_44) = (-0.0000000000000000,  0.0000000000000000)\n",
      "(a_45, b_45) = (-0.0000000000000000,  0.0000000000000000)\n",
      "(a_46, b_46) = (-0.0000000000000000,  0.0000000000000000)\n",
      "(a_47, b_47) = (-0.0000000000000000,  0.0000000000000000)\n",
      "(a_48, b_48) = (-0.0000000000000000,  0.0000000000000000)\n",
      "(a_49, b_49) = (-0.0000000000000000,  0.0000000000000000)\n",
      "(a_50, b_50) = (-0.0000000000000000,  0.0000000000000000)\n",
      "(a_51, b_51) = (-0.0000000000000000,  0.0000000000000000)\n",
      "(a_52, b_52) = (-0.0000000000000000,  0.0000000000000000)\n",
      "(a_53, b_53) = (-0.0000000000000000,  0.0000000000000000)\n",
      "(a_54, b_54) = (-0.0000000000000000,  0.0000000000000000)\n",
      "(a_55, b_55) = (-0.0000000000000000,  0.0000000000000000)\n",
      "(a_56, b_56) = (-0.0000000000000000,  0.0000000000000000)\n",
      "(a_57, b_57) = (-0.0000000000000000,  0.0000000000000000)\n",
      "(a_58, b_58) = (-0.0000000000000000,  0.0000000000000000)\n",
      "(a_59, b_59) = (-0.0000000000000000,  0.0000000000000000)\n",
      "(a_60, b_60) = (-0.0000000000000000,  0.0000000000000000)\n",
      "(a_61, b_61) = (-0.0000000000000000,  0.0000000000000000)\n",
      "\n"
     ]
    },
    {
     "data": {
      "text/plain": [
       "0.0"
      ]
     },
     "execution_count": 23,
     "metadata": {},
     "output_type": "execute_result"
    }
   ],
   "source": [
    "find_zero(x -> 1/x, (-1, 1), verbose=true)"
   ]
  },
  {
   "cell_type": "markdown",
   "metadata": {},
   "source": [
    "find_zeros - szukanie więcej niż jednego pierwiastka. Wykorzystuje podział przedziału na mniejsze podprzedziały"
   ]
  },
  {
   "cell_type": "code",
   "execution_count": 24,
   "metadata": {},
   "outputs": [
    {
     "data": {
      "text/plain": [
       "2-element Array{Float64,1}:\n",
       " 0.0\n",
       " 3.0"
      ]
     },
     "execution_count": 24,
     "metadata": {},
     "output_type": "execute_result"
    }
   ],
   "source": [
    "find_zeros(x ->(x-3)*x, -10, 10)"
   ]
  },
  {
   "cell_type": "code",
   "execution_count": 25,
   "metadata": {
    "scrolled": true
   },
   "outputs": [
    {
     "data": {
      "image/svg+xml": [
       "<?xml version=\"1.0\" encoding=\"utf-8\"?>\n",
       "<svg xmlns=\"http://www.w3.org/2000/svg\" xmlns:xlink=\"http://www.w3.org/1999/xlink\" width=\"600\" height=\"400\" viewBox=\"0 0 2400 1600\">\n",
       "<defs>\n",
       "  <clipPath id=\"clip300\">\n",
       "    <rect x=\"0\" y=\"0\" width=\"2400\" height=\"1600\"/>\n",
       "  </clipPath>\n",
       "</defs>\n",
       "<path clip-path=\"url(#clip300)\" d=\"\n",
       "M0 1600 L2400 1600 L2400 0 L0 0  Z\n",
       "  \" fill=\"#ffffff\" fill-rule=\"evenodd\" fill-opacity=\"1\"/>\n",
       "<defs>\n",
       "  <clipPath id=\"clip301\">\n",
       "    <rect x=\"480\" y=\"0\" width=\"1681\" height=\"1600\"/>\n",
       "  </clipPath>\n",
       "</defs>\n",
       "<path clip-path=\"url(#clip300)\" d=\"\n",
       "M142.455 1486.45 L2352.76 1486.45 L2352.76 47.2441 L142.455 47.2441  Z\n",
       "  \" fill=\"#ffffff\" fill-rule=\"evenodd\" fill-opacity=\"1\"/>\n",
       "<defs>\n",
       "  <clipPath id=\"clip302\">\n",
       "    <rect x=\"142\" y=\"47\" width=\"2211\" height=\"1440\"/>\n",
       "  </clipPath>\n",
       "</defs>\n",
       "<polyline clip-path=\"url(#clip302)\" style=\"stroke:#000000; stroke-width:2; stroke-opacity:0.1; fill:none\" points=\"\n",
       "  205.01,1486.45 205.01,47.2441 \n",
       "  \"/>\n",
       "<polyline clip-path=\"url(#clip302)\" style=\"stroke:#000000; stroke-width:2; stroke-opacity:0.1; fill:none\" points=\"\n",
       "  622.048,1486.45 622.048,47.2441 \n",
       "  \"/>\n",
       "<polyline clip-path=\"url(#clip302)\" style=\"stroke:#000000; stroke-width:2; stroke-opacity:0.1; fill:none\" points=\"\n",
       "  1039.09,1486.45 1039.09,47.2441 \n",
       "  \"/>\n",
       "<polyline clip-path=\"url(#clip302)\" style=\"stroke:#000000; stroke-width:2; stroke-opacity:0.1; fill:none\" points=\"\n",
       "  1456.12,1486.45 1456.12,47.2441 \n",
       "  \"/>\n",
       "<polyline clip-path=\"url(#clip302)\" style=\"stroke:#000000; stroke-width:2; stroke-opacity:0.1; fill:none\" points=\"\n",
       "  1873.16,1486.45 1873.16,47.2441 \n",
       "  \"/>\n",
       "<polyline clip-path=\"url(#clip302)\" style=\"stroke:#000000; stroke-width:2; stroke-opacity:0.1; fill:none\" points=\"\n",
       "  2290.2,1486.45 2290.2,47.2441 \n",
       "  \"/>\n",
       "<polyline clip-path=\"url(#clip300)\" style=\"stroke:#000000; stroke-width:4; stroke-opacity:1; fill:none\" points=\"\n",
       "  142.455,1486.45 2352.76,1486.45 \n",
       "  \"/>\n",
       "<polyline clip-path=\"url(#clip300)\" style=\"stroke:#000000; stroke-width:4; stroke-opacity:1; fill:none\" points=\"\n",
       "  205.01,1486.45 205.01,1469.18 \n",
       "  \"/>\n",
       "<polyline clip-path=\"url(#clip300)\" style=\"stroke:#000000; stroke-width:4; stroke-opacity:1; fill:none\" points=\"\n",
       "  622.048,1486.45 622.048,1469.18 \n",
       "  \"/>\n",
       "<polyline clip-path=\"url(#clip300)\" style=\"stroke:#000000; stroke-width:4; stroke-opacity:1; fill:none\" points=\"\n",
       "  1039.09,1486.45 1039.09,1469.18 \n",
       "  \"/>\n",
       "<polyline clip-path=\"url(#clip300)\" style=\"stroke:#000000; stroke-width:4; stroke-opacity:1; fill:none\" points=\"\n",
       "  1456.12,1486.45 1456.12,1469.18 \n",
       "  \"/>\n",
       "<polyline clip-path=\"url(#clip300)\" style=\"stroke:#000000; stroke-width:4; stroke-opacity:1; fill:none\" points=\"\n",
       "  1873.16,1486.45 1873.16,1469.18 \n",
       "  \"/>\n",
       "<polyline clip-path=\"url(#clip300)\" style=\"stroke:#000000; stroke-width:4; stroke-opacity:1; fill:none\" points=\"\n",
       "  2290.2,1486.45 2290.2,1469.18 \n",
       "  \"/>\n",
       "<path clip-path=\"url(#clip300)\" d=\"M 0 0 M177.279 1530.29 L206.955 1530.29 L206.955 1534.23 L177.279 1534.23 L177.279 1530.29 Z\" fill=\"#000000\" fill-rule=\"evenodd\" fill-opacity=\"1\" /><path clip-path=\"url(#clip300)\" d=\"M 0 0 M212.835 1543.18 L220.473 1543.18 L220.473 1516.82 L212.163 1518.49 L212.163 1514.23 L220.427 1512.56 L225.103 1512.56 L225.103 1543.18 L232.742 1543.18 L232.742 1547.12 L212.835 1547.12 L212.835 1543.18 Z\" fill=\"#000000\" fill-rule=\"evenodd\" fill-opacity=\"1\" /><path clip-path=\"url(#clip300)\" d=\"M 0 0 M622.048 1515.64 Q618.437 1515.64 616.609 1519.2 Q614.803 1522.75 614.803 1529.87 Q614.803 1536.98 616.609 1540.55 Q618.437 1544.09 622.048 1544.09 Q625.683 1544.09 627.488 1540.55 Q629.317 1536.98 629.317 1529.87 Q629.317 1522.75 627.488 1519.2 Q625.683 1515.64 622.048 1515.64 M622.048 1511.93 Q627.859 1511.93 630.914 1516.54 Q633.993 1521.12 633.993 1529.87 Q633.993 1538.6 630.914 1543.21 Q627.859 1547.79 622.048 1547.79 Q616.238 1547.79 613.16 1543.21 Q610.104 1538.6 610.104 1529.87 Q610.104 1521.12 613.16 1516.54 Q616.238 1511.93 622.048 1511.93 Z\" fill=\"#000000\" fill-rule=\"evenodd\" fill-opacity=\"1\" /><path clip-path=\"url(#clip300)\" d=\"M 0 0 M1029.47 1543.18 L1037.11 1543.18 L1037.11 1516.82 L1028.8 1518.49 L1028.8 1514.23 L1037.06 1512.56 L1041.74 1512.56 L1041.74 1543.18 L1049.38 1543.18 L1049.38 1547.12 L1029.47 1547.12 L1029.47 1543.18 Z\" fill=\"#000000\" fill-rule=\"evenodd\" fill-opacity=\"1\" /><path clip-path=\"url(#clip300)\" d=\"M 0 0 M1450.78 1543.18 L1467.1 1543.18 L1467.1 1547.12 L1445.15 1547.12 L1445.15 1543.18 Q1447.81 1540.43 1452.4 1535.8 Q1457 1531.15 1458.18 1529.81 Q1460.43 1527.28 1461.31 1525.55 Q1462.21 1523.79 1462.21 1522.1 Q1462.21 1519.34 1460.27 1517.61 Q1458.35 1515.87 1455.24 1515.87 Q1453.05 1515.87 1450.59 1516.63 Q1448.16 1517.4 1445.38 1518.95 L1445.38 1514.23 Q1448.21 1513.09 1450.66 1512.51 Q1453.12 1511.93 1455.15 1511.93 Q1460.52 1511.93 1463.72 1514.62 Q1466.91 1517.31 1466.91 1521.8 Q1466.91 1523.93 1466.1 1525.85 Q1465.31 1527.74 1463.21 1530.34 Q1462.63 1531.01 1459.53 1534.23 Q1456.43 1537.42 1450.78 1543.18 Z\" fill=\"#000000\" fill-rule=\"evenodd\" fill-opacity=\"1\" /><path clip-path=\"url(#clip300)\" d=\"M 0 0 M1877.41 1528.49 Q1880.77 1529.2 1882.64 1531.47 Q1884.54 1533.74 1884.54 1537.07 Q1884.54 1542.19 1881.02 1544.99 Q1877.5 1547.79 1871.02 1547.79 Q1868.85 1547.79 1866.53 1547.35 Q1864.24 1546.93 1861.79 1546.08 L1861.79 1541.56 Q1863.73 1542.7 1866.04 1543.28 Q1868.36 1543.86 1870.88 1543.86 Q1875.28 1543.86 1877.57 1542.12 Q1879.89 1540.38 1879.89 1537.07 Q1879.89 1534.02 1877.73 1532.31 Q1875.6 1530.57 1871.78 1530.57 L1867.76 1530.57 L1867.76 1526.73 L1871.97 1526.73 Q1875.42 1526.73 1877.25 1525.36 Q1879.08 1523.97 1879.08 1521.38 Q1879.08 1518.72 1877.18 1517.31 Q1875.3 1515.87 1871.78 1515.87 Q1869.86 1515.87 1867.66 1516.29 Q1865.47 1516.7 1862.83 1517.58 L1862.83 1513.42 Q1865.49 1512.68 1867.8 1512.31 Q1870.14 1511.93 1872.2 1511.93 Q1877.53 1511.93 1880.63 1514.37 Q1883.73 1516.77 1883.73 1520.89 Q1883.73 1523.76 1882.09 1525.75 Q1880.44 1527.72 1877.41 1528.49 Z\" fill=\"#000000\" fill-rule=\"evenodd\" fill-opacity=\"1\" /><path clip-path=\"url(#clip300)\" d=\"M 0 0 M2293.21 1516.63 L2281.4 1535.08 L2293.21 1535.08 L2293.21 1516.63 M2291.98 1512.56 L2297.86 1512.56 L2297.86 1535.08 L2302.79 1535.08 L2302.79 1538.97 L2297.86 1538.97 L2297.86 1547.12 L2293.21 1547.12 L2293.21 1538.97 L2277.61 1538.97 L2277.61 1534.46 L2291.98 1512.56 Z\" fill=\"#000000\" fill-rule=\"evenodd\" fill-opacity=\"1\" /><polyline clip-path=\"url(#clip302)\" style=\"stroke:#000000; stroke-width:2; stroke-opacity:0.1; fill:none\" points=\"\n",
       "  142.455,1391.44 2352.76,1391.44 \n",
       "  \"/>\n",
       "<polyline clip-path=\"url(#clip302)\" style=\"stroke:#000000; stroke-width:2; stroke-opacity:0.1; fill:none\" points=\"\n",
       "  142.455,1174.19 2352.76,1174.19 \n",
       "  \"/>\n",
       "<polyline clip-path=\"url(#clip302)\" style=\"stroke:#000000; stroke-width:2; stroke-opacity:0.1; fill:none\" points=\"\n",
       "  142.455,956.951 2352.76,956.951 \n",
       "  \"/>\n",
       "<polyline clip-path=\"url(#clip302)\" style=\"stroke:#000000; stroke-width:2; stroke-opacity:0.1; fill:none\" points=\"\n",
       "  142.455,739.707 2352.76,739.707 \n",
       "  \"/>\n",
       "<polyline clip-path=\"url(#clip302)\" style=\"stroke:#000000; stroke-width:2; stroke-opacity:0.1; fill:none\" points=\"\n",
       "  142.455,522.463 2352.76,522.463 \n",
       "  \"/>\n",
       "<polyline clip-path=\"url(#clip302)\" style=\"stroke:#000000; stroke-width:2; stroke-opacity:0.1; fill:none\" points=\"\n",
       "  142.455,305.22 2352.76,305.22 \n",
       "  \"/>\n",
       "<polyline clip-path=\"url(#clip302)\" style=\"stroke:#000000; stroke-width:2; stroke-opacity:0.1; fill:none\" points=\"\n",
       "  142.455,87.9763 2352.76,87.9763 \n",
       "  \"/>\n",
       "<polyline clip-path=\"url(#clip300)\" style=\"stroke:#000000; stroke-width:4; stroke-opacity:1; fill:none\" points=\"\n",
       "  142.455,1486.45 142.455,47.2441 \n",
       "  \"/>\n",
       "<polyline clip-path=\"url(#clip300)\" style=\"stroke:#000000; stroke-width:4; stroke-opacity:1; fill:none\" points=\"\n",
       "  142.455,1391.44 168.978,1391.44 \n",
       "  \"/>\n",
       "<polyline clip-path=\"url(#clip300)\" style=\"stroke:#000000; stroke-width:4; stroke-opacity:1; fill:none\" points=\"\n",
       "  142.455,1174.19 168.978,1174.19 \n",
       "  \"/>\n",
       "<polyline clip-path=\"url(#clip300)\" style=\"stroke:#000000; stroke-width:4; stroke-opacity:1; fill:none\" points=\"\n",
       "  142.455,956.951 168.978,956.951 \n",
       "  \"/>\n",
       "<polyline clip-path=\"url(#clip300)\" style=\"stroke:#000000; stroke-width:4; stroke-opacity:1; fill:none\" points=\"\n",
       "  142.455,739.707 168.978,739.707 \n",
       "  \"/>\n",
       "<polyline clip-path=\"url(#clip300)\" style=\"stroke:#000000; stroke-width:4; stroke-opacity:1; fill:none\" points=\"\n",
       "  142.455,522.463 168.978,522.463 \n",
       "  \"/>\n",
       "<polyline clip-path=\"url(#clip300)\" style=\"stroke:#000000; stroke-width:4; stroke-opacity:1; fill:none\" points=\"\n",
       "  142.455,305.22 168.978,305.22 \n",
       "  \"/>\n",
       "<polyline clip-path=\"url(#clip300)\" style=\"stroke:#000000; stroke-width:4; stroke-opacity:1; fill:none\" points=\"\n",
       "  142.455,87.9763 168.978,87.9763 \n",
       "  \"/>\n",
       "<path clip-path=\"url(#clip300)\" d=\"M 0 0 M51.3625 1391.89 L81.0383 1391.89 L81.0383 1395.82 L51.3625 1395.82 L51.3625 1391.89 Z\" fill=\"#000000\" fill-rule=\"evenodd\" fill-opacity=\"1\" /><path clip-path=\"url(#clip300)\" d=\"M 0 0 M90.1354 1404.78 L106.455 1404.78 L106.455 1408.72 L84.5105 1408.72 L84.5105 1404.78 Q87.1725 1402.03 91.7558 1397.4 Q96.3623 1392.75 97.5428 1391.4 Q99.7882 1388.88 100.668 1387.14 Q101.571 1385.38 101.571 1383.69 Q101.571 1380.94 99.6261 1379.2 Q97.7048 1377.47 94.603 1377.47 Q92.4039 1377.47 89.9503 1378.23 Q87.5197 1379 84.7419 1380.55 L84.7419 1375.82 Q87.566 1374.69 90.0197 1374.11 Q92.4734 1373.53 94.5104 1373.53 Q99.8808 1373.53 103.075 1376.22 Q106.27 1378.9 106.27 1383.39 Q106.27 1385.52 105.459 1387.44 Q104.672 1389.34 102.566 1391.94 Q101.987 1392.61 98.8854 1395.82 Q95.7836 1399.02 90.1354 1404.78 Z\" fill=\"#000000\" fill-rule=\"evenodd\" fill-opacity=\"1\" /><path clip-path=\"url(#clip300)\" d=\"M 0 0 M50.9921 1174.65 L80.6679 1174.65 L80.6679 1178.58 L50.9921 1178.58 L50.9921 1174.65 Z\" fill=\"#000000\" fill-rule=\"evenodd\" fill-opacity=\"1\" /><path clip-path=\"url(#clip300)\" d=\"M 0 0 M86.5475 1187.54 L94.1863 1187.54 L94.1863 1161.17 L85.8762 1162.84 L85.8762 1158.58 L94.14 1156.91 L98.8159 1156.91 L98.8159 1187.54 L106.455 1187.54 L106.455 1191.47 L86.5475 1191.47 L86.5475 1187.54 Z\" fill=\"#000000\" fill-rule=\"evenodd\" fill-opacity=\"1\" /><path clip-path=\"url(#clip300)\" d=\"M 0 0 M94.5104 942.749 Q90.8993 942.749 89.0706 946.314 Q87.2651 949.856 87.2651 956.985 Q87.2651 964.092 89.0706 967.657 Q90.8993 971.198 94.5104 971.198 Q98.1447 971.198 99.9502 967.657 Q101.779 964.092 101.779 956.985 Q101.779 949.856 99.9502 946.314 Q98.1447 942.749 94.5104 942.749 M94.5104 939.046 Q100.321 939.046 103.376 943.652 Q106.455 948.235 106.455 956.985 Q106.455 965.712 103.376 970.319 Q100.321 974.902 94.5104 974.902 Q88.7003 974.902 85.6216 970.319 Q82.566 965.712 82.566 956.985 Q82.566 948.235 85.6216 943.652 Q88.7003 939.046 94.5104 939.046 Z\" fill=\"#000000\" fill-rule=\"evenodd\" fill-opacity=\"1\" /><path clip-path=\"url(#clip300)\" d=\"M 0 0 M86.5475 753.052 L94.1863 753.052 L94.1863 726.686 L85.8762 728.353 L85.8762 724.094 L94.14 722.427 L98.8159 722.427 L98.8159 753.052 L106.455 753.052 L106.455 756.987 L86.5475 756.987 L86.5475 753.052 Z\" fill=\"#000000\" fill-rule=\"evenodd\" fill-opacity=\"1\" /><path clip-path=\"url(#clip300)\" d=\"M 0 0 M90.1354 535.808 L106.455 535.808 L106.455 539.743 L84.5105 539.743 L84.5105 535.808 Q87.1725 533.054 91.7558 528.424 Q96.3623 523.771 97.5428 522.429 Q99.7882 519.906 100.668 518.17 Q101.571 516.41 101.571 514.72 Q101.571 511.966 99.6261 510.23 Q97.7048 508.494 94.603 508.494 Q92.4039 508.494 89.9503 509.258 Q87.5197 510.021 84.7419 511.572 L84.7419 506.85 Q87.566 505.716 90.0197 505.137 Q92.4734 504.558 94.5104 504.558 Q99.8808 504.558 103.075 507.244 Q106.27 509.929 106.27 514.42 Q106.27 516.549 105.459 518.47 Q104.672 520.369 102.566 522.961 Q101.987 523.632 98.8854 526.85 Q95.7836 530.044 90.1354 535.808 Z\" fill=\"#000000\" fill-rule=\"evenodd\" fill-opacity=\"1\" /><path clip-path=\"url(#clip300)\" d=\"M 0 0 M99.3252 303.866 Q102.682 304.583 104.557 306.852 Q106.455 309.12 106.455 312.454 Q106.455 317.569 102.936 320.37 Q99.4178 323.171 92.9363 323.171 Q90.7604 323.171 88.4456 322.731 Q86.154 322.315 83.7003 321.458 L83.7003 316.944 Q85.6447 318.079 87.9595 318.657 Q90.2743 319.236 92.7975 319.236 Q97.1956 319.236 99.4872 317.5 Q101.802 315.764 101.802 312.454 Q101.802 309.398 99.6493 307.685 Q97.5197 305.949 93.7002 305.949 L89.6725 305.949 L89.6725 302.106 L93.8854 302.106 Q97.3345 302.106 99.1632 300.741 Q100.992 299.352 100.992 296.759 Q100.992 294.097 99.0937 292.685 Q97.2187 291.25 93.7002 291.25 Q91.7789 291.25 89.5799 291.667 Q87.3808 292.083 84.7419 292.963 L84.7419 288.796 Q87.404 288.056 89.7188 287.685 Q92.0567 287.315 94.1169 287.315 Q99.4409 287.315 102.543 289.745 Q105.645 292.153 105.645 296.273 Q105.645 299.144 104.001 301.134 Q102.358 303.102 99.3252 303.866 Z\" fill=\"#000000\" fill-rule=\"evenodd\" fill-opacity=\"1\" /><path clip-path=\"url(#clip300)\" d=\"M 0 0 M96.8715 74.7703 L85.066 93.2193 L96.8715 93.2193 L96.8715 74.7703 M95.6447 70.6963 L101.524 70.6963 L101.524 93.2193 L106.455 93.2193 L106.455 97.1082 L101.524 97.1082 L101.524 105.256 L96.8715 105.256 L96.8715 97.1082 L81.2697 97.1082 L81.2697 92.5943 L95.6447 70.6963 Z\" fill=\"#000000\" fill-rule=\"evenodd\" fill-opacity=\"1\" /><polyline clip-path=\"url(#clip302)\" style=\"stroke:#009af9; stroke-width:4; stroke-opacity:1; fill:none\" points=\"\n",
       "  205.01,87.9763 215.192,114.366 225.374,140.497 319.519,369.848 413.665,577.056 470.242,690.928 526.82,796.803 574.655,880.081 622.491,957.642 674.454,1035.42 \n",
       "  726.416,1106.45 774.321,1165.95 822.226,1219.73 873.586,1271.01 924.945,1315.71 984.45,1359.25 1043.95,1393.94 1096.84,1417.35 1149.72,1433.78 1196.09,1442.43 \n",
       "  1242.46,1445.72 1293.02,1443.17 1343.58,1434.24 1394.43,1418.82 1445.29,1396.93 1501.52,1365.22 1557.75,1325.6 1611.25,1280.57 1664.75,1228.39 1720.38,1166.55 \n",
       "  1776.01,1096.98 1822.84,1032.43 1869.67,962.394 1926.84,869.465 1984.01,768.37 2037.76,665.892 2091.5,556.198 2177.6,365.421 2263.7,156.123 2276.95,122.269 \n",
       "  2290.2,87.9763 \n",
       "  \"/>\n",
       "<path clip-path=\"url(#clip300)\" d=\"\n",
       "M1982.47 216.178 L2279.08 216.178 L2279.08 95.2176 L1982.47 95.2176  Z\n",
       "  \" fill=\"#ffffff\" fill-rule=\"evenodd\" fill-opacity=\"1\"/>\n",
       "<polyline clip-path=\"url(#clip300)\" style=\"stroke:#000000; stroke-width:4; stroke-opacity:1; fill:none\" points=\"\n",
       "  1982.47,216.178 2279.08,216.178 2279.08,95.2176 1982.47,95.2176 1982.47,216.178 \n",
       "  \"/>\n",
       "<polyline clip-path=\"url(#clip300)\" style=\"stroke:#009af9; stroke-width:4; stroke-opacity:1; fill:none\" points=\"\n",
       "  2007.03,155.698 2154.38,155.698 \n",
       "  \"/>\n",
       "<path clip-path=\"url(#clip300)\" d=\"M 0 0 M2192.79 175.385 Q2190.98 180.015 2189.27 181.427 Q2187.55 182.839 2184.68 182.839 L2181.28 182.839 L2181.28 179.274 L2183.78 179.274 Q2185.54 179.274 2186.51 178.44 Q2187.48 177.607 2188.67 174.505 L2189.43 172.561 L2178.94 147.052 L2183.46 147.052 L2191.56 167.329 L2199.66 147.052 L2204.17 147.052 L2192.79 175.385 Z\" fill=\"#000000\" fill-rule=\"evenodd\" fill-opacity=\"1\" /><path clip-path=\"url(#clip300)\" d=\"M 0 0 M2210.05 169.042 L2217.69 169.042 L2217.69 142.677 L2209.38 144.343 L2209.38 140.084 L2217.65 138.418 L2222.32 138.418 L2222.32 169.042 L2229.96 169.042 L2229.96 172.978 L2210.05 172.978 L2210.05 169.042 Z\" fill=\"#000000\" fill-rule=\"evenodd\" fill-opacity=\"1\" /></svg>\n"
      ]
     },
     "execution_count": 25,
     "metadata": {},
     "output_type": "execute_result"
    }
   ],
   "source": [
    "plot(x ->(x-3)*x,-1,4)"
   ]
  },
  {
   "cell_type": "markdown",
   "metadata": {},
   "source": [
    "Więcej na https://github.com/JuliaMath/Roots.jl/blob/master/doc/roots.ipynb"
   ]
  },
  {
   "cell_type": "markdown",
   "metadata": {},
   "source": [
    "### Zadanie:\n",
    "\n",
    "A. Wybrać trzy metody poszukiwania pierwiastków: \n",
    "\n",
    "* wykorzystującą przedział i zmianę znaku, \n",
    "* wykorzystującą pochodną, \n",
    "* wykorzystującą przybliżenie pochodnej\n",
    "\n",
    "    1. Każdą z trzech wybranych metod przetestować (ilość iteracji, ilość wywołań funkcji) na sześciu wybranych  funkcjach ze zbioru http://people.sc.fsu.edu/~jburkardt/py_src/test_zero/test_zero.html Wyniki przedstawić w formie tabelki. <b>Pamiętać o sprawdzeniu czy wynik jest poprawny poprzez obliczenie wartości funkcji dla znalezionego pierwiastka !</b> (3 pkt)\n",
    "\n",
    "    2. Zademonstrować wybrany, ciekawy przykład trudnej funkcji z p.1 i działania metod na niej. (1 pkt)\n",
    "\n",
    "    3. Dla każdej z wybranych metod zademonstrować i wyjaśnić po jednym  przykładzie, dla którego nie działają (można na podstawie p.1 lub wymyślić własny)(1 pkt)\n",
    "\n",
    "B. Narysować <a href=\"https://pl.wikipedia.org/wiki/Wst%C4%99ga_Newtona\"> wstegę Newtona </a> i objaśnić, w jaki sposób powstała i jaki jest jej związek z metodą Newtona do znajdowania pierwiastków. Sposób i język - dowolny. (1 pkt)"
   ]
  },
  {
   "cell_type": "markdown",
   "metadata": {},
   "source": [
    "# A."
   ]
  },
  {
   "cell_type": "markdown",
   "metadata": {},
   "source": [
    "## 1.\n",
    "## Testowane metody\n",
    "#### * (B) bisekcji  \n",
    "dzielimy przedział na połowy, aż punkt podziału będzie miejscem zerowym (z dokładnością do $\\epsilon$)\n",
    "#### * (N) Newtona   \n",
    "dla punktu startowego $x_1$ wyznaczana jest styczna w $f(x_1)$, miejsce przecięcia z osią $OX$ jest przybliżonym miejscem zerowym, jeśli chcemy lepsze przybliżenie, powtarzamy algorytm dla tegoż punktu, aż do osiągnięcia satysfakcjonującego przybliżenia\n",
    "#### * (S) siecznych \n",
    "na dostatecznie małym przedziale zastępujemy krzywą $f(x)$ sieczną, punkt przecięcia tejże siecznej jest przybliżonym pierwiastkiem"
   ]
  },
  {
   "cell_type": "markdown",
   "metadata": {},
   "source": [
    "### Sześć wybranych funkcji"
   ]
  },
  {
   "cell_type": "code",
   "execution_count": 26,
   "metadata": {},
   "outputs": [
    {
     "data": {
      "text/plain": [
       "f6 (generic function with 1 method)"
      ]
     },
     "execution_count": 26,
     "metadata": {},
     "output_type": "execute_result"
    }
   ],
   "source": [
    "f1(x) = sin(x) - x/2\n",
    "f2(x) = x * exp(-x)\n",
    "f3(x) = (x+3) * (x-1)^2\n",
    "f4(x) = (x-1)^7\n",
    "f5(x) = x^3\n",
    "f6(x) = x^3 - 2*x - 5"
   ]
  },
  {
   "cell_type": "code",
   "execution_count": 27,
   "metadata": {},
   "outputs": [
    {
     "data": {
      "image/svg+xml": [
       "<?xml version=\"1.0\" encoding=\"utf-8\"?>\n",
       "<svg xmlns=\"http://www.w3.org/2000/svg\" xmlns:xlink=\"http://www.w3.org/1999/xlink\" width=\"600\" height=\"400\" viewBox=\"0 0 2400 1600\">\n",
       "<defs>\n",
       "  <clipPath id=\"clip340\">\n",
       "    <rect x=\"0\" y=\"0\" width=\"2400\" height=\"1600\"/>\n",
       "  </clipPath>\n",
       "</defs>\n",
       "<path clip-path=\"url(#clip340)\" d=\"\n",
       "M0 1600 L2400 1600 L2400 0 L0 0  Z\n",
       "  \" fill=\"#ffffff\" fill-rule=\"evenodd\" fill-opacity=\"1\"/>\n",
       "<defs>\n",
       "  <clipPath id=\"clip341\">\n",
       "    <rect x=\"480\" y=\"0\" width=\"1681\" height=\"1600\"/>\n",
       "  </clipPath>\n",
       "</defs>\n",
       "<path clip-path=\"url(#clip340)\" d=\"\n",
       "M196.482 419.781 L1107.92 419.781 L1107.92 47.2441 L196.482 47.2441  Z\n",
       "  \" fill=\"#ffffff\" fill-rule=\"evenodd\" fill-opacity=\"1\"/>\n",
       "<defs>\n",
       "  <clipPath id=\"clip342\">\n",
       "    <rect x=\"196\" y=\"47\" width=\"912\" height=\"374\"/>\n",
       "  </clipPath>\n",
       "</defs>\n",
       "<polyline clip-path=\"url(#clip342)\" style=\"stroke:#000000; stroke-width:2; stroke-opacity:0.1; fill:none\" points=\"\n",
       "  308.262,419.781 308.262,47.2441 \n",
       "  \"/>\n",
       "<polyline clip-path=\"url(#clip342)\" style=\"stroke:#000000; stroke-width:2; stroke-opacity:0.1; fill:none\" points=\"\n",
       "  480.231,419.781 480.231,47.2441 \n",
       "  \"/>\n",
       "<polyline clip-path=\"url(#clip342)\" style=\"stroke:#000000; stroke-width:2; stroke-opacity:0.1; fill:none\" points=\"\n",
       "  652.2,419.781 652.2,47.2441 \n",
       "  \"/>\n",
       "<polyline clip-path=\"url(#clip342)\" style=\"stroke:#000000; stroke-width:2; stroke-opacity:0.1; fill:none\" points=\"\n",
       "  824.169,419.781 824.169,47.2441 \n",
       "  \"/>\n",
       "<polyline clip-path=\"url(#clip342)\" style=\"stroke:#000000; stroke-width:2; stroke-opacity:0.1; fill:none\" points=\"\n",
       "  996.138,419.781 996.138,47.2441 \n",
       "  \"/>\n",
       "<polyline clip-path=\"url(#clip340)\" style=\"stroke:#000000; stroke-width:4; stroke-opacity:1; fill:none\" points=\"\n",
       "  196.482,419.781 1107.92,419.781 \n",
       "  \"/>\n",
       "<polyline clip-path=\"url(#clip340)\" style=\"stroke:#000000; stroke-width:4; stroke-opacity:1; fill:none\" points=\"\n",
       "  308.262,419.781 308.262,415.311 \n",
       "  \"/>\n",
       "<polyline clip-path=\"url(#clip340)\" style=\"stroke:#000000; stroke-width:4; stroke-opacity:1; fill:none\" points=\"\n",
       "  480.231,419.781 480.231,415.311 \n",
       "  \"/>\n",
       "<polyline clip-path=\"url(#clip340)\" style=\"stroke:#000000; stroke-width:4; stroke-opacity:1; fill:none\" points=\"\n",
       "  652.2,419.781 652.2,415.311 \n",
       "  \"/>\n",
       "<polyline clip-path=\"url(#clip340)\" style=\"stroke:#000000; stroke-width:4; stroke-opacity:1; fill:none\" points=\"\n",
       "  824.169,419.781 824.169,415.311 \n",
       "  \"/>\n",
       "<polyline clip-path=\"url(#clip340)\" style=\"stroke:#000000; stroke-width:4; stroke-opacity:1; fill:none\" points=\"\n",
       "  996.138,419.781 996.138,415.311 \n",
       "  \"/>\n",
       "<path clip-path=\"url(#clip340)\" d=\"M 0 0 M279.674 463.625 L309.35 463.625 L309.35 467.56 L279.674 467.56 L279.674 463.625 Z\" fill=\"#000000\" fill-rule=\"evenodd\" fill-opacity=\"1\" /><path clip-path=\"url(#clip340)\" d=\"M 0 0 M327.267 449.967 L315.461 468.416 L327.267 468.416 L327.267 449.967 M326.04 445.893 L331.919 445.893 L331.919 468.416 L336.85 468.416 L336.85 472.305 L331.919 472.305 L331.919 480.453 L327.267 480.453 L327.267 472.305 L311.665 472.305 L311.665 467.791 L326.04 445.893 Z\" fill=\"#000000\" fill-rule=\"evenodd\" fill-opacity=\"1\" /><path clip-path=\"url(#clip340)\" d=\"M 0 0 M452.685 463.625 L482.361 463.625 L482.361 467.56 L452.685 467.56 L452.685 463.625 Z\" fill=\"#000000\" fill-rule=\"evenodd\" fill-opacity=\"1\" /><path clip-path=\"url(#clip340)\" d=\"M 0 0 M491.458 476.518 L507.777 476.518 L507.777 480.453 L485.833 480.453 L485.833 476.518 Q488.495 473.763 493.078 469.134 Q497.685 464.481 498.865 463.138 Q501.111 460.615 501.99 458.879 Q502.893 457.12 502.893 455.43 Q502.893 452.676 500.949 450.939 Q499.027 449.203 495.926 449.203 Q493.726 449.203 491.273 449.967 Q488.842 450.731 486.064 452.282 L486.064 447.56 Q488.889 446.426 491.342 445.847 Q493.796 445.268 495.833 445.268 Q501.203 445.268 504.398 447.953 Q507.592 450.639 507.592 455.129 Q507.592 457.259 506.782 459.18 Q505.995 461.078 503.888 463.671 Q503.31 464.342 500.208 467.56 Q497.106 470.754 491.458 476.518 Z\" fill=\"#000000\" fill-rule=\"evenodd\" fill-opacity=\"1\" /><path clip-path=\"url(#clip340)\" d=\"M 0 0 M652.2 448.972 Q648.589 448.972 646.76 452.537 Q644.955 456.078 644.955 463.208 Q644.955 470.314 646.76 473.879 Q648.589 477.421 652.2 477.421 Q655.834 477.421 657.64 473.879 Q659.469 470.314 659.469 463.208 Q659.469 456.078 657.64 452.537 Q655.834 448.972 652.2 448.972 M652.2 445.268 Q658.01 445.268 661.066 449.875 Q664.145 454.458 664.145 463.208 Q664.145 471.935 661.066 476.541 Q658.01 481.125 652.2 481.125 Q646.39 481.125 643.311 476.541 Q640.256 471.935 640.256 463.208 Q640.256 454.458 643.311 449.875 Q646.39 445.268 652.2 445.268 Z\" fill=\"#000000\" fill-rule=\"evenodd\" fill-opacity=\"1\" /><path clip-path=\"url(#clip340)\" d=\"M 0 0 M818.822 476.518 L835.141 476.518 L835.141 480.453 L813.197 480.453 L813.197 476.518 Q815.859 473.763 820.442 469.134 Q825.049 464.481 826.229 463.138 Q828.475 460.615 829.354 458.879 Q830.257 457.12 830.257 455.43 Q830.257 452.676 828.313 450.939 Q826.391 449.203 823.29 449.203 Q821.091 449.203 818.637 449.967 Q816.206 450.731 813.429 452.282 L813.429 447.56 Q816.253 446.426 818.706 445.847 Q821.16 445.268 823.197 445.268 Q828.567 445.268 831.762 447.953 Q834.956 450.639 834.956 455.129 Q834.956 457.259 834.146 459.18 Q833.359 461.078 831.253 463.671 Q830.674 464.342 827.572 467.56 Q824.47 470.754 818.822 476.518 Z\" fill=\"#000000\" fill-rule=\"evenodd\" fill-opacity=\"1\" /><path clip-path=\"url(#clip340)\" d=\"M 0 0 M999.148 449.967 L987.342 468.416 L999.148 468.416 L999.148 449.967 M997.921 445.893 L1003.8 445.893 L1003.8 468.416 L1008.73 468.416 L1008.73 472.305 L1003.8 472.305 L1003.8 480.453 L999.148 480.453 L999.148 472.305 L983.546 472.305 L983.546 467.791 L997.921 445.893 Z\" fill=\"#000000\" fill-rule=\"evenodd\" fill-opacity=\"1\" /><polyline clip-path=\"url(#clip342)\" style=\"stroke:#000000; stroke-width:2; stroke-opacity:0.1; fill:none\" points=\"\n",
       "  196.482,385.923 1107.92,385.923 \n",
       "  \"/>\n",
       "<polyline clip-path=\"url(#clip342)\" style=\"stroke:#000000; stroke-width:2; stroke-opacity:0.1; fill:none\" points=\"\n",
       "  196.482,335.119 1107.92,335.119 \n",
       "  \"/>\n",
       "<polyline clip-path=\"url(#clip342)\" style=\"stroke:#000000; stroke-width:2; stroke-opacity:0.1; fill:none\" points=\"\n",
       "  196.482,284.316 1107.92,284.316 \n",
       "  \"/>\n",
       "<polyline clip-path=\"url(#clip342)\" style=\"stroke:#000000; stroke-width:2; stroke-opacity:0.1; fill:none\" points=\"\n",
       "  196.482,233.513 1107.92,233.513 \n",
       "  \"/>\n",
       "<polyline clip-path=\"url(#clip342)\" style=\"stroke:#000000; stroke-width:2; stroke-opacity:0.1; fill:none\" points=\"\n",
       "  196.482,182.709 1107.92,182.709 \n",
       "  \"/>\n",
       "<polyline clip-path=\"url(#clip342)\" style=\"stroke:#000000; stroke-width:2; stroke-opacity:0.1; fill:none\" points=\"\n",
       "  196.482,131.906 1107.92,131.906 \n",
       "  \"/>\n",
       "<polyline clip-path=\"url(#clip342)\" style=\"stroke:#000000; stroke-width:2; stroke-opacity:0.1; fill:none\" points=\"\n",
       "  196.482,81.1025 1107.92,81.1025 \n",
       "  \"/>\n",
       "<polyline clip-path=\"url(#clip340)\" style=\"stroke:#000000; stroke-width:4; stroke-opacity:1; fill:none\" points=\"\n",
       "  196.482,419.781 196.482,47.2441 \n",
       "  \"/>\n",
       "<polyline clip-path=\"url(#clip340)\" style=\"stroke:#000000; stroke-width:4; stroke-opacity:1; fill:none\" points=\"\n",
       "  196.482,385.923 207.42,385.923 \n",
       "  \"/>\n",
       "<polyline clip-path=\"url(#clip340)\" style=\"stroke:#000000; stroke-width:4; stroke-opacity:1; fill:none\" points=\"\n",
       "  196.482,335.119 207.42,335.119 \n",
       "  \"/>\n",
       "<polyline clip-path=\"url(#clip340)\" style=\"stroke:#000000; stroke-width:4; stroke-opacity:1; fill:none\" points=\"\n",
       "  196.482,284.316 207.42,284.316 \n",
       "  \"/>\n",
       "<polyline clip-path=\"url(#clip340)\" style=\"stroke:#000000; stroke-width:4; stroke-opacity:1; fill:none\" points=\"\n",
       "  196.482,233.513 207.42,233.513 \n",
       "  \"/>\n",
       "<polyline clip-path=\"url(#clip340)\" style=\"stroke:#000000; stroke-width:4; stroke-opacity:1; fill:none\" points=\"\n",
       "  196.482,182.709 207.42,182.709 \n",
       "  \"/>\n",
       "<polyline clip-path=\"url(#clip340)\" style=\"stroke:#000000; stroke-width:4; stroke-opacity:1; fill:none\" points=\"\n",
       "  196.482,131.906 207.42,131.906 \n",
       "  \"/>\n",
       "<polyline clip-path=\"url(#clip340)\" style=\"stroke:#000000; stroke-width:4; stroke-opacity:1; fill:none\" points=\"\n",
       "  196.482,81.1025 207.42,81.1025 \n",
       "  \"/>\n",
       "<path clip-path=\"url(#clip340)\" d=\"M 0 0 M104.441 386.374 L134.117 386.374 L134.117 390.309 L104.441 390.309 L104.441 386.374 Z\" fill=\"#000000\" fill-rule=\"evenodd\" fill-opacity=\"1\" /><path clip-path=\"url(#clip340)\" d=\"M 0 0 M153.353 384.569 Q156.709 385.286 158.584 387.555 Q160.482 389.823 160.482 393.157 Q160.482 398.272 156.964 401.073 Q153.445 403.874 146.964 403.874 Q144.788 403.874 142.473 403.434 Q140.181 403.018 137.728 402.161 L137.728 397.647 Q139.672 398.782 141.987 399.36 Q144.302 399.939 146.825 399.939 Q151.223 399.939 153.515 398.203 Q155.83 396.467 155.83 393.157 Q155.83 390.101 153.677 388.388 Q151.547 386.652 147.728 386.652 L143.7 386.652 L143.7 382.809 L147.913 382.809 Q151.362 382.809 153.191 381.444 Q155.019 380.055 155.019 377.462 Q155.019 374.8 153.121 373.388 Q151.246 371.953 147.728 371.953 Q145.806 371.953 143.607 372.37 Q141.408 372.786 138.769 373.666 L138.769 369.499 Q141.431 368.759 143.746 368.388 Q146.084 368.018 148.144 368.018 Q153.468 368.018 156.57 370.448 Q159.672 372.856 159.672 376.976 Q159.672 379.846 158.029 381.837 Q156.385 383.805 153.353 384.569 Z\" fill=\"#000000\" fill-rule=\"evenodd\" fill-opacity=\"1\" /><path clip-path=\"url(#clip340)\" d=\"M 0 0 M105.39 335.571 L135.066 335.571 L135.066 339.506 L105.39 339.506 L105.39 335.571 Z\" fill=\"#000000\" fill-rule=\"evenodd\" fill-opacity=\"1\" /><path clip-path=\"url(#clip340)\" d=\"M 0 0 M144.163 348.464 L160.482 348.464 L160.482 352.399 L138.538 352.399 L138.538 348.464 Q141.2 345.71 145.783 341.08 Q150.39 336.427 151.57 335.085 Q153.816 332.562 154.695 330.825 Q155.598 329.066 155.598 327.376 Q155.598 324.622 153.654 322.886 Q151.732 321.15 148.63 321.15 Q146.431 321.15 143.978 321.913 Q141.547 322.677 138.769 324.228 L138.769 319.506 Q141.593 318.372 144.047 317.793 Q146.501 317.214 148.538 317.214 Q153.908 317.214 157.103 319.9 Q160.297 322.585 160.297 327.075 Q160.297 329.205 159.487 331.126 Q158.7 333.025 156.593 335.617 Q156.015 336.288 152.913 339.506 Q149.811 342.7 144.163 348.464 Z\" fill=\"#000000\" fill-rule=\"evenodd\" fill-opacity=\"1\" /><path clip-path=\"url(#clip340)\" d=\"M 0 0 M105.02 284.767 L134.695 284.767 L134.695 288.703 L105.02 288.703 L105.02 284.767 Z\" fill=\"#000000\" fill-rule=\"evenodd\" fill-opacity=\"1\" /><path clip-path=\"url(#clip340)\" d=\"M 0 0 M140.575 297.661 L148.214 297.661 L148.214 271.295 L139.904 272.962 L139.904 268.703 L148.168 267.036 L152.843 267.036 L152.843 297.661 L160.482 297.661 L160.482 301.596 L140.575 301.596 L140.575 297.661 Z\" fill=\"#000000\" fill-rule=\"evenodd\" fill-opacity=\"1\" /><path clip-path=\"url(#clip340)\" d=\"M 0 0 M148.538 219.311 Q144.927 219.311 143.098 222.876 Q141.293 226.418 141.293 233.547 Q141.293 240.654 143.098 244.219 Q144.927 247.76 148.538 247.76 Q152.172 247.76 153.978 244.219 Q155.806 240.654 155.806 233.547 Q155.806 226.418 153.978 222.876 Q152.172 219.311 148.538 219.311 M148.538 215.608 Q154.348 215.608 157.404 220.214 Q160.482 224.797 160.482 233.547 Q160.482 242.274 157.404 246.881 Q154.348 251.464 148.538 251.464 Q142.728 251.464 139.649 246.881 Q136.594 242.274 136.594 233.547 Q136.594 224.797 139.649 220.214 Q142.728 215.608 148.538 215.608 Z\" fill=\"#000000\" fill-rule=\"evenodd\" fill-opacity=\"1\" /><path clip-path=\"url(#clip340)\" d=\"M 0 0 M140.575 196.054 L148.214 196.054 L148.214 169.689 L139.904 171.355 L139.904 167.096 L148.168 165.429 L152.843 165.429 L152.843 196.054 L160.482 196.054 L160.482 199.989 L140.575 199.989 L140.575 196.054 Z\" fill=\"#000000\" fill-rule=\"evenodd\" fill-opacity=\"1\" /><path clip-path=\"url(#clip340)\" d=\"M 0 0 M144.163 145.251 L160.482 145.251 L160.482 149.186 L138.538 149.186 L138.538 145.251 Q141.2 142.496 145.783 137.867 Q150.39 133.214 151.57 131.871 Q153.816 129.348 154.695 127.612 Q155.598 125.853 155.598 124.163 Q155.598 121.408 153.654 119.672 Q151.732 117.936 148.63 117.936 Q146.431 117.936 143.978 118.7 Q141.547 119.464 138.769 121.015 L138.769 116.293 Q141.593 115.158 144.047 114.58 Q146.501 114.001 148.538 114.001 Q153.908 114.001 157.103 116.686 Q160.297 119.371 160.297 123.862 Q160.297 125.992 159.487 127.913 Q158.7 129.811 156.593 132.404 Q156.015 133.075 152.913 136.292 Q149.811 139.487 144.163 145.251 Z\" fill=\"#000000\" fill-rule=\"evenodd\" fill-opacity=\"1\" /><path clip-path=\"url(#clip340)\" d=\"M 0 0 M153.353 79.7483 Q156.709 80.4659 158.584 82.7344 Q160.482 85.0029 160.482 88.3363 Q160.482 93.452 156.964 96.2529 Q153.445 99.0538 146.964 99.0538 Q144.788 99.0538 142.473 98.614 Q140.181 98.1973 137.728 97.3408 L137.728 92.827 Q139.672 93.9612 141.987 94.5399 Q144.302 95.1186 146.825 95.1186 Q151.223 95.1186 153.515 93.3825 Q155.83 91.6464 155.83 88.3363 Q155.83 85.2807 153.677 83.5678 Q151.547 81.8317 147.728 81.8317 L143.7 81.8317 L143.7 77.9891 L147.913 77.9891 Q151.362 77.9891 153.191 76.6234 Q155.019 75.2345 155.019 72.6419 Q155.019 69.9799 153.121 68.5678 Q151.246 67.1327 147.728 67.1327 Q145.806 67.1327 143.607 67.5493 Q141.408 67.966 138.769 68.8456 L138.769 64.679 Q141.431 63.9382 143.746 63.5679 Q146.084 63.1975 148.144 63.1975 Q153.468 63.1975 156.57 65.628 Q159.672 68.0354 159.672 72.1558 Q159.672 75.0261 158.029 77.0169 Q156.385 78.9845 153.353 79.7483 Z\" fill=\"#000000\" fill-rule=\"evenodd\" fill-opacity=\"1\" /><polyline clip-path=\"url(#clip342)\" style=\"stroke:#009af9; stroke-width:4; stroke-opacity:1; fill:none\" points=\"\n",
       "  222.278,57.7876 224.377,58.0705 226.476,58.3826 228.575,58.7242 230.675,59.0953 250.086,63.9484 269.496,71.378 288.907,81.2979 308.318,93.4958 331.648,110.701 \n",
       "  354.978,129.962 374.704,147.186 394.429,164.638 415.856,183.143 437.284,200.447 457.038,214.749 476.792,227.006 497.97,237.496 519.149,244.996 531.417,247.935 \n",
       "  543.686,249.856 555.955,250.793 568.223,250.801 611.835,244.571 650.078,234.139 691.774,222.638 733.718,216.328 756.905,216.775 780.092,220.668 802.153,227.768 \n",
       "  824.215,238.146 847.154,252.136 870.094,268.884 889.403,284.606 908.713,301.281 932.289,322.128 955.864,342.537 978.025,360.423 1000.19,376.284 1017.94,387.108 \n",
       "  1035.69,395.998 1053.44,402.798 1071.19,407.443 1073.93,407.967 1076.66,408.44 1079.39,408.864 1082.12,409.238 \n",
       "  \"/>\n",
       "<path clip-path=\"url(#clip340)\" d=\"\n",
       "M933.975 180.622 L1077.54 180.622 L1077.54 59.662 L933.975 59.662  Z\n",
       "  \" fill=\"#ffffff\" fill-rule=\"evenodd\" fill-opacity=\"1\"/>\n",
       "<polyline clip-path=\"url(#clip340)\" style=\"stroke:#000000; stroke-width:4; stroke-opacity:1; fill:none\" points=\"\n",
       "  933.975,180.622 1077.54,180.622 1077.54,59.662 933.975,59.662 933.975,180.622 \n",
       "  \"/>\n",
       "<polyline clip-path=\"url(#clip340)\" style=\"stroke:#009af9; stroke-width:4; stroke-opacity:1; fill:none\" points=\"\n",
       "  944.102,120.142 1004.86,120.142 \n",
       "  \"/>\n",
       "<path clip-path=\"url(#clip340)\" d=\"M 0 0 M1031.5 101.404 L1031.5 104.945 L1027.42 104.945 Q1025.13 104.945 1024.23 105.871 Q1023.35 106.797 1023.35 109.205 L1023.35 111.496 L1030.36 111.496 L1030.36 114.806 L1023.35 114.806 L1023.35 137.422 L1019.07 137.422 L1019.07 114.806 L1014.99 114.806 L1014.99 111.496 L1019.07 111.496 L1019.07 109.691 Q1019.07 105.362 1021.08 103.394 Q1023.09 101.404 1027.47 101.404 L1031.5 101.404 Z\" fill=\"#000000\" fill-rule=\"evenodd\" fill-opacity=\"1\" /><path clip-path=\"url(#clip340)\" d=\"M 0 0 M1037.38 133.487 L1045.01 133.487 L1045.01 107.121 L1036.7 108.788 L1036.7 104.529 L1044.97 102.862 L1049.64 102.862 L1049.64 133.487 L1057.28 133.487 L1057.28 137.422 L1037.38 137.422 L1037.38 133.487 Z\" fill=\"#000000\" fill-rule=\"evenodd\" fill-opacity=\"1\" /><path clip-path=\"url(#clip340)\" d=\"\n",
       "M1441.32 419.781 L2352.76 419.781 L2352.76 47.2441 L1441.32 47.2441  Z\n",
       "  \" fill=\"#ffffff\" fill-rule=\"evenodd\" fill-opacity=\"1\"/>\n",
       "<defs>\n",
       "  <clipPath id=\"clip343\">\n",
       "    <rect x=\"1441\" y=\"47\" width=\"912\" height=\"374\"/>\n",
       "  </clipPath>\n",
       "</defs>\n",
       "<polyline clip-path=\"url(#clip343)\" style=\"stroke:#000000; stroke-width:2; stroke-opacity:0.1; fill:none\" points=\"\n",
       "  1553.1,419.781 1553.1,47.2441 \n",
       "  \"/>\n",
       "<polyline clip-path=\"url(#clip343)\" style=\"stroke:#000000; stroke-width:2; stroke-opacity:0.1; fill:none\" points=\"\n",
       "  1725.07,419.781 1725.07,47.2441 \n",
       "  \"/>\n",
       "<polyline clip-path=\"url(#clip343)\" style=\"stroke:#000000; stroke-width:2; stroke-opacity:0.1; fill:none\" points=\"\n",
       "  1897.04,419.781 1897.04,47.2441 \n",
       "  \"/>\n",
       "<polyline clip-path=\"url(#clip343)\" style=\"stroke:#000000; stroke-width:2; stroke-opacity:0.1; fill:none\" points=\"\n",
       "  2069.01,419.781 2069.01,47.2441 \n",
       "  \"/>\n",
       "<polyline clip-path=\"url(#clip343)\" style=\"stroke:#000000; stroke-width:2; stroke-opacity:0.1; fill:none\" points=\"\n",
       "  2240.98,419.781 2240.98,47.2441 \n",
       "  \"/>\n",
       "<polyline clip-path=\"url(#clip340)\" style=\"stroke:#000000; stroke-width:4; stroke-opacity:1; fill:none\" points=\"\n",
       "  1441.32,419.781 2352.76,419.781 \n",
       "  \"/>\n",
       "<polyline clip-path=\"url(#clip340)\" style=\"stroke:#000000; stroke-width:4; stroke-opacity:1; fill:none\" points=\"\n",
       "  1553.1,419.781 1553.1,415.311 \n",
       "  \"/>\n",
       "<polyline clip-path=\"url(#clip340)\" style=\"stroke:#000000; stroke-width:4; stroke-opacity:1; fill:none\" points=\"\n",
       "  1725.07,419.781 1725.07,415.311 \n",
       "  \"/>\n",
       "<polyline clip-path=\"url(#clip340)\" style=\"stroke:#000000; stroke-width:4; stroke-opacity:1; fill:none\" points=\"\n",
       "  1897.04,419.781 1897.04,415.311 \n",
       "  \"/>\n",
       "<polyline clip-path=\"url(#clip340)\" style=\"stroke:#000000; stroke-width:4; stroke-opacity:1; fill:none\" points=\"\n",
       "  2069.01,419.781 2069.01,415.311 \n",
       "  \"/>\n",
       "<polyline clip-path=\"url(#clip340)\" style=\"stroke:#000000; stroke-width:4; stroke-opacity:1; fill:none\" points=\"\n",
       "  2240.98,419.781 2240.98,415.311 \n",
       "  \"/>\n",
       "<path clip-path=\"url(#clip340)\" d=\"M 0 0 M1524.51 463.625 L1554.19 463.625 L1554.19 467.56 L1524.51 467.56 L1524.51 463.625 Z\" fill=\"#000000\" fill-rule=\"evenodd\" fill-opacity=\"1\" /><path clip-path=\"url(#clip340)\" d=\"M 0 0 M1572.1 449.967 L1560.3 468.416 L1572.1 468.416 L1572.1 449.967 M1570.88 445.893 L1576.76 445.893 L1576.76 468.416 L1581.69 468.416 L1581.69 472.305 L1576.76 472.305 L1576.76 480.453 L1572.1 480.453 L1572.1 472.305 L1556.5 472.305 L1556.5 467.791 L1570.88 445.893 Z\" fill=\"#000000\" fill-rule=\"evenodd\" fill-opacity=\"1\" /><path clip-path=\"url(#clip340)\" d=\"M 0 0 M1697.52 463.625 L1727.2 463.625 L1727.2 467.56 L1697.52 467.56 L1697.52 463.625 Z\" fill=\"#000000\" fill-rule=\"evenodd\" fill-opacity=\"1\" /><path clip-path=\"url(#clip340)\" d=\"M 0 0 M1736.3 476.518 L1752.62 476.518 L1752.62 480.453 L1730.67 480.453 L1730.67 476.518 Q1733.33 473.763 1737.92 469.134 Q1742.52 464.481 1743.7 463.138 Q1745.95 460.615 1746.83 458.879 Q1747.73 457.12 1747.73 455.43 Q1747.73 452.676 1745.79 450.939 Q1743.87 449.203 1740.76 449.203 Q1738.56 449.203 1736.11 449.967 Q1733.68 450.731 1730.9 452.282 L1730.9 447.56 Q1733.73 446.426 1736.18 445.847 Q1738.63 445.268 1740.67 445.268 Q1746.04 445.268 1749.24 447.953 Q1752.43 450.639 1752.43 455.129 Q1752.43 457.259 1751.62 459.18 Q1750.83 461.078 1748.73 463.671 Q1748.15 464.342 1745.05 467.56 Q1741.94 470.754 1736.3 476.518 Z\" fill=\"#000000\" fill-rule=\"evenodd\" fill-opacity=\"1\" /><path clip-path=\"url(#clip340)\" d=\"M 0 0 M1897.04 448.972 Q1893.43 448.972 1891.6 452.537 Q1889.79 456.078 1889.79 463.208 Q1889.79 470.314 1891.6 473.879 Q1893.43 477.421 1897.04 477.421 Q1900.67 477.421 1902.48 473.879 Q1904.31 470.314 1904.31 463.208 Q1904.31 456.078 1902.48 452.537 Q1900.67 448.972 1897.04 448.972 M1897.04 445.268 Q1902.85 445.268 1905.9 449.875 Q1908.98 454.458 1908.98 463.208 Q1908.98 471.935 1905.9 476.541 Q1902.85 481.125 1897.04 481.125 Q1891.23 481.125 1888.15 476.541 Q1885.09 471.935 1885.09 463.208 Q1885.09 454.458 1888.15 449.875 Q1891.23 445.268 1897.04 445.268 Z\" fill=\"#000000\" fill-rule=\"evenodd\" fill-opacity=\"1\" /><path clip-path=\"url(#clip340)\" d=\"M 0 0 M2063.66 476.518 L2079.98 476.518 L2079.98 480.453 L2058.03 480.453 L2058.03 476.518 Q2060.7 473.763 2065.28 469.134 Q2069.89 464.481 2071.07 463.138 Q2073.31 460.615 2074.19 458.879 Q2075.09 457.12 2075.09 455.43 Q2075.09 452.676 2073.15 450.939 Q2071.23 449.203 2068.13 449.203 Q2065.93 449.203 2063.47 449.967 Q2061.04 450.731 2058.27 452.282 L2058.27 447.56 Q2061.09 446.426 2063.54 445.847 Q2066 445.268 2068.03 445.268 Q2073.41 445.268 2076.6 447.953 Q2079.79 450.639 2079.79 455.129 Q2079.79 457.259 2078.98 459.18 Q2078.2 461.078 2076.09 463.671 Q2075.51 464.342 2072.41 467.56 Q2069.31 470.754 2063.66 476.518 Z\" fill=\"#000000\" fill-rule=\"evenodd\" fill-opacity=\"1\" /><path clip-path=\"url(#clip340)\" d=\"M 0 0 M2243.99 449.967 L2232.18 468.416 L2243.99 468.416 L2243.99 449.967 M2242.76 445.893 L2248.64 445.893 L2248.64 468.416 L2253.57 468.416 L2253.57 472.305 L2248.64 472.305 L2248.64 480.453 L2243.99 480.453 L2243.99 472.305 L2228.38 472.305 L2228.38 467.791 L2242.76 445.893 Z\" fill=\"#000000\" fill-rule=\"evenodd\" fill-opacity=\"1\" /><polyline clip-path=\"url(#clip343)\" style=\"stroke:#000000; stroke-width:2; stroke-opacity:0.1; fill:none\" points=\"\n",
       "  1441.32,341.987 2352.76,341.987 \n",
       "  \"/>\n",
       "<polyline clip-path=\"url(#clip343)\" style=\"stroke:#000000; stroke-width:2; stroke-opacity:0.1; fill:none\" points=\"\n",
       "  1441.32,247.312 2352.76,247.312 \n",
       "  \"/>\n",
       "<polyline clip-path=\"url(#clip343)\" style=\"stroke:#000000; stroke-width:2; stroke-opacity:0.1; fill:none\" points=\"\n",
       "  1441.32,152.637 2352.76,152.637 \n",
       "  \"/>\n",
       "<polyline clip-path=\"url(#clip343)\" style=\"stroke:#000000; stroke-width:2; stroke-opacity:0.1; fill:none\" points=\"\n",
       "  1441.32,57.9615 2352.76,57.9615 \n",
       "  \"/>\n",
       "<polyline clip-path=\"url(#clip340)\" style=\"stroke:#000000; stroke-width:4; stroke-opacity:1; fill:none\" points=\"\n",
       "  1441.32,419.781 1441.32,47.2441 \n",
       "  \"/>\n",
       "<polyline clip-path=\"url(#clip340)\" style=\"stroke:#000000; stroke-width:4; stroke-opacity:1; fill:none\" points=\"\n",
       "  1441.32,341.987 1452.26,341.987 \n",
       "  \"/>\n",
       "<polyline clip-path=\"url(#clip340)\" style=\"stroke:#000000; stroke-width:4; stroke-opacity:1; fill:none\" points=\"\n",
       "  1441.32,247.312 1452.26,247.312 \n",
       "  \"/>\n",
       "<polyline clip-path=\"url(#clip340)\" style=\"stroke:#000000; stroke-width:4; stroke-opacity:1; fill:none\" points=\"\n",
       "  1441.32,152.637 1452.26,152.637 \n",
       "  \"/>\n",
       "<polyline clip-path=\"url(#clip340)\" style=\"stroke:#000000; stroke-width:4; stroke-opacity:1; fill:none\" points=\"\n",
       "  1441.32,57.9615 1452.26,57.9615 \n",
       "  \"/>\n",
       "<path clip-path=\"url(#clip340)\" d=\"M 0 0 M1294.44 342.439 L1324.12 342.439 L1324.12 346.374 L1294.44 346.374 L1294.44 342.439 Z\" fill=\"#000000\" fill-rule=\"evenodd\" fill-opacity=\"1\" /><path clip-path=\"url(#clip340)\" d=\"M 0 0 M1339.76 340.124 Q1336.62 340.124 1334.76 342.277 Q1332.94 344.429 1332.94 348.179 Q1332.94 351.906 1334.76 354.082 Q1336.62 356.235 1339.76 356.235 Q1342.91 356.235 1344.74 354.082 Q1346.59 351.906 1346.59 348.179 Q1346.59 344.429 1344.74 342.277 Q1342.91 340.124 1339.76 340.124 M1349.05 325.471 L1349.05 329.73 Q1347.29 328.897 1345.48 328.457 Q1343.7 328.017 1341.94 328.017 Q1337.31 328.017 1334.86 331.142 Q1332.43 334.267 1332.08 340.587 Q1333.45 338.573 1335.51 337.508 Q1337.57 336.42 1340.04 336.42 Q1345.25 336.42 1348.26 339.591 Q1351.29 342.739 1351.29 348.179 Q1351.29 353.503 1348.14 356.721 Q1345 359.938 1339.76 359.938 Q1333.77 359.938 1330.6 355.355 Q1327.43 350.749 1327.43 342.022 Q1327.43 333.827 1331.32 328.966 Q1335.2 324.082 1341.76 324.082 Q1343.51 324.082 1345.3 324.429 Q1347.1 324.777 1349.05 325.471 Z\" fill=\"#000000\" fill-rule=\"evenodd\" fill-opacity=\"1\" /><path clip-path=\"url(#clip340)\" d=\"M 0 0 M1366.36 327.786 Q1362.75 327.786 1360.92 331.351 Q1359.12 334.892 1359.12 342.022 Q1359.12 349.128 1360.92 352.693 Q1362.75 356.235 1366.36 356.235 Q1370 356.235 1371.8 352.693 Q1373.63 349.128 1373.63 342.022 Q1373.63 334.892 1371.8 331.351 Q1370 327.786 1366.36 327.786 M1366.36 324.082 Q1372.17 324.082 1375.23 328.689 Q1378.31 333.272 1378.31 342.022 Q1378.31 350.749 1375.23 355.355 Q1372.17 359.938 1366.36 359.938 Q1360.55 359.938 1357.47 355.355 Q1354.42 350.749 1354.42 342.022 Q1354.42 333.272 1357.47 328.689 Q1360.55 324.082 1366.36 324.082 Z\" fill=\"#000000\" fill-rule=\"evenodd\" fill-opacity=\"1\" /><path clip-path=\"url(#clip340)\" d=\"M 0 0 M1393.38 327.786 Q1389.76 327.786 1387.94 331.351 Q1386.13 334.892 1386.13 342.022 Q1386.13 349.128 1387.94 352.693 Q1389.76 356.235 1393.38 356.235 Q1397.01 356.235 1398.82 352.693 Q1400.64 349.128 1400.64 342.022 Q1400.64 334.892 1398.82 331.351 Q1397.01 327.786 1393.38 327.786 M1393.38 324.082 Q1399.19 324.082 1402.24 328.689 Q1405.32 333.272 1405.32 342.022 Q1405.32 350.749 1402.24 355.355 Q1399.19 359.938 1393.38 359.938 Q1387.57 359.938 1384.49 355.355 Q1381.43 350.749 1381.43 342.022 Q1381.43 333.272 1384.49 328.689 Q1387.57 324.082 1393.38 324.082 Z\" fill=\"#000000\" fill-rule=\"evenodd\" fill-opacity=\"1\" /><path clip-path=\"url(#clip340)\" d=\"M 0 0 M1294.12 247.763 L1323.79 247.763 L1323.79 251.698 L1294.12 251.698 L1294.12 247.763 Z\" fill=\"#000000\" fill-rule=\"evenodd\" fill-opacity=\"1\" /><path clip-path=\"url(#clip340)\" d=\"M 0 0 M1341.71 234.106 L1329.9 252.555 L1341.71 252.555 L1341.71 234.106 M1340.48 230.032 L1346.36 230.032 L1346.36 252.555 L1351.29 252.555 L1351.29 256.444 L1346.36 256.444 L1346.36 264.592 L1341.71 264.592 L1341.71 256.444 L1326.11 256.444 L1326.11 251.93 L1340.48 230.032 Z\" fill=\"#000000\" fill-rule=\"evenodd\" fill-opacity=\"1\" /><path clip-path=\"url(#clip340)\" d=\"M 0 0 M1366.36 233.111 Q1362.75 233.111 1360.92 236.675 Q1359.12 240.217 1359.12 247.347 Q1359.12 254.453 1360.92 258.018 Q1362.75 261.56 1366.36 261.56 Q1370 261.56 1371.8 258.018 Q1373.63 254.453 1373.63 247.347 Q1373.63 240.217 1371.8 236.675 Q1370 233.111 1366.36 233.111 M1366.36 229.407 Q1372.17 229.407 1375.23 234.013 Q1378.31 238.597 1378.31 247.347 Q1378.31 256.073 1375.23 260.68 Q1372.17 265.263 1366.36 265.263 Q1360.55 265.263 1357.47 260.68 Q1354.42 256.073 1354.42 247.347 Q1354.42 238.597 1357.47 234.013 Q1360.55 229.407 1366.36 229.407 Z\" fill=\"#000000\" fill-rule=\"evenodd\" fill-opacity=\"1\" /><path clip-path=\"url(#clip340)\" d=\"M 0 0 M1393.38 233.111 Q1389.76 233.111 1387.94 236.675 Q1386.13 240.217 1386.13 247.347 Q1386.13 254.453 1387.94 258.018 Q1389.76 261.56 1393.38 261.56 Q1397.01 261.56 1398.82 258.018 Q1400.64 254.453 1400.64 247.347 Q1400.64 240.217 1398.82 236.675 Q1397.01 233.111 1393.38 233.111 M1393.38 229.407 Q1399.19 229.407 1402.24 234.013 Q1405.32 238.597 1405.32 247.347 Q1405.32 256.073 1402.24 260.68 Q1399.19 265.263 1393.38 265.263 Q1387.57 265.263 1384.49 260.68 Q1381.43 256.073 1381.43 247.347 Q1381.43 238.597 1384.49 234.013 Q1387.57 229.407 1393.38 229.407 Z\" fill=\"#000000\" fill-rule=\"evenodd\" fill-opacity=\"1\" /><path clip-path=\"url(#clip340)\" d=\"M 0 0 M1296.2 153.088 L1325.88 153.088 L1325.88 157.023 L1296.2 157.023 L1296.2 153.088 Z\" fill=\"#000000\" fill-rule=\"evenodd\" fill-opacity=\"1\" /><path clip-path=\"url(#clip340)\" d=\"M 0 0 M1334.97 165.982 L1351.29 165.982 L1351.29 169.917 L1329.35 169.917 L1329.35 165.982 Q1332.01 163.227 1336.59 158.597 Q1341.2 153.945 1342.38 152.602 Q1344.63 150.079 1345.51 148.343 Q1346.41 146.584 1346.41 144.894 Q1346.41 142.139 1344.46 140.403 Q1342.54 138.667 1339.44 138.667 Q1337.24 138.667 1334.79 139.431 Q1332.36 140.195 1329.58 141.746 L1329.58 137.023 Q1332.4 135.889 1334.86 135.31 Q1337.31 134.732 1339.35 134.732 Q1344.72 134.732 1347.91 137.417 Q1351.11 140.102 1351.11 144.593 Q1351.11 146.722 1350.3 148.644 Q1349.51 150.542 1347.4 153.134 Q1346.82 153.806 1343.72 157.023 Q1340.62 160.218 1334.97 165.982 Z\" fill=\"#000000\" fill-rule=\"evenodd\" fill-opacity=\"1\" /><path clip-path=\"url(#clip340)\" d=\"M 0 0 M1366.36 138.435 Q1362.75 138.435 1360.92 142 Q1359.12 145.542 1359.12 152.671 Q1359.12 159.778 1360.92 163.343 Q1362.75 166.884 1366.36 166.884 Q1370 166.884 1371.8 163.343 Q1373.63 159.778 1373.63 152.671 Q1373.63 145.542 1371.8 142 Q1370 138.435 1366.36 138.435 M1366.36 134.732 Q1372.17 134.732 1375.23 139.338 Q1378.31 143.921 1378.31 152.671 Q1378.31 161.398 1375.23 166.005 Q1372.17 170.588 1366.36 170.588 Q1360.55 170.588 1357.47 166.005 Q1354.42 161.398 1354.42 152.671 Q1354.42 143.921 1357.47 139.338 Q1360.55 134.732 1366.36 134.732 Z\" fill=\"#000000\" fill-rule=\"evenodd\" fill-opacity=\"1\" /><path clip-path=\"url(#clip340)\" d=\"M 0 0 M1393.38 138.435 Q1389.76 138.435 1387.94 142 Q1386.13 145.542 1386.13 152.671 Q1386.13 159.778 1387.94 163.343 Q1389.76 166.884 1393.38 166.884 Q1397.01 166.884 1398.82 163.343 Q1400.64 159.778 1400.64 152.671 Q1400.64 145.542 1398.82 142 Q1397.01 138.435 1393.38 138.435 M1393.38 134.732 Q1399.19 134.732 1402.24 139.338 Q1405.32 143.921 1405.32 152.671 Q1405.32 161.398 1402.24 166.005 Q1399.19 170.588 1393.38 170.588 Q1387.57 170.588 1384.49 166.005 Q1381.43 161.398 1381.43 152.671 Q1381.43 143.921 1384.49 139.338 Q1387.57 134.732 1393.38 134.732 Z\" fill=\"#000000\" fill-rule=\"evenodd\" fill-opacity=\"1\" /><path clip-path=\"url(#clip340)\" d=\"M 0 0 M1393.38 43.7602 Q1389.76 43.7602 1387.94 47.325 Q1386.13 50.8666 1386.13 57.9962 Q1386.13 65.1027 1387.94 68.6675 Q1389.76 72.2091 1393.38 72.2091 Q1397.01 72.2091 1398.82 68.6675 Q1400.64 65.1027 1400.64 57.9962 Q1400.64 50.8666 1398.82 47.325 Q1397.01 43.7602 1393.38 43.7602 M1393.38 40.0565 Q1399.19 40.0565 1402.24 44.663 Q1405.32 49.2463 1405.32 57.9962 Q1405.32 66.723 1402.24 71.3295 Q1399.19 75.9128 1393.38 75.9128 Q1387.57 75.9128 1384.49 71.3295 Q1381.43 66.723 1381.43 57.9962 Q1381.43 49.2463 1384.49 44.663 Q1387.57 40.0565 1393.38 40.0565 Z\" fill=\"#000000\" fill-rule=\"evenodd\" fill-opacity=\"1\" /><polyline clip-path=\"url(#clip343)\" style=\"stroke:#009af9; stroke-width:4; stroke-opacity:1; fill:none\" points=\"\n",
       "  1467.12,409.238 1469.21,399.091 1471.31,389.23 1473.41,379.646 1475.51,370.332 1485.22,330.566 1494.92,295.73 1504.63,265.225 1514.33,238.524 1524.04,215.161 \n",
       "  1533.74,194.728 1543.45,176.866 1553.16,161.259 1564.82,145.095 1576.49,131.37 1588.15,119.724 1599.82,109.852 1619.54,96.477 1639.27,86.405 1660.69,78.2882 \n",
       "  1682.12,72.3683 1701.88,68.3587 1721.63,65.3882 1763.99,61.4036 1813.06,59.1892 1856.67,58.3169 1894.92,57.9735 1936.61,57.824 1978.56,57.7876 2024.93,57.8024 \n",
       "  2069.05,57.8334 2114.93,57.8663 2153.55,57.89 2200.7,57.9126 2245.02,57.928 2316.03,57.9439 2326.96,57.9456 \n",
       "  \"/>\n",
       "<path clip-path=\"url(#clip340)\" d=\"\n",
       "M2179.18 180.622 L2322.37 180.622 L2322.37 59.662 L2179.18 59.662  Z\n",
       "  \" fill=\"#ffffff\" fill-rule=\"evenodd\" fill-opacity=\"1\"/>\n",
       "<polyline clip-path=\"url(#clip340)\" style=\"stroke:#000000; stroke-width:4; stroke-opacity:1; fill:none\" points=\"\n",
       "  2179.18,180.622 2322.37,180.622 2322.37,59.662 2179.18,59.662 2179.18,180.622 \n",
       "  \"/>\n",
       "<polyline clip-path=\"url(#clip340)\" style=\"stroke:#009af9; stroke-width:4; stroke-opacity:1; fill:none\" points=\"\n",
       "  2189.31,120.142 2250.07,120.142 \n",
       "  \"/>\n",
       "<path clip-path=\"url(#clip340)\" d=\"M 0 0 M2276.7 101.404 L2276.7 104.945 L2272.63 104.945 Q2270.34 104.945 2269.44 105.871 Q2268.56 106.797 2268.56 109.205 L2268.56 111.496 L2275.57 111.496 L2275.57 114.806 L2268.56 114.806 L2268.56 137.422 L2264.27 137.422 L2264.27 114.806 L2260.2 114.806 L2260.2 111.496 L2264.27 111.496 L2264.27 109.691 Q2264.27 105.362 2266.29 103.394 Q2268.3 101.404 2272.68 101.404 L2276.7 101.404 Z\" fill=\"#000000\" fill-rule=\"evenodd\" fill-opacity=\"1\" /><path clip-path=\"url(#clip340)\" d=\"M 0 0 M2285.8 133.487 L2302.12 133.487 L2302.12 137.422 L2280.18 137.422 L2280.18 133.487 Q2282.84 130.732 2287.42 126.103 Q2292.03 121.45 2293.21 120.107 Q2295.45 117.584 2296.33 115.848 Q2297.24 114.089 2297.24 112.399 Q2297.24 109.644 2295.29 107.908 Q2293.37 106.172 2290.27 106.172 Q2288.07 106.172 2285.62 106.936 Q2283.19 107.7 2280.41 109.251 L2280.41 104.529 Q2283.23 103.394 2285.69 102.816 Q2288.14 102.237 2290.18 102.237 Q2295.55 102.237 2298.74 104.922 Q2301.94 107.607 2301.94 112.098 Q2301.94 114.228 2301.13 116.149 Q2300.34 118.047 2298.23 120.64 Q2297.65 121.311 2294.55 124.529 Q2291.45 127.723 2285.8 133.487 Z\" fill=\"#000000\" fill-rule=\"evenodd\" fill-opacity=\"1\" /><path clip-path=\"url(#clip340)\" d=\"\n",
       "M196.482 953.115 L1107.92 953.115 L1107.92 580.577 L196.482 580.577  Z\n",
       "  \" fill=\"#ffffff\" fill-rule=\"evenodd\" fill-opacity=\"1\"/>\n",
       "<defs>\n",
       "  <clipPath id=\"clip344\">\n",
       "    <rect x=\"196\" y=\"580\" width=\"912\" height=\"374\"/>\n",
       "  </clipPath>\n",
       "</defs>\n",
       "<polyline clip-path=\"url(#clip344)\" style=\"stroke:#000000; stroke-width:2; stroke-opacity:0.1; fill:none\" points=\"\n",
       "  308.262,953.115 308.262,580.577 \n",
       "  \"/>\n",
       "<polyline clip-path=\"url(#clip344)\" style=\"stroke:#000000; stroke-width:2; stroke-opacity:0.1; fill:none\" points=\"\n",
       "  480.231,953.115 480.231,580.577 \n",
       "  \"/>\n",
       "<polyline clip-path=\"url(#clip344)\" style=\"stroke:#000000; stroke-width:2; stroke-opacity:0.1; fill:none\" points=\"\n",
       "  652.2,953.115 652.2,580.577 \n",
       "  \"/>\n",
       "<polyline clip-path=\"url(#clip344)\" style=\"stroke:#000000; stroke-width:2; stroke-opacity:0.1; fill:none\" points=\"\n",
       "  824.169,953.115 824.169,580.577 \n",
       "  \"/>\n",
       "<polyline clip-path=\"url(#clip344)\" style=\"stroke:#000000; stroke-width:2; stroke-opacity:0.1; fill:none\" points=\"\n",
       "  996.138,953.115 996.138,580.577 \n",
       "  \"/>\n",
       "<polyline clip-path=\"url(#clip340)\" style=\"stroke:#000000; stroke-width:4; stroke-opacity:1; fill:none\" points=\"\n",
       "  196.482,953.115 1107.92,953.115 \n",
       "  \"/>\n",
       "<polyline clip-path=\"url(#clip340)\" style=\"stroke:#000000; stroke-width:4; stroke-opacity:1; fill:none\" points=\"\n",
       "  308.262,953.115 308.262,948.644 \n",
       "  \"/>\n",
       "<polyline clip-path=\"url(#clip340)\" style=\"stroke:#000000; stroke-width:4; stroke-opacity:1; fill:none\" points=\"\n",
       "  480.231,953.115 480.231,948.644 \n",
       "  \"/>\n",
       "<polyline clip-path=\"url(#clip340)\" style=\"stroke:#000000; stroke-width:4; stroke-opacity:1; fill:none\" points=\"\n",
       "  652.2,953.115 652.2,948.644 \n",
       "  \"/>\n",
       "<polyline clip-path=\"url(#clip340)\" style=\"stroke:#000000; stroke-width:4; stroke-opacity:1; fill:none\" points=\"\n",
       "  824.169,953.115 824.169,948.644 \n",
       "  \"/>\n",
       "<polyline clip-path=\"url(#clip340)\" style=\"stroke:#000000; stroke-width:4; stroke-opacity:1; fill:none\" points=\"\n",
       "  996.138,953.115 996.138,948.644 \n",
       "  \"/>\n",
       "<path clip-path=\"url(#clip340)\" d=\"M 0 0 M279.674 996.958 L309.35 996.958 L309.35 1000.89 L279.674 1000.89 L279.674 996.958 Z\" fill=\"#000000\" fill-rule=\"evenodd\" fill-opacity=\"1\" /><path clip-path=\"url(#clip340)\" d=\"M 0 0 M327.267 983.301 L315.461 1001.75 L327.267 1001.75 L327.267 983.301 M326.04 979.227 L331.919 979.227 L331.919 1001.75 L336.85 1001.75 L336.85 1005.64 L331.919 1005.64 L331.919 1013.79 L327.267 1013.79 L327.267 1005.64 L311.665 1005.64 L311.665 1001.12 L326.04 979.227 Z\" fill=\"#000000\" fill-rule=\"evenodd\" fill-opacity=\"1\" /><path clip-path=\"url(#clip340)\" d=\"M 0 0 M452.685 996.958 L482.361 996.958 L482.361 1000.89 L452.685 1000.89 L452.685 996.958 Z\" fill=\"#000000\" fill-rule=\"evenodd\" fill-opacity=\"1\" /><path clip-path=\"url(#clip340)\" d=\"M 0 0 M491.458 1009.85 L507.777 1009.85 L507.777 1013.79 L485.833 1013.79 L485.833 1009.85 Q488.495 1007.1 493.078 1002.47 Q497.685 997.814 498.865 996.472 Q501.111 993.949 501.99 992.213 Q502.893 990.453 502.893 988.764 Q502.893 986.009 500.949 984.273 Q499.027 982.537 495.926 982.537 Q493.726 982.537 491.273 983.301 Q488.842 984.064 486.064 985.615 L486.064 980.893 Q488.889 979.759 491.342 979.18 Q493.796 978.602 495.833 978.602 Q501.203 978.602 504.398 981.287 Q507.592 983.972 507.592 988.463 Q507.592 990.592 506.782 992.514 Q505.995 994.412 503.888 997.004 Q503.31 997.676 500.208 1000.89 Q497.106 1004.09 491.458 1009.85 Z\" fill=\"#000000\" fill-rule=\"evenodd\" fill-opacity=\"1\" /><path clip-path=\"url(#clip340)\" d=\"M 0 0 M652.2 982.305 Q648.589 982.305 646.76 985.87 Q644.955 989.412 644.955 996.541 Q644.955 1003.65 646.76 1007.21 Q648.589 1010.75 652.2 1010.75 Q655.834 1010.75 657.64 1007.21 Q659.469 1003.65 659.469 996.541 Q659.469 989.412 657.64 985.87 Q655.834 982.305 652.2 982.305 M652.2 978.602 Q658.01 978.602 661.066 983.208 Q664.145 987.791 664.145 996.541 Q664.145 1005.27 661.066 1009.87 Q658.01 1014.46 652.2 1014.46 Q646.39 1014.46 643.311 1009.87 Q640.256 1005.27 640.256 996.541 Q640.256 987.791 643.311 983.208 Q646.39 978.602 652.2 978.602 Z\" fill=\"#000000\" fill-rule=\"evenodd\" fill-opacity=\"1\" /><path clip-path=\"url(#clip340)\" d=\"M 0 0 M818.822 1009.85 L835.141 1009.85 L835.141 1013.79 L813.197 1013.79 L813.197 1009.85 Q815.859 1007.1 820.442 1002.47 Q825.049 997.814 826.229 996.472 Q828.475 993.949 829.354 992.213 Q830.257 990.453 830.257 988.764 Q830.257 986.009 828.313 984.273 Q826.391 982.537 823.29 982.537 Q821.091 982.537 818.637 983.301 Q816.206 984.064 813.429 985.615 L813.429 980.893 Q816.253 979.759 818.706 979.18 Q821.16 978.602 823.197 978.602 Q828.567 978.602 831.762 981.287 Q834.956 983.972 834.956 988.463 Q834.956 990.592 834.146 992.514 Q833.359 994.412 831.253 997.004 Q830.674 997.676 827.572 1000.89 Q824.47 1004.09 818.822 1009.85 Z\" fill=\"#000000\" fill-rule=\"evenodd\" fill-opacity=\"1\" /><path clip-path=\"url(#clip340)\" d=\"M 0 0 M999.148 983.301 L987.342 1001.75 L999.148 1001.75 L999.148 983.301 M997.921 979.227 L1003.8 979.227 L1003.8 1001.75 L1008.73 1001.75 L1008.73 1005.64 L1003.8 1005.64 L1003.8 1013.79 L999.148 1013.79 L999.148 1005.64 L983.546 1005.64 L983.546 1001.12 L997.921 979.227 Z\" fill=\"#000000\" fill-rule=\"evenodd\" fill-opacity=\"1\" /><polyline clip-path=\"url(#clip344)\" style=\"stroke:#000000; stroke-width:2; stroke-opacity:0.1; fill:none\" points=\"\n",
       "  196.482,903.912 1107.92,903.912 \n",
       "  \"/>\n",
       "<polyline clip-path=\"url(#clip344)\" style=\"stroke:#000000; stroke-width:2; stroke-opacity:0.1; fill:none\" points=\"\n",
       "  196.482,816.049 1107.92,816.049 \n",
       "  \"/>\n",
       "<polyline clip-path=\"url(#clip344)\" style=\"stroke:#000000; stroke-width:2; stroke-opacity:0.1; fill:none\" points=\"\n",
       "  196.482,728.186 1107.92,728.186 \n",
       "  \"/>\n",
       "<polyline clip-path=\"url(#clip344)\" style=\"stroke:#000000; stroke-width:2; stroke-opacity:0.1; fill:none\" points=\"\n",
       "  196.482,640.324 1107.92,640.324 \n",
       "  \"/>\n",
       "<polyline clip-path=\"url(#clip340)\" style=\"stroke:#000000; stroke-width:4; stroke-opacity:1; fill:none\" points=\"\n",
       "  196.482,953.115 196.482,580.577 \n",
       "  \"/>\n",
       "<polyline clip-path=\"url(#clip340)\" style=\"stroke:#000000; stroke-width:4; stroke-opacity:1; fill:none\" points=\"\n",
       "  196.482,903.912 207.42,903.912 \n",
       "  \"/>\n",
       "<polyline clip-path=\"url(#clip340)\" style=\"stroke:#000000; stroke-width:4; stroke-opacity:1; fill:none\" points=\"\n",
       "  196.482,816.049 207.42,816.049 \n",
       "  \"/>\n",
       "<polyline clip-path=\"url(#clip340)\" style=\"stroke:#000000; stroke-width:4; stroke-opacity:1; fill:none\" points=\"\n",
       "  196.482,728.186 207.42,728.186 \n",
       "  \"/>\n",
       "<polyline clip-path=\"url(#clip340)\" style=\"stroke:#000000; stroke-width:4; stroke-opacity:1; fill:none\" points=\"\n",
       "  196.482,640.324 207.42,640.324 \n",
       "  \"/>\n",
       "<path clip-path=\"url(#clip340)\" d=\"M 0 0 M77.7744 904.363 L107.45 904.363 L107.45 908.298 L77.7744 908.298 L77.7744 904.363 Z\" fill=\"#000000\" fill-rule=\"evenodd\" fill-opacity=\"1\" /><path clip-path=\"url(#clip340)\" d=\"M 0 0 M112.566 886.632 L130.922 886.632 L130.922 890.567 L116.848 890.567 L116.848 899.039 Q117.867 898.692 118.885 898.53 Q119.904 898.344 120.922 898.344 Q126.709 898.344 130.089 901.516 Q133.469 904.687 133.469 910.104 Q133.469 915.682 129.996 918.784 Q126.524 921.863 120.205 921.863 Q118.029 921.863 115.76 921.492 Q113.515 921.122 111.108 920.381 L111.108 915.682 Q113.191 916.817 115.413 917.372 Q117.635 917.928 120.112 917.928 Q124.117 917.928 126.455 915.821 Q128.793 913.715 128.793 910.104 Q128.793 906.493 126.455 904.386 Q124.117 902.28 120.112 902.28 Q118.237 902.28 116.362 902.696 Q114.51 903.113 112.566 903.993 L112.566 886.632 Z\" fill=\"#000000\" fill-rule=\"evenodd\" fill-opacity=\"1\" /><path clip-path=\"url(#clip340)\" d=\"M 0 0 M148.538 889.71 Q144.927 889.71 143.098 893.275 Q141.293 896.817 141.293 903.946 Q141.293 911.053 143.098 914.617 Q144.927 918.159 148.538 918.159 Q152.172 918.159 153.978 914.617 Q155.806 911.053 155.806 903.946 Q155.806 896.817 153.978 893.275 Q152.172 889.71 148.538 889.71 M148.538 886.007 Q154.348 886.007 157.404 890.613 Q160.482 895.196 160.482 903.946 Q160.482 912.673 157.404 917.28 Q154.348 921.863 148.538 921.863 Q142.728 921.863 139.649 917.28 Q136.594 912.673 136.594 903.946 Q136.594 895.196 139.649 890.613 Q142.728 886.007 148.538 886.007 Z\" fill=\"#000000\" fill-rule=\"evenodd\" fill-opacity=\"1\" /><path clip-path=\"url(#clip340)\" d=\"M 0 0 M148.538 801.848 Q144.927 801.848 143.098 805.412 Q141.293 808.954 141.293 816.084 Q141.293 823.19 143.098 826.755 Q144.927 830.297 148.538 830.297 Q152.172 830.297 153.978 826.755 Q155.806 823.19 155.806 816.084 Q155.806 808.954 153.978 805.412 Q152.172 801.848 148.538 801.848 M148.538 798.144 Q154.348 798.144 157.404 802.75 Q160.482 807.334 160.482 816.084 Q160.482 824.811 157.404 829.417 Q154.348 834 148.538 834 Q142.728 834 139.649 829.417 Q136.594 824.811 136.594 816.084 Q136.594 807.334 139.649 802.75 Q142.728 798.144 148.538 798.144 Z\" fill=\"#000000\" fill-rule=\"evenodd\" fill-opacity=\"1\" /><path clip-path=\"url(#clip340)\" d=\"M 0 0 M112.566 710.906 L130.922 710.906 L130.922 714.842 L116.848 714.842 L116.848 723.314 Q117.867 722.967 118.885 722.805 Q119.904 722.619 120.922 722.619 Q126.709 722.619 130.089 725.791 Q133.469 728.962 133.469 734.379 Q133.469 739.957 129.996 743.059 Q126.524 746.138 120.205 746.138 Q118.029 746.138 115.76 745.767 Q113.515 745.397 111.108 744.656 L111.108 739.957 Q113.191 741.091 115.413 741.647 Q117.635 742.203 120.112 742.203 Q124.117 742.203 126.455 740.096 Q128.793 737.99 128.793 734.379 Q128.793 730.767 126.455 728.661 Q124.117 726.555 120.112 726.555 Q118.237 726.555 116.362 726.971 Q114.51 727.388 112.566 728.267 L112.566 710.906 Z\" fill=\"#000000\" fill-rule=\"evenodd\" fill-opacity=\"1\" /><path clip-path=\"url(#clip340)\" d=\"M 0 0 M148.538 713.985 Q144.927 713.985 143.098 717.55 Q141.293 721.092 141.293 728.221 Q141.293 735.328 143.098 738.892 Q144.927 742.434 148.538 742.434 Q152.172 742.434 153.978 738.892 Q155.806 735.328 155.806 728.221 Q155.806 721.092 153.978 717.55 Q152.172 713.985 148.538 713.985 M148.538 710.281 Q154.348 710.281 157.404 714.888 Q160.482 719.471 160.482 728.221 Q160.482 736.948 157.404 741.554 Q154.348 746.138 148.538 746.138 Q142.728 746.138 139.649 741.554 Q136.594 736.948 136.594 728.221 Q136.594 719.471 139.649 714.888 Q142.728 710.281 148.538 710.281 Z\" fill=\"#000000\" fill-rule=\"evenodd\" fill-opacity=\"1\" /><path clip-path=\"url(#clip340)\" d=\"M 0 0 M86.5475 653.669 L94.1863 653.669 L94.1863 627.303 L85.8762 628.97 L85.8762 624.711 L94.14 623.044 L98.8159 623.044 L98.8159 653.669 L106.455 653.669 L106.455 657.604 L86.5475 657.604 L86.5475 653.669 Z\" fill=\"#000000\" fill-rule=\"evenodd\" fill-opacity=\"1\" /><path clip-path=\"url(#clip340)\" d=\"M 0 0 M121.524 626.123 Q117.913 626.123 116.084 629.687 Q114.279 633.229 114.279 640.359 Q114.279 647.465 116.084 651.03 Q117.913 654.572 121.524 654.572 Q125.158 654.572 126.964 651.03 Q128.793 647.465 128.793 640.359 Q128.793 633.229 126.964 629.687 Q125.158 626.123 121.524 626.123 M121.524 622.419 Q127.334 622.419 130.39 627.025 Q133.469 631.609 133.469 640.359 Q133.469 649.085 130.39 653.692 Q127.334 658.275 121.524 658.275 Q115.714 658.275 112.635 653.692 Q109.58 649.085 109.58 640.359 Q109.58 631.609 112.635 627.025 Q115.714 622.419 121.524 622.419 Z\" fill=\"#000000\" fill-rule=\"evenodd\" fill-opacity=\"1\" /><path clip-path=\"url(#clip340)\" d=\"M 0 0 M148.538 626.123 Q144.927 626.123 143.098 629.687 Q141.293 633.229 141.293 640.359 Q141.293 647.465 143.098 651.03 Q144.927 654.572 148.538 654.572 Q152.172 654.572 153.978 651.03 Q155.806 647.465 155.806 640.359 Q155.806 633.229 153.978 629.687 Q152.172 626.123 148.538 626.123 M148.538 622.419 Q154.348 622.419 157.404 627.025 Q160.482 631.609 160.482 640.359 Q160.482 649.085 157.404 653.692 Q154.348 658.275 148.538 658.275 Q142.728 658.275 139.649 653.692 Q136.594 649.085 136.594 640.359 Q136.594 631.609 139.649 627.025 Q142.728 622.419 148.538 622.419 Z\" fill=\"#000000\" fill-rule=\"evenodd\" fill-opacity=\"1\" /><polyline clip-path=\"url(#clip344)\" style=\"stroke:#009af9; stroke-width:4; stroke-opacity:1; fill:none\" points=\"\n",
       "  222.278,942.571 224.377,940.012 226.476,937.481 228.575,934.98 230.675,932.507 250.086,910.986 269.496,891.799 288.907,874.824 308.318,859.94 331.648,844.647 \n",
       "  354.978,831.989 374.704,823.186 394.429,815.989 415.856,809.843 437.284,805.278 457.038,802.33 476.792,800.459 519.149,799.485 568.223,802.157 611.835,806.447 \n",
       "  650.078,810.559 691.774,814.278 733.718,816.03 756.905,815.698 780.092,814.176 802.153,811.435 824.215,807.252 847.154,801.183 870.094,793.162 889.403,784.75 \n",
       "  908.713,774.694 932.289,760.014 955.864,742.488 978.025,723.224 1000.19,701.072 1017.94,681.123 1035.69,659.113 1053.44,634.948 1071.19,608.537 1073.93,604.267 \n",
       "  1076.66,599.941 1079.39,595.559 1082.12,591.121 \n",
       "  \"/>\n",
       "<path clip-path=\"url(#clip340)\" d=\"\n",
       "M933.396 713.955 L1077.54 713.955 L1077.54 592.995 L933.396 592.995  Z\n",
       "  \" fill=\"#ffffff\" fill-rule=\"evenodd\" fill-opacity=\"1\"/>\n",
       "<polyline clip-path=\"url(#clip340)\" style=\"stroke:#000000; stroke-width:4; stroke-opacity:1; fill:none\" points=\"\n",
       "  933.396,713.955 1077.54,713.955 1077.54,592.995 933.396,592.995 933.396,713.955 \n",
       "  \"/>\n",
       "<polyline clip-path=\"url(#clip340)\" style=\"stroke:#009af9; stroke-width:4; stroke-opacity:1; fill:none\" points=\"\n",
       "  943.523,653.475 1004.29,653.475 \n",
       "  \"/>\n",
       "<path clip-path=\"url(#clip340)\" d=\"M 0 0 M1030.92 634.737 L1030.92 638.279 L1026.84 638.279 Q1024.55 638.279 1023.65 639.205 Q1022.77 640.13 1022.77 642.538 L1022.77 644.83 L1029.78 644.83 L1029.78 648.14 L1022.77 648.14 L1022.77 670.755 L1018.49 670.755 L1018.49 648.14 L1014.41 648.14 L1014.41 644.83 L1018.49 644.83 L1018.49 643.024 Q1018.49 638.695 1020.5 636.728 Q1022.51 634.737 1026.89 634.737 L1030.92 634.737 Z\" fill=\"#000000\" fill-rule=\"evenodd\" fill-opacity=\"1\" /><path clip-path=\"url(#clip340)\" d=\"M 0 0 M1050.15 652.121 Q1053.51 652.839 1055.38 655.107 Q1057.28 657.376 1057.28 660.709 Q1057.28 665.825 1053.76 668.626 Q1050.25 671.427 1043.76 671.427 Q1041.59 671.427 1039.27 670.987 Q1036.98 670.57 1034.53 669.714 L1034.53 665.2 Q1036.47 666.334 1038.79 666.913 Q1041.1 667.491 1043.63 667.491 Q1048.02 667.491 1050.32 665.755 Q1052.63 664.019 1052.63 660.709 Q1052.63 657.654 1050.48 655.941 Q1048.35 654.204 1044.53 654.204 L1040.5 654.204 L1040.5 650.362 L1044.71 650.362 Q1048.16 650.362 1049.99 648.996 Q1051.82 647.607 1051.82 645.015 Q1051.82 642.353 1049.92 640.941 Q1048.05 639.505 1044.53 639.505 Q1042.61 639.505 1040.41 639.922 Q1038.21 640.339 1035.57 641.218 L1035.57 637.052 Q1038.23 636.311 1040.55 635.941 Q1042.88 635.57 1044.94 635.57 Q1050.27 635.57 1053.37 638.001 Q1056.47 640.408 1056.47 644.529 Q1056.47 647.399 1054.83 649.39 Q1053.19 651.357 1050.15 652.121 Z\" fill=\"#000000\" fill-rule=\"evenodd\" fill-opacity=\"1\" /><path clip-path=\"url(#clip340)\" d=\"\n",
       "M1441.32 953.115 L2352.76 953.115 L2352.76 580.577 L1441.32 580.577  Z\n",
       "  \" fill=\"#ffffff\" fill-rule=\"evenodd\" fill-opacity=\"1\"/>\n",
       "<defs>\n",
       "  <clipPath id=\"clip345\">\n",
       "    <rect x=\"1441\" y=\"580\" width=\"912\" height=\"374\"/>\n",
       "  </clipPath>\n",
       "</defs>\n",
       "<polyline clip-path=\"url(#clip345)\" style=\"stroke:#000000; stroke-width:2; stroke-opacity:0.1; fill:none\" points=\"\n",
       "  1553.1,953.115 1553.1,580.577 \n",
       "  \"/>\n",
       "<polyline clip-path=\"url(#clip345)\" style=\"stroke:#000000; stroke-width:2; stroke-opacity:0.1; fill:none\" points=\"\n",
       "  1725.07,953.115 1725.07,580.577 \n",
       "  \"/>\n",
       "<polyline clip-path=\"url(#clip345)\" style=\"stroke:#000000; stroke-width:2; stroke-opacity:0.1; fill:none\" points=\"\n",
       "  1897.04,953.115 1897.04,580.577 \n",
       "  \"/>\n",
       "<polyline clip-path=\"url(#clip345)\" style=\"stroke:#000000; stroke-width:2; stroke-opacity:0.1; fill:none\" points=\"\n",
       "  2069.01,953.115 2069.01,580.577 \n",
       "  \"/>\n",
       "<polyline clip-path=\"url(#clip345)\" style=\"stroke:#000000; stroke-width:2; stroke-opacity:0.1; fill:none\" points=\"\n",
       "  2240.98,953.115 2240.98,580.577 \n",
       "  \"/>\n",
       "<polyline clip-path=\"url(#clip340)\" style=\"stroke:#000000; stroke-width:4; stroke-opacity:1; fill:none\" points=\"\n",
       "  1441.32,953.115 2352.76,953.115 \n",
       "  \"/>\n",
       "<polyline clip-path=\"url(#clip340)\" style=\"stroke:#000000; stroke-width:4; stroke-opacity:1; fill:none\" points=\"\n",
       "  1553.1,953.115 1553.1,948.644 \n",
       "  \"/>\n",
       "<polyline clip-path=\"url(#clip340)\" style=\"stroke:#000000; stroke-width:4; stroke-opacity:1; fill:none\" points=\"\n",
       "  1725.07,953.115 1725.07,948.644 \n",
       "  \"/>\n",
       "<polyline clip-path=\"url(#clip340)\" style=\"stroke:#000000; stroke-width:4; stroke-opacity:1; fill:none\" points=\"\n",
       "  1897.04,953.115 1897.04,948.644 \n",
       "  \"/>\n",
       "<polyline clip-path=\"url(#clip340)\" style=\"stroke:#000000; stroke-width:4; stroke-opacity:1; fill:none\" points=\"\n",
       "  2069.01,953.115 2069.01,948.644 \n",
       "  \"/>\n",
       "<polyline clip-path=\"url(#clip340)\" style=\"stroke:#000000; stroke-width:4; stroke-opacity:1; fill:none\" points=\"\n",
       "  2240.98,953.115 2240.98,948.644 \n",
       "  \"/>\n",
       "<path clip-path=\"url(#clip340)\" d=\"M 0 0 M1524.51 996.958 L1554.19 996.958 L1554.19 1000.89 L1524.51 1000.89 L1524.51 996.958 Z\" fill=\"#000000\" fill-rule=\"evenodd\" fill-opacity=\"1\" /><path clip-path=\"url(#clip340)\" d=\"M 0 0 M1572.1 983.301 L1560.3 1001.75 L1572.1 1001.75 L1572.1 983.301 M1570.88 979.227 L1576.76 979.227 L1576.76 1001.75 L1581.69 1001.75 L1581.69 1005.64 L1576.76 1005.64 L1576.76 1013.79 L1572.1 1013.79 L1572.1 1005.64 L1556.5 1005.64 L1556.5 1001.12 L1570.88 979.227 Z\" fill=\"#000000\" fill-rule=\"evenodd\" fill-opacity=\"1\" /><path clip-path=\"url(#clip340)\" d=\"M 0 0 M1697.52 996.958 L1727.2 996.958 L1727.2 1000.89 L1697.52 1000.89 L1697.52 996.958 Z\" fill=\"#000000\" fill-rule=\"evenodd\" fill-opacity=\"1\" /><path clip-path=\"url(#clip340)\" d=\"M 0 0 M1736.3 1009.85 L1752.62 1009.85 L1752.62 1013.79 L1730.67 1013.79 L1730.67 1009.85 Q1733.33 1007.1 1737.92 1002.47 Q1742.52 997.814 1743.7 996.472 Q1745.95 993.949 1746.83 992.213 Q1747.73 990.453 1747.73 988.764 Q1747.73 986.009 1745.79 984.273 Q1743.87 982.537 1740.76 982.537 Q1738.56 982.537 1736.11 983.301 Q1733.68 984.064 1730.9 985.615 L1730.9 980.893 Q1733.73 979.759 1736.18 979.18 Q1738.63 978.602 1740.67 978.602 Q1746.04 978.602 1749.24 981.287 Q1752.43 983.972 1752.43 988.463 Q1752.43 990.592 1751.62 992.514 Q1750.83 994.412 1748.73 997.004 Q1748.15 997.676 1745.05 1000.89 Q1741.94 1004.09 1736.3 1009.85 Z\" fill=\"#000000\" fill-rule=\"evenodd\" fill-opacity=\"1\" /><path clip-path=\"url(#clip340)\" d=\"M 0 0 M1897.04 982.305 Q1893.43 982.305 1891.6 985.87 Q1889.79 989.412 1889.79 996.541 Q1889.79 1003.65 1891.6 1007.21 Q1893.43 1010.75 1897.04 1010.75 Q1900.67 1010.75 1902.48 1007.21 Q1904.31 1003.65 1904.31 996.541 Q1904.31 989.412 1902.48 985.87 Q1900.67 982.305 1897.04 982.305 M1897.04 978.602 Q1902.85 978.602 1905.9 983.208 Q1908.98 987.791 1908.98 996.541 Q1908.98 1005.27 1905.9 1009.87 Q1902.85 1014.46 1897.04 1014.46 Q1891.23 1014.46 1888.15 1009.87 Q1885.09 1005.27 1885.09 996.541 Q1885.09 987.791 1888.15 983.208 Q1891.23 978.602 1897.04 978.602 Z\" fill=\"#000000\" fill-rule=\"evenodd\" fill-opacity=\"1\" /><path clip-path=\"url(#clip340)\" d=\"M 0 0 M2063.66 1009.85 L2079.98 1009.85 L2079.98 1013.79 L2058.03 1013.79 L2058.03 1009.85 Q2060.7 1007.1 2065.28 1002.47 Q2069.89 997.814 2071.07 996.472 Q2073.31 993.949 2074.19 992.213 Q2075.09 990.453 2075.09 988.764 Q2075.09 986.009 2073.15 984.273 Q2071.23 982.537 2068.13 982.537 Q2065.93 982.537 2063.47 983.301 Q2061.04 984.064 2058.27 985.615 L2058.27 980.893 Q2061.09 979.759 2063.54 979.18 Q2066 978.602 2068.03 978.602 Q2073.41 978.602 2076.6 981.287 Q2079.79 983.972 2079.79 988.463 Q2079.79 990.592 2078.98 992.514 Q2078.2 994.412 2076.09 997.004 Q2075.51 997.676 2072.41 1000.89 Q2069.31 1004.09 2063.66 1009.85 Z\" fill=\"#000000\" fill-rule=\"evenodd\" fill-opacity=\"1\" /><path clip-path=\"url(#clip340)\" d=\"M 0 0 M2243.99 983.301 L2232.18 1001.75 L2243.99 1001.75 L2243.99 983.301 M2242.76 979.227 L2248.64 979.227 L2248.64 1001.75 L2253.57 1001.75 L2253.57 1005.64 L2248.64 1005.64 L2248.64 1013.79 L2243.99 1013.79 L2243.99 1005.64 L2228.38 1005.64 L2228.38 1001.12 L2242.76 979.227 Z\" fill=\"#000000\" fill-rule=\"evenodd\" fill-opacity=\"1\" /><polyline clip-path=\"url(#clip345)\" style=\"stroke:#000000; stroke-width:2; stroke-opacity:0.1; fill:none\" points=\"\n",
       "  1441.32,907.065 2352.76,907.065 \n",
       "  \"/>\n",
       "<polyline clip-path=\"url(#clip345)\" style=\"stroke:#000000; stroke-width:2; stroke-opacity:0.1; fill:none\" points=\"\n",
       "  1441.32,847.763 2352.76,847.763 \n",
       "  \"/>\n",
       "<polyline clip-path=\"url(#clip345)\" style=\"stroke:#000000; stroke-width:2; stroke-opacity:0.1; fill:none\" points=\"\n",
       "  1441.32,788.461 2352.76,788.461 \n",
       "  \"/>\n",
       "<polyline clip-path=\"url(#clip345)\" style=\"stroke:#000000; stroke-width:2; stroke-opacity:0.1; fill:none\" points=\"\n",
       "  1441.32,729.158 2352.76,729.158 \n",
       "  \"/>\n",
       "<polyline clip-path=\"url(#clip345)\" style=\"stroke:#000000; stroke-width:2; stroke-opacity:0.1; fill:none\" points=\"\n",
       "  1441.32,669.856 2352.76,669.856 \n",
       "  \"/>\n",
       "<polyline clip-path=\"url(#clip345)\" style=\"stroke:#000000; stroke-width:2; stroke-opacity:0.1; fill:none\" points=\"\n",
       "  1441.32,610.553 2352.76,610.553 \n",
       "  \"/>\n",
       "<polyline clip-path=\"url(#clip340)\" style=\"stroke:#000000; stroke-width:4; stroke-opacity:1; fill:none\" points=\"\n",
       "  1441.32,953.115 1441.32,580.577 \n",
       "  \"/>\n",
       "<polyline clip-path=\"url(#clip340)\" style=\"stroke:#000000; stroke-width:4; stroke-opacity:1; fill:none\" points=\"\n",
       "  1441.32,907.065 1452.26,907.065 \n",
       "  \"/>\n",
       "<polyline clip-path=\"url(#clip340)\" style=\"stroke:#000000; stroke-width:4; stroke-opacity:1; fill:none\" points=\"\n",
       "  1441.32,847.763 1452.26,847.763 \n",
       "  \"/>\n",
       "<polyline clip-path=\"url(#clip340)\" style=\"stroke:#000000; stroke-width:4; stroke-opacity:1; fill:none\" points=\"\n",
       "  1441.32,788.461 1452.26,788.461 \n",
       "  \"/>\n",
       "<polyline clip-path=\"url(#clip340)\" style=\"stroke:#000000; stroke-width:4; stroke-opacity:1; fill:none\" points=\"\n",
       "  1441.32,729.158 1452.26,729.158 \n",
       "  \"/>\n",
       "<polyline clip-path=\"url(#clip340)\" style=\"stroke:#000000; stroke-width:4; stroke-opacity:1; fill:none\" points=\"\n",
       "  1441.32,669.856 1452.26,669.856 \n",
       "  \"/>\n",
       "<polyline clip-path=\"url(#clip340)\" style=\"stroke:#000000; stroke-width:4; stroke-opacity:1; fill:none\" points=\"\n",
       "  1441.32,610.553 1452.26,610.553 \n",
       "  \"/>\n",
       "<path clip-path=\"url(#clip340)\" d=\"M 0 0 M1210.05 913.964 L1239.72 913.964 L1239.72 917.9 L1210.05 917.9 L1210.05 913.964 Z\" fill=\"#000000\" fill-rule=\"evenodd\" fill-opacity=\"1\" /><path clip-path=\"url(#clip340)\" d=\"M 0 0 M1248.82 926.858 L1265.14 926.858 L1265.14 930.793 L1243.19 930.793 L1243.19 926.858 Q1245.86 924.103 1250.44 919.474 Q1255.05 914.821 1256.23 913.478 Q1258.47 910.955 1259.35 909.219 Q1260.25 907.46 1260.25 905.77 Q1260.25 903.015 1258.31 901.279 Q1256.39 899.543 1253.29 899.543 Q1251.09 899.543 1248.63 900.307 Q1246.2 901.071 1243.43 902.622 L1243.43 897.9 Q1246.25 896.765 1248.7 896.187 Q1251.16 895.608 1253.19 895.608 Q1258.56 895.608 1261.76 898.293 Q1264.95 900.978 1264.95 905.469 Q1264.95 907.599 1264.14 909.52 Q1263.36 911.418 1261.25 914.011 Q1260.67 914.682 1257.57 917.9 Q1254.47 921.094 1248.82 926.858 Z\" fill=\"#000000\" fill-rule=\"evenodd\" fill-opacity=\"1\" /><path clip-path=\"url(#clip340)\" d=\"M 0 0 M1270.21 924.913 L1275.09 924.913 L1275.09 930.793 L1270.21 930.793 L1270.21 924.913 Z\" fill=\"#000000\" fill-rule=\"evenodd\" fill-opacity=\"1\" /><path clip-path=\"url(#clip340)\" d=\"M 0 0 M1280.21 896.233 L1298.56 896.233 L1298.56 900.168 L1284.49 900.168 L1284.49 908.64 Q1285.51 908.293 1286.53 908.131 Q1287.55 907.946 1288.56 907.946 Q1294.35 907.946 1297.73 911.117 Q1301.11 914.289 1301.11 919.705 Q1301.11 925.284 1297.64 928.386 Q1294.17 931.464 1287.85 931.464 Q1285.67 931.464 1283.4 931.094 Q1281.16 930.724 1278.75 929.983 L1278.75 925.284 Q1280.83 926.418 1283.06 926.974 Q1285.28 927.529 1287.75 927.529 Q1291.76 927.529 1294.1 925.423 Q1296.43 923.316 1296.43 919.705 Q1296.43 916.094 1294.1 913.988 Q1291.76 911.881 1287.75 911.881 Q1285.88 911.881 1284 912.298 Q1282.15 912.714 1280.21 913.594 L1280.21 896.233 Z\" fill=\"#000000\" fill-rule=\"evenodd\" fill-opacity=\"1\" /><path clip-path=\"url(#clip340)\" d=\"M 0 0 M1334.35 905.33 L1323.77 915.955 L1334.35 926.534 L1331.6 929.335 L1320.97 918.71 L1310.35 929.335 L1307.62 926.534 L1318.17 915.955 L1307.62 905.33 L1310.35 902.529 L1320.97 913.154 L1331.6 902.529 L1334.35 905.33 Z\" fill=\"#000000\" fill-rule=\"evenodd\" fill-opacity=\"1\" /><path clip-path=\"url(#clip340)\" d=\"M 0 0 M1340.23 926.858 L1347.87 926.858 L1347.87 900.492 L1339.56 902.159 L1339.56 897.9 L1347.82 896.233 L1352.5 896.233 L1352.5 926.858 L1360.14 926.858 L1360.14 930.793 L1340.23 930.793 L1340.23 926.858 Z\" fill=\"#000000\" fill-rule=\"evenodd\" fill-opacity=\"1\" /><path clip-path=\"url(#clip340)\" d=\"M 0 0 M1375.21 899.312 Q1371.6 899.312 1369.77 902.877 Q1367.96 906.418 1367.96 913.548 Q1367.96 920.654 1369.77 924.219 Q1371.6 927.761 1375.21 927.761 Q1378.84 927.761 1380.65 924.219 Q1382.48 920.654 1382.48 913.548 Q1382.48 906.418 1380.65 902.877 Q1378.84 899.312 1375.21 899.312 M1375.21 895.608 Q1381.02 895.608 1384.07 900.215 Q1387.15 904.798 1387.15 913.548 Q1387.15 922.275 1384.07 926.881 Q1381.02 931.464 1375.21 931.464 Q1369.4 931.464 1366.32 926.881 Q1363.26 922.275 1363.26 913.548 Q1363.26 904.798 1366.32 900.215 Q1369.4 895.608 1375.21 895.608 Z\" fill=\"#000000\" fill-rule=\"evenodd\" fill-opacity=\"1\" /><path clip-path=\"url(#clip340)\" d=\"M 0 0 M1388.34 875.303 L1403.25 875.303 L1403.25 878.5 L1391.82 878.5 L1391.82 885.384 Q1392.64 885.102 1393.47 884.97 Q1394.3 884.819 1395.13 884.819 Q1399.83 884.819 1402.57 887.396 Q1405.32 889.973 1405.32 894.374 Q1405.32 898.906 1402.5 901.427 Q1399.68 903.928 1394.54 903.928 Q1392.78 903.928 1390.93 903.627 Q1389.11 903.326 1387.15 902.724 L1387.15 898.906 Q1388.84 899.828 1390.65 900.279 Q1392.46 900.731 1394.47 900.731 Q1397.72 900.731 1399.62 899.019 Q1401.52 897.308 1401.52 894.374 Q1401.52 891.44 1399.62 889.728 Q1397.72 888.017 1394.47 888.017 Q1392.94 888.017 1391.42 888.355 Q1389.92 888.694 1388.34 889.408 L1388.34 875.303 Z\" fill=\"#000000\" fill-rule=\"evenodd\" fill-opacity=\"1\" /><path clip-path=\"url(#clip340)\" d=\"M 0 0 M1209.05 854.662 L1238.73 854.662 L1238.73 858.597 L1209.05 858.597 L1209.05 854.662 Z\" fill=\"#000000\" fill-rule=\"evenodd\" fill-opacity=\"1\" /><path clip-path=\"url(#clip340)\" d=\"M 0 0 M1247.82 867.555 L1264.14 867.555 L1264.14 871.491 L1242.2 871.491 L1242.2 867.555 Q1244.86 864.801 1249.44 860.171 Q1254.05 855.518 1255.23 854.176 Q1257.48 851.653 1258.36 849.917 Q1259.26 848.157 1259.26 846.468 Q1259.26 843.713 1257.31 841.977 Q1255.39 840.241 1252.29 840.241 Q1250.09 840.241 1247.64 841.005 Q1245.21 841.769 1242.43 843.319 L1242.43 838.597 Q1245.25 837.463 1247.71 836.884 Q1250.16 836.306 1252.2 836.306 Q1257.57 836.306 1260.76 838.991 Q1263.96 841.676 1263.96 846.167 Q1263.96 848.296 1263.15 850.218 Q1262.36 852.116 1260.25 854.708 Q1259.68 855.38 1256.57 858.597 Q1253.47 861.792 1247.82 867.555 Z\" fill=\"#000000\" fill-rule=\"evenodd\" fill-opacity=\"1\" /><path clip-path=\"url(#clip340)\" d=\"M 0 0 M1269.21 865.611 L1274.1 865.611 L1274.1 871.491 L1269.21 871.491 L1269.21 865.611 Z\" fill=\"#000000\" fill-rule=\"evenodd\" fill-opacity=\"1\" /><path clip-path=\"url(#clip340)\" d=\"M 0 0 M1289.17 840.009 Q1285.56 840.009 1283.73 843.574 Q1281.92 847.116 1281.92 854.245 Q1281.92 861.352 1283.73 864.917 Q1285.56 868.458 1289.17 868.458 Q1292.8 868.458 1294.61 864.917 Q1296.43 861.352 1296.43 854.245 Q1296.43 847.116 1294.61 843.574 Q1292.8 840.009 1289.17 840.009 M1289.17 836.306 Q1294.98 836.306 1298.03 840.912 Q1301.11 845.495 1301.11 854.245 Q1301.11 862.972 1298.03 867.579 Q1294.98 872.162 1289.17 872.162 Q1283.36 872.162 1280.28 867.579 Q1277.22 862.972 1277.22 854.245 Q1277.22 845.495 1280.28 840.912 Q1283.36 836.306 1289.17 836.306 Z\" fill=\"#000000\" fill-rule=\"evenodd\" fill-opacity=\"1\" /><path clip-path=\"url(#clip340)\" d=\"M 0 0 M1334.35 846.028 L1323.77 856.653 L1334.35 867.231 L1331.6 870.032 L1320.97 859.407 L1310.35 870.032 L1307.62 867.231 L1318.17 856.653 L1307.62 846.028 L1310.35 843.227 L1320.97 853.852 L1331.6 843.227 L1334.35 846.028 Z\" fill=\"#000000\" fill-rule=\"evenodd\" fill-opacity=\"1\" /><path clip-path=\"url(#clip340)\" d=\"M 0 0 M1340.23 867.555 L1347.87 867.555 L1347.87 841.19 L1339.56 842.857 L1339.56 838.597 L1347.82 836.931 L1352.5 836.931 L1352.5 867.555 L1360.14 867.555 L1360.14 871.491 L1340.23 871.491 L1340.23 867.555 Z\" fill=\"#000000\" fill-rule=\"evenodd\" fill-opacity=\"1\" /><path clip-path=\"url(#clip340)\" d=\"M 0 0 M1375.21 840.009 Q1371.6 840.009 1369.77 843.574 Q1367.96 847.116 1367.96 854.245 Q1367.96 861.352 1369.77 864.917 Q1371.6 868.458 1375.21 868.458 Q1378.84 868.458 1380.65 864.917 Q1382.48 861.352 1382.48 854.245 Q1382.48 847.116 1380.65 843.574 Q1378.84 840.009 1375.21 840.009 M1375.21 836.306 Q1381.02 836.306 1384.07 840.912 Q1387.15 845.495 1387.15 854.245 Q1387.15 862.972 1384.07 867.579 Q1381.02 872.162 1375.21 872.162 Q1369.4 872.162 1366.32 867.579 Q1363.26 862.972 1363.26 854.245 Q1363.26 845.495 1366.32 840.912 Q1369.4 836.306 1375.21 836.306 Z\" fill=\"#000000\" fill-rule=\"evenodd\" fill-opacity=\"1\" /><path clip-path=\"url(#clip340)\" d=\"M 0 0 M1388.34 816 L1403.25 816 L1403.25 819.198 L1391.82 819.198 L1391.82 826.081 Q1392.64 825.799 1393.47 825.667 Q1394.3 825.517 1395.13 825.517 Q1399.83 825.517 1402.57 828.094 Q1405.32 830.67 1405.32 835.071 Q1405.32 839.604 1402.5 842.124 Q1399.68 844.626 1394.54 844.626 Q1392.78 844.626 1390.93 844.325 Q1389.11 844.024 1387.15 843.422 L1387.15 839.604 Q1388.84 840.526 1390.65 840.977 Q1392.46 841.428 1394.47 841.428 Q1397.72 841.428 1399.62 839.717 Q1401.52 838.005 1401.52 835.071 Q1401.52 832.137 1399.62 830.426 Q1397.72 828.714 1394.47 828.714 Q1392.94 828.714 1391.42 829.053 Q1389.92 829.391 1388.34 830.106 L1388.34 816 Z\" fill=\"#000000\" fill-rule=\"evenodd\" fill-opacity=\"1\" /><path clip-path=\"url(#clip340)\" d=\"M 0 0 M1209.68 795.36 L1239.35 795.36 L1239.35 799.295 L1209.68 799.295 L1209.68 795.36 Z\" fill=\"#000000\" fill-rule=\"evenodd\" fill-opacity=\"1\" /><path clip-path=\"url(#clip340)\" d=\"M 0 0 M1245.23 808.253 L1252.87 808.253 L1252.87 781.887 L1244.56 783.554 L1244.56 779.295 L1252.82 777.628 L1257.5 777.628 L1257.5 808.253 L1265.14 808.253 L1265.14 812.188 L1245.23 812.188 L1245.23 808.253 Z\" fill=\"#000000\" fill-rule=\"evenodd\" fill-opacity=\"1\" /><path clip-path=\"url(#clip340)\" d=\"M 0 0 M1270.21 806.309 L1275.09 806.309 L1275.09 812.188 L1270.21 812.188 L1270.21 806.309 Z\" fill=\"#000000\" fill-rule=\"evenodd\" fill-opacity=\"1\" /><path clip-path=\"url(#clip340)\" d=\"M 0 0 M1280.21 777.628 L1298.56 777.628 L1298.56 781.563 L1284.49 781.563 L1284.49 790.035 Q1285.51 789.688 1286.53 789.526 Q1287.55 789.341 1288.56 789.341 Q1294.35 789.341 1297.73 792.512 Q1301.11 795.684 1301.11 801.1 Q1301.11 806.679 1297.64 809.781 Q1294.17 812.859 1287.85 812.859 Q1285.67 812.859 1283.4 812.489 Q1281.16 812.119 1278.75 811.378 L1278.75 806.679 Q1280.83 807.813 1283.06 808.369 Q1285.28 808.924 1287.75 808.924 Q1291.76 808.924 1294.1 806.818 Q1296.43 804.711 1296.43 801.1 Q1296.43 797.489 1294.1 795.383 Q1291.76 793.276 1287.75 793.276 Q1285.88 793.276 1284 793.693 Q1282.15 794.11 1280.21 794.989 L1280.21 777.628 Z\" fill=\"#000000\" fill-rule=\"evenodd\" fill-opacity=\"1\" /><path clip-path=\"url(#clip340)\" d=\"M 0 0 M1334.35 786.725 L1323.77 797.35 L1334.35 807.929 L1331.6 810.73 L1320.97 800.105 L1310.35 810.73 L1307.62 807.929 L1318.17 797.35 L1307.62 786.725 L1310.35 783.924 L1320.97 794.549 L1331.6 783.924 L1334.35 786.725 Z\" fill=\"#000000\" fill-rule=\"evenodd\" fill-opacity=\"1\" /><path clip-path=\"url(#clip340)\" d=\"M 0 0 M1340.23 808.253 L1347.87 808.253 L1347.87 781.887 L1339.56 783.554 L1339.56 779.295 L1347.82 777.628 L1352.5 777.628 L1352.5 808.253 L1360.14 808.253 L1360.14 812.188 L1340.23 812.188 L1340.23 808.253 Z\" fill=\"#000000\" fill-rule=\"evenodd\" fill-opacity=\"1\" /><path clip-path=\"url(#clip340)\" d=\"M 0 0 M1375.21 780.707 Q1371.6 780.707 1369.77 784.272 Q1367.96 787.813 1367.96 794.943 Q1367.96 802.049 1369.77 805.614 Q1371.6 809.156 1375.21 809.156 Q1378.84 809.156 1380.65 805.614 Q1382.48 802.049 1382.48 794.943 Q1382.48 787.813 1380.65 784.272 Q1378.84 780.707 1375.21 780.707 M1375.21 777.003 Q1381.02 777.003 1384.07 781.61 Q1387.15 786.193 1387.15 794.943 Q1387.15 803.67 1384.07 808.276 Q1381.02 812.859 1375.21 812.859 Q1369.4 812.859 1366.32 808.276 Q1363.26 803.67 1363.26 794.943 Q1363.26 786.193 1366.32 781.61 Q1369.4 777.003 1375.21 777.003 Z\" fill=\"#000000\" fill-rule=\"evenodd\" fill-opacity=\"1\" /><path clip-path=\"url(#clip340)\" d=\"M 0 0 M1388.34 756.698 L1403.25 756.698 L1403.25 759.895 L1391.82 759.895 L1391.82 766.779 Q1392.64 766.497 1393.47 766.365 Q1394.3 766.214 1395.13 766.214 Q1399.83 766.214 1402.57 768.791 Q1405.32 771.368 1405.32 775.769 Q1405.32 780.301 1402.5 782.822 Q1399.68 785.323 1394.54 785.323 Q1392.78 785.323 1390.93 785.022 Q1389.11 784.721 1387.15 784.119 L1387.15 780.301 Q1388.84 781.223 1390.65 781.674 Q1392.46 782.126 1394.47 782.126 Q1397.72 782.126 1399.62 780.414 Q1401.52 778.703 1401.52 775.769 Q1401.52 772.835 1399.62 771.123 Q1397.72 769.412 1394.47 769.412 Q1392.94 769.412 1391.42 769.75 Q1389.92 770.089 1388.34 770.804 L1388.34 756.698 Z\" fill=\"#000000\" fill-rule=\"evenodd\" fill-opacity=\"1\" /><path clip-path=\"url(#clip340)\" d=\"M 0 0 M1208.68 736.057 L1238.36 736.057 L1238.36 739.992 L1208.68 739.992 L1208.68 736.057 Z\" fill=\"#000000\" fill-rule=\"evenodd\" fill-opacity=\"1\" /><path clip-path=\"url(#clip340)\" d=\"M 0 0 M1244.24 748.951 L1251.87 748.951 L1251.87 722.585 L1243.56 724.252 L1243.56 719.992 L1251.83 718.326 L1256.5 718.326 L1256.5 748.951 L1264.14 748.951 L1264.14 752.886 L1244.24 752.886 L1244.24 748.951 Z\" fill=\"#000000\" fill-rule=\"evenodd\" fill-opacity=\"1\" /><path clip-path=\"url(#clip340)\" d=\"M 0 0 M1269.21 747.006 L1274.1 747.006 L1274.1 752.886 L1269.21 752.886 L1269.21 747.006 Z\" fill=\"#000000\" fill-rule=\"evenodd\" fill-opacity=\"1\" /><path clip-path=\"url(#clip340)\" d=\"M 0 0 M1289.17 721.404 Q1285.56 721.404 1283.73 724.969 Q1281.92 728.511 1281.92 735.64 Q1281.92 742.747 1283.73 746.312 Q1285.56 749.853 1289.17 749.853 Q1292.8 749.853 1294.61 746.312 Q1296.43 742.747 1296.43 735.64 Q1296.43 728.511 1294.61 724.969 Q1292.8 721.404 1289.17 721.404 M1289.17 717.701 Q1294.98 717.701 1298.03 722.307 Q1301.11 726.89 1301.11 735.64 Q1301.11 744.367 1298.03 748.974 Q1294.98 753.557 1289.17 753.557 Q1283.36 753.557 1280.28 748.974 Q1277.22 744.367 1277.22 735.64 Q1277.22 726.89 1280.28 722.307 Q1283.36 717.701 1289.17 717.701 Z\" fill=\"#000000\" fill-rule=\"evenodd\" fill-opacity=\"1\" /><path clip-path=\"url(#clip340)\" d=\"M 0 0 M1334.35 727.423 L1323.77 738.048 L1334.35 748.626 L1331.6 751.427 L1320.97 740.802 L1310.35 751.427 L1307.62 748.626 L1318.17 738.048 L1307.62 727.423 L1310.35 724.622 L1320.97 735.247 L1331.6 724.622 L1334.35 727.423 Z\" fill=\"#000000\" fill-rule=\"evenodd\" fill-opacity=\"1\" /><path clip-path=\"url(#clip340)\" d=\"M 0 0 M1340.23 748.951 L1347.87 748.951 L1347.87 722.585 L1339.56 724.252 L1339.56 719.992 L1347.82 718.326 L1352.5 718.326 L1352.5 748.951 L1360.14 748.951 L1360.14 752.886 L1340.23 752.886 L1340.23 748.951 Z\" fill=\"#000000\" fill-rule=\"evenodd\" fill-opacity=\"1\" /><path clip-path=\"url(#clip340)\" d=\"M 0 0 M1375.21 721.404 Q1371.6 721.404 1369.77 724.969 Q1367.96 728.511 1367.96 735.64 Q1367.96 742.747 1369.77 746.312 Q1371.6 749.853 1375.21 749.853 Q1378.84 749.853 1380.65 746.312 Q1382.48 742.747 1382.48 735.64 Q1382.48 728.511 1380.65 724.969 Q1378.84 721.404 1375.21 721.404 M1375.21 717.701 Q1381.02 717.701 1384.07 722.307 Q1387.15 726.89 1387.15 735.64 Q1387.15 744.367 1384.07 748.974 Q1381.02 753.557 1375.21 753.557 Q1369.4 753.557 1366.32 748.974 Q1363.26 744.367 1363.26 735.64 Q1363.26 726.89 1366.32 722.307 Q1369.4 717.701 1375.21 717.701 Z\" fill=\"#000000\" fill-rule=\"evenodd\" fill-opacity=\"1\" /><path clip-path=\"url(#clip340)\" d=\"M 0 0 M1388.34 697.395 L1403.25 697.395 L1403.25 700.593 L1391.82 700.593 L1391.82 707.476 Q1392.64 707.194 1393.47 707.062 Q1394.3 706.912 1395.13 706.912 Q1399.83 706.912 1402.57 709.489 Q1405.32 712.065 1405.32 716.466 Q1405.32 720.999 1402.5 723.519 Q1399.68 726.021 1394.54 726.021 Q1392.78 726.021 1390.93 725.72 Q1389.11 725.419 1387.15 724.817 L1387.15 720.999 Q1388.84 721.921 1390.65 722.372 Q1392.46 722.823 1394.47 722.823 Q1397.72 722.823 1399.62 721.112 Q1401.52 719.4 1401.52 716.466 Q1401.52 713.532 1399.62 711.821 Q1397.72 710.109 1394.47 710.109 Q1392.94 710.109 1391.42 710.448 Q1389.92 710.786 1388.34 711.501 L1388.34 697.395 Z\" fill=\"#000000\" fill-rule=\"evenodd\" fill-opacity=\"1\" /><path clip-path=\"url(#clip340)\" d=\"M 0 0 M1206.15 676.755 L1235.83 676.755 L1235.83 680.69 L1206.15 680.69 L1206.15 676.755 Z\" fill=\"#000000\" fill-rule=\"evenodd\" fill-opacity=\"1\" /><path clip-path=\"url(#clip340)\" d=\"M 0 0 M1240.95 659.023 L1259.3 659.023 L1259.3 662.958 L1245.23 662.958 L1245.23 671.431 Q1246.25 671.083 1247.27 670.921 Q1248.28 670.736 1249.3 670.736 Q1255.09 670.736 1258.47 673.907 Q1261.85 677.079 1261.85 682.495 Q1261.85 688.074 1258.38 691.176 Q1254.9 694.255 1248.58 694.255 Q1246.41 694.255 1244.14 693.884 Q1241.89 693.514 1239.49 692.773 L1239.49 688.074 Q1241.57 689.208 1243.79 689.764 Q1246.02 690.319 1248.49 690.319 Q1252.5 690.319 1254.83 688.213 Q1257.17 686.106 1257.17 682.495 Q1257.17 678.884 1254.83 676.778 Q1252.5 674.671 1248.49 674.671 Q1246.62 674.671 1244.74 675.088 Q1242.89 675.505 1240.95 676.384 L1240.95 659.023 Z\" fill=\"#000000\" fill-rule=\"evenodd\" fill-opacity=\"1\" /><path clip-path=\"url(#clip340)\" d=\"M 0 0 M1266.92 687.704 L1271.8 687.704 L1271.8 693.583 L1266.92 693.583 L1266.92 687.704 Z\" fill=\"#000000\" fill-rule=\"evenodd\" fill-opacity=\"1\" /><path clip-path=\"url(#clip340)\" d=\"M 0 0 M1286.87 662.102 Q1283.26 662.102 1281.43 665.667 Q1279.63 669.208 1279.63 676.338 Q1279.63 683.444 1281.43 687.009 Q1283.26 690.551 1286.87 690.551 Q1290.51 690.551 1292.31 687.009 Q1294.14 683.444 1294.14 676.338 Q1294.14 669.208 1292.31 665.667 Q1290.51 662.102 1286.87 662.102 M1286.87 658.398 Q1292.68 658.398 1295.74 663.005 Q1298.82 667.588 1298.82 676.338 Q1298.82 685.065 1295.74 689.671 Q1292.68 694.255 1286.87 694.255 Q1281.06 694.255 1277.98 689.671 Q1274.93 685.065 1274.93 676.338 Q1274.93 667.588 1277.98 663.005 Q1281.06 658.398 1286.87 658.398 Z\" fill=\"#000000\" fill-rule=\"evenodd\" fill-opacity=\"1\" /><path clip-path=\"url(#clip340)\" d=\"M 0 0 M1332.06 668.12 L1321.48 678.745 L1332.06 689.324 L1329.3 692.125 L1318.68 681.5 L1308.05 692.125 L1305.32 689.324 L1315.88 678.745 L1305.32 668.12 L1308.05 665.319 L1318.68 675.944 L1329.3 665.319 L1332.06 668.12 Z\" fill=\"#000000\" fill-rule=\"evenodd\" fill-opacity=\"1\" /><path clip-path=\"url(#clip340)\" d=\"M 0 0 M1337.94 689.648 L1345.57 689.648 L1345.57 663.282 L1337.26 664.949 L1337.26 660.69 L1345.53 659.023 L1350.2 659.023 L1350.2 689.648 L1357.84 689.648 L1357.84 693.583 L1337.94 693.583 L1337.94 689.648 Z\" fill=\"#000000\" fill-rule=\"evenodd\" fill-opacity=\"1\" /><path clip-path=\"url(#clip340)\" d=\"M 0 0 M1372.91 662.102 Q1369.3 662.102 1367.47 665.667 Q1365.67 669.208 1365.67 676.338 Q1365.67 683.444 1367.47 687.009 Q1369.3 690.551 1372.91 690.551 Q1376.55 690.551 1378.35 687.009 Q1380.18 683.444 1380.18 676.338 Q1380.18 669.208 1378.35 665.667 Q1376.55 662.102 1372.91 662.102 M1372.91 658.398 Q1378.72 658.398 1381.78 663.005 Q1384.86 667.588 1384.86 676.338 Q1384.86 685.065 1381.78 689.671 Q1378.72 694.255 1372.91 694.255 Q1367.1 694.255 1364.02 689.671 Q1360.97 685.065 1360.97 676.338 Q1360.97 667.588 1364.02 663.005 Q1367.1 658.398 1372.91 658.398 Z\" fill=\"#000000\" fill-rule=\"evenodd\" fill-opacity=\"1\" /><path clip-path=\"url(#clip340)\" d=\"M 0 0 M1397.53 641.403 L1387.94 656.393 L1397.53 656.393 L1397.53 641.403 M1396.54 638.093 L1401.31 638.093 L1401.31 656.393 L1405.32 656.393 L1405.32 659.552 L1401.31 659.552 L1401.31 666.173 L1397.53 666.173 L1397.53 659.552 L1384.86 659.552 L1384.86 655.885 L1396.54 638.093 Z\" fill=\"#000000\" fill-rule=\"evenodd\" fill-opacity=\"1\" /><path clip-path=\"url(#clip340)\" d=\"M 0 0 M1393.38 596.352 Q1389.76 596.352 1387.94 599.917 Q1386.13 603.458 1386.13 610.588 Q1386.13 617.694 1387.94 621.259 Q1389.76 624.801 1393.38 624.801 Q1397.01 624.801 1398.82 621.259 Q1400.64 617.694 1400.64 610.588 Q1400.64 603.458 1398.82 599.917 Q1397.01 596.352 1393.38 596.352 M1393.38 592.648 Q1399.19 592.648 1402.24 597.255 Q1405.32 601.838 1405.32 610.588 Q1405.32 619.315 1402.24 623.921 Q1399.19 628.504 1393.38 628.504 Q1387.57 628.504 1384.49 623.921 Q1381.43 619.315 1381.43 610.588 Q1381.43 601.838 1384.49 597.255 Q1387.57 592.648 1393.38 592.648 Z\" fill=\"#000000\" fill-rule=\"evenodd\" fill-opacity=\"1\" /><polyline clip-path=\"url(#clip345)\" style=\"stroke:#009af9; stroke-width:4; stroke-opacity:1; fill:none\" points=\"\n",
       "  1467.12,942.571 1469.21,933.229 1471.31,924.112 1473.41,915.218 1475.51,906.541 1485.22,869.12 1494.92,835.831 1504.63,806.284 1514.33,780.124 1524.04,757.019 \n",
       "  1533.74,736.667 1543.45,718.789 1553.16,703.129 1564.82,686.912 1576.49,673.194 1588.15,661.645 1599.82,651.971 1619.54,639.164 1639.27,629.913 1660.69,622.891 \n",
       "  1682.12,618.176 1701.88,615.292 1721.63,613.399 1763.99,611.379 1813.06,610.693 1856.67,610.571 1894.92,610.555 1936.61,610.553 1978.56,610.553 2024.93,610.553 \n",
       "  2069.05,610.552 2114.93,610.529 2153.55,610.41 2200.7,609.763 2245.02,607.661 2316.03,595.052 2326.96,591.121 \n",
       "  \"/>\n",
       "<path clip-path=\"url(#clip340)\" d=\"\n",
       "M2177.1 713.955 L2322.37 713.955 L2322.37 592.995 L2177.1 592.995  Z\n",
       "  \" fill=\"#ffffff\" fill-rule=\"evenodd\" fill-opacity=\"1\"/>\n",
       "<polyline clip-path=\"url(#clip340)\" style=\"stroke:#000000; stroke-width:4; stroke-opacity:1; fill:none\" points=\"\n",
       "  2177.1,713.955 2322.37,713.955 2322.37,592.995 2177.1,592.995 2177.1,713.955 \n",
       "  \"/>\n",
       "<polyline clip-path=\"url(#clip340)\" style=\"stroke:#009af9; stroke-width:4; stroke-opacity:1; fill:none\" points=\"\n",
       "  2187.23,653.475 2247.99,653.475 \n",
       "  \"/>\n",
       "<path clip-path=\"url(#clip340)\" d=\"M 0 0 M2274.62 634.737 L2274.62 638.279 L2270.55 638.279 Q2268.26 638.279 2267.35 639.205 Q2266.47 640.13 2266.47 642.538 L2266.47 644.83 L2273.49 644.83 L2273.49 648.14 L2266.47 648.14 L2266.47 670.755 L2262.19 670.755 L2262.19 648.14 L2258.12 648.14 L2258.12 644.83 L2262.19 644.83 L2262.19 643.024 Q2262.19 638.695 2264.2 636.728 Q2266.22 634.737 2270.59 634.737 L2274.62 634.737 Z\" fill=\"#000000\" fill-rule=\"evenodd\" fill-opacity=\"1\" /><path clip-path=\"url(#clip340)\" d=\"M 0 0 M2292.54 640.269 L2280.73 658.718 L2292.54 658.718 L2292.54 640.269 M2291.31 636.195 L2297.19 636.195 L2297.19 658.718 L2302.12 658.718 L2302.12 662.607 L2297.19 662.607 L2297.19 670.755 L2292.54 670.755 L2292.54 662.607 L2276.94 662.607 L2276.94 658.093 L2291.31 636.195 Z\" fill=\"#000000\" fill-rule=\"evenodd\" fill-opacity=\"1\" /><path clip-path=\"url(#clip340)\" d=\"\n",
       "M196.482 1486.45 L1107.92 1486.45 L1107.92 1113.91 L196.482 1113.91  Z\n",
       "  \" fill=\"#ffffff\" fill-rule=\"evenodd\" fill-opacity=\"1\"/>\n",
       "<defs>\n",
       "  <clipPath id=\"clip346\">\n",
       "    <rect x=\"196\" y=\"1113\" width=\"912\" height=\"374\"/>\n",
       "  </clipPath>\n",
       "</defs>\n",
       "<polyline clip-path=\"url(#clip346)\" style=\"stroke:#000000; stroke-width:2; stroke-opacity:0.1; fill:none\" points=\"\n",
       "  308.262,1486.45 308.262,1113.91 \n",
       "  \"/>\n",
       "<polyline clip-path=\"url(#clip346)\" style=\"stroke:#000000; stroke-width:2; stroke-opacity:0.1; fill:none\" points=\"\n",
       "  480.231,1486.45 480.231,1113.91 \n",
       "  \"/>\n",
       "<polyline clip-path=\"url(#clip346)\" style=\"stroke:#000000; stroke-width:2; stroke-opacity:0.1; fill:none\" points=\"\n",
       "  652.2,1486.45 652.2,1113.91 \n",
       "  \"/>\n",
       "<polyline clip-path=\"url(#clip346)\" style=\"stroke:#000000; stroke-width:2; stroke-opacity:0.1; fill:none\" points=\"\n",
       "  824.169,1486.45 824.169,1113.91 \n",
       "  \"/>\n",
       "<polyline clip-path=\"url(#clip346)\" style=\"stroke:#000000; stroke-width:2; stroke-opacity:0.1; fill:none\" points=\"\n",
       "  996.138,1486.45 996.138,1113.91 \n",
       "  \"/>\n",
       "<polyline clip-path=\"url(#clip340)\" style=\"stroke:#000000; stroke-width:4; stroke-opacity:1; fill:none\" points=\"\n",
       "  196.482,1486.45 1107.92,1486.45 \n",
       "  \"/>\n",
       "<polyline clip-path=\"url(#clip340)\" style=\"stroke:#000000; stroke-width:4; stroke-opacity:1; fill:none\" points=\"\n",
       "  308.262,1486.45 308.262,1481.98 \n",
       "  \"/>\n",
       "<polyline clip-path=\"url(#clip340)\" style=\"stroke:#000000; stroke-width:4; stroke-opacity:1; fill:none\" points=\"\n",
       "  480.231,1486.45 480.231,1481.98 \n",
       "  \"/>\n",
       "<polyline clip-path=\"url(#clip340)\" style=\"stroke:#000000; stroke-width:4; stroke-opacity:1; fill:none\" points=\"\n",
       "  652.2,1486.45 652.2,1481.98 \n",
       "  \"/>\n",
       "<polyline clip-path=\"url(#clip340)\" style=\"stroke:#000000; stroke-width:4; stroke-opacity:1; fill:none\" points=\"\n",
       "  824.169,1486.45 824.169,1481.98 \n",
       "  \"/>\n",
       "<polyline clip-path=\"url(#clip340)\" style=\"stroke:#000000; stroke-width:4; stroke-opacity:1; fill:none\" points=\"\n",
       "  996.138,1486.45 996.138,1481.98 \n",
       "  \"/>\n",
       "<path clip-path=\"url(#clip340)\" d=\"M 0 0 M279.674 1530.29 L309.35 1530.29 L309.35 1534.23 L279.674 1534.23 L279.674 1530.29 Z\" fill=\"#000000\" fill-rule=\"evenodd\" fill-opacity=\"1\" /><path clip-path=\"url(#clip340)\" d=\"M 0 0 M327.267 1516.63 L315.461 1535.08 L327.267 1535.08 L327.267 1516.63 M326.04 1512.56 L331.919 1512.56 L331.919 1535.08 L336.85 1535.08 L336.85 1538.97 L331.919 1538.97 L331.919 1547.12 L327.267 1547.12 L327.267 1538.97 L311.665 1538.97 L311.665 1534.46 L326.04 1512.56 Z\" fill=\"#000000\" fill-rule=\"evenodd\" fill-opacity=\"1\" /><path clip-path=\"url(#clip340)\" d=\"M 0 0 M452.685 1530.29 L482.361 1530.29 L482.361 1534.23 L452.685 1534.23 L452.685 1530.29 Z\" fill=\"#000000\" fill-rule=\"evenodd\" fill-opacity=\"1\" /><path clip-path=\"url(#clip340)\" d=\"M 0 0 M491.458 1543.18 L507.777 1543.18 L507.777 1547.12 L485.833 1547.12 L485.833 1543.18 Q488.495 1540.43 493.078 1535.8 Q497.685 1531.15 498.865 1529.81 Q501.111 1527.28 501.99 1525.55 Q502.893 1523.79 502.893 1522.1 Q502.893 1519.34 500.949 1517.61 Q499.027 1515.87 495.926 1515.87 Q493.726 1515.87 491.273 1516.63 Q488.842 1517.4 486.064 1518.95 L486.064 1514.23 Q488.889 1513.09 491.342 1512.51 Q493.796 1511.93 495.833 1511.93 Q501.203 1511.93 504.398 1514.62 Q507.592 1517.31 507.592 1521.8 Q507.592 1523.93 506.782 1525.85 Q505.995 1527.74 503.888 1530.34 Q503.31 1531.01 500.208 1534.23 Q497.106 1537.42 491.458 1543.18 Z\" fill=\"#000000\" fill-rule=\"evenodd\" fill-opacity=\"1\" /><path clip-path=\"url(#clip340)\" d=\"M 0 0 M652.2 1515.64 Q648.589 1515.64 646.76 1519.2 Q644.955 1522.75 644.955 1529.87 Q644.955 1536.98 646.76 1540.55 Q648.589 1544.09 652.2 1544.09 Q655.834 1544.09 657.64 1540.55 Q659.469 1536.98 659.469 1529.87 Q659.469 1522.75 657.64 1519.2 Q655.834 1515.64 652.2 1515.64 M652.2 1511.93 Q658.01 1511.93 661.066 1516.54 Q664.145 1521.12 664.145 1529.87 Q664.145 1538.6 661.066 1543.21 Q658.01 1547.79 652.2 1547.79 Q646.39 1547.79 643.311 1543.21 Q640.256 1538.6 640.256 1529.87 Q640.256 1521.12 643.311 1516.54 Q646.39 1511.93 652.2 1511.93 Z\" fill=\"#000000\" fill-rule=\"evenodd\" fill-opacity=\"1\" /><path clip-path=\"url(#clip340)\" d=\"M 0 0 M818.822 1543.18 L835.141 1543.18 L835.141 1547.12 L813.197 1547.12 L813.197 1543.18 Q815.859 1540.43 820.442 1535.8 Q825.049 1531.15 826.229 1529.81 Q828.475 1527.28 829.354 1525.55 Q830.257 1523.79 830.257 1522.1 Q830.257 1519.34 828.313 1517.61 Q826.391 1515.87 823.29 1515.87 Q821.091 1515.87 818.637 1516.63 Q816.206 1517.4 813.429 1518.95 L813.429 1514.23 Q816.253 1513.09 818.706 1512.51 Q821.16 1511.93 823.197 1511.93 Q828.567 1511.93 831.762 1514.62 Q834.956 1517.31 834.956 1521.8 Q834.956 1523.93 834.146 1525.85 Q833.359 1527.74 831.253 1530.34 Q830.674 1531.01 827.572 1534.23 Q824.47 1537.42 818.822 1543.18 Z\" fill=\"#000000\" fill-rule=\"evenodd\" fill-opacity=\"1\" /><path clip-path=\"url(#clip340)\" d=\"M 0 0 M999.148 1516.63 L987.342 1535.08 L999.148 1535.08 L999.148 1516.63 M997.921 1512.56 L1003.8 1512.56 L1003.8 1535.08 L1008.73 1535.08 L1008.73 1538.97 L1003.8 1538.97 L1003.8 1547.12 L999.148 1547.12 L999.148 1538.97 L983.546 1538.97 L983.546 1534.46 L997.921 1512.56 Z\" fill=\"#000000\" fill-rule=\"evenodd\" fill-opacity=\"1\" /><polyline clip-path=\"url(#clip346)\" style=\"stroke:#000000; stroke-width:2; stroke-opacity:0.1; fill:none\" points=\"\n",
       "  196.482,1440.76 1107.92,1440.76 \n",
       "  \"/>\n",
       "<polyline clip-path=\"url(#clip346)\" style=\"stroke:#000000; stroke-width:2; stroke-opacity:0.1; fill:none\" points=\"\n",
       "  196.482,1370.47 1107.92,1370.47 \n",
       "  \"/>\n",
       "<polyline clip-path=\"url(#clip346)\" style=\"stroke:#000000; stroke-width:2; stroke-opacity:0.1; fill:none\" points=\"\n",
       "  196.482,1300.18 1107.92,1300.18 \n",
       "  \"/>\n",
       "<polyline clip-path=\"url(#clip346)\" style=\"stroke:#000000; stroke-width:2; stroke-opacity:0.1; fill:none\" points=\"\n",
       "  196.482,1229.89 1107.92,1229.89 \n",
       "  \"/>\n",
       "<polyline clip-path=\"url(#clip346)\" style=\"stroke:#000000; stroke-width:2; stroke-opacity:0.1; fill:none\" points=\"\n",
       "  196.482,1159.6 1107.92,1159.6 \n",
       "  \"/>\n",
       "<polyline clip-path=\"url(#clip340)\" style=\"stroke:#000000; stroke-width:4; stroke-opacity:1; fill:none\" points=\"\n",
       "  196.482,1486.45 196.482,1113.91 \n",
       "  \"/>\n",
       "<polyline clip-path=\"url(#clip340)\" style=\"stroke:#000000; stroke-width:4; stroke-opacity:1; fill:none\" points=\"\n",
       "  196.482,1440.76 207.42,1440.76 \n",
       "  \"/>\n",
       "<polyline clip-path=\"url(#clip340)\" style=\"stroke:#000000; stroke-width:4; stroke-opacity:1; fill:none\" points=\"\n",
       "  196.482,1370.47 207.42,1370.47 \n",
       "  \"/>\n",
       "<polyline clip-path=\"url(#clip340)\" style=\"stroke:#000000; stroke-width:4; stroke-opacity:1; fill:none\" points=\"\n",
       "  196.482,1300.18 207.42,1300.18 \n",
       "  \"/>\n",
       "<polyline clip-path=\"url(#clip340)\" style=\"stroke:#000000; stroke-width:4; stroke-opacity:1; fill:none\" points=\"\n",
       "  196.482,1229.89 207.42,1229.89 \n",
       "  \"/>\n",
       "<polyline clip-path=\"url(#clip340)\" style=\"stroke:#000000; stroke-width:4; stroke-opacity:1; fill:none\" points=\"\n",
       "  196.482,1159.6 207.42,1159.6 \n",
       "  \"/>\n",
       "<path clip-path=\"url(#clip340)\" d=\"M 0 0 M50.9921 1441.21 L80.6679 1441.21 L80.6679 1445.15 L50.9921 1445.15 L50.9921 1441.21 Z\" fill=\"#000000\" fill-rule=\"evenodd\" fill-opacity=\"1\" /><path clip-path=\"url(#clip340)\" d=\"M 0 0 M86.5475 1454.1 L94.1863 1454.1 L94.1863 1427.74 L85.8762 1429.41 L85.8762 1425.15 L94.14 1423.48 L98.8159 1423.48 L98.8159 1454.1 L106.455 1454.1 L106.455 1458.04 L86.5475 1458.04 L86.5475 1454.1 Z\" fill=\"#000000\" fill-rule=\"evenodd\" fill-opacity=\"1\" /><path clip-path=\"url(#clip340)\" d=\"M 0 0 M121.524 1426.56 Q117.913 1426.56 116.084 1430.12 Q114.279 1433.66 114.279 1440.79 Q114.279 1447.9 116.084 1451.47 Q117.913 1455.01 121.524 1455.01 Q125.158 1455.01 126.964 1451.47 Q128.793 1447.9 128.793 1440.79 Q128.793 1433.66 126.964 1430.12 Q125.158 1426.56 121.524 1426.56 M121.524 1422.85 Q127.334 1422.85 130.39 1427.46 Q133.469 1432.04 133.469 1440.79 Q133.469 1449.52 130.39 1454.13 Q127.334 1458.71 121.524 1458.71 Q115.714 1458.71 112.635 1454.13 Q109.58 1449.52 109.58 1440.79 Q109.58 1432.04 112.635 1427.46 Q115.714 1422.85 121.524 1422.85 Z\" fill=\"#000000\" fill-rule=\"evenodd\" fill-opacity=\"1\" /><path clip-path=\"url(#clip340)\" d=\"M 0 0 M148.538 1426.56 Q144.927 1426.56 143.098 1430.12 Q141.293 1433.66 141.293 1440.79 Q141.293 1447.9 143.098 1451.47 Q144.927 1455.01 148.538 1455.01 Q152.172 1455.01 153.978 1451.47 Q155.806 1447.9 155.806 1440.79 Q155.806 1433.66 153.978 1430.12 Q152.172 1426.56 148.538 1426.56 M148.538 1422.85 Q154.348 1422.85 157.404 1427.46 Q160.482 1432.04 160.482 1440.79 Q160.482 1449.52 157.404 1454.13 Q154.348 1458.71 148.538 1458.71 Q142.728 1458.71 139.649 1454.13 Q136.594 1449.52 136.594 1440.79 Q136.594 1432.04 139.649 1427.46 Q142.728 1422.85 148.538 1422.85 Z\" fill=\"#000000\" fill-rule=\"evenodd\" fill-opacity=\"1\" /><path clip-path=\"url(#clip340)\" d=\"M 0 0 M77.7744 1370.92 L107.45 1370.92 L107.45 1374.86 L77.7744 1374.86 L77.7744 1370.92 Z\" fill=\"#000000\" fill-rule=\"evenodd\" fill-opacity=\"1\" /><path clip-path=\"url(#clip340)\" d=\"M 0 0 M112.566 1353.19 L130.922 1353.19 L130.922 1357.12 L116.848 1357.12 L116.848 1365.6 Q117.867 1365.25 118.885 1365.09 Q119.904 1364.9 120.922 1364.9 Q126.709 1364.9 130.089 1368.07 Q133.469 1371.24 133.469 1376.66 Q133.469 1382.24 129.996 1385.34 Q126.524 1388.42 120.205 1388.42 Q118.029 1388.42 115.76 1388.05 Q113.515 1387.68 111.108 1386.94 L111.108 1382.24 Q113.191 1383.37 115.413 1383.93 Q117.635 1384.49 120.112 1384.49 Q124.117 1384.49 126.455 1382.38 Q128.793 1380.27 128.793 1376.66 Q128.793 1373.05 126.455 1370.94 Q124.117 1368.84 120.112 1368.84 Q118.237 1368.84 116.362 1369.25 Q114.51 1369.67 112.566 1370.55 L112.566 1353.19 Z\" fill=\"#000000\" fill-rule=\"evenodd\" fill-opacity=\"1\" /><path clip-path=\"url(#clip340)\" d=\"M 0 0 M148.538 1356.27 Q144.927 1356.27 143.098 1359.83 Q141.293 1363.37 141.293 1370.5 Q141.293 1377.61 143.098 1381.18 Q144.927 1384.72 148.538 1384.72 Q152.172 1384.72 153.978 1381.18 Q155.806 1377.61 155.806 1370.5 Q155.806 1363.37 153.978 1359.83 Q152.172 1356.27 148.538 1356.27 M148.538 1352.56 Q154.348 1352.56 157.404 1357.17 Q160.482 1361.75 160.482 1370.5 Q160.482 1379.23 157.404 1383.84 Q154.348 1388.42 148.538 1388.42 Q142.728 1388.42 139.649 1383.84 Q136.594 1379.23 136.594 1370.5 Q136.594 1361.75 139.649 1357.17 Q142.728 1352.56 148.538 1352.56 Z\" fill=\"#000000\" fill-rule=\"evenodd\" fill-opacity=\"1\" /><path clip-path=\"url(#clip340)\" d=\"M 0 0 M148.538 1285.98 Q144.927 1285.98 143.098 1289.54 Q141.293 1293.08 141.293 1300.21 Q141.293 1307.32 143.098 1310.89 Q144.927 1314.43 148.538 1314.43 Q152.172 1314.43 153.978 1310.89 Q155.806 1307.32 155.806 1300.21 Q155.806 1293.08 153.978 1289.54 Q152.172 1285.98 148.538 1285.98 M148.538 1282.27 Q154.348 1282.27 157.404 1286.88 Q160.482 1291.46 160.482 1300.21 Q160.482 1308.94 157.404 1313.55 Q154.348 1318.13 148.538 1318.13 Q142.728 1318.13 139.649 1313.55 Q136.594 1308.94 136.594 1300.21 Q136.594 1291.46 139.649 1286.88 Q142.728 1282.27 148.538 1282.27 Z\" fill=\"#000000\" fill-rule=\"evenodd\" fill-opacity=\"1\" /><path clip-path=\"url(#clip340)\" d=\"M 0 0 M112.566 1212.61 L130.922 1212.61 L130.922 1216.54 L116.848 1216.54 L116.848 1225.02 Q117.867 1224.67 118.885 1224.51 Q119.904 1224.32 120.922 1224.32 Q126.709 1224.32 130.089 1227.49 Q133.469 1230.66 133.469 1236.08 Q133.469 1241.66 129.996 1244.76 Q126.524 1247.84 120.205 1247.84 Q118.029 1247.84 115.76 1247.47 Q113.515 1247.1 111.108 1246.36 L111.108 1241.66 Q113.191 1242.79 115.413 1243.35 Q117.635 1243.91 120.112 1243.91 Q124.117 1243.91 126.455 1241.8 Q128.793 1239.69 128.793 1236.08 Q128.793 1232.47 126.455 1230.36 Q124.117 1228.26 120.112 1228.26 Q118.237 1228.26 116.362 1228.67 Q114.51 1229.09 112.566 1229.97 L112.566 1212.61 Z\" fill=\"#000000\" fill-rule=\"evenodd\" fill-opacity=\"1\" /><path clip-path=\"url(#clip340)\" d=\"M 0 0 M148.538 1215.69 Q144.927 1215.69 143.098 1219.25 Q141.293 1222.79 141.293 1229.92 Q141.293 1237.03 143.098 1240.6 Q144.927 1244.14 148.538 1244.14 Q152.172 1244.14 153.978 1240.6 Q155.806 1237.03 155.806 1229.92 Q155.806 1222.79 153.978 1219.25 Q152.172 1215.69 148.538 1215.69 M148.538 1211.98 Q154.348 1211.98 157.404 1216.59 Q160.482 1221.17 160.482 1229.92 Q160.482 1238.65 157.404 1243.26 Q154.348 1247.84 148.538 1247.84 Q142.728 1247.84 139.649 1243.26 Q136.594 1238.65 136.594 1229.92 Q136.594 1221.17 139.649 1216.59 Q142.728 1211.98 148.538 1211.98 Z\" fill=\"#000000\" fill-rule=\"evenodd\" fill-opacity=\"1\" /><path clip-path=\"url(#clip340)\" d=\"M 0 0 M86.5475 1172.94 L94.1863 1172.94 L94.1863 1146.58 L85.8762 1148.25 L85.8762 1143.99 L94.14 1142.32 L98.8159 1142.32 L98.8159 1172.94 L106.455 1172.94 L106.455 1176.88 L86.5475 1176.88 L86.5475 1172.94 Z\" fill=\"#000000\" fill-rule=\"evenodd\" fill-opacity=\"1\" /><path clip-path=\"url(#clip340)\" d=\"M 0 0 M121.524 1145.4 Q117.913 1145.4 116.084 1148.96 Q114.279 1152.5 114.279 1159.63 Q114.279 1166.74 116.084 1170.31 Q117.913 1173.85 121.524 1173.85 Q125.158 1173.85 126.964 1170.31 Q128.793 1166.74 128.793 1159.63 Q128.793 1152.5 126.964 1148.96 Q125.158 1145.4 121.524 1145.4 M121.524 1141.69 Q127.334 1141.69 130.39 1146.3 Q133.469 1150.88 133.469 1159.63 Q133.469 1168.36 130.39 1172.97 Q127.334 1177.55 121.524 1177.55 Q115.714 1177.55 112.635 1172.97 Q109.58 1168.36 109.58 1159.63 Q109.58 1150.88 112.635 1146.3 Q115.714 1141.69 121.524 1141.69 Z\" fill=\"#000000\" fill-rule=\"evenodd\" fill-opacity=\"1\" /><path clip-path=\"url(#clip340)\" d=\"M 0 0 M148.538 1145.4 Q144.927 1145.4 143.098 1148.96 Q141.293 1152.5 141.293 1159.63 Q141.293 1166.74 143.098 1170.31 Q144.927 1173.85 148.538 1173.85 Q152.172 1173.85 153.978 1170.31 Q155.806 1166.74 155.806 1159.63 Q155.806 1152.5 153.978 1148.96 Q152.172 1145.4 148.538 1145.4 M148.538 1141.69 Q154.348 1141.69 157.404 1146.3 Q160.482 1150.88 160.482 1159.63 Q160.482 1168.36 157.404 1172.97 Q154.348 1177.55 148.538 1177.55 Q142.728 1177.55 139.649 1172.97 Q136.594 1168.36 136.594 1159.63 Q136.594 1150.88 139.649 1146.3 Q142.728 1141.69 148.538 1141.69 Z\" fill=\"#000000\" fill-rule=\"evenodd\" fill-opacity=\"1\" /><polyline clip-path=\"url(#clip346)\" style=\"stroke:#009af9; stroke-width:4; stroke-opacity:1; fill:none\" points=\"\n",
       "  222.278,1475.9 224.377,1473.34 226.476,1470.81 228.575,1468.29 230.675,1465.81 250.086,1443.96 269.496,1424.13 288.907,1406.21 308.318,1390.11 331.648,1373.02 \n",
       "  354.978,1358.24 374.704,1347.43 394.429,1338.06 437.284,1322.13 476.792,1312.11 519.149,1305.39 568.223,1301.49 611.835,1300.32 650.078,1300.18 691.774,1300.04 \n",
       "  733.718,1298.98 780.092,1295.55 824.215,1288.92 847.154,1283.79 870.094,1277.3 889.403,1270.67 908.713,1262.86 932.289,1251.59 955.864,1238.26 978.025,1223.69 \n",
       "  1000.19,1206.99 1017.94,1191.99 1035.69,1175.46 1053.44,1157.33 1071.19,1137.52 1073.93,1134.31 1076.66,1131.07 1079.39,1127.78 1082.12,1124.45 \n",
       "  \"/>\n",
       "<path clip-path=\"url(#clip340)\" d=\"\n",
       "M933.743 1247.29 L1077.54 1247.29 L1077.54 1126.33 L933.743 1126.33  Z\n",
       "  \" fill=\"#ffffff\" fill-rule=\"evenodd\" fill-opacity=\"1\"/>\n",
       "<polyline clip-path=\"url(#clip340)\" style=\"stroke:#000000; stroke-width:4; stroke-opacity:1; fill:none\" points=\"\n",
       "  933.743,1247.29 1077.54,1247.29 1077.54,1126.33 933.743,1126.33 933.743,1247.29 \n",
       "  \"/>\n",
       "<polyline clip-path=\"url(#clip340)\" style=\"stroke:#009af9; stroke-width:4; stroke-opacity:1; fill:none\" points=\"\n",
       "  943.87,1186.81 1004.63,1186.81 \n",
       "  \"/>\n",
       "<path clip-path=\"url(#clip340)\" d=\"M 0 0 M1031.26 1168.07 L1031.26 1171.61 L1027.19 1171.61 Q1024.9 1171.61 1024 1172.54 Q1023.12 1173.46 1023.12 1175.87 L1023.12 1178.16 L1030.13 1178.16 L1030.13 1181.47 L1023.12 1181.47 L1023.12 1204.09 L1018.83 1204.09 L1018.83 1181.47 L1014.76 1181.47 L1014.76 1178.16 L1018.83 1178.16 L1018.83 1176.36 Q1018.83 1172.03 1020.85 1170.06 Q1022.86 1168.07 1027.24 1168.07 L1031.26 1168.07 Z\" fill=\"#000000\" fill-rule=\"evenodd\" fill-opacity=\"1\" /><path clip-path=\"url(#clip340)\" d=\"M 0 0 M1036.38 1169.53 L1054.74 1169.53 L1054.74 1173.46 L1040.66 1173.46 L1040.66 1181.94 Q1041.68 1181.59 1042.7 1181.43 Q1043.72 1181.24 1044.74 1181.24 Q1050.52 1181.24 1053.9 1184.41 Q1057.28 1187.58 1057.28 1193 Q1057.28 1198.58 1053.81 1201.68 Q1050.34 1204.76 1044.02 1204.76 Q1041.84 1204.76 1039.57 1204.39 Q1037.33 1204.02 1034.92 1203.28 L1034.92 1198.58 Q1037.01 1199.71 1039.23 1200.27 Q1041.45 1200.82 1043.93 1200.82 Q1047.93 1200.82 1050.27 1198.72 Q1052.61 1196.61 1052.61 1193 Q1052.61 1189.39 1050.27 1187.28 Q1047.93 1185.18 1043.93 1185.18 Q1042.05 1185.18 1040.18 1185.59 Q1038.32 1186.01 1036.38 1186.89 L1036.38 1169.53 Z\" fill=\"#000000\" fill-rule=\"evenodd\" fill-opacity=\"1\" /><path clip-path=\"url(#clip340)\" d=\"\n",
       "M1441.32 1486.45 L2352.76 1486.45 L2352.76 1113.91 L1441.32 1113.91  Z\n",
       "  \" fill=\"#ffffff\" fill-rule=\"evenodd\" fill-opacity=\"1\"/>\n",
       "<defs>\n",
       "  <clipPath id=\"clip347\">\n",
       "    <rect x=\"1441\" y=\"1113\" width=\"912\" height=\"374\"/>\n",
       "  </clipPath>\n",
       "</defs>\n",
       "<polyline clip-path=\"url(#clip347)\" style=\"stroke:#000000; stroke-width:2; stroke-opacity:0.1; fill:none\" points=\"\n",
       "  1553.1,1486.45 1553.1,1113.91 \n",
       "  \"/>\n",
       "<polyline clip-path=\"url(#clip347)\" style=\"stroke:#000000; stroke-width:2; stroke-opacity:0.1; fill:none\" points=\"\n",
       "  1725.07,1486.45 1725.07,1113.91 \n",
       "  \"/>\n",
       "<polyline clip-path=\"url(#clip347)\" style=\"stroke:#000000; stroke-width:2; stroke-opacity:0.1; fill:none\" points=\"\n",
       "  1897.04,1486.45 1897.04,1113.91 \n",
       "  \"/>\n",
       "<polyline clip-path=\"url(#clip347)\" style=\"stroke:#000000; stroke-width:2; stroke-opacity:0.1; fill:none\" points=\"\n",
       "  2069.01,1486.45 2069.01,1113.91 \n",
       "  \"/>\n",
       "<polyline clip-path=\"url(#clip347)\" style=\"stroke:#000000; stroke-width:2; stroke-opacity:0.1; fill:none\" points=\"\n",
       "  2240.98,1486.45 2240.98,1113.91 \n",
       "  \"/>\n",
       "<polyline clip-path=\"url(#clip340)\" style=\"stroke:#000000; stroke-width:4; stroke-opacity:1; fill:none\" points=\"\n",
       "  1441.32,1486.45 2352.76,1486.45 \n",
       "  \"/>\n",
       "<polyline clip-path=\"url(#clip340)\" style=\"stroke:#000000; stroke-width:4; stroke-opacity:1; fill:none\" points=\"\n",
       "  1553.1,1486.45 1553.1,1481.98 \n",
       "  \"/>\n",
       "<polyline clip-path=\"url(#clip340)\" style=\"stroke:#000000; stroke-width:4; stroke-opacity:1; fill:none\" points=\"\n",
       "  1725.07,1486.45 1725.07,1481.98 \n",
       "  \"/>\n",
       "<polyline clip-path=\"url(#clip340)\" style=\"stroke:#000000; stroke-width:4; stroke-opacity:1; fill:none\" points=\"\n",
       "  1897.04,1486.45 1897.04,1481.98 \n",
       "  \"/>\n",
       "<polyline clip-path=\"url(#clip340)\" style=\"stroke:#000000; stroke-width:4; stroke-opacity:1; fill:none\" points=\"\n",
       "  2069.01,1486.45 2069.01,1481.98 \n",
       "  \"/>\n",
       "<polyline clip-path=\"url(#clip340)\" style=\"stroke:#000000; stroke-width:4; stroke-opacity:1; fill:none\" points=\"\n",
       "  2240.98,1486.45 2240.98,1481.98 \n",
       "  \"/>\n",
       "<path clip-path=\"url(#clip340)\" d=\"M 0 0 M1524.51 1530.29 L1554.19 1530.29 L1554.19 1534.23 L1524.51 1534.23 L1524.51 1530.29 Z\" fill=\"#000000\" fill-rule=\"evenodd\" fill-opacity=\"1\" /><path clip-path=\"url(#clip340)\" d=\"M 0 0 M1572.1 1516.63 L1560.3 1535.08 L1572.1 1535.08 L1572.1 1516.63 M1570.88 1512.56 L1576.76 1512.56 L1576.76 1535.08 L1581.69 1535.08 L1581.69 1538.97 L1576.76 1538.97 L1576.76 1547.12 L1572.1 1547.12 L1572.1 1538.97 L1556.5 1538.97 L1556.5 1534.46 L1570.88 1512.56 Z\" fill=\"#000000\" fill-rule=\"evenodd\" fill-opacity=\"1\" /><path clip-path=\"url(#clip340)\" d=\"M 0 0 M1697.52 1530.29 L1727.2 1530.29 L1727.2 1534.23 L1697.52 1534.23 L1697.52 1530.29 Z\" fill=\"#000000\" fill-rule=\"evenodd\" fill-opacity=\"1\" /><path clip-path=\"url(#clip340)\" d=\"M 0 0 M1736.3 1543.18 L1752.62 1543.18 L1752.62 1547.12 L1730.67 1547.12 L1730.67 1543.18 Q1733.33 1540.43 1737.92 1535.8 Q1742.52 1531.15 1743.7 1529.81 Q1745.95 1527.28 1746.83 1525.55 Q1747.73 1523.79 1747.73 1522.1 Q1747.73 1519.34 1745.79 1517.61 Q1743.87 1515.87 1740.76 1515.87 Q1738.56 1515.87 1736.11 1516.63 Q1733.68 1517.4 1730.9 1518.95 L1730.9 1514.23 Q1733.73 1513.09 1736.18 1512.51 Q1738.63 1511.93 1740.67 1511.93 Q1746.04 1511.93 1749.24 1514.62 Q1752.43 1517.31 1752.43 1521.8 Q1752.43 1523.93 1751.62 1525.85 Q1750.83 1527.74 1748.73 1530.34 Q1748.15 1531.01 1745.05 1534.23 Q1741.94 1537.42 1736.3 1543.18 Z\" fill=\"#000000\" fill-rule=\"evenodd\" fill-opacity=\"1\" /><path clip-path=\"url(#clip340)\" d=\"M 0 0 M1897.04 1515.64 Q1893.43 1515.64 1891.6 1519.2 Q1889.79 1522.75 1889.79 1529.87 Q1889.79 1536.98 1891.6 1540.55 Q1893.43 1544.09 1897.04 1544.09 Q1900.67 1544.09 1902.48 1540.55 Q1904.31 1536.98 1904.31 1529.87 Q1904.31 1522.75 1902.48 1519.2 Q1900.67 1515.64 1897.04 1515.64 M1897.04 1511.93 Q1902.85 1511.93 1905.9 1516.54 Q1908.98 1521.12 1908.98 1529.87 Q1908.98 1538.6 1905.9 1543.21 Q1902.85 1547.79 1897.04 1547.79 Q1891.23 1547.79 1888.15 1543.21 Q1885.09 1538.6 1885.09 1529.87 Q1885.09 1521.12 1888.15 1516.54 Q1891.23 1511.93 1897.04 1511.93 Z\" fill=\"#000000\" fill-rule=\"evenodd\" fill-opacity=\"1\" /><path clip-path=\"url(#clip340)\" d=\"M 0 0 M2063.66 1543.18 L2079.98 1543.18 L2079.98 1547.12 L2058.03 1547.12 L2058.03 1543.18 Q2060.7 1540.43 2065.28 1535.8 Q2069.89 1531.15 2071.07 1529.81 Q2073.31 1527.28 2074.19 1525.55 Q2075.09 1523.79 2075.09 1522.1 Q2075.09 1519.34 2073.15 1517.61 Q2071.23 1515.87 2068.13 1515.87 Q2065.93 1515.87 2063.47 1516.63 Q2061.04 1517.4 2058.27 1518.95 L2058.27 1514.23 Q2061.09 1513.09 2063.54 1512.51 Q2066 1511.93 2068.03 1511.93 Q2073.41 1511.93 2076.6 1514.62 Q2079.79 1517.31 2079.79 1521.8 Q2079.79 1523.93 2078.98 1525.85 Q2078.2 1527.74 2076.09 1530.34 Q2075.51 1531.01 2072.41 1534.23 Q2069.31 1537.42 2063.66 1543.18 Z\" fill=\"#000000\" fill-rule=\"evenodd\" fill-opacity=\"1\" /><path clip-path=\"url(#clip340)\" d=\"M 0 0 M2243.99 1516.63 L2232.18 1535.08 L2243.99 1535.08 L2243.99 1516.63 M2242.76 1512.56 L2248.64 1512.56 L2248.64 1535.08 L2253.57 1535.08 L2253.57 1538.97 L2248.64 1538.97 L2248.64 1547.12 L2243.99 1547.12 L2243.99 1538.97 L2228.38 1538.97 L2228.38 1534.46 L2242.76 1512.56 Z\" fill=\"#000000\" fill-rule=\"evenodd\" fill-opacity=\"1\" /><polyline clip-path=\"url(#clip347)\" style=\"stroke:#000000; stroke-width:2; stroke-opacity:0.1; fill:none\" points=\"\n",
       "  1441.32,1445.34 2352.76,1445.34 \n",
       "  \"/>\n",
       "<polyline clip-path=\"url(#clip347)\" style=\"stroke:#000000; stroke-width:2; stroke-opacity:0.1; fill:none\" points=\"\n",
       "  1441.32,1368.94 2352.76,1368.94 \n",
       "  \"/>\n",
       "<polyline clip-path=\"url(#clip347)\" style=\"stroke:#000000; stroke-width:2; stroke-opacity:0.1; fill:none\" points=\"\n",
       "  1441.32,1292.54 2352.76,1292.54 \n",
       "  \"/>\n",
       "<polyline clip-path=\"url(#clip347)\" style=\"stroke:#000000; stroke-width:2; stroke-opacity:0.1; fill:none\" points=\"\n",
       "  1441.32,1216.14 2352.76,1216.14 \n",
       "  \"/>\n",
       "<polyline clip-path=\"url(#clip347)\" style=\"stroke:#000000; stroke-width:2; stroke-opacity:0.1; fill:none\" points=\"\n",
       "  1441.32,1139.73 2352.76,1139.73 \n",
       "  \"/>\n",
       "<polyline clip-path=\"url(#clip340)\" style=\"stroke:#000000; stroke-width:4; stroke-opacity:1; fill:none\" points=\"\n",
       "  1441.32,1486.45 1441.32,1113.91 \n",
       "  \"/>\n",
       "<polyline clip-path=\"url(#clip340)\" style=\"stroke:#000000; stroke-width:4; stroke-opacity:1; fill:none\" points=\"\n",
       "  1441.32,1445.34 1452.26,1445.34 \n",
       "  \"/>\n",
       "<polyline clip-path=\"url(#clip340)\" style=\"stroke:#000000; stroke-width:4; stroke-opacity:1; fill:none\" points=\"\n",
       "  1441.32,1368.94 1452.26,1368.94 \n",
       "  \"/>\n",
       "<polyline clip-path=\"url(#clip340)\" style=\"stroke:#000000; stroke-width:4; stroke-opacity:1; fill:none\" points=\"\n",
       "  1441.32,1292.54 1452.26,1292.54 \n",
       "  \"/>\n",
       "<polyline clip-path=\"url(#clip340)\" style=\"stroke:#000000; stroke-width:4; stroke-opacity:1; fill:none\" points=\"\n",
       "  1441.32,1216.14 1452.26,1216.14 \n",
       "  \"/>\n",
       "<polyline clip-path=\"url(#clip340)\" style=\"stroke:#000000; stroke-width:4; stroke-opacity:1; fill:none\" points=\"\n",
       "  1441.32,1139.73 1452.26,1139.73 \n",
       "  \"/>\n",
       "<path clip-path=\"url(#clip340)\" d=\"M 0 0 M1295.83 1445.79 L1325.51 1445.79 L1325.51 1449.73 L1295.83 1449.73 L1295.83 1445.79 Z\" fill=\"#000000\" fill-rule=\"evenodd\" fill-opacity=\"1\" /><path clip-path=\"url(#clip340)\" d=\"M 0 0 M1331.39 1458.69 L1339.02 1458.69 L1339.02 1432.32 L1330.71 1433.99 L1330.71 1429.73 L1338.98 1428.06 L1343.65 1428.06 L1343.65 1458.69 L1351.29 1458.69 L1351.29 1462.62 L1331.39 1462.62 L1331.39 1458.69 Z\" fill=\"#000000\" fill-rule=\"evenodd\" fill-opacity=\"1\" /><path clip-path=\"url(#clip340)\" d=\"M 0 0 M1366.36 1431.14 Q1362.75 1431.14 1360.92 1434.71 Q1359.12 1438.25 1359.12 1445.38 Q1359.12 1452.48 1360.92 1456.05 Q1362.75 1459.59 1366.36 1459.59 Q1370 1459.59 1371.8 1456.05 Q1373.63 1452.48 1373.63 1445.38 Q1373.63 1438.25 1371.8 1434.71 Q1370 1431.14 1366.36 1431.14 M1366.36 1427.44 Q1372.17 1427.44 1375.23 1432.04 Q1378.31 1436.63 1378.31 1445.38 Q1378.31 1454.11 1375.23 1458.71 Q1372.17 1463.29 1366.36 1463.29 Q1360.55 1463.29 1357.47 1458.71 Q1354.42 1454.11 1354.42 1445.38 Q1354.42 1436.63 1357.47 1432.04 Q1360.55 1427.44 1366.36 1427.44 Z\" fill=\"#000000\" fill-rule=\"evenodd\" fill-opacity=\"1\" /><path clip-path=\"url(#clip340)\" d=\"M 0 0 M1393.38 1431.14 Q1389.76 1431.14 1387.94 1434.71 Q1386.13 1438.25 1386.13 1445.38 Q1386.13 1452.48 1387.94 1456.05 Q1389.76 1459.59 1393.38 1459.59 Q1397.01 1459.59 1398.82 1456.05 Q1400.64 1452.48 1400.64 1445.38 Q1400.64 1438.25 1398.82 1434.71 Q1397.01 1431.14 1393.38 1431.14 M1393.38 1427.44 Q1399.19 1427.44 1402.24 1432.04 Q1405.32 1436.63 1405.32 1445.38 Q1405.32 1454.11 1402.24 1458.71 Q1399.19 1463.29 1393.38 1463.29 Q1387.57 1463.29 1384.49 1458.71 Q1381.43 1454.11 1381.43 1445.38 Q1381.43 1436.63 1384.49 1432.04 Q1387.57 1427.44 1393.38 1427.44 Z\" fill=\"#000000\" fill-rule=\"evenodd\" fill-opacity=\"1\" /><path clip-path=\"url(#clip340)\" d=\"M 0 0 M1322.61 1369.39 L1352.29 1369.39 L1352.29 1373.33 L1322.61 1373.33 L1322.61 1369.39 Z\" fill=\"#000000\" fill-rule=\"evenodd\" fill-opacity=\"1\" /><path clip-path=\"url(#clip340)\" d=\"M 0 0 M1357.4 1351.66 L1375.76 1351.66 L1375.76 1355.6 L1361.69 1355.6 L1361.69 1364.07 Q1362.7 1363.72 1363.72 1363.56 Q1364.74 1363.37 1365.76 1363.37 Q1371.55 1363.37 1374.93 1366.55 Q1378.31 1369.72 1378.31 1375.13 Q1378.31 1380.71 1374.83 1383.81 Q1371.36 1386.89 1365.04 1386.89 Q1362.87 1386.89 1360.6 1386.52 Q1358.35 1386.15 1355.95 1385.41 L1355.95 1380.71 Q1358.03 1381.85 1360.25 1382.4 Q1362.47 1382.96 1364.95 1382.96 Q1368.95 1382.96 1371.29 1380.85 Q1373.63 1378.74 1373.63 1375.13 Q1373.63 1371.52 1371.29 1369.42 Q1368.95 1367.31 1364.95 1367.31 Q1363.07 1367.31 1361.2 1367.73 Q1359.35 1368.14 1357.4 1369.02 L1357.4 1351.66 Z\" fill=\"#000000\" fill-rule=\"evenodd\" fill-opacity=\"1\" /><path clip-path=\"url(#clip340)\" d=\"M 0 0 M1393.38 1354.74 Q1389.76 1354.74 1387.94 1358.3 Q1386.13 1361.85 1386.13 1368.98 Q1386.13 1376.08 1387.94 1379.65 Q1389.76 1383.19 1393.38 1383.19 Q1397.01 1383.19 1398.82 1379.65 Q1400.64 1376.08 1400.64 1368.98 Q1400.64 1361.85 1398.82 1358.3 Q1397.01 1354.74 1393.38 1354.74 M1393.38 1351.04 Q1399.19 1351.04 1402.24 1355.64 Q1405.32 1360.23 1405.32 1368.98 Q1405.32 1377.7 1402.24 1382.31 Q1399.19 1386.89 1393.38 1386.89 Q1387.57 1386.89 1384.49 1382.31 Q1381.43 1377.7 1381.43 1368.98 Q1381.43 1360.23 1384.49 1355.64 Q1387.57 1351.04 1393.38 1351.04 Z\" fill=\"#000000\" fill-rule=\"evenodd\" fill-opacity=\"1\" /><path clip-path=\"url(#clip340)\" d=\"M 0 0 M1393.38 1278.34 Q1389.76 1278.34 1387.94 1281.9 Q1386.13 1285.44 1386.13 1292.57 Q1386.13 1299.68 1387.94 1303.25 Q1389.76 1306.79 1393.38 1306.79 Q1397.01 1306.79 1398.82 1303.25 Q1400.64 1299.68 1400.64 1292.57 Q1400.64 1285.44 1398.82 1281.9 Q1397.01 1278.34 1393.38 1278.34 M1393.38 1274.63 Q1399.19 1274.63 1402.24 1279.24 Q1405.32 1283.82 1405.32 1292.57 Q1405.32 1301.3 1402.24 1305.91 Q1399.19 1310.49 1393.38 1310.49 Q1387.57 1310.49 1384.49 1305.91 Q1381.43 1301.3 1381.43 1292.57 Q1381.43 1283.82 1384.49 1279.24 Q1387.57 1274.63 1393.38 1274.63 Z\" fill=\"#000000\" fill-rule=\"evenodd\" fill-opacity=\"1\" /><path clip-path=\"url(#clip340)\" d=\"M 0 0 M1357.4 1198.86 L1375.76 1198.86 L1375.76 1202.79 L1361.69 1202.79 L1361.69 1211.26 Q1362.7 1210.92 1363.72 1210.75 Q1364.74 1210.57 1365.76 1210.57 Q1371.55 1210.57 1374.93 1213.74 Q1378.31 1216.91 1378.31 1222.33 Q1378.31 1227.91 1374.83 1231.01 Q1371.36 1234.09 1365.04 1234.09 Q1362.87 1234.09 1360.6 1233.72 Q1358.35 1233.35 1355.95 1232.61 L1355.95 1227.91 Q1358.03 1229.04 1360.25 1229.6 Q1362.47 1230.15 1364.95 1230.15 Q1368.95 1230.15 1371.29 1228.05 Q1373.63 1225.94 1373.63 1222.33 Q1373.63 1218.72 1371.29 1216.61 Q1368.95 1214.5 1364.95 1214.5 Q1363.07 1214.5 1361.2 1214.92 Q1359.35 1215.34 1357.4 1216.22 L1357.4 1198.86 Z\" fill=\"#000000\" fill-rule=\"evenodd\" fill-opacity=\"1\" /><path clip-path=\"url(#clip340)\" d=\"M 0 0 M1393.38 1201.94 Q1389.76 1201.94 1387.94 1205.5 Q1386.13 1209.04 1386.13 1216.17 Q1386.13 1223.28 1387.94 1226.84 Q1389.76 1230.38 1393.38 1230.38 Q1397.01 1230.38 1398.82 1226.84 Q1400.64 1223.28 1400.64 1216.17 Q1400.64 1209.04 1398.82 1205.5 Q1397.01 1201.94 1393.38 1201.94 M1393.38 1198.23 Q1399.19 1198.23 1402.24 1202.84 Q1405.32 1207.42 1405.32 1216.17 Q1405.32 1224.9 1402.24 1229.5 Q1399.19 1234.09 1393.38 1234.09 Q1387.57 1234.09 1384.49 1229.5 Q1381.43 1224.9 1381.43 1216.17 Q1381.43 1207.42 1384.49 1202.84 Q1387.57 1198.23 1393.38 1198.23 Z\" fill=\"#000000\" fill-rule=\"evenodd\" fill-opacity=\"1\" /><path clip-path=\"url(#clip340)\" d=\"M 0 0 M1331.39 1153.08 L1339.02 1153.08 L1339.02 1126.71 L1330.71 1128.38 L1330.71 1124.12 L1338.98 1122.45 L1343.65 1122.45 L1343.65 1153.08 L1351.29 1153.08 L1351.29 1157.01 L1331.39 1157.01 L1331.39 1153.08 Z\" fill=\"#000000\" fill-rule=\"evenodd\" fill-opacity=\"1\" /><path clip-path=\"url(#clip340)\" d=\"M 0 0 M1366.36 1125.53 Q1362.75 1125.53 1360.92 1129.1 Q1359.12 1132.64 1359.12 1139.77 Q1359.12 1146.88 1360.92 1150.44 Q1362.75 1153.98 1366.36 1153.98 Q1370 1153.98 1371.8 1150.44 Q1373.63 1146.88 1373.63 1139.77 Q1373.63 1132.64 1371.8 1129.1 Q1370 1125.53 1366.36 1125.53 M1366.36 1121.83 Q1372.17 1121.83 1375.23 1126.44 Q1378.31 1131.02 1378.31 1139.77 Q1378.31 1148.5 1375.23 1153.1 Q1372.17 1157.69 1366.36 1157.69 Q1360.55 1157.69 1357.47 1153.1 Q1354.42 1148.5 1354.42 1139.77 Q1354.42 1131.02 1357.47 1126.44 Q1360.55 1121.83 1366.36 1121.83 Z\" fill=\"#000000\" fill-rule=\"evenodd\" fill-opacity=\"1\" /><path clip-path=\"url(#clip340)\" d=\"M 0 0 M1393.38 1125.53 Q1389.76 1125.53 1387.94 1129.1 Q1386.13 1132.64 1386.13 1139.77 Q1386.13 1146.88 1387.94 1150.44 Q1389.76 1153.98 1393.38 1153.98 Q1397.01 1153.98 1398.82 1150.44 Q1400.64 1146.88 1400.64 1139.77 Q1400.64 1132.64 1398.82 1129.1 Q1397.01 1125.53 1393.38 1125.53 M1393.38 1121.83 Q1399.19 1121.83 1402.24 1126.44 Q1405.32 1131.02 1405.32 1139.77 Q1405.32 1148.5 1402.24 1153.1 Q1399.19 1157.69 1393.38 1157.69 Q1387.57 1157.69 1384.49 1153.1 Q1381.43 1148.5 1381.43 1139.77 Q1381.43 1131.02 1384.49 1126.44 Q1387.57 1121.83 1393.38 1121.83 Z\" fill=\"#000000\" fill-rule=\"evenodd\" fill-opacity=\"1\" /><polyline clip-path=\"url(#clip347)\" style=\"stroke:#009af9; stroke-width:4; stroke-opacity:1; fill:none\" points=\"\n",
       "  1467.12,1475.9 1469.21,1473.19 1471.31,1470.51 1473.41,1467.86 1475.51,1465.23 1494.92,1442.17 1514.33,1421.31 1533.74,1402.52 1553.16,1385.7 1576.49,1367.96 \n",
       "  1599.82,1352.73 1619.54,1341.68 1639.27,1332.19 1660.69,1323.51 1682.12,1316.4 1701.88,1311.11 1721.63,1306.92 1763.99,1301.11 1813.06,1298.62 1856.67,1298.9 \n",
       "  1894.92,1300.1 1936.61,1301.44 1978.56,1301.77 2024.93,1299.7 2069.05,1294.06 2091.99,1289.3 2114.93,1283.06 2134.24,1276.53 2153.55,1268.73 2177.13,1257.32 \n",
       "  2200.7,1243.67 2222.86,1228.62 2245.02,1211.26 2262.78,1195.58 2280.53,1178.25 2298.28,1159.17 2316.03,1138.26 2318.76,1134.88 2321.5,1131.45 2324.23,1127.98 \n",
       "  2326.96,1124.45 \n",
       "  \"/>\n",
       "<path clip-path=\"url(#clip340)\" d=\"\n",
       "M2177.42 1247.29 L2322.37 1247.29 L2322.37 1126.33 L2177.42 1126.33  Z\n",
       "  \" fill=\"#ffffff\" fill-rule=\"evenodd\" fill-opacity=\"1\"/>\n",
       "<polyline clip-path=\"url(#clip340)\" style=\"stroke:#000000; stroke-width:4; stroke-opacity:1; fill:none\" points=\"\n",
       "  2177.42,1247.29 2322.37,1247.29 2322.37,1126.33 2177.42,1126.33 2177.42,1247.29 \n",
       "  \"/>\n",
       "<polyline clip-path=\"url(#clip340)\" style=\"stroke:#009af9; stroke-width:4; stroke-opacity:1; fill:none\" points=\"\n",
       "  2187.55,1186.81 2248.31,1186.81 \n",
       "  \"/>\n",
       "<path clip-path=\"url(#clip340)\" d=\"M 0 0 M2274.94 1168.07 L2274.94 1171.61 L2270.87 1171.61 Q2268.58 1171.61 2267.68 1172.54 Q2266.8 1173.46 2266.8 1175.87 L2266.8 1178.16 L2273.81 1178.16 L2273.81 1181.47 L2266.8 1181.47 L2266.8 1204.09 L2262.51 1204.09 L2262.51 1181.47 L2258.44 1181.47 L2258.44 1178.16 L2262.51 1178.16 L2262.51 1176.36 Q2262.51 1172.03 2264.53 1170.06 Q2266.54 1168.07 2270.92 1168.07 L2274.94 1168.07 Z\" fill=\"#000000\" fill-rule=\"evenodd\" fill-opacity=\"1\" /><path clip-path=\"url(#clip340)\" d=\"M 0 0 M2290.59 1184.95 Q2287.44 1184.95 2285.59 1187.1 Q2283.76 1189.25 2283.76 1193 Q2283.76 1196.73 2285.59 1198.9 Q2287.44 1201.06 2290.59 1201.06 Q2293.74 1201.06 2295.57 1198.9 Q2297.42 1196.73 2297.42 1193 Q2297.42 1189.25 2295.57 1187.1 Q2293.74 1184.95 2290.59 1184.95 M2299.88 1170.29 L2299.88 1174.55 Q2298.12 1173.72 2296.31 1173.28 Q2294.53 1172.84 2292.77 1172.84 Q2288.14 1172.84 2285.69 1175.96 Q2283.25 1179.09 2282.91 1185.41 Q2284.27 1183.39 2286.33 1182.33 Q2288.39 1181.24 2290.87 1181.24 Q2296.08 1181.24 2299.09 1184.41 Q2302.12 1187.56 2302.12 1193 Q2302.12 1198.32 2298.97 1201.54 Q2295.82 1204.76 2290.59 1204.76 Q2284.6 1204.76 2281.43 1200.18 Q2278.25 1195.57 2278.25 1186.84 Q2278.25 1178.65 2282.14 1173.79 Q2286.03 1168.9 2292.58 1168.9 Q2294.34 1168.9 2296.13 1169.25 Q2297.93 1169.6 2299.88 1170.29 Z\" fill=\"#000000\" fill-rule=\"evenodd\" fill-opacity=\"1\" /></svg>\n"
      ]
     },
     "execution_count": 27,
     "metadata": {},
     "output_type": "execute_result"
    }
   ],
   "source": [
    "p1 = plot(f1)\n",
    "p2 = plot(f2)\n",
    "p3 = plot(f3)\n",
    "p4 = plot(f4)\n",
    "p5 = plot(f5)\n",
    "p6 = plot(f6)\n",
    "\n",
    "labels = [\"f1\" \"f2\" \"f3\" \"f4\" \"f5\" \"f6\"]\n",
    "plot(p1, p2, p3, p4, p5, p6, layout=(3,2), label = labels)"
   ]
  },
  {
   "cell_type": "code",
   "execution_count": 28,
   "metadata": {},
   "outputs": [
    {
     "data": {
      "text/plain": [
       "is_zero (generic function with 1 method)"
      ]
     },
     "execution_count": 28,
     "metadata": {},
     "output_type": "execute_result"
    }
   ],
   "source": [
    "# spradzamy, czy znak się zmienia\n",
    "\n",
    "function is_zero(f,x)\n",
    "    return sign(f(prevfloat(x))) *sign(f(nextfloat(x))) <= 0\n",
    "end"
   ]
  },
  {
   "cell_type": "code",
   "execution_count": 29,
   "metadata": {},
   "outputs": [
    {
     "data": {
      "text/plain": [
       "get_output (generic function with 1 method)"
      ]
     },
     "execution_count": 29,
     "metadata": {},
     "output_type": "execute_result"
    }
   ],
   "source": [
    "# pobieramy liczbę iteracji i wywołań funkcji, przechwytując wyjście na konsolę\n",
    "\n",
    "function get_output(first_arg, second_arg, third_arg)\n",
    "    output = \"\"\n",
    "    x = 0\n",
    "    let old_stdout = stdout\n",
    "        rd, = redirect_stdout()\n",
    "        try\n",
    "            x = find_zero(first_arg, second_arg, third_arg, verbose=true)\n",
    "        finally\n",
    "            redirect_stdout(old_stdout) # Przywraca oryginalne stdout\n",
    "        end\n",
    "        output = String(readavailable(rd))\n",
    "    end\n",
    "    \n",
    "    iters = match(r\"(?<=iterations: )(\\d+)\", output).match\n",
    "    evals = match(r\"(?<=function evaluations: )(\\d+)\", output).match\n",
    "    \n",
    "    return x,iters, evals\n",
    "end"
   ]
  },
  {
   "cell_type": "code",
   "execution_count": 30,
   "metadata": {},
   "outputs": [
    {
     "data": {
      "text/plain": [
       "(0.0, \"0\", \"3\")"
      ]
     },
     "execution_count": 30,
     "metadata": {},
     "output_type": "execute_result"
    }
   ],
   "source": [
    "x,output = get_output(f1, (-5,5), Bisection())"
   ]
  },
  {
   "cell_type": "code",
   "execution_count": 31,
   "metadata": {},
   "outputs": [
    {
     "data": {
      "text/plain": [
       "test (generic function with 1 method)"
      ]
     },
     "execution_count": 31,
     "metadata": {},
     "output_type": "execute_result"
    }
   ],
   "source": [
    "function test()\n",
    "    res_arr = []\n",
    "    for f in [f1 f2 f3 f4 f5 f6]\n",
    "        # bisekcja\n",
    "        row = []\n",
    "        x, iters, evals = get_output(f, (-5,5), Bisection())\n",
    "        push!(row,f,'B',parse(Int64, iters), parse(Int64, evals), round(x,digits = 5), is_zero(f,x))\n",
    "        push!(res_arr,row)\n",
    "    \n",
    "        # Newton\n",
    "        row = []\n",
    "        D(f) = x->ForwardDiff.derivative(f, float(x))\n",
    "        x, iters, evals = get_output((f, D(f)), 0, Roots.Newton())\n",
    "        push!(row,f,'N',parse(Int64, iters), parse(Int64, evals), round(x,digits = 5), is_zero(f,x))\n",
    "        push!(res_arr,row)\n",
    "        \n",
    "        # sieczne \n",
    "        row = []\n",
    "        x, iters, evals = get_output(f, 0, Order1())\n",
    "        push!(row,f,'S', parse(Int64, iters), parse(Int64, evals), round(x,digits = 5), is_zero(f,x))\n",
    "        push!(res_arr,row)\n",
    "        \n",
    "    end\n",
    "    return res_arr\n",
    "end"
   ]
  },
  {
   "cell_type": "code",
   "execution_count": 32,
   "metadata": {},
   "outputs": [
    {
     "data": {
      "text/plain": [
       "print_table (generic function with 1 method)"
      ]
     },
     "execution_count": 32,
     "metadata": {},
     "output_type": "execute_result"
    }
   ],
   "source": [
    "using Printf\n",
    "\n",
    "function print_table(x)\n",
    "    @printf(\"%4s %8s %6s %6s %8s %8s\\n\",\"func\",\"method\",\"iters\",\"evals\",\"root\",\"OK\")\n",
    "    println(\"-------------------------------------------------\")\n",
    "    for i in 1:size(x,1) \n",
    "        @printf(\"%4s %4s %7s %7s %10s %8s\\n\",x[i][1],x[i][2],x[i][3],x[i][4],x[i][5],x[i][6]) \n",
    "        if i % 3 == 0\n",
    "            println()\n",
    "        end\n",
    "    end\n",
    "end"
   ]
  },
  {
   "cell_type": "code",
   "execution_count": 33,
   "metadata": {},
   "outputs": [
    {
     "name": "stdout",
     "output_type": "stream",
     "text": [
      "func   method  iters  evals     root       OK\n",
      "-------------------------------------------------\n",
      "  f1    B       0       3        0.0     true\n",
      "  f1    N       0       1        0.0     true\n",
      "  f1    S       0       2        0.0     true\n",
      "\n",
      "  f2    B       0       3        0.0     true\n",
      "  f2    N       0       1        0.0     true\n",
      "  f2    S       0       2        0.0     true\n",
      "\n",
      "  f3    B      60      62       -3.0     true\n",
      "  f3    N      26      53        1.0    false\n",
      "  f3    S      37      39        1.0    false\n",
      "\n",
      "  f4    B      58      60        1.0     true\n",
      "  f4    N      33      67    0.99382    false\n",
      "  f4    S      41      43    0.98792    false\n",
      "\n",
      "  f5    B       0       3        0.0     true\n",
      "  f5    N       0       1        0.0     true\n",
      "  f5    S       0       2        0.0     true\n",
      "\n",
      "  f6    B      62      64    2.09455     true\n",
      "  f6    N      19      39    2.09455     true\n",
      "  f6    S      12      14    2.09455     true\n",
      "\n"
     ]
    }
   ],
   "source": [
    "print_table(test())"
   ]
  },
  {
   "cell_type": "markdown",
   "metadata": {},
   "source": [
    "## 2.\n",
    "Z powyższej tabeli widzimy, że dużą liczbę iteracji generuje m.in. funkcja $f_4(x) = (x-1)^{7}$. Prześledźmy zatem działanie  na niej wszystkich trzech metod."
   ]
  },
  {
   "cell_type": "markdown",
   "metadata": {},
   "source": [
    "#### Metoda bisekcji "
   ]
  },
  {
   "cell_type": "code",
   "execution_count": 34,
   "metadata": {},
   "outputs": [
    {
     "name": "stdout",
     "output_type": "stream",
     "text": [
      "Results of univariate zero finding:\n",
      "\n",
      "* Converged to: 1.0000000000000018\n",
      "* Algorithm: Roots.BisectionExact()\n",
      "* iterations: 58\n",
      "* function evaluations: 60\n",
      "* stopped as x_n ≈ x_{n-1} using atol=xatol, rtol=xrtol\n",
      "* stopped as |f(x_n)| ≤ max(δ, max(1,|x|)⋅ϵ) using δ = atol, ϵ = rtol\n",
      "\n",
      "Trace:\n",
      "(a_0, b_0) = ( 0.0000000000000000,  5.0000000000000000)\n",
      "(a_1, b_1) = ( 0.0000000000000000,  5.0000000000000000)\n",
      "(a_2, b_2) = ( 0.0000000000000000,  5.0000000000000000)\n",
      "(a_3, b_3) = ( 0.0000000000000000,  5.0000000000000000)\n",
      "(a_4, b_4) = ( 0.0000000000000000,  5.0000000000000000)\n",
      "(a_5, b_5) = ( 0.0000000011277734,  5.0000000000000000)\n",
      "(a_6, b_6) = ( 0.0000751018524170,  5.0000000000000000)\n",
      "(a_7, b_7) = ( 0.0193786621093750,  5.0000000000000000)\n",
      "(a_8, b_8) = ( 0.3112792968750000,  5.0000000000000000)\n",
      "(a_9, b_9) = ( 0.3112792968750000,  1.2475585937500000)\n",
      "(a_10, b_10) = ( 0.6231689453125000,  1.2475585937500000)\n",
      "(a_11, b_11) = ( 0.8734741210937500,  1.2475585937500000)\n",
      "(a_12, b_12) = ( 0.9986267089843750,  1.2475585937500000)\n",
      "(a_13, b_13) = ( 0.9986267089843750,  1.1224060058593750)\n",
      "(a_14, b_14) = ( 0.9986267089843750,  1.0598297119140625)\n",
      "(a_15, b_15) = ( 0.9986267089843750,  1.0285415649414063)\n",
      "(a_16, b_16) = ( 0.9986267089843750,  1.0128974914550781)\n",
      "(a_17, b_17) = ( 0.9986267089843750,  1.0050754547119141)\n",
      "(a_18, b_18) = ( 0.9986267089843750,  1.0011644363403320)\n",
      "(a_19, b_19) = ( 0.9996044635772705,  1.0011644363403320)\n",
      "(a_20, b_20) = ( 0.9996044635772705,  1.0001866817474365)\n",
      "(a_21, b_21) = ( 0.9998489022254944,  1.0001866817474365)\n",
      "(a_22, b_22) = ( 0.9999711215496063,  1.0001866817474365)\n",
      "(a_23, b_23) = ( 0.9999711215496063,  1.0000644624233246)\n",
      "(a_24, b_24) = ( 0.9999711215496063,  1.0000033527612686)\n",
      "(a_25, b_25) = ( 0.9999863989651203,  1.0000033527612686)\n",
      "(a_26, b_26) = ( 0.9999940376728773,  1.0000033527612686)\n",
      "(a_27, b_27) = ( 0.9999978570267558,  1.0000033527612686)\n",
      "(a_28, b_28) = ( 0.9999997667036951,  1.0000033527612686)\n",
      "(a_29, b_29) = ( 0.9999997667036951,  1.0000014430843294)\n",
      "(a_30, b_30) = ( 0.9999997667036951,  1.0000004882458597)\n",
      "(a_31, b_31) = ( 0.9999997667036951,  1.0000000108266249)\n",
      "(a_32, b_32) = ( 0.9999998860585038,  1.0000000108266249)\n",
      "(a_33, b_33) = ( 0.9999999457359081,  1.0000000108266249)\n",
      "(a_34, b_34) = ( 0.9999999755746103,  1.0000000108266249)\n",
      "(a_35, b_35) = ( 0.9999999904939614,  1.0000000108266249)\n",
      "(a_36, b_36) = ( 0.9999999979536369,  1.0000000108266249)\n",
      "(a_37, b_37) = ( 0.9999999979536369,  1.0000000033669494)\n",
      "(a_38, b_38) = ( 0.9999999998185558,  1.0000000033669494)\n",
      "(a_39, b_39) = ( 0.9999999998185558,  1.0000000015020305)\n",
      "(a_40, b_40) = ( 0.9999999998185558,  1.0000000005695711)\n",
      "(a_41, b_41) = ( 0.9999999998185558,  1.0000000001033413)\n",
      "(a_42, b_42) = ( 0.9999999999351132,  1.0000000001033413)\n",
      "(a_43, b_43) = ( 0.9999999999933920,  1.0000000001033413)\n",
      "(a_44, b_44) = ( 0.9999999999933920,  1.0000000000450626)\n",
      "(a_45, b_45) = ( 0.9999999999933920,  1.0000000000159233)\n",
      "(a_46, b_46) = ( 0.9999999999933920,  1.0000000000013536)\n",
      "(a_47, b_47) = ( 0.9999999999970344,  1.0000000000013536)\n",
      "(a_48, b_48) = ( 0.9999999999988556,  1.0000000000013536)\n",
      "(a_49, b_49) = ( 0.9999999999997662,  1.0000000000013536)\n",
      "(a_50, b_50) = ( 0.9999999999997662,  1.0000000000004430)\n",
      "(a_51, b_51) = ( 0.9999999999999938,  1.0000000000004430)\n",
      "(a_52, b_52) = ( 0.9999999999999938,  1.0000000000002152)\n",
      "(a_53, b_53) = ( 0.9999999999999938,  1.0000000000001013)\n",
      "(a_54, b_54) = ( 0.9999999999999938,  1.0000000000000444)\n",
      "(a_55, b_55) = ( 0.9999999999999938,  1.0000000000000160)\n",
      "(a_56, b_56) = ( 0.9999999999999938,  1.0000000000000018)\n",
      "(a_57, b_57) = ( 0.9999999999999973,  1.0000000000000018)\n",
      "(a_58, b_58) = ( 0.9999999999999991,  1.0000000000000018)\n",
      "\n"
     ]
    },
    {
     "data": {
      "text/plain": [
       "1.0"
      ]
     },
     "execution_count": 34,
     "metadata": {},
     "output_type": "execute_result"
    }
   ],
   "source": [
    "find_zero(f4, (0,5), Bisection(), verbose = true)"
   ]
  },
  {
   "cell_type": "markdown",
   "metadata": {},
   "source": [
    "#### Metoda Newtona"
   ]
  },
  {
   "cell_type": "code",
   "execution_count": 35,
   "metadata": {},
   "outputs": [
    {
     "name": "stdout",
     "output_type": "stream",
     "text": [
      "Results of univariate zero finding:\n",
      "\n",
      "* Converged to: 0.9938233080518548\n",
      "* Algorithm: Roots.Newton()\n",
      "* iterations: 33\n",
      "* function evaluations: 67\n",
      "* stopped as |f(x_n)| ≤ max(δ, max(1,|x|)⋅ϵ) using δ = atol, ϵ = rtol\n",
      "\n",
      "Trace:\n",
      "x_0 =  0.0000000000000000,\t fx_0 = -1.0000000000000000\n",
      "x_1 =  0.1428571428571428,\t fx_1 = -0.3399166770891139\n",
      "x_2 =  0.2653061224489796,\t fx_2 = -0.1155433473633047\n",
      "x_3 =  0.3702623906705539,\t fx_3 = -0.0392751106954878\n",
      "x_4 =  0.4602249062890462,\t fx_4 = -0.0133502651199173\n",
      "x_5 =  0.5373356339620396,\t fx_5 = -0.0045379777578210\n",
      "x_6 =  0.6034305433960340,\t fx_6 = -0.0015425343201428\n",
      "x_7 =  0.6600833229108862,\t fx_7 = -0.0005243331403989\n",
      "x_8 =  0.7086428482093311,\t fx_8 = -0.0001782295787721\n",
      "x_9 =  0.7502652984651409,\t fx_9 = -0.0000605832061752\n",
      "x_10 =  0.7859416843986922,\t fx_10 = -0.0000205932421305\n",
      "x_11 =  0.8165214437703076,\t fx_11 = -0.0000069999864355\n",
      "x_12 =  0.8427326660888350,\t fx_12 = -0.0000023794121288\n",
      "x_13 =  0.8651994280761443,\t fx_13 = -0.0000008088018643\n",
      "x_14 =  0.8844566526366950,\t fx_14 = -0.0000002749252421\n",
      "x_15 =  0.9009628451171672,\t fx_15 = -0.0000000934516747\n",
      "x_16 =  0.9151110101004291,\t fx_16 = -0.0000000317657827\n",
      "x_17 =  0.9272380086575106,\t fx_17 = -0.0000000107977193\n",
      "x_18 =  0.9376325788492949,\t fx_18 = -0.0000000036703249\n",
      "x_19 =  0.9465422104422527,\t fx_19 = -0.0000000012476046\n",
      "x_20 =  0.9541790375219309,\t fx_20 = -0.0000000004240816\n",
      "x_21 =  0.9607248893045122,\t fx_21 = -0.0000000001441524\n",
      "x_22 =  0.9663356194038676,\t fx_22 = -0.0000000000489998\n",
      "x_23 =  0.9711448166318865,\t fx_23 = -0.0000000000166559\n",
      "x_24 =  0.9752669856844741,\t fx_24 = -0.0000000000056616\n",
      "x_25 =  0.9788002734438349,\t fx_25 = -0.0000000000019245\n",
      "x_26 =  0.9818288058090013,\t fx_26 = -0.0000000000006542\n",
      "x_27 =  0.9844246906934297,\t fx_27 = -0.0000000000002224\n",
      "x_28 =  0.9866497348800827,\t fx_28 = -0.0000000000000756\n",
      "x_29 =  0.9885569156114994,\t fx_29 = -0.0000000000000257\n",
      "x_30 =  0.9901916419527138,\t fx_30 = -0.0000000000000087\n",
      "x_31 =  0.9915928359594690,\t fx_31 = -0.0000000000000030\n",
      "x_32 =  0.9927938593938306,\t fx_32 = -0.0000000000000010\n",
      "x_33 =  0.9938233080518548,\t fx_33 = -0.0000000000000003\n",
      "\n"
     ]
    },
    {
     "data": {
      "text/plain": [
       "0.9938233080518548"
      ]
     },
     "execution_count": 35,
     "metadata": {},
     "output_type": "execute_result"
    }
   ],
   "source": [
    "D(f) = x->ForwardDiff.derivative(f, float(x))\n",
    "find_zero((f4, D(f4)), 0, Roots.Newton(), verbose = true)"
   ]
  },
  {
   "cell_type": "markdown",
   "metadata": {},
   "source": [
    "#### Metoda siecznych"
   ]
  },
  {
   "cell_type": "code",
   "execution_count": 36,
   "metadata": {},
   "outputs": [
    {
     "name": "stdout",
     "output_type": "stream",
     "text": [
      "Results of univariate zero finding:\n",
      "\n",
      "* Converged to: 0.9879203121361033\n",
      "* Algorithm: Roots.Secant()\n",
      "* iterations: 41\n",
      "* function evaluations: 43\n",
      "* Note: Too many steps taken. \n",
      "\tAlgorithm stopped early, but |f(xn)| < ϵ^(1/3), where ϵ depends on xn, rtol, and atol. \n",
      "\n",
      "Trace:\n",
      "x_0 =  0.0000000000000000,\t fx_0 = -1.0000000000000000\n",
      "x_1 =  0.1428597380722589,\t fx_1 = -0.3399094728732135\n",
      "x_2 =  0.2164244633142859,\t fx_2 = -0.1813702625538253\n",
      "x_3 =  0.3005831613736946,\t fx_3 = -0.0818752401598620\n",
      "x_4 =  0.3698380190475942,\t fx_4 = -0.0394607544128561\n",
      "x_5 =  0.4342699903997396,\t fx_5 = -0.0185466090720156\n",
      "x_6 =  0.4914080931016461,\t fx_6 = -0.0088020962960889\n",
      "x_7 =  0.5430202253572963,\t fx_7 = -0.0041617774635777\n",
      "x_8 =  0.5893097620511607,\t fx_8 = -0.0019706098941454\n",
      "x_9 =  0.6309399049379361,\t fx_9 = -0.0009325661014505\n",
      "x_10 =  0.6683399263319808,\t fx_10 = -0.0004414203492747\n",
      "x_11 =  0.7019534319634678,\t fx_11 = -0.0002089242623564\n",
      "x_12 =  0.7321590021404037,\t fx_12 = -0.0000988870406555\n",
      "x_13 =  0.7593038118687754,\t fx_13 = -0.0000468041634493\n",
      "x_14 =  0.7836974356368701,\t fx_14 = -0.0000221529556255\n",
      "x_15 =  0.8056189118072774,\t fx_15 = -0.0000104852324663\n",
      "x_16 =  0.8253187084613229,\t fx_16 = -0.0000049627769916\n",
      "x_17 =  0.8430220105561556,\t fx_17 = -0.0000023489368261\n",
      "x_18 =  0.8589311463871009,\t fx_18 = -0.0000011117777023\n",
      "x_19 =  0.8732279511720393,\t fx_19 = -0.0000005262166248\n",
      "x_20 =  0.8860758275911983,\t fx_20 = -0.0000002490641250\n",
      "x_21 =  0.8976216195316615,\t fx_21 = -0.0000001178847932\n",
      "x_22 =  0.9079972882905462,\t fx_22 = -0.0000000557961710\n",
      "x_23 =  0.9173214215533988,\t fx_23 = -0.0000000264089422\n",
      "x_24 =  0.9257005885230553,\t fx_24 = -0.0000000124996432\n",
      "x_25 =  0.9332305580304783,\t fx_25 = -0.0000000059162188\n",
      "x_26 =  0.9399973930838172,\t fx_26 = -0.0000000028002115\n",
      "x_27 =  0.9460784345274155,\t fx_27 = -0.0000000013253709\n",
      "x_28 =  0.9515431849972953,\t fx_28 = -0.0000000006273127\n",
      "x_29 =  0.9564541032956626,\t fx_29 = -0.0000000002969140\n",
      "x_30 =  0.9608673182568995,\t fx_30 = -0.0000000001405327\n",
      "x_31 =  0.9648332702664461,\t fx_31 = -0.0000000000665157\n",
      "x_32 =  0.9683972877639314,\t fx_32 = -0.0000000000314826\n",
      "x_33 =  0.9716001053199206,\t fx_33 = -0.0000000000149011\n",
      "x_34 =  0.9744783292074826,\t fx_34 = -0.0000000000070528\n",
      "x_35 =  0.9770648557898167,\t fx_35 = -0.0000000000033382\n",
      "x_36 =  0.9793892475058442,\t fx_36 = -0.0000000000015800\n",
      "x_37 =  0.9814780707510556,\t fx_37 = -0.0000000000007478\n",
      "x_38 =  0.9833551995153901,\t fx_38 = -0.0000000000003540\n",
      "x_39 =  0.9850420882485413,\t fx_39 = -0.0000000000001675\n",
      "x_40 =  0.9865580170713792,\t fx_40 = -0.0000000000000793\n",
      "x_41 =  0.9879203121361033,\t fx_41 = -0.0000000000000375\n",
      "\n"
     ]
    },
    {
     "data": {
      "text/plain": [
       "0.9879203121361033"
      ]
     },
     "execution_count": 36,
     "metadata": {},
     "output_type": "execute_result"
    }
   ],
   "source": [
    "find_zero(f4, 0, Order1(), verbose = true)"
   ]
  },
  {
   "cell_type": "markdown",
   "metadata": {},
   "source": [
    "## 3."
   ]
  },
  {
   "cell_type": "markdown",
   "metadata": {},
   "source": [
    "### Metoda bisekcji"
   ]
  },
  {
   "cell_type": "markdown",
   "metadata": {},
   "source": [
    "Niedokładność obliczeń komputerowych może spowodować, że funkcja $f(x)$ przestanie być ciągła. Znalezione zostają przedziały, w których $f(x)$ zmienia znak, kiedy w rzeczywistości tego nie robi. Wtedy algorytm może zbliżyć się do złego miejsca dla x."
   ]
  },
  {
   "cell_type": "markdown",
   "metadata": {},
   "source": [
    "### Metoda Newtona"
   ]
  },
  {
   "cell_type": "markdown",
   "metadata": {},
   "source": [
    "Rozważmy funkcję $g(x) = \\sqrt[3]x$ dla $x=1$. Spełnia ona założenia metody Newtona."
   ]
  },
  {
   "cell_type": "code",
   "execution_count": 37,
   "metadata": {},
   "outputs": [
    {
     "data": {
      "text/plain": [
       "g (generic function with 1 method)"
      ]
     },
     "execution_count": 37,
     "metadata": {},
     "output_type": "execute_result"
    }
   ],
   "source": [
    "g(x) = cbrt(x)"
   ]
  },
  {
   "cell_type": "code",
   "execution_count": 38,
   "metadata": {},
   "outputs": [
    {
     "data": {
      "image/svg+xml": [
       "<?xml version=\"1.0\" encoding=\"utf-8\"?>\n",
       "<svg xmlns=\"http://www.w3.org/2000/svg\" xmlns:xlink=\"http://www.w3.org/1999/xlink\" width=\"600\" height=\"400\" viewBox=\"0 0 2400 1600\">\n",
       "<defs>\n",
       "  <clipPath id=\"clip380\">\n",
       "    <rect x=\"0\" y=\"0\" width=\"2400\" height=\"1600\"/>\n",
       "  </clipPath>\n",
       "</defs>\n",
       "<path clip-path=\"url(#clip380)\" d=\"\n",
       "M0 1600 L2400 1600 L2400 0 L0 0  Z\n",
       "  \" fill=\"#ffffff\" fill-rule=\"evenodd\" fill-opacity=\"1\"/>\n",
       "<defs>\n",
       "  <clipPath id=\"clip381\">\n",
       "    <rect x=\"480\" y=\"0\" width=\"1681\" height=\"1600\"/>\n",
       "  </clipPath>\n",
       "</defs>\n",
       "<path clip-path=\"url(#clip380)\" d=\"\n",
       "M142.455 1486.45 L2352.76 1486.45 L2352.76 47.2441 L142.455 47.2441  Z\n",
       "  \" fill=\"#ffffff\" fill-rule=\"evenodd\" fill-opacity=\"1\"/>\n",
       "<defs>\n",
       "  <clipPath id=\"clip382\">\n",
       "    <rect x=\"142\" y=\"47\" width=\"2211\" height=\"1440\"/>\n",
       "  </clipPath>\n",
       "</defs>\n",
       "<polyline clip-path=\"url(#clip382)\" style=\"stroke:#000000; stroke-width:2; stroke-opacity:0.1; fill:none\" points=\"\n",
       "  205.01,1486.45 205.01,47.2441 \n",
       "  \"/>\n",
       "<polyline clip-path=\"url(#clip382)\" style=\"stroke:#000000; stroke-width:2; stroke-opacity:0.1; fill:none\" points=\"\n",
       "  726.308,1486.45 726.308,47.2441 \n",
       "  \"/>\n",
       "<polyline clip-path=\"url(#clip382)\" style=\"stroke:#000000; stroke-width:2; stroke-opacity:0.1; fill:none\" points=\"\n",
       "  1247.61,1486.45 1247.61,47.2441 \n",
       "  \"/>\n",
       "<polyline clip-path=\"url(#clip382)\" style=\"stroke:#000000; stroke-width:2; stroke-opacity:0.1; fill:none\" points=\"\n",
       "  1768.9,1486.45 1768.9,47.2441 \n",
       "  \"/>\n",
       "<polyline clip-path=\"url(#clip382)\" style=\"stroke:#000000; stroke-width:2; stroke-opacity:0.1; fill:none\" points=\"\n",
       "  2290.2,1486.45 2290.2,47.2441 \n",
       "  \"/>\n",
       "<polyline clip-path=\"url(#clip380)\" style=\"stroke:#000000; stroke-width:4; stroke-opacity:1; fill:none\" points=\"\n",
       "  142.455,1486.45 2352.76,1486.45 \n",
       "  \"/>\n",
       "<polyline clip-path=\"url(#clip380)\" style=\"stroke:#000000; stroke-width:4; stroke-opacity:1; fill:none\" points=\"\n",
       "  205.01,1486.45 205.01,1469.18 \n",
       "  \"/>\n",
       "<polyline clip-path=\"url(#clip380)\" style=\"stroke:#000000; stroke-width:4; stroke-opacity:1; fill:none\" points=\"\n",
       "  726.308,1486.45 726.308,1469.18 \n",
       "  \"/>\n",
       "<polyline clip-path=\"url(#clip380)\" style=\"stroke:#000000; stroke-width:4; stroke-opacity:1; fill:none\" points=\"\n",
       "  1247.61,1486.45 1247.61,1469.18 \n",
       "  \"/>\n",
       "<polyline clip-path=\"url(#clip380)\" style=\"stroke:#000000; stroke-width:4; stroke-opacity:1; fill:none\" points=\"\n",
       "  1768.9,1486.45 1768.9,1469.18 \n",
       "  \"/>\n",
       "<polyline clip-path=\"url(#clip380)\" style=\"stroke:#000000; stroke-width:4; stroke-opacity:1; fill:none\" points=\"\n",
       "  2290.2,1486.45 2290.2,1469.18 \n",
       "  \"/>\n",
       "<path clip-path=\"url(#clip380)\" d=\"M 0 0 M163.772 1530.29 L193.448 1530.29 L193.448 1534.23 L163.772 1534.23 L163.772 1530.29 Z\" fill=\"#000000\" fill-rule=\"evenodd\" fill-opacity=\"1\" /><path clip-path=\"url(#clip380)\" d=\"M 0 0 M199.328 1543.18 L206.966 1543.18 L206.966 1516.82 L198.656 1518.49 L198.656 1514.23 L206.92 1512.56 L211.596 1512.56 L211.596 1543.18 L219.235 1543.18 L219.235 1547.12 L199.328 1547.12 L199.328 1543.18 Z\" fill=\"#000000\" fill-rule=\"evenodd\" fill-opacity=\"1\" /><path clip-path=\"url(#clip380)\" d=\"M 0 0 M234.304 1515.64 Q230.693 1515.64 228.865 1519.2 Q227.059 1522.75 227.059 1529.87 Q227.059 1536.98 228.865 1540.55 Q230.693 1544.09 234.304 1544.09 Q237.939 1544.09 239.744 1540.55 Q241.573 1536.98 241.573 1529.87 Q241.573 1522.75 239.744 1519.2 Q237.939 1515.64 234.304 1515.64 M234.304 1511.93 Q240.114 1511.93 243.17 1516.54 Q246.249 1521.12 246.249 1529.87 Q246.249 1538.6 243.17 1543.21 Q240.114 1547.79 234.304 1547.79 Q228.494 1547.79 225.415 1543.21 Q222.36 1538.6 222.36 1529.87 Q222.36 1521.12 225.415 1516.54 Q228.494 1511.93 234.304 1511.93 Z\" fill=\"#000000\" fill-rule=\"evenodd\" fill-opacity=\"1\" /><path clip-path=\"url(#clip380)\" d=\"M 0 0 M698.461 1530.29 L728.137 1530.29 L728.137 1534.23 L698.461 1534.23 L698.461 1530.29 Z\" fill=\"#000000\" fill-rule=\"evenodd\" fill-opacity=\"1\" /><path clip-path=\"url(#clip380)\" d=\"M 0 0 M733.252 1512.56 L751.609 1512.56 L751.609 1516.5 L737.535 1516.5 L737.535 1524.97 Q738.553 1524.62 739.572 1524.46 Q740.59 1524.27 741.609 1524.27 Q747.396 1524.27 750.775 1527.44 Q754.155 1530.62 754.155 1536.03 Q754.155 1541.61 750.683 1544.71 Q747.211 1547.79 740.891 1547.79 Q738.715 1547.79 736.447 1547.42 Q734.201 1547.05 731.794 1546.31 L731.794 1541.61 Q733.877 1542.74 736.1 1543.3 Q738.322 1543.86 740.799 1543.86 Q744.803 1543.86 747.141 1541.75 Q749.479 1539.64 749.479 1536.03 Q749.479 1532.42 747.141 1530.31 Q744.803 1528.21 740.799 1528.21 Q738.924 1528.21 737.049 1528.62 Q735.197 1529.04 733.252 1529.92 L733.252 1512.56 Z\" fill=\"#000000\" fill-rule=\"evenodd\" fill-opacity=\"1\" /><path clip-path=\"url(#clip380)\" d=\"M 0 0 M1247.61 1515.64 Q1243.99 1515.64 1242.17 1519.2 Q1240.36 1522.75 1240.36 1529.87 Q1240.36 1536.98 1242.17 1540.55 Q1243.99 1544.09 1247.61 1544.09 Q1251.24 1544.09 1253.05 1540.55 Q1254.87 1536.98 1254.87 1529.87 Q1254.87 1522.75 1253.05 1519.2 Q1251.24 1515.64 1247.61 1515.64 M1247.61 1511.93 Q1253.42 1511.93 1256.47 1516.54 Q1259.55 1521.12 1259.55 1529.87 Q1259.55 1538.6 1256.47 1543.21 Q1253.42 1547.79 1247.61 1547.79 Q1241.8 1547.79 1238.72 1543.21 Q1235.66 1538.6 1235.66 1529.87 Q1235.66 1521.12 1238.72 1516.54 Q1241.8 1511.93 1247.61 1511.93 Z\" fill=\"#000000\" fill-rule=\"evenodd\" fill-opacity=\"1\" /><path clip-path=\"url(#clip380)\" d=\"M 0 0 M1759.18 1512.56 L1777.54 1512.56 L1777.54 1516.5 L1763.46 1516.5 L1763.46 1524.97 Q1764.48 1524.62 1765.5 1524.46 Q1766.52 1524.27 1767.54 1524.27 Q1773.32 1524.27 1776.7 1527.44 Q1780.08 1530.62 1780.08 1536.03 Q1780.08 1541.61 1776.61 1544.71 Q1773.14 1547.79 1766.82 1547.79 Q1764.64 1547.79 1762.38 1547.42 Q1760.13 1547.05 1757.72 1546.31 L1757.72 1541.61 Q1759.81 1542.74 1762.03 1543.3 Q1764.25 1543.86 1766.73 1543.86 Q1770.73 1543.86 1773.07 1541.75 Q1775.41 1539.64 1775.41 1536.03 Q1775.41 1532.42 1773.07 1530.31 Q1770.73 1528.21 1766.73 1528.21 Q1764.85 1528.21 1762.98 1528.62 Q1761.13 1529.04 1759.18 1529.92 L1759.18 1512.56 Z\" fill=\"#000000\" fill-rule=\"evenodd\" fill-opacity=\"1\" /><path clip-path=\"url(#clip380)\" d=\"M 0 0 M2267.08 1543.18 L2274.71 1543.18 L2274.71 1516.82 L2266.4 1518.49 L2266.4 1514.23 L2274.67 1512.56 L2279.34 1512.56 L2279.34 1543.18 L2286.98 1543.18 L2286.98 1547.12 L2267.08 1547.12 L2267.08 1543.18 Z\" fill=\"#000000\" fill-rule=\"evenodd\" fill-opacity=\"1\" /><path clip-path=\"url(#clip380)\" d=\"M 0 0 M2302.05 1515.64 Q2298.44 1515.64 2296.61 1519.2 Q2294.81 1522.75 2294.81 1529.87 Q2294.81 1536.98 2296.61 1540.55 Q2298.44 1544.09 2302.05 1544.09 Q2305.69 1544.09 2307.49 1540.55 Q2309.32 1536.98 2309.32 1529.87 Q2309.32 1522.75 2307.49 1519.2 Q2305.69 1515.64 2302.05 1515.64 M2302.05 1511.93 Q2307.86 1511.93 2310.92 1516.54 Q2314 1521.12 2314 1529.87 Q2314 1538.6 2310.92 1543.21 Q2307.86 1547.79 2302.05 1547.79 Q2296.24 1547.79 2293.16 1543.21 Q2290.11 1538.6 2290.11 1529.87 Q2290.11 1521.12 2293.16 1516.54 Q2296.24 1511.93 2302.05 1511.93 Z\" fill=\"#000000\" fill-rule=\"evenodd\" fill-opacity=\"1\" /><polyline clip-path=\"url(#clip382)\" style=\"stroke:#000000; stroke-width:2; stroke-opacity:0.1; fill:none\" points=\"\n",
       "  142.455,1397.05 2352.76,1397.05 \n",
       "  \"/>\n",
       "<polyline clip-path=\"url(#clip382)\" style=\"stroke:#000000; stroke-width:2; stroke-opacity:0.1; fill:none\" points=\"\n",
       "  142.455,1081.95 2352.76,1081.95 \n",
       "  \"/>\n",
       "<polyline clip-path=\"url(#clip382)\" style=\"stroke:#000000; stroke-width:2; stroke-opacity:0.1; fill:none\" points=\"\n",
       "  142.455,766.846 2352.76,766.846 \n",
       "  \"/>\n",
       "<polyline clip-path=\"url(#clip382)\" style=\"stroke:#000000; stroke-width:2; stroke-opacity:0.1; fill:none\" points=\"\n",
       "  142.455,451.743 2352.76,451.743 \n",
       "  \"/>\n",
       "<polyline clip-path=\"url(#clip382)\" style=\"stroke:#000000; stroke-width:2; stroke-opacity:0.1; fill:none\" points=\"\n",
       "  142.455,136.639 2352.76,136.639 \n",
       "  \"/>\n",
       "<polyline clip-path=\"url(#clip380)\" style=\"stroke:#000000; stroke-width:4; stroke-opacity:1; fill:none\" points=\"\n",
       "  142.455,1486.45 142.455,47.2441 \n",
       "  \"/>\n",
       "<polyline clip-path=\"url(#clip380)\" style=\"stroke:#000000; stroke-width:4; stroke-opacity:1; fill:none\" points=\"\n",
       "  142.455,1397.05 168.978,1397.05 \n",
       "  \"/>\n",
       "<polyline clip-path=\"url(#clip380)\" style=\"stroke:#000000; stroke-width:4; stroke-opacity:1; fill:none\" points=\"\n",
       "  142.455,1081.95 168.978,1081.95 \n",
       "  \"/>\n",
       "<polyline clip-path=\"url(#clip380)\" style=\"stroke:#000000; stroke-width:4; stroke-opacity:1; fill:none\" points=\"\n",
       "  142.455,766.846 168.978,766.846 \n",
       "  \"/>\n",
       "<polyline clip-path=\"url(#clip380)\" style=\"stroke:#000000; stroke-width:4; stroke-opacity:1; fill:none\" points=\"\n",
       "  142.455,451.743 168.978,451.743 \n",
       "  \"/>\n",
       "<polyline clip-path=\"url(#clip380)\" style=\"stroke:#000000; stroke-width:4; stroke-opacity:1; fill:none\" points=\"\n",
       "  142.455,136.639 168.978,136.639 \n",
       "  \"/>\n",
       "<path clip-path=\"url(#clip380)\" d=\"M 0 0 M51.3625 1397.5 L81.0383 1397.5 L81.0383 1401.44 L51.3625 1401.44 L51.3625 1397.5 Z\" fill=\"#000000\" fill-rule=\"evenodd\" fill-opacity=\"1\" /><path clip-path=\"url(#clip380)\" d=\"M 0 0 M90.1354 1410.4 L106.455 1410.4 L106.455 1414.33 L84.5105 1414.33 L84.5105 1410.4 Q87.1725 1407.64 91.7558 1403.01 Q96.3623 1398.36 97.5428 1397.02 Q99.7882 1394.49 100.668 1392.76 Q101.571 1391 101.571 1389.31 Q101.571 1386.56 99.6261 1384.82 Q97.7048 1383.08 94.603 1383.08 Q92.4039 1383.08 89.9503 1383.85 Q87.5197 1384.61 84.7419 1386.16 L84.7419 1381.44 Q87.566 1380.31 90.0197 1379.73 Q92.4734 1379.15 94.5104 1379.15 Q99.8808 1379.15 103.075 1381.83 Q106.27 1384.52 106.27 1389.01 Q106.27 1391.14 105.459 1393.06 Q104.672 1394.96 102.566 1397.55 Q101.987 1398.22 98.8854 1401.44 Q95.7836 1404.63 90.1354 1410.4 Z\" fill=\"#000000\" fill-rule=\"evenodd\" fill-opacity=\"1\" /><path clip-path=\"url(#clip380)\" d=\"M 0 0 M50.9921 1082.4 L80.6679 1082.4 L80.6679 1086.34 L50.9921 1086.34 L50.9921 1082.4 Z\" fill=\"#000000\" fill-rule=\"evenodd\" fill-opacity=\"1\" /><path clip-path=\"url(#clip380)\" d=\"M 0 0 M86.5475 1095.29 L94.1863 1095.29 L94.1863 1068.93 L85.8762 1070.6 L85.8762 1066.34 L94.14 1064.67 L98.8159 1064.67 L98.8159 1095.29 L106.455 1095.29 L106.455 1099.23 L86.5475 1099.23 L86.5475 1095.29 Z\" fill=\"#000000\" fill-rule=\"evenodd\" fill-opacity=\"1\" /><path clip-path=\"url(#clip380)\" d=\"M 0 0 M94.5104 752.645 Q90.8993 752.645 89.0706 756.209 Q87.2651 759.751 87.2651 766.881 Q87.2651 773.987 89.0706 777.552 Q90.8993 781.094 94.5104 781.094 Q98.1447 781.094 99.9502 777.552 Q101.779 773.987 101.779 766.881 Q101.779 759.751 99.9502 756.209 Q98.1447 752.645 94.5104 752.645 M94.5104 748.941 Q100.321 748.941 103.376 753.547 Q106.455 758.131 106.455 766.881 Q106.455 775.608 103.376 780.214 Q100.321 784.797 94.5104 784.797 Q88.7003 784.797 85.6216 780.214 Q82.566 775.608 82.566 766.881 Q82.566 758.131 85.6216 753.547 Q88.7003 748.941 94.5104 748.941 Z\" fill=\"#000000\" fill-rule=\"evenodd\" fill-opacity=\"1\" /><path clip-path=\"url(#clip380)\" d=\"M 0 0 M86.5475 465.087 L94.1863 465.087 L94.1863 438.722 L85.8762 440.388 L85.8762 436.129 L94.14 434.463 L98.8159 434.463 L98.8159 465.087 L106.455 465.087 L106.455 469.023 L86.5475 469.023 L86.5475 465.087 Z\" fill=\"#000000\" fill-rule=\"evenodd\" fill-opacity=\"1\" /><path clip-path=\"url(#clip380)\" d=\"M 0 0 M90.1354 149.984 L106.455 149.984 L106.455 153.919 L84.5105 153.919 L84.5105 149.984 Q87.1725 147.229 91.7558 142.6 Q96.3623 137.947 97.5428 136.604 Q99.7882 134.081 100.668 132.345 Q101.571 130.586 101.571 128.896 Q101.571 126.142 99.6261 124.405 Q97.7048 122.669 94.603 122.669 Q92.4039 122.669 89.9503 123.433 Q87.5197 124.197 84.7419 125.748 L84.7419 121.026 Q87.566 119.892 90.0197 119.313 Q92.4734 118.734 94.5104 118.734 Q99.8808 118.734 103.075 121.419 Q106.27 124.105 106.27 128.595 Q106.27 130.725 105.459 132.646 Q104.672 134.544 102.566 137.137 Q101.987 137.808 98.8854 141.026 Q95.7836 144.22 90.1354 149.984 Z\" fill=\"#000000\" fill-rule=\"evenodd\" fill-opacity=\"1\" /><polyline clip-path=\"url(#clip382)\" style=\"stroke:#009af9; stroke-width:4; stroke-opacity:1; fill:none\" points=\"\n",
       "  205.01,1445.72 225.374,1441.27 413.665,1397.02 526.82,1367.12 622.491,1339.29 726.416,1305.63 822.226,1270.35 924.945,1226.04 1043.95,1160.74 1096.84,1123.18 \n",
       "  1149.72,1075.4 1172.9,1048.81 1196.09,1015.96 1207.68,995.666 1219.27,970.943 1225.07,955.95 1230.87,938.105 1233.77,927.588 1236.66,915.478 1239.56,900.989 \n",
       "  1242.46,882.428 1244.04,869.127 1245.62,850.996 1246.41,837.906 1247.2,816.411 1247.99,718.176 1248.78,696.216 1249.57,683.002 1250.36,673.002 1251.15,664.772 \n",
       "  1251.94,657.691 1253.52,645.775 1255.1,635.832 1261.42,606.207 1267.74,584.714 1280.38,552.597 1293.02,527.989 1318.3,490.023 1343.58,460.326 1394.43,413.649 \n",
       "  1445.29,376.838 1557.75,313.667 1664.75,266.606 1776.01,225.588 1869.67,195.333 1984.01,162.266 2091.5,134.176 2263.7,93.7776 2290.2,87.9763 \n",
       "  \"/>\n",
       "<path clip-path=\"url(#clip380)\" d=\"\n",
       "M1982.47 216.178 L2279.08 216.178 L2279.08 95.2176 L1982.47 95.2176  Z\n",
       "  \" fill=\"#ffffff\" fill-rule=\"evenodd\" fill-opacity=\"1\"/>\n",
       "<polyline clip-path=\"url(#clip380)\" style=\"stroke:#000000; stroke-width:4; stroke-opacity:1; fill:none\" points=\"\n",
       "  1982.47,216.178 2279.08,216.178 2279.08,95.2176 1982.47,95.2176 1982.47,216.178 \n",
       "  \"/>\n",
       "<polyline clip-path=\"url(#clip380)\" style=\"stroke:#009af9; stroke-width:4; stroke-opacity:1; fill:none\" points=\"\n",
       "  2007.03,155.698 2154.38,155.698 \n",
       "  \"/>\n",
       "<path clip-path=\"url(#clip380)\" d=\"M 0 0 M2192.79 175.385 Q2190.98 180.015 2189.27 181.427 Q2187.55 182.839 2184.68 182.839 L2181.28 182.839 L2181.28 179.274 L2183.78 179.274 Q2185.54 179.274 2186.51 178.44 Q2187.48 177.607 2188.67 174.505 L2189.43 172.561 L2178.94 147.052 L2183.46 147.052 L2191.56 167.329 L2199.66 147.052 L2204.17 147.052 L2192.79 175.385 Z\" fill=\"#000000\" fill-rule=\"evenodd\" fill-opacity=\"1\" /><path clip-path=\"url(#clip380)\" d=\"M 0 0 M2210.05 169.042 L2217.69 169.042 L2217.69 142.677 L2209.38 144.343 L2209.38 140.084 L2217.65 138.418 L2222.32 138.418 L2222.32 169.042 L2229.96 169.042 L2229.96 172.978 L2210.05 172.978 L2210.05 169.042 Z\" fill=\"#000000\" fill-rule=\"evenodd\" fill-opacity=\"1\" /></svg>\n"
      ]
     },
     "execution_count": 38,
     "metadata": {},
     "output_type": "execute_result"
    }
   ],
   "source": [
    "plot(g,-10,10)"
   ]
  },
  {
   "cell_type": "code",
   "execution_count": 39,
   "metadata": {},
   "outputs": [
    {
     "data": {
      "text/plain": [
       "D (generic function with 1 method)"
      ]
     },
     "execution_count": 39,
     "metadata": {},
     "output_type": "execute_result"
    }
   ],
   "source": [
    "D(g) = x->ForwardDiff.derivative(g, float(x))"
   ]
  },
  {
   "cell_type": "code",
   "execution_count": 40,
   "metadata": {},
   "outputs": [
    {
     "name": "stdout",
     "output_type": "stream",
     "text": [
      "Results of univariate zero finding:\n",
      "\n",
      "* Convergence failed: Too many steps taken. \n",
      "* Algorithm Roots.Newton()\n",
      "\n",
      "Trace:\n",
      "x_0 =  1.0000000000000000,\t fx_0 =  1.0000000000000000\n",
      "x_1 = -2.0000000000000000,\t fx_1 = -1.2599210498948732\n",
      "x_2 =  4.0000000000000009,\t fx_2 =  1.5874010519681996\n",
      "x_3 = -8.0000000000000000,\t fx_3 = -2.0000000000000000\n",
      "x_4 =  16.0000000000000000,\t fx_4 =  2.5198420997897464\n",
      "x_5 = -32.0000000000000071,\t fx_5 = -3.1748021039363992\n",
      "x_6 =  64.0000000000000000,\t fx_6 =  4.0000000000000000\n",
      "x_7 = -128.0000000000000000,\t fx_7 = -5.0396841995794928\n",
      "x_8 =  256.0000000000000568,\t fx_8 =  6.3496042078727983\n",
      "x_9 = -512.0000000000000000,\t fx_9 = -8.0000000000000000\n",
      "x_10 =  1024.0000000000000000,\t fx_10 =  10.0793683991589855\n",
      "x_11 = -2048.0000000000004547,\t fx_11 = -12.6992084157455967\n",
      "x_12 =  4096.0000000000000000,\t fx_12 =  16.0000000000000000\n",
      "x_13 = -8192.0000000000000000,\t fx_13 = -20.1587367983179711\n",
      "x_14 =  16384.0000000000036380,\t fx_14 =  25.3984168314911933\n",
      "x_15 = -32768.0000000000000000,\t fx_15 = -32.0000000000000000\n",
      "x_16 =  65536.0000000000000000,\t fx_16 =  40.3174735966359421\n",
      "x_17 = -131072.0000000000291038,\t fx_17 = -50.7968336629823867\n",
      "x_18 =  262144.0000000000000000,\t fx_18 =  64.0000000000000000\n",
      "x_19 = -524288.0000000000000000,\t fx_19 = -80.6349471932718842\n",
      "x_20 =  1048576.0000000002328306,\t fx_20 =  101.5936673259647733\n",
      "x_21 = -2097152.0000000000000000,\t fx_21 = -128.0000000000000000\n",
      "x_22 =  4194304.0000000000000000,\t fx_22 =  161.2698943865437684\n",
      "x_23 = -8388608.0000000018626451,\t fx_23 = -203.1873346519295467\n",
      "x_24 =  16777216.0000000000000000,\t fx_24 =  256.0000000000000000\n",
      "x_25 = -33554432.0000000000000000,\t fx_25 = -322.5397887730875368\n",
      "x_26 =  67108864.0000000149011612,\t fx_26 =  406.3746693038590934\n",
      "x_27 = -134217728.0000000000000000,\t fx_27 = -512.0000000000000000\n",
      "x_28 =  268435456.0000000000000000,\t fx_28 =  645.0795775461750736\n",
      "x_29 = -536870912.0000001192092896,\t fx_29 = -812.7493386077181867\n",
      "x_30 =  1073741824.0000000000000000,\t fx_30 =  1024.0000000000000000\n",
      "x_31 = -2147483648.0000000000000000,\t fx_31 = -1290.1591550923501472\n",
      "x_32 =  4294967296.0000009536743164,\t fx_32 =  1625.4986772154363734\n",
      "x_33 = -8589934592.0000000000000000,\t fx_33 = -2048.0000000000000000\n",
      "x_34 =  17179869184.0000000000000000,\t fx_34 =  2580.3183101847002945\n",
      "x_35 = -34359738368.0000076293945313,\t fx_35 = -3250.9973544308727469\n",
      "x_36 =  68719476736.0000000000000000,\t fx_36 =  4096.0000000000000000\n",
      "x_37 = -137438953472.0000000000000000,\t fx_37 = -5160.6366203694005890\n",
      "x_38 =  274877906944.0000610351562500,\t fx_38 =  6501.9947088617454938\n",
      "x_39 = -549755813888.0000000000000000,\t fx_39 = -8192.0000000000000000\n",
      "x_40 =  1099511627776.0000000000000000,\t fx_40 =  10321.2732407388011779\n",
      "x_41 = -2199023255552.0004882812500000,\t fx_41 = -13003.9894177234909876\n",
      "\n"
     ]
    },
    {
     "ename": "LoadError",
     "evalue": "\u001b[91mRoots.ConvergenceFailed(\"Stopped at: xn = -2.1990232555520005e12. Too many steps taken. \")\u001b[39m",
     "output_type": "error",
     "traceback": [
      "\u001b[91mRoots.ConvergenceFailed(\"Stopped at: xn = -2.1990232555520005e12. Too many steps taken. \")\u001b[39m",
      "",
      "Stacktrace:",
      " [1] find_zero(::Tuple{typeof(g),var\"#18#19\"{typeof(g)}}, ::Int64, ::Roots.Newton, ::Nothing; tracks::Roots.NullTracks, verbose::Bool, p::Nothing, kwargs::Base.Iterators.Pairs{Union{},Union{},Tuple{},NamedTuple{(),Tuple{}}}) at C:\\Users\\sylwi\\.julia\\packages\\Roots\\AV3zx\\src\\find_zero.jl:715",
      " [2] top-level scope at In[40]:1",
      " [3] include_string(::Function, ::Module, ::String, ::String) at .\\loading.jl:1091"
     ]
    }
   ],
   "source": [
    "find_zero((g, D(g)), 1, Roots.Newton(), verbose = true)"
   ]
  },
  {
   "cell_type": "markdown",
   "metadata": {},
   "source": [
    "#### Obserwacje\n",
    "Metoda Newtona nie działa dla powyższego przykładu. Pojawia się tutaj problem rozbieżnego cyklu iteracji. Spójrzmy na wykres oraz styczną w ounkcie $(x,f(x))$, gdzie $x=1$ jest punktem początkowym."
   ]
  },
  {
   "cell_type": "code",
   "execution_count": 41,
   "metadata": {},
   "outputs": [
    {
     "data": {
      "text/plain": [
       "tangent (generic function with 1 method)"
      ]
     },
     "execution_count": 41,
     "metadata": {},
     "output_type": "execute_result"
    }
   ],
   "source": [
    "# tangent line at x0 = 1 to f function \n",
    "\n",
    "function tangent(g, x0, x)\n",
    "    h = 0.00001\n",
    "    der = (g(x0 + h) - g(x0))/h\n",
    "    return g(x0) + der * (x - x0)\n",
    "end"
   ]
  },
  {
   "cell_type": "code",
   "execution_count": 42,
   "metadata": {},
   "outputs": [
    {
     "data": {
      "text/plain": [
       "tangent_line1 (generic function with 1 method)"
      ]
     },
     "execution_count": 42,
     "metadata": {},
     "output_type": "execute_result"
    }
   ],
   "source": [
    "tangent_line1(x) = tangent(g,1,x)"
   ]
  },
  {
   "cell_type": "code",
   "execution_count": 43,
   "metadata": {},
   "outputs": [
    {
     "data": {
      "image/svg+xml": [
       "<?xml version=\"1.0\" encoding=\"utf-8\"?>\n",
       "<svg xmlns=\"http://www.w3.org/2000/svg\" xmlns:xlink=\"http://www.w3.org/1999/xlink\" width=\"600\" height=\"400\" viewBox=\"0 0 2400 1600\">\n",
       "<defs>\n",
       "  <clipPath id=\"clip420\">\n",
       "    <rect x=\"0\" y=\"0\" width=\"2400\" height=\"1600\"/>\n",
       "  </clipPath>\n",
       "</defs>\n",
       "<path clip-path=\"url(#clip420)\" d=\"\n",
       "M0 1600 L2400 1600 L2400 0 L0 0  Z\n",
       "  \" fill=\"#ffffff\" fill-rule=\"evenodd\" fill-opacity=\"1\"/>\n",
       "<defs>\n",
       "  <clipPath id=\"clip421\">\n",
       "    <rect x=\"480\" y=\"0\" width=\"1681\" height=\"1600\"/>\n",
       "  </clipPath>\n",
       "</defs>\n",
       "<path clip-path=\"url(#clip420)\" d=\"\n",
       "M142.455 1486.45 L2352.76 1486.45 L2352.76 47.2441 L142.455 47.2441  Z\n",
       "  \" fill=\"#ffffff\" fill-rule=\"evenodd\" fill-opacity=\"1\"/>\n",
       "<defs>\n",
       "  <clipPath id=\"clip422\">\n",
       "    <rect x=\"142\" y=\"47\" width=\"2211\" height=\"1440\"/>\n",
       "  </clipPath>\n",
       "</defs>\n",
       "<polyline clip-path=\"url(#clip422)\" style=\"stroke:#000000; stroke-width:2; stroke-opacity:0.1; fill:none\" points=\"\n",
       "  505.281,1486.45 505.281,47.2441 \n",
       "  \"/>\n",
       "<polyline clip-path=\"url(#clip422)\" style=\"stroke:#000000; stroke-width:2; stroke-opacity:0.1; fill:none\" points=\"\n",
       "  876.443,1486.45 876.443,47.2441 \n",
       "  \"/>\n",
       "<polyline clip-path=\"url(#clip422)\" style=\"stroke:#000000; stroke-width:2; stroke-opacity:0.1; fill:none\" points=\"\n",
       "  1247.61,1486.45 1247.61,47.2441 \n",
       "  \"/>\n",
       "<polyline clip-path=\"url(#clip422)\" style=\"stroke:#000000; stroke-width:2; stroke-opacity:0.1; fill:none\" points=\"\n",
       "  1618.77,1486.45 1618.77,47.2441 \n",
       "  \"/>\n",
       "<polyline clip-path=\"url(#clip422)\" style=\"stroke:#000000; stroke-width:2; stroke-opacity:0.1; fill:none\" points=\"\n",
       "  1989.93,1486.45 1989.93,47.2441 \n",
       "  \"/>\n",
       "<polyline clip-path=\"url(#clip420)\" style=\"stroke:#000000; stroke-width:4; stroke-opacity:1; fill:none\" points=\"\n",
       "  142.455,1486.45 2352.76,1486.45 \n",
       "  \"/>\n",
       "<polyline clip-path=\"url(#clip420)\" style=\"stroke:#000000; stroke-width:4; stroke-opacity:1; fill:none\" points=\"\n",
       "  505.281,1486.45 505.281,1469.18 \n",
       "  \"/>\n",
       "<polyline clip-path=\"url(#clip420)\" style=\"stroke:#000000; stroke-width:4; stroke-opacity:1; fill:none\" points=\"\n",
       "  876.443,1486.45 876.443,1469.18 \n",
       "  \"/>\n",
       "<polyline clip-path=\"url(#clip420)\" style=\"stroke:#000000; stroke-width:4; stroke-opacity:1; fill:none\" points=\"\n",
       "  1247.61,1486.45 1247.61,1469.18 \n",
       "  \"/>\n",
       "<polyline clip-path=\"url(#clip420)\" style=\"stroke:#000000; stroke-width:4; stroke-opacity:1; fill:none\" points=\"\n",
       "  1618.77,1486.45 1618.77,1469.18 \n",
       "  \"/>\n",
       "<polyline clip-path=\"url(#clip420)\" style=\"stroke:#000000; stroke-width:4; stroke-opacity:1; fill:none\" points=\"\n",
       "  1989.93,1486.45 1989.93,1469.18 \n",
       "  \"/>\n",
       "<path clip-path=\"url(#clip420)\" d=\"M 0 0 M476.693 1530.29 L506.369 1530.29 L506.369 1534.23 L476.693 1534.23 L476.693 1530.29 Z\" fill=\"#000000\" fill-rule=\"evenodd\" fill-opacity=\"1\" /><path clip-path=\"url(#clip420)\" d=\"M 0 0 M524.285 1516.63 L512.48 1535.08 L524.285 1535.08 L524.285 1516.63 M523.058 1512.56 L528.938 1512.56 L528.938 1535.08 L533.869 1535.08 L533.869 1538.97 L528.938 1538.97 L528.938 1547.12 L524.285 1547.12 L524.285 1538.97 L508.684 1538.97 L508.684 1534.46 L523.058 1512.56 Z\" fill=\"#000000\" fill-rule=\"evenodd\" fill-opacity=\"1\" /><path clip-path=\"url(#clip420)\" d=\"M 0 0 M848.897 1530.29 L878.573 1530.29 L878.573 1534.23 L848.897 1534.23 L848.897 1530.29 Z\" fill=\"#000000\" fill-rule=\"evenodd\" fill-opacity=\"1\" /><path clip-path=\"url(#clip420)\" d=\"M 0 0 M887.67 1543.18 L903.989 1543.18 L903.989 1547.12 L882.045 1547.12 L882.045 1543.18 Q884.707 1540.43 889.29 1535.8 Q893.897 1531.15 895.077 1529.81 Q897.323 1527.28 898.202 1525.55 Q899.105 1523.79 899.105 1522.1 Q899.105 1519.34 897.161 1517.61 Q895.239 1515.87 892.137 1515.87 Q889.938 1515.87 887.485 1516.63 Q885.054 1517.4 882.276 1518.95 L882.276 1514.23 Q885.1 1513.09 887.554 1512.51 Q890.008 1511.93 892.045 1511.93 Q897.415 1511.93 900.61 1514.62 Q903.804 1517.31 903.804 1521.8 Q903.804 1523.93 902.994 1525.85 Q902.207 1527.74 900.1 1530.34 Q899.522 1531.01 896.42 1534.23 Q893.318 1537.42 887.67 1543.18 Z\" fill=\"#000000\" fill-rule=\"evenodd\" fill-opacity=\"1\" /><path clip-path=\"url(#clip420)\" d=\"M 0 0 M1247.61 1515.64 Q1243.99 1515.64 1242.17 1519.2 Q1240.36 1522.75 1240.36 1529.87 Q1240.36 1536.98 1242.17 1540.55 Q1243.99 1544.09 1247.61 1544.09 Q1251.24 1544.09 1253.05 1540.55 Q1254.87 1536.98 1254.87 1529.87 Q1254.87 1522.75 1253.05 1519.2 Q1251.24 1515.64 1247.61 1515.64 M1247.61 1511.93 Q1253.42 1511.93 1256.47 1516.54 Q1259.55 1521.12 1259.55 1529.87 Q1259.55 1538.6 1256.47 1543.21 Q1253.42 1547.79 1247.61 1547.79 Q1241.8 1547.79 1238.72 1543.21 Q1235.66 1538.6 1235.66 1529.87 Q1235.66 1521.12 1238.72 1516.54 Q1241.8 1511.93 1247.61 1511.93 Z\" fill=\"#000000\" fill-rule=\"evenodd\" fill-opacity=\"1\" /><path clip-path=\"url(#clip420)\" d=\"M 0 0 M1613.42 1543.18 L1629.74 1543.18 L1629.74 1547.12 L1607.8 1547.12 L1607.8 1543.18 Q1610.46 1540.43 1615.04 1535.8 Q1619.65 1531.15 1620.83 1529.81 Q1623.07 1527.28 1623.95 1525.55 Q1624.86 1523.79 1624.86 1522.1 Q1624.86 1519.34 1622.91 1517.61 Q1620.99 1515.87 1617.89 1515.87 Q1615.69 1515.87 1613.24 1516.63 Q1610.8 1517.4 1608.03 1518.95 L1608.03 1514.23 Q1610.85 1513.09 1613.3 1512.51 Q1615.76 1511.93 1617.8 1511.93 Q1623.17 1511.93 1626.36 1514.62 Q1629.55 1517.31 1629.55 1521.8 Q1629.55 1523.93 1628.74 1525.85 Q1627.96 1527.74 1625.85 1530.34 Q1625.27 1531.01 1622.17 1534.23 Q1619.07 1537.42 1613.42 1543.18 Z\" fill=\"#000000\" fill-rule=\"evenodd\" fill-opacity=\"1\" /><path clip-path=\"url(#clip420)\" d=\"M 0 0 M1992.94 1516.63 L1981.13 1535.08 L1992.94 1535.08 L1992.94 1516.63 M1991.71 1512.56 L1997.59 1512.56 L1997.59 1535.08 L2002.52 1535.08 L2002.52 1538.97 L1997.59 1538.97 L1997.59 1547.12 L1992.94 1547.12 L1992.94 1538.97 L1977.34 1538.97 L1977.34 1534.46 L1991.71 1512.56 Z\" fill=\"#000000\" fill-rule=\"evenodd\" fill-opacity=\"1\" /><polyline clip-path=\"url(#clip422)\" style=\"stroke:#000000; stroke-width:2; stroke-opacity:0.1; fill:none\" points=\"\n",
       "  142.455,1218.86 2352.76,1218.86 \n",
       "  \"/>\n",
       "<polyline clip-path=\"url(#clip422)\" style=\"stroke:#000000; stroke-width:2; stroke-opacity:0.1; fill:none\" points=\"\n",
       "  142.455,899.343 2352.76,899.343 \n",
       "  \"/>\n",
       "<polyline clip-path=\"url(#clip422)\" style=\"stroke:#000000; stroke-width:2; stroke-opacity:0.1; fill:none\" points=\"\n",
       "  142.455,579.823 2352.76,579.823 \n",
       "  \"/>\n",
       "<polyline clip-path=\"url(#clip422)\" style=\"stroke:#000000; stroke-width:2; stroke-opacity:0.1; fill:none\" points=\"\n",
       "  142.455,260.303 2352.76,260.303 \n",
       "  \"/>\n",
       "<polyline clip-path=\"url(#clip420)\" style=\"stroke:#000000; stroke-width:4; stroke-opacity:1; fill:none\" points=\"\n",
       "  142.455,1486.45 142.455,47.2441 \n",
       "  \"/>\n",
       "<polyline clip-path=\"url(#clip420)\" style=\"stroke:#000000; stroke-width:4; stroke-opacity:1; fill:none\" points=\"\n",
       "  142.455,1218.86 168.978,1218.86 \n",
       "  \"/>\n",
       "<polyline clip-path=\"url(#clip420)\" style=\"stroke:#000000; stroke-width:4; stroke-opacity:1; fill:none\" points=\"\n",
       "  142.455,899.343 168.978,899.343 \n",
       "  \"/>\n",
       "<polyline clip-path=\"url(#clip420)\" style=\"stroke:#000000; stroke-width:4; stroke-opacity:1; fill:none\" points=\"\n",
       "  142.455,579.823 168.978,579.823 \n",
       "  \"/>\n",
       "<polyline clip-path=\"url(#clip420)\" style=\"stroke:#000000; stroke-width:4; stroke-opacity:1; fill:none\" points=\"\n",
       "  142.455,260.303 168.978,260.303 \n",
       "  \"/>\n",
       "<path clip-path=\"url(#clip420)\" d=\"M 0 0 M50.9921 1219.32 L80.6679 1219.32 L80.6679 1223.25 L50.9921 1223.25 L50.9921 1219.32 Z\" fill=\"#000000\" fill-rule=\"evenodd\" fill-opacity=\"1\" /><path clip-path=\"url(#clip420)\" d=\"M 0 0 M86.5475 1232.21 L94.1863 1232.21 L94.1863 1205.84 L85.8762 1207.51 L85.8762 1203.25 L94.14 1201.58 L98.8159 1201.58 L98.8159 1232.21 L106.455 1232.21 L106.455 1236.14 L86.5475 1236.14 L86.5475 1232.21 Z\" fill=\"#000000\" fill-rule=\"evenodd\" fill-opacity=\"1\" /><path clip-path=\"url(#clip420)\" d=\"M 0 0 M94.5104 885.142 Q90.8993 885.142 89.0706 888.707 Q87.2651 892.249 87.2651 899.378 Q87.2651 906.485 89.0706 910.049 Q90.8993 913.591 94.5104 913.591 Q98.1447 913.591 99.9502 910.049 Q101.779 906.485 101.779 899.378 Q101.779 892.249 99.9502 888.707 Q98.1447 885.142 94.5104 885.142 M94.5104 881.438 Q100.321 881.438 103.376 886.045 Q106.455 890.628 106.455 899.378 Q106.455 908.105 103.376 912.711 Q100.321 917.295 94.5104 917.295 Q88.7003 917.295 85.6216 912.711 Q82.566 908.105 82.566 899.378 Q82.566 890.628 85.6216 886.045 Q88.7003 881.438 94.5104 881.438 Z\" fill=\"#000000\" fill-rule=\"evenodd\" fill-opacity=\"1\" /><path clip-path=\"url(#clip420)\" d=\"M 0 0 M86.5475 593.168 L94.1863 593.168 L94.1863 566.802 L85.8762 568.469 L85.8762 564.21 L94.14 562.543 L98.8159 562.543 L98.8159 593.168 L106.455 593.168 L106.455 597.103 L86.5475 597.103 L86.5475 593.168 Z\" fill=\"#000000\" fill-rule=\"evenodd\" fill-opacity=\"1\" /><path clip-path=\"url(#clip420)\" d=\"M 0 0 M90.1354 273.647 L106.455 273.647 L106.455 277.583 L84.5105 277.583 L84.5105 273.647 Q87.1725 270.893 91.7558 266.263 Q96.3623 261.611 97.5428 260.268 Q99.7882 257.745 100.668 256.009 Q101.571 254.249 101.571 252.56 Q101.571 249.805 99.6261 248.069 Q97.7048 246.333 94.603 246.333 Q92.4039 246.333 89.9503 247.097 Q87.5197 247.861 84.7419 249.412 L84.7419 244.689 Q87.566 243.555 90.0197 242.976 Q92.4734 242.398 94.5104 242.398 Q99.8808 242.398 103.075 245.083 Q106.27 247.768 106.27 252.259 Q106.27 254.388 105.459 256.31 Q104.672 258.208 102.566 260.8 Q101.987 261.472 98.8854 264.689 Q95.7836 267.884 90.1354 273.647 Z\" fill=\"#000000\" fill-rule=\"evenodd\" fill-opacity=\"1\" /><polyline clip-path=\"url(#clip422)\" style=\"stroke:#009af9; stroke-width:4; stroke-opacity:1; fill:none\" points=\"\n",
       "  319.7,1445.72 337.823,1442.14 505.401,1406.52 606.109,1382.46 691.256,1360.06 783.749,1332.97 869.02,1304.58 960.439,1268.92 1066.36,1216.36 1113.42,1186.13 \n",
       "  1160.48,1147.67 1181.12,1126.28 1201.76,1099.84 1212.07,1083.5 1222.39,1063.61 1227.55,1051.54 1232.71,1037.18 1235.29,1028.71 1237.87,1018.97 1240.45,1007.31 \n",
       "  1243.03,992.367 1244.43,981.662 1245.84,967.069 1246.54,956.535 1247.24,939.235 1247.95,860.172 1248.65,842.498 1249.35,831.864 1250.06,823.815 1250.76,817.192 \n",
       "  1251.46,811.492 1252.87,801.902 1254.27,793.9 1259.9,770.057 1265.52,752.759 1276.77,726.91 1288.02,707.105 1310.52,676.549 1333.02,652.648 1378.28,615.081 \n",
       "  1423.55,585.455 1523.63,534.613 1618.87,496.737 1717.89,463.725 1801.24,439.375 1903,412.761 1998.67,390.154 2151.93,357.64 2175.51,352.971 \n",
       "  \"/>\n",
       "<polyline clip-path=\"url(#clip422)\" style=\"stroke:#000000; stroke-width:4; stroke-opacity:1; fill:none\" points=\"\n",
       "  264.025,899.343 283.236,899.343 460.869,899.343 567.619,899.343 657.875,899.343 755.918,899.343 846.304,899.343 943.209,899.343 1055.48,899.343 1155.26,899.343 \n",
       "  1242.75,899.343 1338.14,899.343 1434.1,899.343 1540.2,899.343 1641.14,899.343 1746.1,899.343 1834.46,899.343 1942.33,899.343 2043.73,899.343 2206.18,899.343 \n",
       "  2231.19,899.343 \n",
       "  \"/>\n",
       "<polyline clip-path=\"url(#clip422)\" style=\"stroke:#3da44d; stroke-width:4; stroke-opacity:1; fill:none\" points=\"\n",
       "  205.01,1284.68 225.374,1273 413.665,1164.93 526.82,1099.99 622.491,1045.09 726.416,985.444 822.226,930.458 924.945,871.507 1043.95,803.206 1149.72,742.509 \n",
       "  1242.46,689.283 1343.58,631.252 1445.29,572.876 1557.75,508.334 1664.75,446.924 1776.01,383.072 1869.67,329.322 1984.01,263.7 2091.5,202.013 2263.7,103.185 \n",
       "  2290.2,87.9763 \n",
       "  \"/>\n",
       "<path clip-path=\"url(#clip420)\" d=\"\n",
       "M216.131 337.138 L650.354 337.138 L650.354 95.2176 L216.131 95.2176  Z\n",
       "  \" fill=\"#ffffff\" fill-rule=\"evenodd\" fill-opacity=\"1\"/>\n",
       "<polyline clip-path=\"url(#clip420)\" style=\"stroke:#000000; stroke-width:4; stroke-opacity:1; fill:none\" points=\"\n",
       "  216.131,337.138 650.354,337.138 650.354,95.2176 216.131,95.2176 216.131,337.138 \n",
       "  \"/>\n",
       "<polyline clip-path=\"url(#clip420)\" style=\"stroke:#009af9; stroke-width:4; stroke-opacity:1; fill:none\" points=\"\n",
       "  240.69,155.698 388.044,155.698 \n",
       "  \"/>\n",
       "<path clip-path=\"url(#clip420)\" d=\"M 0 0 M431.515 159.714 Q431.515 155.084 429.593 152.538 Q427.695 149.992 424.246 149.992 Q420.82 149.992 418.899 152.538 Q417.001 155.084 417.001 159.714 Q417.001 164.32 418.899 166.866 Q420.82 169.413 424.246 169.413 Q427.695 169.413 429.593 166.866 Q431.515 164.32 431.515 159.714 M435.774 169.76 Q435.774 176.38 432.834 179.598 Q429.894 182.839 423.829 182.839 Q421.584 182.839 419.593 182.491 Q417.603 182.167 415.728 181.473 L415.728 177.329 Q417.603 178.348 419.431 178.834 Q421.26 179.32 423.158 179.32 Q427.348 179.32 429.431 177.121 Q431.515 174.945 431.515 170.524 L431.515 168.417 Q430.195 170.709 428.135 171.843 Q426.075 172.978 423.205 172.978 Q418.436 172.978 415.519 169.343 Q412.603 165.709 412.603 159.714 Q412.603 153.695 415.519 150.061 Q418.436 146.427 423.205 146.427 Q426.075 146.427 428.135 147.561 Q430.195 148.695 431.515 150.987 L431.515 147.052 L435.774 147.052 L435.774 169.76 Z\" fill=\"#000000\" fill-rule=\"evenodd\" fill-opacity=\"1\" /><path clip-path=\"url(#clip420)\" d=\"M 0 0 M450.473 137.006 Q447.371 142.33 445.866 147.538 Q444.362 152.746 444.362 158.093 Q444.362 163.441 445.866 168.695 Q447.394 173.927 450.473 179.228 L446.769 179.228 Q443.297 173.788 441.561 168.533 Q439.848 163.279 439.848 158.093 Q439.848 152.931 441.561 147.7 Q443.274 142.468 446.769 137.006 L450.473 137.006 Z\" fill=\"#000000\" fill-rule=\"evenodd\" fill-opacity=\"1\" /><path clip-path=\"url(#clip420)\" d=\"M 0 0 M476.491 147.052 L467.116 159.667 L476.977 172.978 L471.954 172.978 L464.408 162.792 L456.862 172.978 L451.839 172.978 L461.908 159.413 L452.695 147.052 L457.718 147.052 L464.593 156.288 L471.468 147.052 L476.491 147.052 Z\" fill=\"#000000\" fill-rule=\"evenodd\" fill-opacity=\"1\" /><path clip-path=\"url(#clip420)\" d=\"M 0 0 M480.774 137.006 L484.477 137.006 Q487.95 142.468 489.662 147.7 Q491.399 152.931 491.399 158.093 Q491.399 163.279 489.662 168.533 Q487.95 173.788 484.477 179.228 L480.774 179.228 Q483.852 173.927 485.357 168.695 Q486.885 163.441 486.885 158.093 Q486.885 152.746 485.357 147.538 Q483.852 142.33 480.774 137.006 Z\" fill=\"#000000\" fill-rule=\"evenodd\" fill-opacity=\"1\" /><polyline clip-path=\"url(#clip420)\" style=\"stroke:#000000; stroke-width:4; stroke-opacity:1; fill:none\" points=\"\n",
       "  240.69,216.178 388.044,216.178 \n",
       "  \"/>\n",
       "<path clip-path=\"url(#clip420)\" d=\"M 0 0 M428.621 202.069 Q423.529 202.069 420.519 205.865 Q417.533 209.661 417.533 216.212 Q417.533 222.74 420.519 226.536 Q423.529 230.333 428.621 230.333 Q433.714 230.333 436.677 226.536 Q439.663 222.74 439.663 216.212 Q439.663 209.661 436.677 205.865 Q433.714 202.069 428.621 202.069 M428.621 198.273 Q435.89 198.273 440.241 203.157 Q444.593 208.018 444.593 216.212 Q444.593 224.384 440.241 229.268 Q435.89 234.129 428.621 234.129 Q421.33 234.129 416.955 229.268 Q412.603 224.407 412.603 216.212 Q412.603 208.018 416.955 203.157 Q421.33 198.273 428.621 198.273 Z\" fill=\"#000000\" fill-rule=\"evenodd\" fill-opacity=\"1\" /><path clip-path=\"url(#clip420)\" d=\"M 0 0 M444.547 198.898 L449.57 198.898 L458.158 211.745 L466.792 198.898 L471.815 198.898 L460.704 215.495 L472.556 233.458 L467.533 233.458 L457.811 218.759 L448.019 233.458 L442.973 233.458 L455.311 215.009 L444.547 198.898 Z\" fill=\"#000000\" fill-rule=\"evenodd\" fill-opacity=\"1\" /><polyline clip-path=\"url(#clip420)\" style=\"stroke:#3da44d; stroke-width:4; stroke-opacity:1; fill:none\" points=\"\n",
       "  240.69,276.658 388.044,276.658 \n",
       "  \"/>\n",
       "<path clip-path=\"url(#clip420)\" d=\"M 0 0 M420.01 260.651 L420.01 268.012 L428.783 268.012 L428.783 271.322 L420.01 271.322 L420.01 285.396 Q420.01 288.567 420.867 289.47 Q421.746 290.373 424.408 290.373 L428.783 290.373 L428.783 293.938 L424.408 293.938 Q419.478 293.938 417.603 292.109 Q415.728 290.257 415.728 285.396 L415.728 271.322 L412.603 271.322 L412.603 268.012 L415.728 268.012 L415.728 260.651 L420.01 260.651 Z\" fill=\"#000000\" fill-rule=\"evenodd\" fill-opacity=\"1\" /><path clip-path=\"url(#clip420)\" d=\"M 0 0 M445.033 280.905 Q439.871 280.905 437.88 282.086 Q435.89 283.266 435.89 286.114 Q435.89 288.382 437.371 289.725 Q438.876 291.044 441.445 291.044 Q444.987 291.044 447.116 288.544 Q449.269 286.021 449.269 281.854 L449.269 280.905 L445.033 280.905 M453.528 279.146 L453.528 293.938 L449.269 293.938 L449.269 290.002 Q447.811 292.363 445.635 293.498 Q443.459 294.609 440.311 294.609 Q436.329 294.609 433.968 292.387 Q431.63 290.141 431.63 286.391 Q431.63 282.016 434.547 279.794 Q437.487 277.572 443.297 277.572 L449.269 277.572 L449.269 277.155 Q449.269 274.215 447.325 272.618 Q445.403 270.998 441.908 270.998 Q439.686 270.998 437.579 271.53 Q435.473 272.063 433.529 273.127 L433.529 269.192 Q435.866 268.29 438.066 267.85 Q440.265 267.387 442.348 267.387 Q447.973 267.387 450.751 270.303 Q453.528 273.22 453.528 279.146 Z\" fill=\"#000000\" fill-rule=\"evenodd\" fill-opacity=\"1\" /><path clip-path=\"url(#clip420)\" d=\"M 0 0 M479.547 278.289 L479.547 293.938 L475.288 293.938 L475.288 278.428 Q475.288 274.748 473.852 272.919 Q472.417 271.09 469.547 271.09 Q466.098 271.09 464.107 273.29 Q462.116 275.489 462.116 279.285 L462.116 293.938 L457.834 293.938 L457.834 268.012 L462.116 268.012 L462.116 272.04 Q463.644 269.702 465.704 268.544 Q467.788 267.387 470.496 267.387 Q474.963 267.387 477.255 270.165 Q479.547 272.919 479.547 278.289 Z\" fill=\"#000000\" fill-rule=\"evenodd\" fill-opacity=\"1\" /><path clip-path=\"url(#clip420)\" d=\"M 0 0 M501.074 280.674 Q501.074 276.044 499.153 273.498 Q497.255 270.952 493.806 270.952 Q490.38 270.952 488.459 273.498 Q486.561 276.044 486.561 280.674 Q486.561 285.28 488.459 287.826 Q490.38 290.373 493.806 290.373 Q497.255 290.373 499.153 287.826 Q501.074 285.28 501.074 280.674 M505.334 290.72 Q505.334 297.34 502.394 300.558 Q499.454 303.799 493.389 303.799 Q491.144 303.799 489.153 303.451 Q487.162 303.127 485.288 302.433 L485.288 298.289 Q487.162 299.308 488.991 299.794 Q490.82 300.28 492.718 300.28 Q496.908 300.28 498.991 298.081 Q501.074 295.905 501.074 291.484 L501.074 289.377 Q499.755 291.669 497.695 292.803 Q495.635 293.938 492.764 293.938 Q487.996 293.938 485.079 290.303 Q482.163 286.669 482.163 280.674 Q482.163 274.655 485.079 271.021 Q487.996 267.387 492.764 267.387 Q495.635 267.387 497.695 268.521 Q499.755 269.655 501.074 271.947 L501.074 268.012 L505.334 268.012 L505.334 290.72 Z\" fill=\"#000000\" fill-rule=\"evenodd\" fill-opacity=\"1\" /><path clip-path=\"url(#clip420)\" d=\"M 0 0 M531.977 279.91 L531.977 281.993 L512.394 281.993 Q512.672 286.391 515.033 288.706 Q517.417 290.998 521.653 290.998 Q524.107 290.998 526.398 290.396 Q528.713 289.794 530.982 288.59 L530.982 292.618 Q528.69 293.59 526.283 294.1 Q523.875 294.609 521.398 294.609 Q515.195 294.609 511.561 290.998 Q507.949 287.387 507.949 281.229 Q507.949 274.864 511.375 271.137 Q514.824 267.387 520.658 267.387 Q525.889 267.387 528.922 270.766 Q531.977 274.123 531.977 279.91 M527.718 278.66 Q527.672 275.165 525.75 273.081 Q523.852 270.998 520.704 270.998 Q517.139 270.998 514.986 273.012 Q512.857 275.026 512.533 278.683 L527.718 278.66 Z\" fill=\"#000000\" fill-rule=\"evenodd\" fill-opacity=\"1\" /><path clip-path=\"url(#clip420)\" d=\"M 0 0 M557.995 278.289 L557.995 293.938 L553.736 293.938 L553.736 278.428 Q553.736 274.748 552.301 272.919 Q550.866 271.09 547.995 271.09 Q544.546 271.09 542.556 273.29 Q540.565 275.489 540.565 279.285 L540.565 293.938 L536.283 293.938 L536.283 268.012 L540.565 268.012 L540.565 272.04 Q542.093 269.702 544.153 268.544 Q546.236 267.387 548.945 267.387 Q553.412 267.387 555.704 270.165 Q557.995 272.919 557.995 278.289 Z\" fill=\"#000000\" fill-rule=\"evenodd\" fill-opacity=\"1\" /><path clip-path=\"url(#clip420)\" d=\"M 0 0 M566.676 260.651 L566.676 268.012 L575.449 268.012 L575.449 271.322 L566.676 271.322 L566.676 285.396 Q566.676 288.567 567.532 289.47 Q568.412 290.373 571.074 290.373 L575.449 290.373 L575.449 293.938 L571.074 293.938 Q566.144 293.938 564.269 292.109 Q562.394 290.257 562.394 285.396 L562.394 271.322 L559.269 271.322 L559.269 268.012 L562.394 268.012 L562.394 260.651 L566.676 260.651 Z\" fill=\"#000000\" fill-rule=\"evenodd\" fill-opacity=\"1\" /><path clip-path=\"url(#clip420)\" d=\"M 0 0 M581.329 290.002 L588.968 290.002 L588.968 263.637 L580.657 265.303 L580.657 261.044 L588.921 259.378 L593.597 259.378 L593.597 290.002 L601.236 290.002 L601.236 293.938 L581.329 293.938 L581.329 290.002 Z\" fill=\"#000000\" fill-rule=\"evenodd\" fill-opacity=\"1\" /></svg>\n"
      ]
     },
     "execution_count": 43,
     "metadata": {},
     "output_type": "execute_result"
    }
   ],
   "source": [
    "xaxis(x) = 0\n",
    "plot(g,  label=\"g(x)\", legend=:topleft)\n",
    "plot!(xaxis, color=\"black\", label=\"OX\")\n",
    "plot!(tangent_line1, label=\"tangent1\")"
   ]
  },
  {
   "cell_type": "markdown",
   "metadata": {},
   "source": [
    "#### Obserwacje - cd.\n",
    "Styczna do wykresu funkcji $g(x)$ przecina oś OX w $x=-2$. Zatem teraz wyznaczamy styczną w punkcie $(-2,g(-2)$."
   ]
  },
  {
   "cell_type": "code",
   "execution_count": 44,
   "metadata": {},
   "outputs": [
    {
     "data": {
      "text/plain": [
       "tangent_line2 (generic function with 1 method)"
      ]
     },
     "execution_count": 44,
     "metadata": {},
     "output_type": "execute_result"
    }
   ],
   "source": [
    "tangent_line2(x) = tangent(g,-2,x)"
   ]
  },
  {
   "cell_type": "code",
   "execution_count": 45,
   "metadata": {},
   "outputs": [
    {
     "data": {
      "image/svg+xml": [
       "<?xml version=\"1.0\" encoding=\"utf-8\"?>\n",
       "<svg xmlns=\"http://www.w3.org/2000/svg\" xmlns:xlink=\"http://www.w3.org/1999/xlink\" width=\"600\" height=\"400\" viewBox=\"0 0 2400 1600\">\n",
       "<defs>\n",
       "  <clipPath id=\"clip460\">\n",
       "    <rect x=\"0\" y=\"0\" width=\"2400\" height=\"1600\"/>\n",
       "  </clipPath>\n",
       "</defs>\n",
       "<path clip-path=\"url(#clip460)\" d=\"\n",
       "M0 1600 L2400 1600 L2400 0 L0 0  Z\n",
       "  \" fill=\"#ffffff\" fill-rule=\"evenodd\" fill-opacity=\"1\"/>\n",
       "<defs>\n",
       "  <clipPath id=\"clip461\">\n",
       "    <rect x=\"480\" y=\"0\" width=\"1681\" height=\"1600\"/>\n",
       "  </clipPath>\n",
       "</defs>\n",
       "<path clip-path=\"url(#clip460)\" d=\"\n",
       "M142.455 1486.45 L2352.76 1486.45 L2352.76 47.2441 L142.455 47.2441  Z\n",
       "  \" fill=\"#ffffff\" fill-rule=\"evenodd\" fill-opacity=\"1\"/>\n",
       "<defs>\n",
       "  <clipPath id=\"clip462\">\n",
       "    <rect x=\"142\" y=\"47\" width=\"2211\" height=\"1440\"/>\n",
       "  </clipPath>\n",
       "</defs>\n",
       "<polyline clip-path=\"url(#clip462)\" style=\"stroke:#000000; stroke-width:2; stroke-opacity:0.1; fill:none\" points=\"\n",
       "  372.223,1486.45 372.223,47.2441 \n",
       "  \"/>\n",
       "<polyline clip-path=\"url(#clip462)\" style=\"stroke:#000000; stroke-width:2; stroke-opacity:0.1; fill:none\" points=\"\n",
       "  809.914,1486.45 809.914,47.2441 \n",
       "  \"/>\n",
       "<polyline clip-path=\"url(#clip462)\" style=\"stroke:#000000; stroke-width:2; stroke-opacity:0.1; fill:none\" points=\"\n",
       "  1247.61,1486.45 1247.61,47.2441 \n",
       "  \"/>\n",
       "<polyline clip-path=\"url(#clip462)\" style=\"stroke:#000000; stroke-width:2; stroke-opacity:0.1; fill:none\" points=\"\n",
       "  1685.3,1486.45 1685.3,47.2441 \n",
       "  \"/>\n",
       "<polyline clip-path=\"url(#clip462)\" style=\"stroke:#000000; stroke-width:2; stroke-opacity:0.1; fill:none\" points=\"\n",
       "  2122.99,1486.45 2122.99,47.2441 \n",
       "  \"/>\n",
       "<polyline clip-path=\"url(#clip460)\" style=\"stroke:#000000; stroke-width:4; stroke-opacity:1; fill:none\" points=\"\n",
       "  142.455,1486.45 2352.76,1486.45 \n",
       "  \"/>\n",
       "<polyline clip-path=\"url(#clip460)\" style=\"stroke:#000000; stroke-width:4; stroke-opacity:1; fill:none\" points=\"\n",
       "  372.223,1486.45 372.223,1469.18 \n",
       "  \"/>\n",
       "<polyline clip-path=\"url(#clip460)\" style=\"stroke:#000000; stroke-width:4; stroke-opacity:1; fill:none\" points=\"\n",
       "  809.914,1486.45 809.914,1469.18 \n",
       "  \"/>\n",
       "<polyline clip-path=\"url(#clip460)\" style=\"stroke:#000000; stroke-width:4; stroke-opacity:1; fill:none\" points=\"\n",
       "  1247.61,1486.45 1247.61,1469.18 \n",
       "  \"/>\n",
       "<polyline clip-path=\"url(#clip460)\" style=\"stroke:#000000; stroke-width:4; stroke-opacity:1; fill:none\" points=\"\n",
       "  1685.3,1486.45 1685.3,1469.18 \n",
       "  \"/>\n",
       "<polyline clip-path=\"url(#clip460)\" style=\"stroke:#000000; stroke-width:4; stroke-opacity:1; fill:none\" points=\"\n",
       "  2122.99,1486.45 2122.99,1469.18 \n",
       "  \"/>\n",
       "<path clip-path=\"url(#clip460)\" d=\"M 0 0 M325.892 1530.29 L355.568 1530.29 L355.568 1534.23 L325.892 1534.23 L325.892 1530.29 Z\" fill=\"#000000\" fill-rule=\"evenodd\" fill-opacity=\"1\" /><path clip-path=\"url(#clip460)\" d=\"M 0 0 M360.683 1512.56 L379.04 1512.56 L379.04 1516.5 L364.966 1516.5 L364.966 1524.97 Q365.984 1524.62 367.003 1524.46 Q368.021 1524.27 369.04 1524.27 Q374.827 1524.27 378.206 1527.44 Q381.586 1530.62 381.586 1536.03 Q381.586 1541.61 378.114 1544.71 Q374.642 1547.79 368.322 1547.79 Q366.146 1547.79 363.878 1547.42 Q361.632 1547.05 359.225 1546.31 L359.225 1541.61 Q361.308 1542.74 363.531 1543.3 Q365.753 1543.86 368.23 1543.86 Q372.234 1543.86 374.572 1541.75 Q376.91 1539.64 376.91 1536.03 Q376.91 1532.42 374.572 1530.31 Q372.234 1528.21 368.23 1528.21 Q366.355 1528.21 364.48 1528.62 Q362.628 1529.04 360.683 1529.92 L360.683 1512.56 Z\" fill=\"#000000\" fill-rule=\"evenodd\" fill-opacity=\"1\" /><path clip-path=\"url(#clip460)\" d=\"M 0 0 M386.655 1541.24 L391.54 1541.24 L391.54 1547.12 L386.655 1547.12 L386.655 1541.24 Z\" fill=\"#000000\" fill-rule=\"evenodd\" fill-opacity=\"1\" /><path clip-path=\"url(#clip460)\" d=\"M 0 0 M406.609 1515.64 Q402.998 1515.64 401.169 1519.2 Q399.364 1522.75 399.364 1529.87 Q399.364 1536.98 401.169 1540.55 Q402.998 1544.09 406.609 1544.09 Q410.243 1544.09 412.049 1540.55 Q413.877 1536.98 413.877 1529.87 Q413.877 1522.75 412.049 1519.2 Q410.243 1515.64 406.609 1515.64 M406.609 1511.93 Q412.419 1511.93 415.475 1516.54 Q418.553 1521.12 418.553 1529.87 Q418.553 1538.6 415.475 1543.21 Q412.419 1547.79 406.609 1547.79 Q400.799 1547.79 397.72 1543.21 Q394.665 1538.6 394.665 1529.87 Q394.665 1521.12 397.72 1516.54 Q400.799 1511.93 406.609 1511.93 Z\" fill=\"#000000\" fill-rule=\"evenodd\" fill-opacity=\"1\" /><path clip-path=\"url(#clip460)\" d=\"M 0 0 M764.382 1530.29 L794.058 1530.29 L794.058 1534.23 L764.382 1534.23 L764.382 1530.29 Z\" fill=\"#000000\" fill-rule=\"evenodd\" fill-opacity=\"1\" /><path clip-path=\"url(#clip460)\" d=\"M 0 0 M803.155 1543.18 L819.474 1543.18 L819.474 1547.12 L797.53 1547.12 L797.53 1543.18 Q800.192 1540.43 804.775 1535.8 Q809.382 1531.15 810.562 1529.81 Q812.807 1527.28 813.687 1525.55 Q814.59 1523.79 814.59 1522.1 Q814.59 1519.34 812.645 1517.61 Q810.724 1515.87 807.622 1515.87 Q805.423 1515.87 802.97 1516.63 Q800.539 1517.4 797.761 1518.95 L797.761 1514.23 Q800.585 1513.09 803.039 1512.51 Q805.493 1511.93 807.53 1511.93 Q812.9 1511.93 816.094 1514.62 Q819.289 1517.31 819.289 1521.8 Q819.289 1523.93 818.479 1525.85 Q817.692 1527.74 815.585 1530.34 Q815.007 1531.01 811.905 1534.23 Q808.803 1537.42 803.155 1543.18 Z\" fill=\"#000000\" fill-rule=\"evenodd\" fill-opacity=\"1\" /><path clip-path=\"url(#clip460)\" d=\"M 0 0 M824.544 1541.24 L829.428 1541.24 L829.428 1547.12 L824.544 1547.12 L824.544 1541.24 Z\" fill=\"#000000\" fill-rule=\"evenodd\" fill-opacity=\"1\" /><path clip-path=\"url(#clip460)\" d=\"M 0 0 M834.543 1512.56 L852.9 1512.56 L852.9 1516.5 L838.826 1516.5 L838.826 1524.97 Q839.844 1524.62 840.863 1524.46 Q841.881 1524.27 842.9 1524.27 Q848.687 1524.27 852.067 1527.44 Q855.446 1530.62 855.446 1536.03 Q855.446 1541.61 851.974 1544.71 Q848.502 1547.79 842.182 1547.79 Q840.006 1547.79 837.738 1547.42 Q835.493 1547.05 833.085 1546.31 L833.085 1541.61 Q835.168 1542.74 837.391 1543.3 Q839.613 1543.86 842.09 1543.86 Q846.094 1543.86 848.432 1541.75 Q850.77 1539.64 850.77 1536.03 Q850.77 1532.42 848.432 1530.31 Q846.094 1528.21 842.09 1528.21 Q840.215 1528.21 838.34 1528.62 Q836.488 1529.04 834.543 1529.92 L834.543 1512.56 Z\" fill=\"#000000\" fill-rule=\"evenodd\" fill-opacity=\"1\" /><path clip-path=\"url(#clip460)\" d=\"M 0 0 M1229.12 1515.64 Q1225.51 1515.64 1223.68 1519.2 Q1221.88 1522.75 1221.88 1529.87 Q1221.88 1536.98 1223.68 1540.55 Q1225.51 1544.09 1229.12 1544.09 Q1232.76 1544.09 1234.56 1540.55 Q1236.39 1536.98 1236.39 1529.87 Q1236.39 1522.75 1234.56 1519.2 Q1232.76 1515.64 1229.12 1515.64 M1229.12 1511.93 Q1234.93 1511.93 1237.99 1516.54 Q1241.07 1521.12 1241.07 1529.87 Q1241.07 1538.6 1237.99 1543.21 Q1234.93 1547.79 1229.12 1547.79 Q1223.31 1547.79 1220.23 1543.21 Q1217.18 1538.6 1217.18 1529.87 Q1217.18 1521.12 1220.23 1516.54 Q1223.31 1511.93 1229.12 1511.93 Z\" fill=\"#000000\" fill-rule=\"evenodd\" fill-opacity=\"1\" /><path clip-path=\"url(#clip460)\" d=\"M 0 0 M1246.14 1541.24 L1251.02 1541.24 L1251.02 1547.12 L1246.14 1547.12 L1246.14 1541.24 Z\" fill=\"#000000\" fill-rule=\"evenodd\" fill-opacity=\"1\" /><path clip-path=\"url(#clip460)\" d=\"M 0 0 M1266.09 1515.64 Q1262.48 1515.64 1260.65 1519.2 Q1258.84 1522.75 1258.84 1529.87 Q1258.84 1536.98 1260.65 1540.55 Q1262.48 1544.09 1266.09 1544.09 Q1269.72 1544.09 1271.53 1540.55 Q1273.36 1536.98 1273.36 1529.87 Q1273.36 1522.75 1271.53 1519.2 Q1269.72 1515.64 1266.09 1515.64 M1266.09 1511.93 Q1271.9 1511.93 1274.95 1516.54 Q1278.03 1521.12 1278.03 1529.87 Q1278.03 1538.6 1274.95 1543.21 Q1271.9 1547.79 1266.09 1547.79 Q1260.28 1547.79 1257.2 1543.21 Q1254.14 1538.6 1254.14 1529.87 Q1254.14 1521.12 1257.2 1516.54 Q1260.28 1511.93 1266.09 1511.93 Z\" fill=\"#000000\" fill-rule=\"evenodd\" fill-opacity=\"1\" /><path clip-path=\"url(#clip460)\" d=\"M 0 0 M1661.96 1543.18 L1678.28 1543.18 L1678.28 1547.12 L1656.34 1547.12 L1656.34 1543.18 Q1659 1540.43 1663.58 1535.8 Q1668.19 1531.15 1669.37 1529.81 Q1671.62 1527.28 1672.5 1525.55 Q1673.4 1523.79 1673.4 1522.1 Q1673.4 1519.34 1671.45 1517.61 Q1669.53 1515.87 1666.43 1515.87 Q1664.23 1515.87 1661.78 1516.63 Q1659.35 1517.4 1656.57 1518.95 L1656.57 1514.23 Q1659.39 1513.09 1661.85 1512.51 Q1664.3 1511.93 1666.34 1511.93 Q1671.71 1511.93 1674.9 1514.62 Q1678.1 1517.31 1678.1 1521.8 Q1678.1 1523.93 1677.29 1525.85 Q1676.5 1527.74 1674.39 1530.34 Q1673.82 1531.01 1670.71 1534.23 Q1667.61 1537.42 1661.96 1543.18 Z\" fill=\"#000000\" fill-rule=\"evenodd\" fill-opacity=\"1\" /><path clip-path=\"url(#clip460)\" d=\"M 0 0 M1683.35 1541.24 L1688.24 1541.24 L1688.24 1547.12 L1683.35 1547.12 L1683.35 1541.24 Z\" fill=\"#000000\" fill-rule=\"evenodd\" fill-opacity=\"1\" /><path clip-path=\"url(#clip460)\" d=\"M 0 0 M1693.35 1512.56 L1711.71 1512.56 L1711.71 1516.5 L1697.63 1516.5 L1697.63 1524.97 Q1698.65 1524.62 1699.67 1524.46 Q1700.69 1524.27 1701.71 1524.27 Q1707.5 1524.27 1710.88 1527.44 Q1714.25 1530.62 1714.25 1536.03 Q1714.25 1541.61 1710.78 1544.71 Q1707.31 1547.79 1700.99 1547.79 Q1698.82 1547.79 1696.55 1547.42 Q1694.3 1547.05 1691.89 1546.31 L1691.89 1541.61 Q1693.98 1542.74 1696.2 1543.3 Q1698.42 1543.86 1700.9 1543.86 Q1704.9 1543.86 1707.24 1541.75 Q1709.58 1539.64 1709.58 1536.03 Q1709.58 1532.42 1707.24 1530.31 Q1704.9 1528.21 1700.9 1528.21 Q1699.02 1528.21 1697.15 1528.62 Q1695.3 1529.04 1693.35 1529.92 L1693.35 1512.56 Z\" fill=\"#000000\" fill-rule=\"evenodd\" fill-opacity=\"1\" /><path clip-path=\"url(#clip460)\" d=\"M 0 0 M2094.78 1512.56 L2113.14 1512.56 L2113.14 1516.5 L2099.06 1516.5 L2099.06 1524.97 Q2100.08 1524.62 2101.1 1524.46 Q2102.12 1524.27 2103.14 1524.27 Q2108.93 1524.27 2112.31 1527.44 Q2115.68 1530.62 2115.68 1536.03 Q2115.68 1541.61 2112.21 1544.71 Q2108.74 1547.79 2102.42 1547.79 Q2100.25 1547.79 2097.98 1547.42 Q2095.73 1547.05 2093.32 1546.31 L2093.32 1541.61 Q2095.41 1542.74 2097.63 1543.3 Q2099.85 1543.86 2102.33 1543.86 Q2106.33 1543.86 2108.67 1541.75 Q2111.01 1539.64 2111.01 1536.03 Q2111.01 1532.42 2108.67 1530.31 Q2106.33 1528.21 2102.33 1528.21 Q2100.45 1528.21 2098.58 1528.62 Q2096.73 1529.04 2094.78 1529.92 L2094.78 1512.56 Z\" fill=\"#000000\" fill-rule=\"evenodd\" fill-opacity=\"1\" /><path clip-path=\"url(#clip460)\" d=\"M 0 0 M2120.75 1541.24 L2125.64 1541.24 L2125.64 1547.12 L2120.75 1547.12 L2120.75 1541.24 Z\" fill=\"#000000\" fill-rule=\"evenodd\" fill-opacity=\"1\" /><path clip-path=\"url(#clip460)\" d=\"M 0 0 M2140.71 1515.64 Q2137.1 1515.64 2135.27 1519.2 Q2133.46 1522.75 2133.46 1529.87 Q2133.46 1536.98 2135.27 1540.55 Q2137.1 1544.09 2140.71 1544.09 Q2144.34 1544.09 2146.15 1540.55 Q2147.98 1536.98 2147.98 1529.87 Q2147.98 1522.75 2146.15 1519.2 Q2144.34 1515.64 2140.71 1515.64 M2140.71 1511.93 Q2146.52 1511.93 2149.57 1516.54 Q2152.65 1521.12 2152.65 1529.87 Q2152.65 1538.6 2149.57 1543.21 Q2146.52 1547.79 2140.71 1547.79 Q2134.9 1547.79 2131.82 1543.21 Q2128.76 1538.6 2128.76 1529.87 Q2128.76 1521.12 2131.82 1516.54 Q2134.9 1511.93 2140.71 1511.93 Z\" fill=\"#000000\" fill-rule=\"evenodd\" fill-opacity=\"1\" /><polyline clip-path=\"url(#clip462)\" style=\"stroke:#000000; stroke-width:2; stroke-opacity:0.1; fill:none\" points=\"\n",
       "  142.455,1419.19 2352.76,1419.19 \n",
       "  \"/>\n",
       "<polyline clip-path=\"url(#clip462)\" style=\"stroke:#000000; stroke-width:2; stroke-opacity:0.1; fill:none\" points=\"\n",
       "  142.455,1125.93 2352.76,1125.93 \n",
       "  \"/>\n",
       "<polyline clip-path=\"url(#clip462)\" style=\"stroke:#000000; stroke-width:2; stroke-opacity:0.1; fill:none\" points=\"\n",
       "  142.455,832.668 2352.76,832.668 \n",
       "  \"/>\n",
       "<polyline clip-path=\"url(#clip462)\" style=\"stroke:#000000; stroke-width:2; stroke-opacity:0.1; fill:none\" points=\"\n",
       "  142.455,539.404 2352.76,539.404 \n",
       "  \"/>\n",
       "<polyline clip-path=\"url(#clip462)\" style=\"stroke:#000000; stroke-width:2; stroke-opacity:0.1; fill:none\" points=\"\n",
       "  142.455,246.141 2352.76,246.141 \n",
       "  \"/>\n",
       "<polyline clip-path=\"url(#clip460)\" style=\"stroke:#000000; stroke-width:4; stroke-opacity:1; fill:none\" points=\"\n",
       "  142.455,1486.45 142.455,47.2441 \n",
       "  \"/>\n",
       "<polyline clip-path=\"url(#clip460)\" style=\"stroke:#000000; stroke-width:4; stroke-opacity:1; fill:none\" points=\"\n",
       "  142.455,1419.19 168.978,1419.19 \n",
       "  \"/>\n",
       "<polyline clip-path=\"url(#clip460)\" style=\"stroke:#000000; stroke-width:4; stroke-opacity:1; fill:none\" points=\"\n",
       "  142.455,1125.93 168.978,1125.93 \n",
       "  \"/>\n",
       "<polyline clip-path=\"url(#clip460)\" style=\"stroke:#000000; stroke-width:4; stroke-opacity:1; fill:none\" points=\"\n",
       "  142.455,832.668 168.978,832.668 \n",
       "  \"/>\n",
       "<polyline clip-path=\"url(#clip460)\" style=\"stroke:#000000; stroke-width:4; stroke-opacity:1; fill:none\" points=\"\n",
       "  142.455,539.404 168.978,539.404 \n",
       "  \"/>\n",
       "<polyline clip-path=\"url(#clip460)\" style=\"stroke:#000000; stroke-width:4; stroke-opacity:1; fill:none\" points=\"\n",
       "  142.455,246.141 168.978,246.141 \n",
       "  \"/>\n",
       "<path clip-path=\"url(#clip460)\" d=\"M 0 0 M51.3625 1419.65 L81.0383 1419.65 L81.0383 1423.58 L51.3625 1423.58 L51.3625 1419.65 Z\" fill=\"#000000\" fill-rule=\"evenodd\" fill-opacity=\"1\" /><path clip-path=\"url(#clip460)\" d=\"M 0 0 M90.1354 1432.54 L106.455 1432.54 L106.455 1436.47 L84.5105 1436.47 L84.5105 1432.54 Q87.1725 1429.78 91.7558 1425.15 Q96.3623 1420.5 97.5428 1419.16 Q99.7882 1416.64 100.668 1414.9 Q101.571 1413.14 101.571 1411.45 Q101.571 1408.7 99.6261 1406.96 Q97.7048 1405.22 94.603 1405.22 Q92.4039 1405.22 89.9503 1405.99 Q87.5197 1406.75 84.7419 1408.3 L84.7419 1403.58 Q87.566 1402.45 90.0197 1401.87 Q92.4734 1401.29 94.5104 1401.29 Q99.8808 1401.29 103.075 1403.97 Q106.27 1406.66 106.27 1411.15 Q106.27 1413.28 105.459 1415.2 Q104.672 1417.1 102.566 1419.69 Q101.987 1420.36 98.8854 1423.58 Q95.7836 1426.77 90.1354 1432.54 Z\" fill=\"#000000\" fill-rule=\"evenodd\" fill-opacity=\"1\" /><path clip-path=\"url(#clip460)\" d=\"M 0 0 M50.9921 1126.38 L80.6679 1126.38 L80.6679 1130.32 L50.9921 1130.32 L50.9921 1126.38 Z\" fill=\"#000000\" fill-rule=\"evenodd\" fill-opacity=\"1\" /><path clip-path=\"url(#clip460)\" d=\"M 0 0 M86.5475 1139.28 L94.1863 1139.28 L94.1863 1112.91 L85.8762 1114.58 L85.8762 1110.32 L94.14 1108.65 L98.8159 1108.65 L98.8159 1139.28 L106.455 1139.28 L106.455 1143.21 L86.5475 1143.21 L86.5475 1139.28 Z\" fill=\"#000000\" fill-rule=\"evenodd\" fill-opacity=\"1\" /><path clip-path=\"url(#clip460)\" d=\"M 0 0 M94.5104 818.466 Q90.8993 818.466 89.0706 822.031 Q87.2651 825.573 87.2651 832.702 Q87.2651 839.809 89.0706 843.374 Q90.8993 846.915 94.5104 846.915 Q98.1447 846.915 99.9502 843.374 Q101.779 839.809 101.779 832.702 Q101.779 825.573 99.9502 822.031 Q98.1447 818.466 94.5104 818.466 M94.5104 814.763 Q100.321 814.763 103.376 819.369 Q106.455 823.952 106.455 832.702 Q106.455 841.429 103.376 846.036 Q100.321 850.619 94.5104 850.619 Q88.7003 850.619 85.6216 846.036 Q82.566 841.429 82.566 832.702 Q82.566 823.952 85.6216 819.369 Q88.7003 814.763 94.5104 814.763 Z\" fill=\"#000000\" fill-rule=\"evenodd\" fill-opacity=\"1\" /><path clip-path=\"url(#clip460)\" d=\"M 0 0 M86.5475 552.749 L94.1863 552.749 L94.1863 526.384 L85.8762 528.05 L85.8762 523.791 L94.14 522.124 L98.8159 522.124 L98.8159 552.749 L106.455 552.749 L106.455 556.684 L86.5475 556.684 L86.5475 552.749 Z\" fill=\"#000000\" fill-rule=\"evenodd\" fill-opacity=\"1\" /><path clip-path=\"url(#clip460)\" d=\"M 0 0 M90.1354 259.486 L106.455 259.486 L106.455 263.421 L84.5105 263.421 L84.5105 259.486 Q87.1725 256.732 91.7558 252.102 Q96.3623 247.449 97.5428 246.107 Q99.7882 243.583 100.668 241.847 Q101.571 240.088 101.571 238.398 Q101.571 235.644 99.6261 233.908 Q97.7048 232.172 94.603 232.172 Q92.4039 232.172 89.9503 232.935 Q87.5197 233.699 84.7419 235.25 L84.7419 230.528 Q87.566 229.394 90.0197 228.815 Q92.4734 228.236 94.5104 228.236 Q99.8808 228.236 103.075 230.922 Q106.27 233.607 106.27 238.097 Q106.27 240.227 105.459 242.148 Q104.672 244.046 102.566 246.639 Q101.987 247.31 98.8854 250.528 Q95.7836 253.722 90.1354 259.486 Z\" fill=\"#000000\" fill-rule=\"evenodd\" fill-opacity=\"1\" /><polyline clip-path=\"url(#clip462)\" style=\"stroke:#009af9; stroke-width:4; stroke-opacity:1; fill:none\" points=\"\n",
       "  372.223,1334.14 389.32,1330.85 547.413,1298.17 642.42,1276.08 722.747,1255.53 810.005,1230.66 890.449,1204.6 976.694,1171.87 1076.62,1123.63 1121.02,1095.88 \n",
       "  1165.42,1060.59 1184.88,1040.95 1204.35,1016.69 1214.08,1001.69 1223.82,983.432 1228.68,972.356 1233.55,959.174 1235.98,951.406 1238.42,942.461 1240.85,931.757 \n",
       "  1243.29,918.047 1244.61,908.221 1245.94,894.828 1246.6,885.159 1247.26,869.281 1247.93,796.715 1248.59,780.494 1249.25,770.733 1249.92,763.346 1250.58,757.267 \n",
       "  1251.24,752.036 1252.57,743.234 1253.9,735.889 1259.2,714.006 1264.51,698.129 1275.12,674.405 1285.73,656.227 1306.96,628.182 1328.18,606.245 1370.88,571.765 \n",
       "  1413.59,544.574 1508.01,497.909 1597.85,463.146 1691.27,432.847 1769.9,410.498 1865.91,386.072 1956.15,365.322 2100.74,335.48 2122.99,331.195 \n",
       "  \"/>\n",
       "<polyline clip-path=\"url(#clip462)\" style=\"stroke:#000000; stroke-width:4; stroke-opacity:1; fill:none\" points=\"\n",
       "  319.7,832.668 337.823,832.668 505.401,832.668 606.109,832.668 691.256,832.668 783.749,832.668 869.02,832.668 960.439,832.668 1066.36,832.668 1160.48,832.668 \n",
       "  1243.03,832.668 1333.02,832.668 1423.55,832.668 1523.63,832.668 1618.87,832.668 1717.89,832.668 1801.24,832.668 1903,832.668 1998.67,832.668 2151.93,832.668 \n",
       "  2175.51,832.668 \n",
       "  \"/>\n",
       "<polyline clip-path=\"url(#clip462)\" style=\"stroke:#3da44d; stroke-width:4; stroke-opacity:1; fill:none\" points=\"\n",
       "  264.025,1186.34 283.236,1175.61 460.869,1076.43 567.619,1016.83 657.875,966.435 755.918,911.693 846.304,861.225 943.209,807.118 1055.48,744.431 1155.26,688.721 \n",
       "  1242.75,639.869 1338.14,586.607 1434.1,533.028 1540.2,473.79 1641.14,417.427 1746.1,358.822 1834.46,309.489 1942.33,249.259 2043.73,192.642 2206.18,101.936 \n",
       "  2231.19,87.9763 \n",
       "  \"/>\n",
       "<polyline clip-path=\"url(#clip462)\" style=\"stroke:#c271d2; stroke-width:4; stroke-opacity:1; fill:none\" points=\"\n",
       "  205.01,1445.72 225.374,1438.55 413.665,1372.32 526.82,1332.52 622.491,1298.87 726.416,1262.32 822.226,1228.62 924.945,1192.49 1043.95,1150.63 1149.72,1113.42 \n",
       "  1242.46,1080.8 1343.58,1045.24 1445.29,1009.46 1557.75,969.902 1664.75,932.265 1776.01,893.131 1869.67,860.188 1984.01,819.969 2091.5,782.162 2263.7,721.592 \n",
       "  2290.2,712.27 \n",
       "  \"/>\n",
       "<path clip-path=\"url(#clip460)\" d=\"\n",
       "M216.131 397.618 L664.775 397.618 L664.775 95.2176 L216.131 95.2176  Z\n",
       "  \" fill=\"#ffffff\" fill-rule=\"evenodd\" fill-opacity=\"1\"/>\n",
       "<polyline clip-path=\"url(#clip460)\" style=\"stroke:#000000; stroke-width:4; stroke-opacity:1; fill:none\" points=\"\n",
       "  216.131,397.618 664.775,397.618 664.775,95.2176 216.131,95.2176 216.131,397.618 \n",
       "  \"/>\n",
       "<polyline clip-path=\"url(#clip460)\" style=\"stroke:#009af9; stroke-width:4; stroke-opacity:1; fill:none\" points=\"\n",
       "  240.69,155.698 388.044,155.698 \n",
       "  \"/>\n",
       "<path clip-path=\"url(#clip460)\" d=\"M 0 0 M431.515 159.714 Q431.515 155.084 429.593 152.538 Q427.695 149.992 424.246 149.992 Q420.82 149.992 418.899 152.538 Q417.001 155.084 417.001 159.714 Q417.001 164.32 418.899 166.866 Q420.82 169.413 424.246 169.413 Q427.695 169.413 429.593 166.866 Q431.515 164.32 431.515 159.714 M435.774 169.76 Q435.774 176.38 432.834 179.598 Q429.894 182.839 423.829 182.839 Q421.584 182.839 419.593 182.491 Q417.603 182.167 415.728 181.473 L415.728 177.329 Q417.603 178.348 419.431 178.834 Q421.26 179.32 423.158 179.32 Q427.348 179.32 429.431 177.121 Q431.515 174.945 431.515 170.524 L431.515 168.417 Q430.195 170.709 428.135 171.843 Q426.075 172.978 423.205 172.978 Q418.436 172.978 415.519 169.343 Q412.603 165.709 412.603 159.714 Q412.603 153.695 415.519 150.061 Q418.436 146.427 423.205 146.427 Q426.075 146.427 428.135 147.561 Q430.195 148.695 431.515 150.987 L431.515 147.052 L435.774 147.052 L435.774 169.76 Z\" fill=\"#000000\" fill-rule=\"evenodd\" fill-opacity=\"1\" /><path clip-path=\"url(#clip460)\" d=\"M 0 0 M450.473 137.006 Q447.371 142.33 445.866 147.538 Q444.362 152.746 444.362 158.093 Q444.362 163.441 445.866 168.695 Q447.394 173.927 450.473 179.228 L446.769 179.228 Q443.297 173.788 441.561 168.533 Q439.848 163.279 439.848 158.093 Q439.848 152.931 441.561 147.7 Q443.274 142.468 446.769 137.006 L450.473 137.006 Z\" fill=\"#000000\" fill-rule=\"evenodd\" fill-opacity=\"1\" /><path clip-path=\"url(#clip460)\" d=\"M 0 0 M476.491 147.052 L467.116 159.667 L476.977 172.978 L471.954 172.978 L464.408 162.792 L456.862 172.978 L451.839 172.978 L461.908 159.413 L452.695 147.052 L457.718 147.052 L464.593 156.288 L471.468 147.052 L476.491 147.052 Z\" fill=\"#000000\" fill-rule=\"evenodd\" fill-opacity=\"1\" /><path clip-path=\"url(#clip460)\" d=\"M 0 0 M480.774 137.006 L484.477 137.006 Q487.95 142.468 489.662 147.7 Q491.399 152.931 491.399 158.093 Q491.399 163.279 489.662 168.533 Q487.95 173.788 484.477 179.228 L480.774 179.228 Q483.852 173.927 485.357 168.695 Q486.885 163.441 486.885 158.093 Q486.885 152.746 485.357 147.538 Q483.852 142.33 480.774 137.006 Z\" fill=\"#000000\" fill-rule=\"evenodd\" fill-opacity=\"1\" /><polyline clip-path=\"url(#clip460)\" style=\"stroke:#000000; stroke-width:4; stroke-opacity:1; fill:none\" points=\"\n",
       "  240.69,216.178 388.044,216.178 \n",
       "  \"/>\n",
       "<path clip-path=\"url(#clip460)\" d=\"M 0 0 M428.621 202.069 Q423.529 202.069 420.519 205.865 Q417.533 209.661 417.533 216.212 Q417.533 222.74 420.519 226.536 Q423.529 230.333 428.621 230.333 Q433.714 230.333 436.677 226.536 Q439.663 222.74 439.663 216.212 Q439.663 209.661 436.677 205.865 Q433.714 202.069 428.621 202.069 M428.621 198.273 Q435.89 198.273 440.241 203.157 Q444.593 208.018 444.593 216.212 Q444.593 224.384 440.241 229.268 Q435.89 234.129 428.621 234.129 Q421.33 234.129 416.955 229.268 Q412.603 224.407 412.603 216.212 Q412.603 208.018 416.955 203.157 Q421.33 198.273 428.621 198.273 Z\" fill=\"#000000\" fill-rule=\"evenodd\" fill-opacity=\"1\" /><path clip-path=\"url(#clip460)\" d=\"M 0 0 M444.547 198.898 L449.57 198.898 L458.158 211.745 L466.792 198.898 L471.815 198.898 L460.704 215.495 L472.556 233.458 L467.533 233.458 L457.811 218.759 L448.019 233.458 L442.973 233.458 L455.311 215.009 L444.547 198.898 Z\" fill=\"#000000\" fill-rule=\"evenodd\" fill-opacity=\"1\" /><polyline clip-path=\"url(#clip460)\" style=\"stroke:#3da44d; stroke-width:4; stroke-opacity:1; fill:none\" points=\"\n",
       "  240.69,276.658 388.044,276.658 \n",
       "  \"/>\n",
       "<path clip-path=\"url(#clip460)\" d=\"M 0 0 M420.01 260.651 L420.01 268.012 L428.783 268.012 L428.783 271.322 L420.01 271.322 L420.01 285.396 Q420.01 288.567 420.867 289.47 Q421.746 290.373 424.408 290.373 L428.783 290.373 L428.783 293.938 L424.408 293.938 Q419.478 293.938 417.603 292.109 Q415.728 290.257 415.728 285.396 L415.728 271.322 L412.603 271.322 L412.603 268.012 L415.728 268.012 L415.728 260.651 L420.01 260.651 Z\" fill=\"#000000\" fill-rule=\"evenodd\" fill-opacity=\"1\" /><path clip-path=\"url(#clip460)\" d=\"M 0 0 M445.033 280.905 Q439.871 280.905 437.88 282.086 Q435.89 283.266 435.89 286.114 Q435.89 288.382 437.371 289.725 Q438.876 291.044 441.445 291.044 Q444.987 291.044 447.116 288.544 Q449.269 286.021 449.269 281.854 L449.269 280.905 L445.033 280.905 M453.528 279.146 L453.528 293.938 L449.269 293.938 L449.269 290.002 Q447.811 292.363 445.635 293.498 Q443.459 294.609 440.311 294.609 Q436.329 294.609 433.968 292.387 Q431.63 290.141 431.63 286.391 Q431.63 282.016 434.547 279.794 Q437.487 277.572 443.297 277.572 L449.269 277.572 L449.269 277.155 Q449.269 274.215 447.325 272.618 Q445.403 270.998 441.908 270.998 Q439.686 270.998 437.579 271.53 Q435.473 272.063 433.529 273.127 L433.529 269.192 Q435.866 268.29 438.066 267.85 Q440.265 267.387 442.348 267.387 Q447.973 267.387 450.751 270.303 Q453.528 273.22 453.528 279.146 Z\" fill=\"#000000\" fill-rule=\"evenodd\" fill-opacity=\"1\" /><path clip-path=\"url(#clip460)\" d=\"M 0 0 M479.547 278.289 L479.547 293.938 L475.288 293.938 L475.288 278.428 Q475.288 274.748 473.852 272.919 Q472.417 271.09 469.547 271.09 Q466.098 271.09 464.107 273.29 Q462.116 275.489 462.116 279.285 L462.116 293.938 L457.834 293.938 L457.834 268.012 L462.116 268.012 L462.116 272.04 Q463.644 269.702 465.704 268.544 Q467.788 267.387 470.496 267.387 Q474.963 267.387 477.255 270.165 Q479.547 272.919 479.547 278.289 Z\" fill=\"#000000\" fill-rule=\"evenodd\" fill-opacity=\"1\" /><path clip-path=\"url(#clip460)\" d=\"M 0 0 M501.074 280.674 Q501.074 276.044 499.153 273.498 Q497.255 270.952 493.806 270.952 Q490.38 270.952 488.459 273.498 Q486.561 276.044 486.561 280.674 Q486.561 285.28 488.459 287.826 Q490.38 290.373 493.806 290.373 Q497.255 290.373 499.153 287.826 Q501.074 285.28 501.074 280.674 M505.334 290.72 Q505.334 297.34 502.394 300.558 Q499.454 303.799 493.389 303.799 Q491.144 303.799 489.153 303.451 Q487.162 303.127 485.288 302.433 L485.288 298.289 Q487.162 299.308 488.991 299.794 Q490.82 300.28 492.718 300.28 Q496.908 300.28 498.991 298.081 Q501.074 295.905 501.074 291.484 L501.074 289.377 Q499.755 291.669 497.695 292.803 Q495.635 293.938 492.764 293.938 Q487.996 293.938 485.079 290.303 Q482.163 286.669 482.163 280.674 Q482.163 274.655 485.079 271.021 Q487.996 267.387 492.764 267.387 Q495.635 267.387 497.695 268.521 Q499.755 269.655 501.074 271.947 L501.074 268.012 L505.334 268.012 L505.334 290.72 Z\" fill=\"#000000\" fill-rule=\"evenodd\" fill-opacity=\"1\" /><path clip-path=\"url(#clip460)\" d=\"M 0 0 M531.977 279.91 L531.977 281.993 L512.394 281.993 Q512.672 286.391 515.033 288.706 Q517.417 290.998 521.653 290.998 Q524.107 290.998 526.398 290.396 Q528.713 289.794 530.982 288.59 L530.982 292.618 Q528.69 293.59 526.283 294.1 Q523.875 294.609 521.398 294.609 Q515.195 294.609 511.561 290.998 Q507.949 287.387 507.949 281.229 Q507.949 274.864 511.375 271.137 Q514.824 267.387 520.658 267.387 Q525.889 267.387 528.922 270.766 Q531.977 274.123 531.977 279.91 M527.718 278.66 Q527.672 275.165 525.75 273.081 Q523.852 270.998 520.704 270.998 Q517.139 270.998 514.986 273.012 Q512.857 275.026 512.533 278.683 L527.718 278.66 Z\" fill=\"#000000\" fill-rule=\"evenodd\" fill-opacity=\"1\" /><path clip-path=\"url(#clip460)\" d=\"M 0 0 M557.995 278.289 L557.995 293.938 L553.736 293.938 L553.736 278.428 Q553.736 274.748 552.301 272.919 Q550.866 271.09 547.995 271.09 Q544.546 271.09 542.556 273.29 Q540.565 275.489 540.565 279.285 L540.565 293.938 L536.283 293.938 L536.283 268.012 L540.565 268.012 L540.565 272.04 Q542.093 269.702 544.153 268.544 Q546.236 267.387 548.945 267.387 Q553.412 267.387 555.704 270.165 Q557.995 272.919 557.995 278.289 Z\" fill=\"#000000\" fill-rule=\"evenodd\" fill-opacity=\"1\" /><path clip-path=\"url(#clip460)\" d=\"M 0 0 M566.676 260.651 L566.676 268.012 L575.449 268.012 L575.449 271.322 L566.676 271.322 L566.676 285.396 Q566.676 288.567 567.532 289.47 Q568.412 290.373 571.074 290.373 L575.449 290.373 L575.449 293.938 L571.074 293.938 Q566.144 293.938 564.269 292.109 Q562.394 290.257 562.394 285.396 L562.394 271.322 L559.269 271.322 L559.269 268.012 L562.394 268.012 L562.394 260.651 L566.676 260.651 Z\" fill=\"#000000\" fill-rule=\"evenodd\" fill-opacity=\"1\" /><path clip-path=\"url(#clip460)\" d=\"M 0 0 M581.329 290.002 L588.968 290.002 L588.968 263.637 L580.657 265.303 L580.657 261.044 L588.921 259.378 L593.597 259.378 L593.597 290.002 L601.236 290.002 L601.236 293.938 L581.329 293.938 L581.329 290.002 Z\" fill=\"#000000\" fill-rule=\"evenodd\" fill-opacity=\"1\" /><polyline clip-path=\"url(#clip460)\" style=\"stroke:#c271d2; stroke-width:4; stroke-opacity:1; fill:none\" points=\"\n",
       "  240.69,337.138 388.044,337.138 \n",
       "  \"/>\n",
       "<path clip-path=\"url(#clip460)\" d=\"M 0 0 M420.01 321.131 L420.01 328.492 L428.783 328.492 L428.783 331.802 L420.01 331.802 L420.01 345.876 Q420.01 349.047 420.867 349.95 Q421.746 350.853 424.408 350.853 L428.783 350.853 L428.783 354.418 L424.408 354.418 Q419.478 354.418 417.603 352.589 Q415.728 350.737 415.728 345.876 L415.728 331.802 L412.603 331.802 L412.603 328.492 L415.728 328.492 L415.728 321.131 L420.01 321.131 Z\" fill=\"#000000\" fill-rule=\"evenodd\" fill-opacity=\"1\" /><path clip-path=\"url(#clip460)\" d=\"M 0 0 M445.033 341.385 Q439.871 341.385 437.88 342.566 Q435.89 343.746 435.89 346.594 Q435.89 348.862 437.371 350.205 Q438.876 351.524 441.445 351.524 Q444.987 351.524 447.116 349.024 Q449.269 346.501 449.269 342.334 L449.269 341.385 L445.033 341.385 M453.528 339.626 L453.528 354.418 L449.269 354.418 L449.269 350.482 Q447.811 352.843 445.635 353.978 Q443.459 355.089 440.311 355.089 Q436.329 355.089 433.968 352.867 Q431.63 350.621 431.63 346.871 Q431.63 342.496 434.547 340.274 Q437.487 338.052 443.297 338.052 L449.269 338.052 L449.269 337.635 Q449.269 334.695 447.325 333.098 Q445.403 331.478 441.908 331.478 Q439.686 331.478 437.579 332.01 Q435.473 332.543 433.529 333.607 L433.529 329.672 Q435.866 328.77 438.066 328.33 Q440.265 327.867 442.348 327.867 Q447.973 327.867 450.751 330.783 Q453.528 333.7 453.528 339.626 Z\" fill=\"#000000\" fill-rule=\"evenodd\" fill-opacity=\"1\" /><path clip-path=\"url(#clip460)\" d=\"M 0 0 M479.547 338.769 L479.547 354.418 L475.288 354.418 L475.288 338.908 Q475.288 335.228 473.852 333.399 Q472.417 331.57 469.547 331.57 Q466.098 331.57 464.107 333.77 Q462.116 335.969 462.116 339.765 L462.116 354.418 L457.834 354.418 L457.834 328.492 L462.116 328.492 L462.116 332.52 Q463.644 330.182 465.704 329.024 Q467.788 327.867 470.496 327.867 Q474.963 327.867 477.255 330.645 Q479.547 333.399 479.547 338.769 Z\" fill=\"#000000\" fill-rule=\"evenodd\" fill-opacity=\"1\" /><path clip-path=\"url(#clip460)\" d=\"M 0 0 M501.074 341.154 Q501.074 336.524 499.153 333.978 Q497.255 331.432 493.806 331.432 Q490.38 331.432 488.459 333.978 Q486.561 336.524 486.561 341.154 Q486.561 345.76 488.459 348.306 Q490.38 350.853 493.806 350.853 Q497.255 350.853 499.153 348.306 Q501.074 345.76 501.074 341.154 M505.334 351.2 Q505.334 357.82 502.394 361.038 Q499.454 364.279 493.389 364.279 Q491.144 364.279 489.153 363.931 Q487.162 363.607 485.288 362.913 L485.288 358.769 Q487.162 359.788 488.991 360.274 Q490.82 360.76 492.718 360.76 Q496.908 360.76 498.991 358.561 Q501.074 356.385 501.074 351.964 L501.074 349.857 Q499.755 352.149 497.695 353.283 Q495.635 354.418 492.764 354.418 Q487.996 354.418 485.079 350.783 Q482.163 347.149 482.163 341.154 Q482.163 335.135 485.079 331.501 Q487.996 327.867 492.764 327.867 Q495.635 327.867 497.695 329.001 Q499.755 330.135 501.074 332.427 L501.074 328.492 L505.334 328.492 L505.334 351.2 Z\" fill=\"#000000\" fill-rule=\"evenodd\" fill-opacity=\"1\" /><path clip-path=\"url(#clip460)\" d=\"M 0 0 M531.977 340.39 L531.977 342.473 L512.394 342.473 Q512.672 346.871 515.033 349.186 Q517.417 351.478 521.653 351.478 Q524.107 351.478 526.398 350.876 Q528.713 350.274 530.982 349.07 L530.982 353.098 Q528.69 354.07 526.283 354.58 Q523.875 355.089 521.398 355.089 Q515.195 355.089 511.561 351.478 Q507.949 347.867 507.949 341.709 Q507.949 335.344 511.375 331.617 Q514.824 327.867 520.658 327.867 Q525.889 327.867 528.922 331.246 Q531.977 334.603 531.977 340.39 M527.718 339.14 Q527.672 335.645 525.75 333.561 Q523.852 331.478 520.704 331.478 Q517.139 331.478 514.986 333.492 Q512.857 335.506 512.533 339.163 L527.718 339.14 Z\" fill=\"#000000\" fill-rule=\"evenodd\" fill-opacity=\"1\" /><path clip-path=\"url(#clip460)\" d=\"M 0 0 M557.995 338.769 L557.995 354.418 L553.736 354.418 L553.736 338.908 Q553.736 335.228 552.301 333.399 Q550.866 331.57 547.995 331.57 Q544.546 331.57 542.556 333.77 Q540.565 335.969 540.565 339.765 L540.565 354.418 L536.283 354.418 L536.283 328.492 L540.565 328.492 L540.565 332.52 Q542.093 330.182 544.153 329.024 Q546.236 327.867 548.945 327.867 Q553.412 327.867 555.704 330.645 Q557.995 333.399 557.995 338.769 Z\" fill=\"#000000\" fill-rule=\"evenodd\" fill-opacity=\"1\" /><path clip-path=\"url(#clip460)\" d=\"M 0 0 M566.676 321.131 L566.676 328.492 L575.449 328.492 L575.449 331.802 L566.676 331.802 L566.676 345.876 Q566.676 349.047 567.532 349.95 Q568.412 350.853 571.074 350.853 L575.449 350.853 L575.449 354.418 L571.074 354.418 Q566.144 354.418 564.269 352.589 Q562.394 350.737 562.394 345.876 L562.394 331.802 L559.269 331.802 L559.269 328.492 L562.394 328.492 L562.394 321.131 L566.676 321.131 Z\" fill=\"#000000\" fill-rule=\"evenodd\" fill-opacity=\"1\" /><path clip-path=\"url(#clip460)\" d=\"M 0 0 M577.764 339.533 L590.241 339.533 L590.241 343.33 L577.764 343.33 L577.764 339.533 Z\" fill=\"#000000\" fill-rule=\"evenodd\" fill-opacity=\"1\" /><path clip-path=\"url(#clip460)\" d=\"M 0 0 M599.338 350.482 L615.657 350.482 L615.657 354.418 L593.713 354.418 L593.713 350.482 Q596.375 347.728 600.958 343.098 Q605.565 338.445 606.745 337.103 Q608.991 334.58 609.87 332.844 Q610.773 331.084 610.773 329.395 Q610.773 326.64 608.829 324.904 Q606.907 323.168 603.805 323.168 Q601.606 323.168 599.153 323.932 Q596.722 324.695 593.944 326.246 L593.944 321.524 Q596.768 320.39 599.222 319.811 Q601.676 319.233 603.713 319.233 Q609.083 319.233 612.278 321.918 Q615.472 324.603 615.472 329.094 Q615.472 331.223 614.662 333.145 Q613.875 335.043 611.768 337.635 Q611.19 338.307 608.088 341.524 Q604.986 344.719 599.338 350.482 Z\" fill=\"#000000\" fill-rule=\"evenodd\" fill-opacity=\"1\" /></svg>\n"
      ]
     },
     "execution_count": 45,
     "metadata": {},
     "output_type": "execute_result"
    }
   ],
   "source": [
    "plot!(tangent_line2, label=\"tangent-2\")"
   ]
  },
  {
   "cell_type": "markdown",
   "metadata": {},
   "source": [
    "#### Obserwacje - cd.\n",
    "Kolejno teraz styczna przecina oś OX w $x=4$. Kolejne punkty przecięcia z osią bedą się coraz bardziej oddalać od środka układu. Dorysujmy 3 kolejne styczne w $(x,g(4)), (x,g(-8)), (x,g(16))$."
   ]
  },
  {
   "cell_type": "code",
   "execution_count": 46,
   "metadata": {},
   "outputs": [
    {
     "data": {
      "text/plain": [
       "tangent_line5 (generic function with 1 method)"
      ]
     },
     "execution_count": 46,
     "metadata": {},
     "output_type": "execute_result"
    }
   ],
   "source": [
    "tangent_line3(x) = tangent(g,4,x)\n",
    "tangent_line4(x) = tangent(g,-8,x)\n",
    "tangent_line5(x) = tangent(g,16,x)"
   ]
  },
  {
   "cell_type": "code",
   "execution_count": 47,
   "metadata": {},
   "outputs": [
    {
     "data": {
      "image/svg+xml": [
       "<?xml version=\"1.0\" encoding=\"utf-8\"?>\n",
       "<svg xmlns=\"http://www.w3.org/2000/svg\" xmlns:xlink=\"http://www.w3.org/1999/xlink\" width=\"600\" height=\"400\" viewBox=\"0 0 2400 1600\">\n",
       "<defs>\n",
       "  <clipPath id=\"clip500\">\n",
       "    <rect x=\"0\" y=\"0\" width=\"2400\" height=\"1600\"/>\n",
       "  </clipPath>\n",
       "</defs>\n",
       "<path clip-path=\"url(#clip500)\" d=\"\n",
       "M0 1600 L2400 1600 L2400 0 L0 0  Z\n",
       "  \" fill=\"#ffffff\" fill-rule=\"evenodd\" fill-opacity=\"1\"/>\n",
       "<defs>\n",
       "  <clipPath id=\"clip501\">\n",
       "    <rect x=\"480\" y=\"0\" width=\"1681\" height=\"1600\"/>\n",
       "  </clipPath>\n",
       "</defs>\n",
       "<path clip-path=\"url(#clip500)\" d=\"\n",
       "M142.455 1486.45 L2352.76 1486.45 L2352.76 47.2441 L142.455 47.2441  Z\n",
       "  \" fill=\"#ffffff\" fill-rule=\"evenodd\" fill-opacity=\"1\"/>\n",
       "<defs>\n",
       "  <clipPath id=\"clip502\">\n",
       "    <rect x=\"142\" y=\"47\" width=\"2211\" height=\"1440\"/>\n",
       "  </clipPath>\n",
       "</defs>\n",
       "<polyline clip-path=\"url(#clip502)\" style=\"stroke:#000000; stroke-width:2; stroke-opacity:0.1; fill:none\" points=\"\n",
       "  365.619,1486.45 365.619,47.2441 \n",
       "  \"/>\n",
       "<polyline clip-path=\"url(#clip502)\" style=\"stroke:#000000; stroke-width:2; stroke-opacity:0.1; fill:none\" points=\"\n",
       "  659.615,1486.45 659.615,47.2441 \n",
       "  \"/>\n",
       "<polyline clip-path=\"url(#clip502)\" style=\"stroke:#000000; stroke-width:2; stroke-opacity:0.1; fill:none\" points=\"\n",
       "  953.61,1486.45 953.61,47.2441 \n",
       "  \"/>\n",
       "<polyline clip-path=\"url(#clip502)\" style=\"stroke:#000000; stroke-width:2; stroke-opacity:0.1; fill:none\" points=\"\n",
       "  1247.61,1486.45 1247.61,47.2441 \n",
       "  \"/>\n",
       "<polyline clip-path=\"url(#clip502)\" style=\"stroke:#000000; stroke-width:2; stroke-opacity:0.1; fill:none\" points=\"\n",
       "  1541.6,1486.45 1541.6,47.2441 \n",
       "  \"/>\n",
       "<polyline clip-path=\"url(#clip502)\" style=\"stroke:#000000; stroke-width:2; stroke-opacity:0.1; fill:none\" points=\"\n",
       "  1835.6,1486.45 1835.6,47.2441 \n",
       "  \"/>\n",
       "<polyline clip-path=\"url(#clip502)\" style=\"stroke:#000000; stroke-width:2; stroke-opacity:0.1; fill:none\" points=\"\n",
       "  2129.59,1486.45 2129.59,47.2441 \n",
       "  \"/>\n",
       "<polyline clip-path=\"url(#clip500)\" style=\"stroke:#000000; stroke-width:4; stroke-opacity:1; fill:none\" points=\"\n",
       "  142.455,1486.45 2352.76,1486.45 \n",
       "  \"/>\n",
       "<polyline clip-path=\"url(#clip500)\" style=\"stroke:#000000; stroke-width:4; stroke-opacity:1; fill:none\" points=\"\n",
       "  365.619,1486.45 365.619,1469.18 \n",
       "  \"/>\n",
       "<polyline clip-path=\"url(#clip500)\" style=\"stroke:#000000; stroke-width:4; stroke-opacity:1; fill:none\" points=\"\n",
       "  659.615,1486.45 659.615,1469.18 \n",
       "  \"/>\n",
       "<polyline clip-path=\"url(#clip500)\" style=\"stroke:#000000; stroke-width:4; stroke-opacity:1; fill:none\" points=\"\n",
       "  953.61,1486.45 953.61,1469.18 \n",
       "  \"/>\n",
       "<polyline clip-path=\"url(#clip500)\" style=\"stroke:#000000; stroke-width:4; stroke-opacity:1; fill:none\" points=\"\n",
       "  1247.61,1486.45 1247.61,1469.18 \n",
       "  \"/>\n",
       "<polyline clip-path=\"url(#clip500)\" style=\"stroke:#000000; stroke-width:4; stroke-opacity:1; fill:none\" points=\"\n",
       "  1541.6,1486.45 1541.6,1469.18 \n",
       "  \"/>\n",
       "<polyline clip-path=\"url(#clip500)\" style=\"stroke:#000000; stroke-width:4; stroke-opacity:1; fill:none\" points=\"\n",
       "  1835.6,1486.45 1835.6,1469.18 \n",
       "  \"/>\n",
       "<polyline clip-path=\"url(#clip500)\" style=\"stroke:#000000; stroke-width:4; stroke-opacity:1; fill:none\" points=\"\n",
       "  2129.59,1486.45 2129.59,1469.18 \n",
       "  \"/>\n",
       "<path clip-path=\"url(#clip500)\" d=\"M 0 0 M337.194 1530.29 L366.869 1530.29 L366.869 1534.23 L337.194 1534.23 L337.194 1530.29 Z\" fill=\"#000000\" fill-rule=\"evenodd\" fill-opacity=\"1\" /><path clip-path=\"url(#clip500)\" d=\"M 0 0 M382.518 1527.98 Q379.369 1527.98 377.518 1530.13 Q375.689 1532.28 375.689 1536.03 Q375.689 1539.76 377.518 1541.93 Q379.369 1544.09 382.518 1544.09 Q385.666 1544.09 387.494 1541.93 Q389.346 1539.76 389.346 1536.03 Q389.346 1532.28 387.494 1530.13 Q385.666 1527.98 382.518 1527.98 M391.8 1513.32 L391.8 1517.58 Q390.041 1516.75 388.235 1516.31 Q386.453 1515.87 384.693 1515.87 Q380.064 1515.87 377.61 1519 Q375.18 1522.12 374.832 1528.44 Q376.198 1526.43 378.258 1525.36 Q380.318 1524.27 382.795 1524.27 Q388.004 1524.27 391.013 1527.44 Q394.045 1530.59 394.045 1536.03 Q394.045 1541.36 390.897 1544.57 Q387.749 1547.79 382.518 1547.79 Q376.522 1547.79 373.351 1543.21 Q370.18 1538.6 370.18 1529.87 Q370.18 1521.68 374.068 1516.82 Q377.957 1511.93 384.508 1511.93 Q386.267 1511.93 388.05 1512.28 Q389.855 1512.63 391.8 1513.32 Z\" fill=\"#000000\" fill-rule=\"evenodd\" fill-opacity=\"1\" /><path clip-path=\"url(#clip500)\" d=\"M 0 0 M631.027 1530.29 L660.703 1530.29 L660.703 1534.23 L631.027 1534.23 L631.027 1530.29 Z\" fill=\"#000000\" fill-rule=\"evenodd\" fill-opacity=\"1\" /><path clip-path=\"url(#clip500)\" d=\"M 0 0 M678.619 1516.63 L666.814 1535.08 L678.619 1535.08 L678.619 1516.63 M677.392 1512.56 L683.272 1512.56 L683.272 1535.08 L688.203 1535.08 L688.203 1538.97 L683.272 1538.97 L683.272 1547.12 L678.619 1547.12 L678.619 1538.97 L663.018 1538.97 L663.018 1534.46 L677.392 1512.56 Z\" fill=\"#000000\" fill-rule=\"evenodd\" fill-opacity=\"1\" /><path clip-path=\"url(#clip500)\" d=\"M 0 0 M926.064 1530.29 L955.74 1530.29 L955.74 1534.23 L926.064 1534.23 L926.064 1530.29 Z\" fill=\"#000000\" fill-rule=\"evenodd\" fill-opacity=\"1\" /><path clip-path=\"url(#clip500)\" d=\"M 0 0 M964.837 1543.18 L981.156 1543.18 L981.156 1547.12 L959.212 1547.12 L959.212 1543.18 Q961.874 1540.43 966.457 1535.8 Q971.064 1531.15 972.244 1529.81 Q974.49 1527.28 975.369 1525.55 Q976.272 1523.79 976.272 1522.1 Q976.272 1519.34 974.328 1517.61 Q972.406 1515.87 969.304 1515.87 Q967.105 1515.87 964.652 1516.63 Q962.221 1517.4 959.443 1518.95 L959.443 1514.23 Q962.267 1513.09 964.721 1512.51 Q967.175 1511.93 969.212 1511.93 Q974.582 1511.93 977.777 1514.62 Q980.971 1517.31 980.971 1521.8 Q980.971 1523.93 980.161 1525.85 Q979.374 1527.74 977.267 1530.34 Q976.689 1531.01 973.587 1534.23 Q970.485 1537.42 964.837 1543.18 Z\" fill=\"#000000\" fill-rule=\"evenodd\" fill-opacity=\"1\" /><path clip-path=\"url(#clip500)\" d=\"M 0 0 M1247.61 1515.64 Q1243.99 1515.64 1242.17 1519.2 Q1240.36 1522.75 1240.36 1529.87 Q1240.36 1536.98 1242.17 1540.55 Q1243.99 1544.09 1247.61 1544.09 Q1251.24 1544.09 1253.05 1540.55 Q1254.87 1536.98 1254.87 1529.87 Q1254.87 1522.75 1253.05 1519.2 Q1251.24 1515.64 1247.61 1515.64 M1247.61 1511.93 Q1253.42 1511.93 1256.47 1516.54 Q1259.55 1521.12 1259.55 1529.87 Q1259.55 1538.6 1256.47 1543.21 Q1253.42 1547.79 1247.61 1547.79 Q1241.8 1547.79 1238.72 1543.21 Q1235.66 1538.6 1235.66 1529.87 Q1235.66 1521.12 1238.72 1516.54 Q1241.8 1511.93 1247.61 1511.93 Z\" fill=\"#000000\" fill-rule=\"evenodd\" fill-opacity=\"1\" /><path clip-path=\"url(#clip500)\" d=\"M 0 0 M1536.25 1543.18 L1552.57 1543.18 L1552.57 1547.12 L1530.63 1547.12 L1530.63 1543.18 Q1533.29 1540.43 1537.87 1535.8 Q1542.48 1531.15 1543.66 1529.81 Q1545.91 1527.28 1546.79 1525.55 Q1547.69 1523.79 1547.69 1522.1 Q1547.69 1519.34 1545.74 1517.61 Q1543.82 1515.87 1540.72 1515.87 Q1538.52 1515.87 1536.07 1516.63 Q1533.64 1517.4 1530.86 1518.95 L1530.86 1514.23 Q1533.68 1513.09 1536.14 1512.51 Q1538.59 1511.93 1540.63 1511.93 Q1546 1511.93 1549.19 1514.62 Q1552.39 1517.31 1552.39 1521.8 Q1552.39 1523.93 1551.58 1525.85 Q1550.79 1527.74 1548.68 1530.34 Q1548.11 1531.01 1545 1534.23 Q1541.9 1537.42 1536.25 1543.18 Z\" fill=\"#000000\" fill-rule=\"evenodd\" fill-opacity=\"1\" /><path clip-path=\"url(#clip500)\" d=\"M 0 0 M1838.61 1516.63 L1826.8 1535.08 L1838.61 1535.08 L1838.61 1516.63 M1837.38 1512.56 L1843.26 1512.56 L1843.26 1535.08 L1848.19 1535.08 L1848.19 1538.97 L1843.26 1538.97 L1843.26 1547.12 L1838.61 1547.12 L1838.61 1538.97 L1823 1538.97 L1823 1534.46 L1837.38 1512.56 Z\" fill=\"#000000\" fill-rule=\"evenodd\" fill-opacity=\"1\" /><path clip-path=\"url(#clip500)\" d=\"M 0 0 M2130 1527.98 Q2126.85 1527.98 2125 1530.13 Q2123.17 1532.28 2123.17 1536.03 Q2123.17 1539.76 2125 1541.93 Q2126.85 1544.09 2130 1544.09 Q2133.14 1544.09 2134.97 1541.93 Q2136.82 1539.76 2136.82 1536.03 Q2136.82 1532.28 2134.97 1530.13 Q2133.14 1527.98 2130 1527.98 M2139.28 1513.32 L2139.28 1517.58 Q2137.52 1516.75 2135.71 1516.31 Q2133.93 1515.87 2132.17 1515.87 Q2127.54 1515.87 2125.09 1519 Q2122.66 1522.12 2122.31 1528.44 Q2123.68 1526.43 2125.74 1525.36 Q2127.8 1524.27 2130.27 1524.27 Q2135.48 1524.27 2138.49 1527.44 Q2141.52 1530.59 2141.52 1536.03 Q2141.52 1541.36 2138.38 1544.57 Q2135.23 1547.79 2130 1547.79 Q2124 1547.79 2120.83 1543.21 Q2117.66 1538.6 2117.66 1529.87 Q2117.66 1521.68 2121.55 1516.82 Q2125.44 1511.93 2131.99 1511.93 Q2133.75 1511.93 2135.53 1512.28 Q2137.33 1512.63 2139.28 1513.32 Z\" fill=\"#000000\" fill-rule=\"evenodd\" fill-opacity=\"1\" /><polyline clip-path=\"url(#clip502)\" style=\"stroke:#000000; stroke-width:2; stroke-opacity:0.1; fill:none\" points=\"\n",
       "  142.455,1419.19 2352.76,1419.19 \n",
       "  \"/>\n",
       "<polyline clip-path=\"url(#clip502)\" style=\"stroke:#000000; stroke-width:2; stroke-opacity:0.1; fill:none\" points=\"\n",
       "  142.455,1125.93 2352.76,1125.93 \n",
       "  \"/>\n",
       "<polyline clip-path=\"url(#clip502)\" style=\"stroke:#000000; stroke-width:2; stroke-opacity:0.1; fill:none\" points=\"\n",
       "  142.455,832.668 2352.76,832.668 \n",
       "  \"/>\n",
       "<polyline clip-path=\"url(#clip502)\" style=\"stroke:#000000; stroke-width:2; stroke-opacity:0.1; fill:none\" points=\"\n",
       "  142.455,539.404 2352.76,539.404 \n",
       "  \"/>\n",
       "<polyline clip-path=\"url(#clip502)\" style=\"stroke:#000000; stroke-width:2; stroke-opacity:0.1; fill:none\" points=\"\n",
       "  142.455,246.141 2352.76,246.141 \n",
       "  \"/>\n",
       "<polyline clip-path=\"url(#clip500)\" style=\"stroke:#000000; stroke-width:4; stroke-opacity:1; fill:none\" points=\"\n",
       "  142.455,1486.45 142.455,47.2441 \n",
       "  \"/>\n",
       "<polyline clip-path=\"url(#clip500)\" style=\"stroke:#000000; stroke-width:4; stroke-opacity:1; fill:none\" points=\"\n",
       "  142.455,1419.19 168.978,1419.19 \n",
       "  \"/>\n",
       "<polyline clip-path=\"url(#clip500)\" style=\"stroke:#000000; stroke-width:4; stroke-opacity:1; fill:none\" points=\"\n",
       "  142.455,1125.93 168.978,1125.93 \n",
       "  \"/>\n",
       "<polyline clip-path=\"url(#clip500)\" style=\"stroke:#000000; stroke-width:4; stroke-opacity:1; fill:none\" points=\"\n",
       "  142.455,832.668 168.978,832.668 \n",
       "  \"/>\n",
       "<polyline clip-path=\"url(#clip500)\" style=\"stroke:#000000; stroke-width:4; stroke-opacity:1; fill:none\" points=\"\n",
       "  142.455,539.404 168.978,539.404 \n",
       "  \"/>\n",
       "<polyline clip-path=\"url(#clip500)\" style=\"stroke:#000000; stroke-width:4; stroke-opacity:1; fill:none\" points=\"\n",
       "  142.455,246.141 168.978,246.141 \n",
       "  \"/>\n",
       "<path clip-path=\"url(#clip500)\" d=\"M 0 0 M51.3625 1419.65 L81.0383 1419.65 L81.0383 1423.58 L51.3625 1423.58 L51.3625 1419.65 Z\" fill=\"#000000\" fill-rule=\"evenodd\" fill-opacity=\"1\" /><path clip-path=\"url(#clip500)\" d=\"M 0 0 M90.1354 1432.54 L106.455 1432.54 L106.455 1436.47 L84.5105 1436.47 L84.5105 1432.54 Q87.1725 1429.78 91.7558 1425.15 Q96.3623 1420.5 97.5428 1419.16 Q99.7882 1416.64 100.668 1414.9 Q101.571 1413.14 101.571 1411.45 Q101.571 1408.7 99.6261 1406.96 Q97.7048 1405.22 94.603 1405.22 Q92.4039 1405.22 89.9503 1405.99 Q87.5197 1406.75 84.7419 1408.3 L84.7419 1403.58 Q87.566 1402.45 90.0197 1401.87 Q92.4734 1401.29 94.5104 1401.29 Q99.8808 1401.29 103.075 1403.97 Q106.27 1406.66 106.27 1411.15 Q106.27 1413.28 105.459 1415.2 Q104.672 1417.1 102.566 1419.69 Q101.987 1420.36 98.8854 1423.58 Q95.7836 1426.77 90.1354 1432.54 Z\" fill=\"#000000\" fill-rule=\"evenodd\" fill-opacity=\"1\" /><path clip-path=\"url(#clip500)\" d=\"M 0 0 M50.9921 1126.38 L80.6679 1126.38 L80.6679 1130.32 L50.9921 1130.32 L50.9921 1126.38 Z\" fill=\"#000000\" fill-rule=\"evenodd\" fill-opacity=\"1\" /><path clip-path=\"url(#clip500)\" d=\"M 0 0 M86.5475 1139.28 L94.1863 1139.28 L94.1863 1112.91 L85.8762 1114.58 L85.8762 1110.32 L94.14 1108.65 L98.8159 1108.65 L98.8159 1139.28 L106.455 1139.28 L106.455 1143.21 L86.5475 1143.21 L86.5475 1139.28 Z\" fill=\"#000000\" fill-rule=\"evenodd\" fill-opacity=\"1\" /><path clip-path=\"url(#clip500)\" d=\"M 0 0 M94.5104 818.466 Q90.8993 818.466 89.0706 822.031 Q87.2651 825.573 87.2651 832.702 Q87.2651 839.809 89.0706 843.374 Q90.8993 846.915 94.5104 846.915 Q98.1447 846.915 99.9502 843.374 Q101.779 839.809 101.779 832.702 Q101.779 825.573 99.9502 822.031 Q98.1447 818.466 94.5104 818.466 M94.5104 814.763 Q100.321 814.763 103.376 819.369 Q106.455 823.952 106.455 832.702 Q106.455 841.429 103.376 846.036 Q100.321 850.619 94.5104 850.619 Q88.7003 850.619 85.6216 846.036 Q82.566 841.429 82.566 832.702 Q82.566 823.952 85.6216 819.369 Q88.7003 814.763 94.5104 814.763 Z\" fill=\"#000000\" fill-rule=\"evenodd\" fill-opacity=\"1\" /><path clip-path=\"url(#clip500)\" d=\"M 0 0 M86.5475 552.749 L94.1863 552.749 L94.1863 526.384 L85.8762 528.05 L85.8762 523.791 L94.14 522.124 L98.8159 522.124 L98.8159 552.749 L106.455 552.749 L106.455 556.684 L86.5475 556.684 L86.5475 552.749 Z\" fill=\"#000000\" fill-rule=\"evenodd\" fill-opacity=\"1\" /><path clip-path=\"url(#clip500)\" d=\"M 0 0 M90.1354 259.486 L106.455 259.486 L106.455 263.421 L84.5105 263.421 L84.5105 259.486 Q87.1725 256.732 91.7558 252.102 Q96.3623 247.449 97.5428 246.107 Q99.7882 243.583 100.668 241.847 Q101.571 240.088 101.571 238.398 Q101.571 235.644 99.6261 233.908 Q97.7048 232.172 94.603 232.172 Q92.4039 232.172 89.9503 232.935 Q87.5197 233.699 84.7419 235.25 L84.7419 230.528 Q87.566 229.394 90.0197 228.815 Q92.4734 228.236 94.5104 228.236 Q99.8808 228.236 103.075 230.922 Q106.27 233.607 106.27 238.097 Q106.27 240.227 105.459 242.148 Q104.672 244.046 102.566 246.639 Q101.987 247.31 98.8854 250.528 Q95.7836 253.722 90.1354 259.486 Z\" fill=\"#000000\" fill-rule=\"evenodd\" fill-opacity=\"1\" /><polyline clip-path=\"url(#clip502)\" style=\"stroke:#009af9; stroke-width:4; stroke-opacity:1; fill:none\" points=\"\n",
       "  512.617,1334.14 526.973,1330.85 659.71,1298.17 739.48,1276.08 806.924,1255.53 880.188,1230.66 947.73,1204.6 1020.14,1171.87 1104.04,1123.63 1141.32,1095.88 \n",
       "  1178.6,1060.59 1194.94,1040.95 1211.29,1016.69 1219.46,1001.69 1227.63,983.432 1231.72,972.356 1235.81,959.174 1237.85,951.406 1239.89,942.461 1241.93,931.757 \n",
       "  1243.98,918.047 1245.09,908.221 1246.21,894.828 1246.76,885.159 1247.32,869.281 1247.88,796.715 1248.43,780.494 1248.99,770.733 1249.55,763.346 1250.1,757.267 \n",
       "  1250.66,752.036 1251.77,743.234 1252.89,735.889 1257.34,714.006 1261.8,698.129 1270.71,674.405 1279.62,656.227 1297.44,628.182 1315.26,606.245 1351.11,571.765 \n",
       "  1386.97,544.574 1466.25,497.909 1541.68,463.146 1620.11,432.847 1686.14,410.498 1766.74,386.072 1842.52,365.322 1963.91,335.48 1982.59,331.195 \n",
       "  \"/>\n",
       "<polyline clip-path=\"url(#clip502)\" style=\"stroke:#000000; stroke-width:4; stroke-opacity:1; fill:none\" points=\"\n",
       "  468.518,832.668 483.735,832.668 624.436,832.668 708.992,832.668 780.483,832.668 858.143,832.668 929.737,832.668 1006.49,832.668 1095.43,832.668 1174.46,832.668 \n",
       "  1243.76,832.668 1319.32,832.668 1395.33,832.668 1479.36,832.668 1559.32,832.668 1642.46,832.668 1712.45,832.668 1797.89,832.668 1878.21,832.668 2006.89,832.668 \n",
       "  2026.69,832.668 \n",
       "  \"/>\n",
       "<polyline clip-path=\"url(#clip502)\" style=\"stroke:#3da44d; stroke-width:4; stroke-opacity:1; fill:none\" points=\"\n",
       "  421.773,1186.34 437.902,1175.61 587.046,1076.43 676.676,1016.83 752.456,966.435 834.775,911.693 910.665,861.225 992.028,807.118 1086.29,744.431 1170.07,688.721 \n",
       "  1243.53,639.869 1323.62,586.607 1404.19,533.028 1493.27,473.79 1578.03,417.427 1666.15,358.822 1740.34,309.489 1830.91,249.259 1916.05,192.642 2052.45,101.936 \n",
       "  2073.44,87.9763 \n",
       "  \"/>\n",
       "<polyline clip-path=\"url(#clip502)\" style=\"stroke:#c271d2; stroke-width:4; stroke-opacity:1; fill:none\" points=\"\n",
       "  372.223,1445.72 389.32,1438.55 547.413,1372.32 642.42,1332.52 722.747,1298.87 810.005,1262.32 890.449,1228.62 976.694,1192.49 1076.62,1150.63 1165.42,1113.42 \n",
       "  1243.29,1080.8 1328.18,1045.24 1413.59,1009.46 1508.01,969.902 1597.85,932.265 1691.27,893.131 1769.9,860.188 1865.91,819.969 1956.15,782.162 2100.74,721.592 \n",
       "  2122.99,712.27 \n",
       "  \"/>\n",
       "<polyline clip-path=\"url(#clip502)\" style=\"stroke:#ac8d18; stroke-width:4; stroke-opacity:1; fill:none\" points=\"\n",
       "  319.7,767.198 337.823,762.415 505.401,718.19 606.109,691.613 691.256,669.142 783.749,644.732 869.02,622.228 960.439,598.102 1066.36,570.15 1160.48,545.309 \n",
       "  1243.03,523.525 1333.02,499.776 1423.55,475.885 1523.63,449.47 1618.87,424.338 1717.89,398.206 1801.24,376.208 1903,349.352 1998.67,324.106 2151.93,283.66 \n",
       "  2175.51,277.435 \n",
       "  \"/>\n",
       "<polyline clip-path=\"url(#clip502)\" style=\"stroke:#00a9ad; stroke-width:4; stroke-opacity:1; fill:none\" points=\"\n",
       "  264.025,1387.21 283.236,1384.01 460.869,1354.48 567.619,1336.73 657.875,1321.73 755.918,1305.43 846.304,1290.4 943.209,1274.29 1055.48,1255.63 1155.26,1239.04 \n",
       "  1242.75,1224.49 1338.14,1208.63 1434.1,1192.68 1540.2,1175.04 1641.14,1158.26 1746.1,1140.81 1834.46,1126.12 1942.33,1108.19 2043.73,1091.33 2206.18,1064.32 \n",
       "  2231.19,1060.16 \n",
       "  \"/>\n",
       "<polyline clip-path=\"url(#clip502)\" style=\"stroke:#ed5d92; stroke-width:4; stroke-opacity:1; fill:none\" points=\"\n",
       "  205.01,449.209 225.374,447.077 413.665,427.357 526.82,415.506 622.491,405.486 726.416,394.601 822.226,384.567 924.945,373.809 1043.95,361.345 1149.72,350.268 \n",
       "  1242.46,340.555 1343.58,329.965 1445.29,319.312 1557.75,307.534 1664.75,296.328 1776.01,284.675 1869.67,274.866 1984.01,262.891 2091.5,251.634 2263.7,233.599 \n",
       "  2290.2,230.823 \n",
       "  \"/>\n",
       "<path clip-path=\"url(#clip500)\" d=\"\n",
       "M216.131 579.058 L677.53 579.058 L677.53 95.2176 L216.131 95.2176  Z\n",
       "  \" fill=\"#ffffff\" fill-rule=\"evenodd\" fill-opacity=\"1\"/>\n",
       "<polyline clip-path=\"url(#clip500)\" style=\"stroke:#000000; stroke-width:4; stroke-opacity:1; fill:none\" points=\"\n",
       "  216.131,579.058 677.53,579.058 677.53,95.2176 216.131,95.2176 216.131,579.058 \n",
       "  \"/>\n",
       "<polyline clip-path=\"url(#clip500)\" style=\"stroke:#009af9; stroke-width:4; stroke-opacity:1; fill:none\" points=\"\n",
       "  240.69,155.698 388.044,155.698 \n",
       "  \"/>\n",
       "<path clip-path=\"url(#clip500)\" d=\"M 0 0 M431.515 159.714 Q431.515 155.084 429.593 152.538 Q427.695 149.992 424.246 149.992 Q420.82 149.992 418.899 152.538 Q417.001 155.084 417.001 159.714 Q417.001 164.32 418.899 166.866 Q420.82 169.413 424.246 169.413 Q427.695 169.413 429.593 166.866 Q431.515 164.32 431.515 159.714 M435.774 169.76 Q435.774 176.38 432.834 179.598 Q429.894 182.839 423.829 182.839 Q421.584 182.839 419.593 182.491 Q417.603 182.167 415.728 181.473 L415.728 177.329 Q417.603 178.348 419.431 178.834 Q421.26 179.32 423.158 179.32 Q427.348 179.32 429.431 177.121 Q431.515 174.945 431.515 170.524 L431.515 168.417 Q430.195 170.709 428.135 171.843 Q426.075 172.978 423.205 172.978 Q418.436 172.978 415.519 169.343 Q412.603 165.709 412.603 159.714 Q412.603 153.695 415.519 150.061 Q418.436 146.427 423.205 146.427 Q426.075 146.427 428.135 147.561 Q430.195 148.695 431.515 150.987 L431.515 147.052 L435.774 147.052 L435.774 169.76 Z\" fill=\"#000000\" fill-rule=\"evenodd\" fill-opacity=\"1\" /><path clip-path=\"url(#clip500)\" d=\"M 0 0 M450.473 137.006 Q447.371 142.33 445.866 147.538 Q444.362 152.746 444.362 158.093 Q444.362 163.441 445.866 168.695 Q447.394 173.927 450.473 179.228 L446.769 179.228 Q443.297 173.788 441.561 168.533 Q439.848 163.279 439.848 158.093 Q439.848 152.931 441.561 147.7 Q443.274 142.468 446.769 137.006 L450.473 137.006 Z\" fill=\"#000000\" fill-rule=\"evenodd\" fill-opacity=\"1\" /><path clip-path=\"url(#clip500)\" d=\"M 0 0 M476.491 147.052 L467.116 159.667 L476.977 172.978 L471.954 172.978 L464.408 162.792 L456.862 172.978 L451.839 172.978 L461.908 159.413 L452.695 147.052 L457.718 147.052 L464.593 156.288 L471.468 147.052 L476.491 147.052 Z\" fill=\"#000000\" fill-rule=\"evenodd\" fill-opacity=\"1\" /><path clip-path=\"url(#clip500)\" d=\"M 0 0 M480.774 137.006 L484.477 137.006 Q487.95 142.468 489.662 147.7 Q491.399 152.931 491.399 158.093 Q491.399 163.279 489.662 168.533 Q487.95 173.788 484.477 179.228 L480.774 179.228 Q483.852 173.927 485.357 168.695 Q486.885 163.441 486.885 158.093 Q486.885 152.746 485.357 147.538 Q483.852 142.33 480.774 137.006 Z\" fill=\"#000000\" fill-rule=\"evenodd\" fill-opacity=\"1\" /><polyline clip-path=\"url(#clip500)\" style=\"stroke:#000000; stroke-width:4; stroke-opacity:1; fill:none\" points=\"\n",
       "  240.69,216.178 388.044,216.178 \n",
       "  \"/>\n",
       "<path clip-path=\"url(#clip500)\" d=\"M 0 0 M428.621 202.069 Q423.529 202.069 420.519 205.865 Q417.533 209.661 417.533 216.212 Q417.533 222.74 420.519 226.536 Q423.529 230.333 428.621 230.333 Q433.714 230.333 436.677 226.536 Q439.663 222.74 439.663 216.212 Q439.663 209.661 436.677 205.865 Q433.714 202.069 428.621 202.069 M428.621 198.273 Q435.89 198.273 440.241 203.157 Q444.593 208.018 444.593 216.212 Q444.593 224.384 440.241 229.268 Q435.89 234.129 428.621 234.129 Q421.33 234.129 416.955 229.268 Q412.603 224.407 412.603 216.212 Q412.603 208.018 416.955 203.157 Q421.33 198.273 428.621 198.273 Z\" fill=\"#000000\" fill-rule=\"evenodd\" fill-opacity=\"1\" /><path clip-path=\"url(#clip500)\" d=\"M 0 0 M444.547 198.898 L449.57 198.898 L458.158 211.745 L466.792 198.898 L471.815 198.898 L460.704 215.495 L472.556 233.458 L467.533 233.458 L457.811 218.759 L448.019 233.458 L442.973 233.458 L455.311 215.009 L444.547 198.898 Z\" fill=\"#000000\" fill-rule=\"evenodd\" fill-opacity=\"1\" /><polyline clip-path=\"url(#clip500)\" style=\"stroke:#3da44d; stroke-width:4; stroke-opacity:1; fill:none\" points=\"\n",
       "  240.69,276.658 388.044,276.658 \n",
       "  \"/>\n",
       "<path clip-path=\"url(#clip500)\" d=\"M 0 0 M420.01 260.651 L420.01 268.012 L428.783 268.012 L428.783 271.322 L420.01 271.322 L420.01 285.396 Q420.01 288.567 420.867 289.47 Q421.746 290.373 424.408 290.373 L428.783 290.373 L428.783 293.938 L424.408 293.938 Q419.478 293.938 417.603 292.109 Q415.728 290.257 415.728 285.396 L415.728 271.322 L412.603 271.322 L412.603 268.012 L415.728 268.012 L415.728 260.651 L420.01 260.651 Z\" fill=\"#000000\" fill-rule=\"evenodd\" fill-opacity=\"1\" /><path clip-path=\"url(#clip500)\" d=\"M 0 0 M445.033 280.905 Q439.871 280.905 437.88 282.086 Q435.89 283.266 435.89 286.114 Q435.89 288.382 437.371 289.725 Q438.876 291.044 441.445 291.044 Q444.987 291.044 447.116 288.544 Q449.269 286.021 449.269 281.854 L449.269 280.905 L445.033 280.905 M453.528 279.146 L453.528 293.938 L449.269 293.938 L449.269 290.002 Q447.811 292.363 445.635 293.498 Q443.459 294.609 440.311 294.609 Q436.329 294.609 433.968 292.387 Q431.63 290.141 431.63 286.391 Q431.63 282.016 434.547 279.794 Q437.487 277.572 443.297 277.572 L449.269 277.572 L449.269 277.155 Q449.269 274.215 447.325 272.618 Q445.403 270.998 441.908 270.998 Q439.686 270.998 437.579 271.53 Q435.473 272.063 433.529 273.127 L433.529 269.192 Q435.866 268.29 438.066 267.85 Q440.265 267.387 442.348 267.387 Q447.973 267.387 450.751 270.303 Q453.528 273.22 453.528 279.146 Z\" fill=\"#000000\" fill-rule=\"evenodd\" fill-opacity=\"1\" /><path clip-path=\"url(#clip500)\" d=\"M 0 0 M479.547 278.289 L479.547 293.938 L475.288 293.938 L475.288 278.428 Q475.288 274.748 473.852 272.919 Q472.417 271.09 469.547 271.09 Q466.098 271.09 464.107 273.29 Q462.116 275.489 462.116 279.285 L462.116 293.938 L457.834 293.938 L457.834 268.012 L462.116 268.012 L462.116 272.04 Q463.644 269.702 465.704 268.544 Q467.788 267.387 470.496 267.387 Q474.963 267.387 477.255 270.165 Q479.547 272.919 479.547 278.289 Z\" fill=\"#000000\" fill-rule=\"evenodd\" fill-opacity=\"1\" /><path clip-path=\"url(#clip500)\" d=\"M 0 0 M501.074 280.674 Q501.074 276.044 499.153 273.498 Q497.255 270.952 493.806 270.952 Q490.38 270.952 488.459 273.498 Q486.561 276.044 486.561 280.674 Q486.561 285.28 488.459 287.826 Q490.38 290.373 493.806 290.373 Q497.255 290.373 499.153 287.826 Q501.074 285.28 501.074 280.674 M505.334 290.72 Q505.334 297.34 502.394 300.558 Q499.454 303.799 493.389 303.799 Q491.144 303.799 489.153 303.451 Q487.162 303.127 485.288 302.433 L485.288 298.289 Q487.162 299.308 488.991 299.794 Q490.82 300.28 492.718 300.28 Q496.908 300.28 498.991 298.081 Q501.074 295.905 501.074 291.484 L501.074 289.377 Q499.755 291.669 497.695 292.803 Q495.635 293.938 492.764 293.938 Q487.996 293.938 485.079 290.303 Q482.163 286.669 482.163 280.674 Q482.163 274.655 485.079 271.021 Q487.996 267.387 492.764 267.387 Q495.635 267.387 497.695 268.521 Q499.755 269.655 501.074 271.947 L501.074 268.012 L505.334 268.012 L505.334 290.72 Z\" fill=\"#000000\" fill-rule=\"evenodd\" fill-opacity=\"1\" /><path clip-path=\"url(#clip500)\" d=\"M 0 0 M531.977 279.91 L531.977 281.993 L512.394 281.993 Q512.672 286.391 515.033 288.706 Q517.417 290.998 521.653 290.998 Q524.107 290.998 526.398 290.396 Q528.713 289.794 530.982 288.59 L530.982 292.618 Q528.69 293.59 526.283 294.1 Q523.875 294.609 521.398 294.609 Q515.195 294.609 511.561 290.998 Q507.949 287.387 507.949 281.229 Q507.949 274.864 511.375 271.137 Q514.824 267.387 520.658 267.387 Q525.889 267.387 528.922 270.766 Q531.977 274.123 531.977 279.91 M527.718 278.66 Q527.672 275.165 525.75 273.081 Q523.852 270.998 520.704 270.998 Q517.139 270.998 514.986 273.012 Q512.857 275.026 512.533 278.683 L527.718 278.66 Z\" fill=\"#000000\" fill-rule=\"evenodd\" fill-opacity=\"1\" /><path clip-path=\"url(#clip500)\" d=\"M 0 0 M557.995 278.289 L557.995 293.938 L553.736 293.938 L553.736 278.428 Q553.736 274.748 552.301 272.919 Q550.866 271.09 547.995 271.09 Q544.546 271.09 542.556 273.29 Q540.565 275.489 540.565 279.285 L540.565 293.938 L536.283 293.938 L536.283 268.012 L540.565 268.012 L540.565 272.04 Q542.093 269.702 544.153 268.544 Q546.236 267.387 548.945 267.387 Q553.412 267.387 555.704 270.165 Q557.995 272.919 557.995 278.289 Z\" fill=\"#000000\" fill-rule=\"evenodd\" fill-opacity=\"1\" /><path clip-path=\"url(#clip500)\" d=\"M 0 0 M566.676 260.651 L566.676 268.012 L575.449 268.012 L575.449 271.322 L566.676 271.322 L566.676 285.396 Q566.676 288.567 567.532 289.47 Q568.412 290.373 571.074 290.373 L575.449 290.373 L575.449 293.938 L571.074 293.938 Q566.144 293.938 564.269 292.109 Q562.394 290.257 562.394 285.396 L562.394 271.322 L559.269 271.322 L559.269 268.012 L562.394 268.012 L562.394 260.651 L566.676 260.651 Z\" fill=\"#000000\" fill-rule=\"evenodd\" fill-opacity=\"1\" /><path clip-path=\"url(#clip500)\" d=\"M 0 0 M581.329 290.002 L588.968 290.002 L588.968 263.637 L580.657 265.303 L580.657 261.044 L588.921 259.378 L593.597 259.378 L593.597 290.002 L601.236 290.002 L601.236 293.938 L581.329 293.938 L581.329 290.002 Z\" fill=\"#000000\" fill-rule=\"evenodd\" fill-opacity=\"1\" /><polyline clip-path=\"url(#clip500)\" style=\"stroke:#c271d2; stroke-width:4; stroke-opacity:1; fill:none\" points=\"\n",
       "  240.69,337.138 388.044,337.138 \n",
       "  \"/>\n",
       "<path clip-path=\"url(#clip500)\" d=\"M 0 0 M420.01 321.131 L420.01 328.492 L428.783 328.492 L428.783 331.802 L420.01 331.802 L420.01 345.876 Q420.01 349.047 420.867 349.95 Q421.746 350.853 424.408 350.853 L428.783 350.853 L428.783 354.418 L424.408 354.418 Q419.478 354.418 417.603 352.589 Q415.728 350.737 415.728 345.876 L415.728 331.802 L412.603 331.802 L412.603 328.492 L415.728 328.492 L415.728 321.131 L420.01 321.131 Z\" fill=\"#000000\" fill-rule=\"evenodd\" fill-opacity=\"1\" /><path clip-path=\"url(#clip500)\" d=\"M 0 0 M445.033 341.385 Q439.871 341.385 437.88 342.566 Q435.89 343.746 435.89 346.594 Q435.89 348.862 437.371 350.205 Q438.876 351.524 441.445 351.524 Q444.987 351.524 447.116 349.024 Q449.269 346.501 449.269 342.334 L449.269 341.385 L445.033 341.385 M453.528 339.626 L453.528 354.418 L449.269 354.418 L449.269 350.482 Q447.811 352.843 445.635 353.978 Q443.459 355.089 440.311 355.089 Q436.329 355.089 433.968 352.867 Q431.63 350.621 431.63 346.871 Q431.63 342.496 434.547 340.274 Q437.487 338.052 443.297 338.052 L449.269 338.052 L449.269 337.635 Q449.269 334.695 447.325 333.098 Q445.403 331.478 441.908 331.478 Q439.686 331.478 437.579 332.01 Q435.473 332.543 433.529 333.607 L433.529 329.672 Q435.866 328.77 438.066 328.33 Q440.265 327.867 442.348 327.867 Q447.973 327.867 450.751 330.783 Q453.528 333.7 453.528 339.626 Z\" fill=\"#000000\" fill-rule=\"evenodd\" fill-opacity=\"1\" /><path clip-path=\"url(#clip500)\" d=\"M 0 0 M479.547 338.769 L479.547 354.418 L475.288 354.418 L475.288 338.908 Q475.288 335.228 473.852 333.399 Q472.417 331.57 469.547 331.57 Q466.098 331.57 464.107 333.77 Q462.116 335.969 462.116 339.765 L462.116 354.418 L457.834 354.418 L457.834 328.492 L462.116 328.492 L462.116 332.52 Q463.644 330.182 465.704 329.024 Q467.788 327.867 470.496 327.867 Q474.963 327.867 477.255 330.645 Q479.547 333.399 479.547 338.769 Z\" fill=\"#000000\" fill-rule=\"evenodd\" fill-opacity=\"1\" /><path clip-path=\"url(#clip500)\" d=\"M 0 0 M501.074 341.154 Q501.074 336.524 499.153 333.978 Q497.255 331.432 493.806 331.432 Q490.38 331.432 488.459 333.978 Q486.561 336.524 486.561 341.154 Q486.561 345.76 488.459 348.306 Q490.38 350.853 493.806 350.853 Q497.255 350.853 499.153 348.306 Q501.074 345.76 501.074 341.154 M505.334 351.2 Q505.334 357.82 502.394 361.038 Q499.454 364.279 493.389 364.279 Q491.144 364.279 489.153 363.931 Q487.162 363.607 485.288 362.913 L485.288 358.769 Q487.162 359.788 488.991 360.274 Q490.82 360.76 492.718 360.76 Q496.908 360.76 498.991 358.561 Q501.074 356.385 501.074 351.964 L501.074 349.857 Q499.755 352.149 497.695 353.283 Q495.635 354.418 492.764 354.418 Q487.996 354.418 485.079 350.783 Q482.163 347.149 482.163 341.154 Q482.163 335.135 485.079 331.501 Q487.996 327.867 492.764 327.867 Q495.635 327.867 497.695 329.001 Q499.755 330.135 501.074 332.427 L501.074 328.492 L505.334 328.492 L505.334 351.2 Z\" fill=\"#000000\" fill-rule=\"evenodd\" fill-opacity=\"1\" /><path clip-path=\"url(#clip500)\" d=\"M 0 0 M531.977 340.39 L531.977 342.473 L512.394 342.473 Q512.672 346.871 515.033 349.186 Q517.417 351.478 521.653 351.478 Q524.107 351.478 526.398 350.876 Q528.713 350.274 530.982 349.07 L530.982 353.098 Q528.69 354.07 526.283 354.58 Q523.875 355.089 521.398 355.089 Q515.195 355.089 511.561 351.478 Q507.949 347.867 507.949 341.709 Q507.949 335.344 511.375 331.617 Q514.824 327.867 520.658 327.867 Q525.889 327.867 528.922 331.246 Q531.977 334.603 531.977 340.39 M527.718 339.14 Q527.672 335.645 525.75 333.561 Q523.852 331.478 520.704 331.478 Q517.139 331.478 514.986 333.492 Q512.857 335.506 512.533 339.163 L527.718 339.14 Z\" fill=\"#000000\" fill-rule=\"evenodd\" fill-opacity=\"1\" /><path clip-path=\"url(#clip500)\" d=\"M 0 0 M557.995 338.769 L557.995 354.418 L553.736 354.418 L553.736 338.908 Q553.736 335.228 552.301 333.399 Q550.866 331.57 547.995 331.57 Q544.546 331.57 542.556 333.77 Q540.565 335.969 540.565 339.765 L540.565 354.418 L536.283 354.418 L536.283 328.492 L540.565 328.492 L540.565 332.52 Q542.093 330.182 544.153 329.024 Q546.236 327.867 548.945 327.867 Q553.412 327.867 555.704 330.645 Q557.995 333.399 557.995 338.769 Z\" fill=\"#000000\" fill-rule=\"evenodd\" fill-opacity=\"1\" /><path clip-path=\"url(#clip500)\" d=\"M 0 0 M566.676 321.131 L566.676 328.492 L575.449 328.492 L575.449 331.802 L566.676 331.802 L566.676 345.876 Q566.676 349.047 567.532 349.95 Q568.412 350.853 571.074 350.853 L575.449 350.853 L575.449 354.418 L571.074 354.418 Q566.144 354.418 564.269 352.589 Q562.394 350.737 562.394 345.876 L562.394 331.802 L559.269 331.802 L559.269 328.492 L562.394 328.492 L562.394 321.131 L566.676 321.131 Z\" fill=\"#000000\" fill-rule=\"evenodd\" fill-opacity=\"1\" /><path clip-path=\"url(#clip500)\" d=\"M 0 0 M577.764 339.533 L590.241 339.533 L590.241 343.33 L577.764 343.33 L577.764 339.533 Z\" fill=\"#000000\" fill-rule=\"evenodd\" fill-opacity=\"1\" /><path clip-path=\"url(#clip500)\" d=\"M 0 0 M599.338 350.482 L615.657 350.482 L615.657 354.418 L593.713 354.418 L593.713 350.482 Q596.375 347.728 600.958 343.098 Q605.565 338.445 606.745 337.103 Q608.991 334.58 609.87 332.844 Q610.773 331.084 610.773 329.395 Q610.773 326.64 608.829 324.904 Q606.907 323.168 603.805 323.168 Q601.606 323.168 599.153 323.932 Q596.722 324.695 593.944 326.246 L593.944 321.524 Q596.768 320.39 599.222 319.811 Q601.676 319.233 603.713 319.233 Q609.083 319.233 612.278 321.918 Q615.472 324.603 615.472 329.094 Q615.472 331.223 614.662 333.145 Q613.875 335.043 611.768 337.635 Q611.19 338.307 608.088 341.524 Q604.986 344.719 599.338 350.482 Z\" fill=\"#000000\" fill-rule=\"evenodd\" fill-opacity=\"1\" /><polyline clip-path=\"url(#clip500)\" style=\"stroke:#ac8d18; stroke-width:4; stroke-opacity:1; fill:none\" points=\"\n",
       "  240.69,397.618 388.044,397.618 \n",
       "  \"/>\n",
       "<path clip-path=\"url(#clip500)\" d=\"M 0 0 M420.01 381.611 L420.01 388.972 L428.783 388.972 L428.783 392.282 L420.01 392.282 L420.01 406.356 Q420.01 409.527 420.867 410.43 Q421.746 411.333 424.408 411.333 L428.783 411.333 L428.783 414.898 L424.408 414.898 Q419.478 414.898 417.603 413.069 Q415.728 411.217 415.728 406.356 L415.728 392.282 L412.603 392.282 L412.603 388.972 L415.728 388.972 L415.728 381.611 L420.01 381.611 Z\" fill=\"#000000\" fill-rule=\"evenodd\" fill-opacity=\"1\" /><path clip-path=\"url(#clip500)\" d=\"M 0 0 M445.033 401.865 Q439.871 401.865 437.88 403.046 Q435.89 404.226 435.89 407.074 Q435.89 409.342 437.371 410.685 Q438.876 412.004 441.445 412.004 Q444.987 412.004 447.116 409.504 Q449.269 406.981 449.269 402.814 L449.269 401.865 L445.033 401.865 M453.528 400.106 L453.528 414.898 L449.269 414.898 L449.269 410.962 Q447.811 413.323 445.635 414.458 Q443.459 415.569 440.311 415.569 Q436.329 415.569 433.968 413.347 Q431.63 411.101 431.63 407.351 Q431.63 402.976 434.547 400.754 Q437.487 398.532 443.297 398.532 L449.269 398.532 L449.269 398.115 Q449.269 395.175 447.325 393.578 Q445.403 391.958 441.908 391.958 Q439.686 391.958 437.579 392.49 Q435.473 393.023 433.529 394.087 L433.529 390.152 Q435.866 389.25 438.066 388.81 Q440.265 388.347 442.348 388.347 Q447.973 388.347 450.751 391.263 Q453.528 394.18 453.528 400.106 Z\" fill=\"#000000\" fill-rule=\"evenodd\" fill-opacity=\"1\" /><path clip-path=\"url(#clip500)\" d=\"M 0 0 M479.547 399.249 L479.547 414.898 L475.288 414.898 L475.288 399.388 Q475.288 395.708 473.852 393.879 Q472.417 392.05 469.547 392.05 Q466.098 392.05 464.107 394.25 Q462.116 396.449 462.116 400.245 L462.116 414.898 L457.834 414.898 L457.834 388.972 L462.116 388.972 L462.116 393 Q463.644 390.662 465.704 389.504 Q467.788 388.347 470.496 388.347 Q474.963 388.347 477.255 391.125 Q479.547 393.879 479.547 399.249 Z\" fill=\"#000000\" fill-rule=\"evenodd\" fill-opacity=\"1\" /><path clip-path=\"url(#clip500)\" d=\"M 0 0 M501.074 401.634 Q501.074 397.004 499.153 394.458 Q497.255 391.912 493.806 391.912 Q490.38 391.912 488.459 394.458 Q486.561 397.004 486.561 401.634 Q486.561 406.24 488.459 408.786 Q490.38 411.333 493.806 411.333 Q497.255 411.333 499.153 408.786 Q501.074 406.24 501.074 401.634 M505.334 411.68 Q505.334 418.3 502.394 421.518 Q499.454 424.759 493.389 424.759 Q491.144 424.759 489.153 424.411 Q487.162 424.087 485.288 423.393 L485.288 419.249 Q487.162 420.268 488.991 420.754 Q490.82 421.24 492.718 421.24 Q496.908 421.24 498.991 419.041 Q501.074 416.865 501.074 412.444 L501.074 410.337 Q499.755 412.629 497.695 413.763 Q495.635 414.898 492.764 414.898 Q487.996 414.898 485.079 411.263 Q482.163 407.629 482.163 401.634 Q482.163 395.615 485.079 391.981 Q487.996 388.347 492.764 388.347 Q495.635 388.347 497.695 389.481 Q499.755 390.615 501.074 392.907 L501.074 388.972 L505.334 388.972 L505.334 411.68 Z\" fill=\"#000000\" fill-rule=\"evenodd\" fill-opacity=\"1\" /><path clip-path=\"url(#clip500)\" d=\"M 0 0 M531.977 400.87 L531.977 402.953 L512.394 402.953 Q512.672 407.351 515.033 409.666 Q517.417 411.958 521.653 411.958 Q524.107 411.958 526.398 411.356 Q528.713 410.754 530.982 409.55 L530.982 413.578 Q528.69 414.55 526.283 415.06 Q523.875 415.569 521.398 415.569 Q515.195 415.569 511.561 411.958 Q507.949 408.347 507.949 402.189 Q507.949 395.824 511.375 392.097 Q514.824 388.347 520.658 388.347 Q525.889 388.347 528.922 391.726 Q531.977 395.083 531.977 400.87 M527.718 399.62 Q527.672 396.125 525.75 394.041 Q523.852 391.958 520.704 391.958 Q517.139 391.958 514.986 393.972 Q512.857 395.986 512.533 399.643 L527.718 399.62 Z\" fill=\"#000000\" fill-rule=\"evenodd\" fill-opacity=\"1\" /><path clip-path=\"url(#clip500)\" d=\"M 0 0 M557.995 399.249 L557.995 414.898 L553.736 414.898 L553.736 399.388 Q553.736 395.708 552.301 393.879 Q550.866 392.05 547.995 392.05 Q544.546 392.05 542.556 394.25 Q540.565 396.449 540.565 400.245 L540.565 414.898 L536.283 414.898 L536.283 388.972 L540.565 388.972 L540.565 393 Q542.093 390.662 544.153 389.504 Q546.236 388.347 548.945 388.347 Q553.412 388.347 555.704 391.125 Q557.995 393.879 557.995 399.249 Z\" fill=\"#000000\" fill-rule=\"evenodd\" fill-opacity=\"1\" /><path clip-path=\"url(#clip500)\" d=\"M 0 0 M566.676 381.611 L566.676 388.972 L575.449 388.972 L575.449 392.282 L566.676 392.282 L566.676 406.356 Q566.676 409.527 567.532 410.43 Q568.412 411.333 571.074 411.333 L575.449 411.333 L575.449 414.898 L571.074 414.898 Q566.144 414.898 564.269 413.069 Q562.394 411.217 562.394 406.356 L562.394 392.282 L559.269 392.282 L559.269 388.972 L562.394 388.972 L562.394 381.611 L566.676 381.611 Z\" fill=\"#000000\" fill-rule=\"evenodd\" fill-opacity=\"1\" /><path clip-path=\"url(#clip500)\" d=\"M 0 0 M593.366 384.412 L581.56 402.861 L593.366 402.861 L593.366 384.412 M592.139 380.338 L598.018 380.338 L598.018 402.861 L602.949 402.861 L602.949 406.749 L598.018 406.749 L598.018 414.898 L593.366 414.898 L593.366 406.749 L577.764 406.749 L577.764 402.236 L592.139 380.338 Z\" fill=\"#000000\" fill-rule=\"evenodd\" fill-opacity=\"1\" /><polyline clip-path=\"url(#clip500)\" style=\"stroke:#00a9ad; stroke-width:4; stroke-opacity:1; fill:none\" points=\"\n",
       "  240.69,458.098 388.044,458.098 \n",
       "  \"/>\n",
       "<path clip-path=\"url(#clip500)\" d=\"M 0 0 M420.01 442.091 L420.01 449.452 L428.783 449.452 L428.783 452.762 L420.01 452.762 L420.01 466.836 Q420.01 470.007 420.867 470.91 Q421.746 471.813 424.408 471.813 L428.783 471.813 L428.783 475.378 L424.408 475.378 Q419.478 475.378 417.603 473.549 Q415.728 471.697 415.728 466.836 L415.728 452.762 L412.603 452.762 L412.603 449.452 L415.728 449.452 L415.728 442.091 L420.01 442.091 Z\" fill=\"#000000\" fill-rule=\"evenodd\" fill-opacity=\"1\" /><path clip-path=\"url(#clip500)\" d=\"M 0 0 M445.033 462.345 Q439.871 462.345 437.88 463.526 Q435.89 464.706 435.89 467.554 Q435.89 469.822 437.371 471.165 Q438.876 472.484 441.445 472.484 Q444.987 472.484 447.116 469.984 Q449.269 467.461 449.269 463.294 L449.269 462.345 L445.033 462.345 M453.528 460.586 L453.528 475.378 L449.269 475.378 L449.269 471.442 Q447.811 473.803 445.635 474.938 Q443.459 476.049 440.311 476.049 Q436.329 476.049 433.968 473.827 Q431.63 471.581 431.63 467.831 Q431.63 463.456 434.547 461.234 Q437.487 459.012 443.297 459.012 L449.269 459.012 L449.269 458.595 Q449.269 455.655 447.325 454.058 Q445.403 452.438 441.908 452.438 Q439.686 452.438 437.579 452.97 Q435.473 453.503 433.529 454.567 L433.529 450.632 Q435.866 449.73 438.066 449.29 Q440.265 448.827 442.348 448.827 Q447.973 448.827 450.751 451.743 Q453.528 454.66 453.528 460.586 Z\" fill=\"#000000\" fill-rule=\"evenodd\" fill-opacity=\"1\" /><path clip-path=\"url(#clip500)\" d=\"M 0 0 M479.547 459.729 L479.547 475.378 L475.288 475.378 L475.288 459.868 Q475.288 456.188 473.852 454.359 Q472.417 452.53 469.547 452.53 Q466.098 452.53 464.107 454.73 Q462.116 456.929 462.116 460.725 L462.116 475.378 L457.834 475.378 L457.834 449.452 L462.116 449.452 L462.116 453.48 Q463.644 451.142 465.704 449.984 Q467.788 448.827 470.496 448.827 Q474.963 448.827 477.255 451.605 Q479.547 454.359 479.547 459.729 Z\" fill=\"#000000\" fill-rule=\"evenodd\" fill-opacity=\"1\" /><path clip-path=\"url(#clip500)\" d=\"M 0 0 M501.074 462.114 Q501.074 457.484 499.153 454.938 Q497.255 452.392 493.806 452.392 Q490.38 452.392 488.459 454.938 Q486.561 457.484 486.561 462.114 Q486.561 466.72 488.459 469.266 Q490.38 471.813 493.806 471.813 Q497.255 471.813 499.153 469.266 Q501.074 466.72 501.074 462.114 M505.334 472.16 Q505.334 478.78 502.394 481.998 Q499.454 485.239 493.389 485.239 Q491.144 485.239 489.153 484.891 Q487.162 484.567 485.288 483.873 L485.288 479.729 Q487.162 480.748 488.991 481.234 Q490.82 481.72 492.718 481.72 Q496.908 481.72 498.991 479.521 Q501.074 477.345 501.074 472.924 L501.074 470.817 Q499.755 473.109 497.695 474.243 Q495.635 475.378 492.764 475.378 Q487.996 475.378 485.079 471.743 Q482.163 468.109 482.163 462.114 Q482.163 456.095 485.079 452.461 Q487.996 448.827 492.764 448.827 Q495.635 448.827 497.695 449.961 Q499.755 451.095 501.074 453.387 L501.074 449.452 L505.334 449.452 L505.334 472.16 Z\" fill=\"#000000\" fill-rule=\"evenodd\" fill-opacity=\"1\" /><path clip-path=\"url(#clip500)\" d=\"M 0 0 M531.977 461.35 L531.977 463.433 L512.394 463.433 Q512.672 467.831 515.033 470.146 Q517.417 472.438 521.653 472.438 Q524.107 472.438 526.398 471.836 Q528.713 471.234 530.982 470.03 L530.982 474.058 Q528.69 475.03 526.283 475.54 Q523.875 476.049 521.398 476.049 Q515.195 476.049 511.561 472.438 Q507.949 468.827 507.949 462.669 Q507.949 456.304 511.375 452.577 Q514.824 448.827 520.658 448.827 Q525.889 448.827 528.922 452.206 Q531.977 455.563 531.977 461.35 M527.718 460.1 Q527.672 456.605 525.75 454.521 Q523.852 452.438 520.704 452.438 Q517.139 452.438 514.986 454.452 Q512.857 456.466 512.533 460.123 L527.718 460.1 Z\" fill=\"#000000\" fill-rule=\"evenodd\" fill-opacity=\"1\" /><path clip-path=\"url(#clip500)\" d=\"M 0 0 M557.995 459.729 L557.995 475.378 L553.736 475.378 L553.736 459.868 Q553.736 456.188 552.301 454.359 Q550.866 452.53 547.995 452.53 Q544.546 452.53 542.556 454.73 Q540.565 456.929 540.565 460.725 L540.565 475.378 L536.283 475.378 L536.283 449.452 L540.565 449.452 L540.565 453.48 Q542.093 451.142 544.153 449.984 Q546.236 448.827 548.945 448.827 Q553.412 448.827 555.704 451.605 Q557.995 454.359 557.995 459.729 Z\" fill=\"#000000\" fill-rule=\"evenodd\" fill-opacity=\"1\" /><path clip-path=\"url(#clip500)\" d=\"M 0 0 M566.676 442.091 L566.676 449.452 L575.449 449.452 L575.449 452.762 L566.676 452.762 L566.676 466.836 Q566.676 470.007 567.532 470.91 Q568.412 471.813 571.074 471.813 L575.449 471.813 L575.449 475.378 L571.074 475.378 Q566.144 475.378 564.269 473.549 Q562.394 471.697 562.394 466.836 L562.394 452.762 L559.269 452.762 L559.269 449.452 L562.394 449.452 L562.394 442.091 L566.676 442.091 Z\" fill=\"#000000\" fill-rule=\"evenodd\" fill-opacity=\"1\" /><path clip-path=\"url(#clip500)\" d=\"M 0 0 M577.764 460.493 L590.241 460.493 L590.241 464.29 L577.764 464.29 L577.764 460.493 Z\" fill=\"#000000\" fill-rule=\"evenodd\" fill-opacity=\"1\" /><path clip-path=\"url(#clip500)\" d=\"M 0 0 M605.31 458.966 Q601.977 458.966 600.055 460.748 Q598.157 462.53 598.157 465.655 Q598.157 468.78 600.055 470.563 Q601.977 472.345 605.31 472.345 Q608.643 472.345 610.565 470.563 Q612.486 468.757 612.486 465.655 Q612.486 462.53 610.565 460.748 Q608.666 458.966 605.31 458.966 M600.634 456.975 Q597.625 456.234 595.935 454.174 Q594.268 452.114 594.268 449.151 Q594.268 445.007 597.208 442.6 Q600.171 440.193 605.31 440.193 Q610.472 440.193 613.412 442.6 Q616.352 445.007 616.352 449.151 Q616.352 452.114 614.662 454.174 Q612.995 456.234 610.009 456.975 Q613.389 457.762 615.264 460.054 Q617.162 462.345 617.162 465.655 Q617.162 470.679 614.083 473.364 Q611.028 476.049 605.31 476.049 Q599.592 476.049 596.514 473.364 Q593.458 470.679 593.458 465.655 Q593.458 462.345 595.356 460.054 Q597.254 457.762 600.634 456.975 M598.921 449.591 Q598.921 452.276 600.588 453.78 Q602.278 455.285 605.31 455.285 Q608.319 455.285 610.009 453.78 Q611.722 452.276 611.722 449.591 Q611.722 446.905 610.009 445.401 Q608.319 443.896 605.31 443.896 Q602.278 443.896 600.588 445.401 Q598.921 446.905 598.921 449.591 Z\" fill=\"#000000\" fill-rule=\"evenodd\" fill-opacity=\"1\" /><polyline clip-path=\"url(#clip500)\" style=\"stroke:#ed5d92; stroke-width:4; stroke-opacity:1; fill:none\" points=\"\n",
       "  240.69,518.578 388.044,518.578 \n",
       "  \"/>\n",
       "<path clip-path=\"url(#clip500)\" d=\"M 0 0 M420.01 502.571 L420.01 509.932 L428.783 509.932 L428.783 513.242 L420.01 513.242 L420.01 527.316 Q420.01 530.487 420.867 531.39 Q421.746 532.293 424.408 532.293 L428.783 532.293 L428.783 535.858 L424.408 535.858 Q419.478 535.858 417.603 534.029 Q415.728 532.177 415.728 527.316 L415.728 513.242 L412.603 513.242 L412.603 509.932 L415.728 509.932 L415.728 502.571 L420.01 502.571 Z\" fill=\"#000000\" fill-rule=\"evenodd\" fill-opacity=\"1\" /><path clip-path=\"url(#clip500)\" d=\"M 0 0 M445.033 522.825 Q439.871 522.825 437.88 524.006 Q435.89 525.186 435.89 528.034 Q435.89 530.302 437.371 531.645 Q438.876 532.964 441.445 532.964 Q444.987 532.964 447.116 530.464 Q449.269 527.941 449.269 523.774 L449.269 522.825 L445.033 522.825 M453.528 521.066 L453.528 535.858 L449.269 535.858 L449.269 531.922 Q447.811 534.283 445.635 535.418 Q443.459 536.529 440.311 536.529 Q436.329 536.529 433.968 534.307 Q431.63 532.061 431.63 528.311 Q431.63 523.936 434.547 521.714 Q437.487 519.492 443.297 519.492 L449.269 519.492 L449.269 519.075 Q449.269 516.135 447.325 514.538 Q445.403 512.918 441.908 512.918 Q439.686 512.918 437.579 513.45 Q435.473 513.983 433.529 515.047 L433.529 511.112 Q435.866 510.21 438.066 509.77 Q440.265 509.307 442.348 509.307 Q447.973 509.307 450.751 512.223 Q453.528 515.14 453.528 521.066 Z\" fill=\"#000000\" fill-rule=\"evenodd\" fill-opacity=\"1\" /><path clip-path=\"url(#clip500)\" d=\"M 0 0 M479.547 520.209 L479.547 535.858 L475.288 535.858 L475.288 520.348 Q475.288 516.668 473.852 514.839 Q472.417 513.01 469.547 513.01 Q466.098 513.01 464.107 515.21 Q462.116 517.409 462.116 521.205 L462.116 535.858 L457.834 535.858 L457.834 509.932 L462.116 509.932 L462.116 513.96 Q463.644 511.622 465.704 510.464 Q467.788 509.307 470.496 509.307 Q474.963 509.307 477.255 512.085 Q479.547 514.839 479.547 520.209 Z\" fill=\"#000000\" fill-rule=\"evenodd\" fill-opacity=\"1\" /><path clip-path=\"url(#clip500)\" d=\"M 0 0 M501.074 522.594 Q501.074 517.964 499.153 515.418 Q497.255 512.872 493.806 512.872 Q490.38 512.872 488.459 515.418 Q486.561 517.964 486.561 522.594 Q486.561 527.2 488.459 529.746 Q490.38 532.293 493.806 532.293 Q497.255 532.293 499.153 529.746 Q501.074 527.2 501.074 522.594 M505.334 532.64 Q505.334 539.26 502.394 542.478 Q499.454 545.719 493.389 545.719 Q491.144 545.719 489.153 545.371 Q487.162 545.047 485.288 544.353 L485.288 540.209 Q487.162 541.228 488.991 541.714 Q490.82 542.2 492.718 542.2 Q496.908 542.2 498.991 540.001 Q501.074 537.825 501.074 533.404 L501.074 531.297 Q499.755 533.589 497.695 534.723 Q495.635 535.858 492.764 535.858 Q487.996 535.858 485.079 532.223 Q482.163 528.589 482.163 522.594 Q482.163 516.575 485.079 512.941 Q487.996 509.307 492.764 509.307 Q495.635 509.307 497.695 510.441 Q499.755 511.575 501.074 513.867 L501.074 509.932 L505.334 509.932 L505.334 532.64 Z\" fill=\"#000000\" fill-rule=\"evenodd\" fill-opacity=\"1\" /><path clip-path=\"url(#clip500)\" d=\"M 0 0 M531.977 521.83 L531.977 523.913 L512.394 523.913 Q512.672 528.311 515.033 530.626 Q517.417 532.918 521.653 532.918 Q524.107 532.918 526.398 532.316 Q528.713 531.714 530.982 530.51 L530.982 534.538 Q528.69 535.51 526.283 536.02 Q523.875 536.529 521.398 536.529 Q515.195 536.529 511.561 532.918 Q507.949 529.307 507.949 523.149 Q507.949 516.784 511.375 513.057 Q514.824 509.307 520.658 509.307 Q525.889 509.307 528.922 512.686 Q531.977 516.043 531.977 521.83 M527.718 520.58 Q527.672 517.085 525.75 515.001 Q523.852 512.918 520.704 512.918 Q517.139 512.918 514.986 514.932 Q512.857 516.946 512.533 520.603 L527.718 520.58 Z\" fill=\"#000000\" fill-rule=\"evenodd\" fill-opacity=\"1\" /><path clip-path=\"url(#clip500)\" d=\"M 0 0 M557.995 520.209 L557.995 535.858 L553.736 535.858 L553.736 520.348 Q553.736 516.668 552.301 514.839 Q550.866 513.01 547.995 513.01 Q544.546 513.01 542.556 515.21 Q540.565 517.409 540.565 521.205 L540.565 535.858 L536.283 535.858 L536.283 509.932 L540.565 509.932 L540.565 513.96 Q542.093 511.622 544.153 510.464 Q546.236 509.307 548.945 509.307 Q553.412 509.307 555.704 512.085 Q557.995 514.839 557.995 520.209 Z\" fill=\"#000000\" fill-rule=\"evenodd\" fill-opacity=\"1\" /><path clip-path=\"url(#clip500)\" d=\"M 0 0 M566.676 502.571 L566.676 509.932 L575.449 509.932 L575.449 513.242 L566.676 513.242 L566.676 527.316 Q566.676 530.487 567.532 531.39 Q568.412 532.293 571.074 532.293 L575.449 532.293 L575.449 535.858 L571.074 535.858 Q566.144 535.858 564.269 534.029 Q562.394 532.177 562.394 527.316 L562.394 513.242 L559.269 513.242 L559.269 509.932 L562.394 509.932 L562.394 502.571 L566.676 502.571 Z\" fill=\"#000000\" fill-rule=\"evenodd\" fill-opacity=\"1\" /><path clip-path=\"url(#clip500)\" d=\"M 0 0 M581.329 531.922 L588.968 531.922 L588.968 505.557 L580.657 507.223 L580.657 502.964 L588.921 501.298 L593.597 501.298 L593.597 531.922 L601.236 531.922 L601.236 535.858 L581.329 535.858 L581.329 531.922 Z\" fill=\"#000000\" fill-rule=\"evenodd\" fill-opacity=\"1\" /><path clip-path=\"url(#clip500)\" d=\"M 0 0 M616.884 516.714 Q613.736 516.714 611.884 518.867 Q610.055 521.02 610.055 524.77 Q610.055 528.496 611.884 530.672 Q613.736 532.825 616.884 532.825 Q620.032 532.825 621.861 530.672 Q623.713 528.496 623.713 524.77 Q623.713 521.02 621.861 518.867 Q620.032 516.714 616.884 516.714 M626.166 502.061 L626.166 506.321 Q624.407 505.487 622.602 505.048 Q620.819 504.608 619.06 504.608 Q614.43 504.608 611.977 507.733 Q609.546 510.858 609.199 517.177 Q610.565 515.163 612.625 514.098 Q614.685 513.01 617.162 513.01 Q622.37 513.01 625.379 516.182 Q628.412 519.33 628.412 524.77 Q628.412 530.094 625.264 533.311 Q622.115 536.529 616.884 536.529 Q610.889 536.529 607.717 531.946 Q604.546 527.339 604.546 518.612 Q604.546 510.418 608.435 505.557 Q612.324 500.673 618.875 500.673 Q620.634 500.673 622.416 501.02 Q624.222 501.367 626.166 502.061 Z\" fill=\"#000000\" fill-rule=\"evenodd\" fill-opacity=\"1\" /></svg>\n"
      ]
     },
     "execution_count": 47,
     "metadata": {},
     "output_type": "execute_result"
    }
   ],
   "source": [
    "plot!(tangent_line3, label=\"tangent4\")\n",
    "plot!(tangent_line4, label=\"tangent-8\")\n",
    "plot!(tangent_line5, label=\"tangent16\")"
   ]
  },
  {
   "cell_type": "markdown",
   "metadata": {},
   "source": [
    "#### Obserwacje - cd.\n",
    "Metoda nie doprowadzi do wyznaczenia pierwiastka $x=0$, w każdej kolejnej iteracji oddalamy się od niego, raz do $\\infty$, następnie do $-\\infty$."
   ]
  },
  {
   "cell_type": "markdown",
   "metadata": {},
   "source": [
    "### Metoda siecznych"
   ]
  },
  {
   "cell_type": "markdown",
   "metadata": {},
   "source": [
    "Tutaj również wykorzystamy funkcję $g(x) = \\sqrt[3]x$ dla $x=1$."
   ]
  },
  {
   "cell_type": "code",
   "execution_count": 48,
   "metadata": {},
   "outputs": [
    {
     "name": "stdout",
     "output_type": "stream",
     "text": [
      "Results of univariate zero finding:\n",
      "\n",
      "* Convergence failed: Too many steps taken. \n",
      "* Algorithm Roots.Secant()\n",
      "\n",
      "Trace:\n",
      "x_0 =  1.0000000000000000,\t fx_0 =  1.0000000000000000\n",
      "x_1 = -2.0000060553430346,\t fx_1 = -1.2599223214359490\n",
      "x_2 = -0.3274819346166014,\t fx_2 = -0.6892801669110555\n",
      "x_3 =  1.6927643720322905,\t fx_3 =  1.1917875289511943\n",
      "x_4 =  0.4127974899418465,\t fx_4 =  0.7445816848597556\n",
      "x_5 = -1.7183014440799682,\t fx_5 = -1.1977507506057830\n",
      "x_6 = -0.4041467189502184,\t fx_6 = -0.7393436589319288\n",
      "x_7 =  1.7153928355804768,\t fx_7 =  1.1970745488112253\n",
      "x_8 =  0.4051144846634640,\t fx_8 =  0.7399333301656660\n",
      "x_9 = -1.7157151060493148,\t fx_9 = -1.1971495088265423\n",
      "x_10 = -0.4050070394043588,\t fx_10 = -0.7398679088580160\n",
      "x_11 =  1.7156792870489310,\t fx_11 =  1.1971411778013865\n",
      "x_12 =  0.4050189788022747,\t fx_12 =  0.7398751790942570\n",
      "x_13 = -1.7156832667998965,\t fx_13 = -1.1971421034444849\n",
      "x_14 = -0.4050176522152995,\t fx_14 = -0.7398743713050762\n",
      "x_15 =  1.7156828246036415,\t fx_15 =  1.1971420005949263\n",
      "x_16 =  0.4050177996140105,\t fx_16 =  0.7398744610596131\n",
      "x_17 = -1.7156828737365384,\t fx_17 = -1.1971420120226512\n",
      "x_18 = -0.4050177832363782,\t fx_18 = -0.7398744510868891\n",
      "x_19 =  1.7156828682773273,\t fx_19 =  1.1971420107529041\n",
      "x_20 =  0.4050177850561147,\t fx_20 =  0.7398744521949694\n",
      "x_21 = -1.7156828688839059,\t fx_21 = -1.1971420108939870\n",
      "x_22 = -0.4050177848539218,\t fx_22 = -0.7398744520718493\n",
      "x_23 =  1.7156828688165073,\t fx_23 =  1.1971420108783108\n",
      "x_24 =  0.4050177848763874,\t fx_24 =  0.7398744520855292\n",
      "x_25 = -1.7156828688239951,\t fx_25 = -1.1971420108800523\n",
      "x_26 = -0.4050177848738912,\t fx_26 = -0.7398744520840091\n",
      "x_27 =  1.7156828688231629,\t fx_27 =  1.1971420108798587\n",
      "x_28 =  0.4050177848741685,\t fx_28 =  0.7398744520841780\n",
      "x_29 = -1.7156828688232555,\t fx_29 = -1.1971420108798803\n",
      "x_30 = -0.4050177848741376,\t fx_30 = -0.7398744520841593\n",
      "x_31 =  1.7156828688232455,\t fx_31 =  1.1971420108798780\n",
      "x_32 =  0.4050177848741412,\t fx_32 =  0.7398744520841614\n",
      "x_33 = -1.7156828688232464,\t fx_33 = -1.1971420108798783\n",
      "x_34 = -0.4050177848741408,\t fx_34 = -0.7398744520841611\n",
      "x_35 =  1.7156828688232459,\t fx_35 =  1.1971420108798780\n",
      "x_36 =  0.4050177848741405,\t fx_36 =  0.7398744520841610\n",
      "x_37 = -1.7156828688232462,\t fx_37 = -1.1971420108798783\n",
      "x_38 = -0.4050177848741408,\t fx_38 = -0.7398744520841611\n",
      "x_39 =  1.7156828688232459,\t fx_39 =  1.1971420108798780\n",
      "x_40 =  0.4050177848741405,\t fx_40 =  0.7398744520841610\n",
      "x_41 = -1.7156828688232462,\t fx_41 = -1.1971420108798783\n",
      "\n"
     ]
    },
    {
     "ename": "LoadError",
     "evalue": "\u001b[91mRoots.ConvergenceFailed(\"Stopped at: xn = -1.7156828688232462. Too many steps taken. \")\u001b[39m",
     "output_type": "error",
     "traceback": [
      "\u001b[91mRoots.ConvergenceFailed(\"Stopped at: xn = -1.7156828688232462. Too many steps taken. \")\u001b[39m",
      "",
      "Stacktrace:",
      " [1] find_zero(::Function, ::Int64, ::Roots.Secant, ::Nothing; tracks::Roots.NullTracks, verbose::Bool, p::Nothing, kwargs::Base.Iterators.Pairs{Union{},Union{},Tuple{},NamedTuple{(),Tuple{}}}) at C:\\Users\\sylwi\\.julia\\packages\\Roots\\AV3zx\\src\\find_zero.jl:715",
      " [2] top-level scope at In[48]:1",
      " [3] include_string(::Function, ::Module, ::String, ::String) at .\\loading.jl:1091"
     ]
    }
   ],
   "source": [
    "find_zero(g, 1, Order1(), verbose = true)"
   ]
  },
  {
   "cell_type": "markdown",
   "metadata": {},
   "source": [
    "#### Obserwacje\n",
    "Metoda siecznych ponownie nie działa."
   ]
  },
  {
   "cell_type": "markdown",
   "metadata": {},
   "source": [
    "# B."
   ]
  },
  {
   "cell_type": "markdown",
   "metadata": {},
   "source": [
    "###  Wstęga Newtona (basen Newtona)"
   ]
  },
  {
   "cell_type": "markdown",
   "metadata": {},
   "source": [
    "Źródło: https://computingskillset.com/solving-equations/newton-fractals-explained-examples-and-python-code/\n",
    "\n",
    "Fraktale Newtona to fraktale utworzone na płaszczyźnie liczb zespolonych metodą Newtona. \n",
    "Każdemu z pierwiastków danego wielomianu $p(z)$ przypisujemy inny kolor.\n",
    "Rozpatrując zbiór punktów, każdy z nich przyjmuje odpowiedni kolor, w zależności do którego pierwiastka zbiega, a by to określić wykorzystujemy właśnie metodę Newtona."
   ]
  },
  {
   "cell_type": "markdown",
   "metadata": {},
   "source": [
    "W celu wyrysowania wstegi Newtona użyłam języka Python."
   ]
  },
  {
   "cell_type": "markdown",
   "metadata": {},
   "source": [
    "KOD ŹRÓDŁOWY:\n",
    "\n",
    "``` Python \n",
    "import numpy as np\n",
    "import matplotlib.pyplot as plt\n",
    "from matplotlib.colors import ListedColormap\n",
    "\n",
    "\n",
    "eps = 1.e-8\n",
    "\n",
    "def newton(z0, f, der, MAX_IT=1000):\n",
    "    # MAX_IT - max number of iterations\n",
    "\n",
    "    z = z0\n",
    "    for _ in range(MAX_IT):\n",
    "        dz = f(z)/der(z)\n",
    "        if abs(dz) < eps:\n",
    "            return z\n",
    "        z -= dz\n",
    "    return False\n",
    "\n",
    "def plot_newton_fractal(f, der, n=200, domain=(-1, 1, -1, 1)):\n",
    "\n",
    "    roots = []\n",
    "    m = np.zeros((n, n))\n",
    "\n",
    "    def get_root_index(roots, r):\n",
    "        try:\n",
    "            return np.where(np.isclose(roots, r, atol=eps))[0][0]\n",
    "        except IndexError:\n",
    "            roots.append(r)\n",
    "            return len(roots) - 1\n",
    "\n",
    "\n",
    "    xmin, xmax, ymin, ymax = domain\n",
    "    for ix, x in enumerate(np.linspace(xmin, xmax, n)):\n",
    "        for iy, y in enumerate(np.linspace(ymin, ymax, n)):\n",
    "            z0 = x + y*1j\n",
    "            r = newton(z0, f, der)\n",
    "            if r is not False:\n",
    "                ir = get_root_index(roots, r)\n",
    "                m[iy, ix] = ir\n",
    "    \n",
    "    plt.imshow(m, cmap='afmhot', origin='lower')\n",
    "    plt.axis('off')\n",
    "    plt.show()\n",
    "```"
   ]
  },
  {
   "cell_type": "markdown",
   "metadata": {},
   "source": [
    "### Przykład 1. \n",
    "Wygenerowałam wstęgę na podstawie poniższej funkcji:\n",
    "\n",
    "$$\n",
    "\\begin{align}\n",
    "f(x) = z^{12} - 1\n",
    "\\end{align}\n",
    "$$\n",
    "\n",
    "Jej pochodna:\n",
    "\n",
    "$$\n",
    "\\begin{align}\n",
    "f'(x) = 12z^{11}\n",
    "\\end{align}\n",
    "$$\n",
    "\n",
    "Zatem kolejne przybliżenia są dane wzorem:\n",
    "\n",
    "$$\n",
    "\\begin{align}\n",
    "z_{i+1} = z_i - \\frac{z^{12}-1}{12z^{11}}\n",
    "\\end{align}\n",
    "$$\n",
    "\n",
    "Ta funkcja ma 12 rzeczywistych i zespolonych pierwiastków: \n",
    "$$\n",
    "\\begin{align}\n",
    "\\left[\\pm 1, \\pm i, \\frac{\\pm 1 \\pm i\\sqrt 3}{2}, \\frac{\\pm \\sqrt 3 \\pm i}{2}\\right]\n",
    "\\end{align}\n",
    "$$\n",
    "\n",
    "Spodziewamy się więc 12 kolorów, w zależności od tego, do którego pierwiastka zbiega dany punkt."
   ]
  },
  {
   "cell_type": "markdown",
   "metadata": {},
   "source": [
    "```Python \n",
    "f = lambda z: z**12 - 1\n",
    "der = lambda z: 12*z**11\n",
    "\n",
    "# n**2 - number of points\n",
    "plot_newton_fractal(f, der, n=500, domain = (-1.5,1.5,-1.5,1.5))\n",
    "```"
   ]
  },
  {
   "cell_type": "code",
   "execution_count": 52,
   "metadata": {},
   "outputs": [],
   "source": [
    "using Images"
   ]
  },
  {
   "cell_type": "code",
   "execution_count": 53,
   "metadata": {},
   "outputs": [
    {
     "data": {
      "image/png": "[encoded data removed]",
      "text/plain": [
       "761×762 Array{RGBA{N0f8},2} with eltype RGBA{Normed{UInt8,8}}:\n",
       " RGBA{N0f8}(0.047,0.0,0.0,1.0)    …  RGBA{N0f8}(0.102,0.0,0.0,1.0)\n",
       " RGBA{N0f8}(0.471,0.0,0.0,1.0)       RGBA{N0f8}(0.235,0.0,0.0,1.0)\n",
       " RGBA{N0f8}(0.965,0.463,0.0,1.0)     RGBA{N0f8}(0.541,0.039,0.0,1.0)\n",
       " RGBA{N0f8}(1.0,1.0,0.624,1.0)       RGBA{N0f8}(0.996,0.494,0.0,1.0)\n",
       " RGBA{N0f8}(1.0,1.0,0.733,1.0)       RGBA{N0f8}(1.0,1.0,0.631,1.0)\n",
       " RGBA{N0f8}(1.0,0.965,0.463,1.0)  …  RGBA{N0f8}(1.0,0.706,0.204,1.0)\n",
       " RGBA{N0f8}(0.918,0.416,0.0,1.0)     RGBA{N0f8}(0.18,0.0,0.0,1.0)\n",
       " RGBA{N0f8}(1.0,0.698,0.196,1.0)     RGBA{N0f8}(0.8,0.298,0.0,1.0)\n",
       " RGBA{N0f8}(1.0,0.824,0.322,1.0)     RGBA{N0f8}(1.0,0.588,0.086,1.0)\n",
       " RGBA{N0f8}(1.0,0.965,0.463,1.0)     RGBA{N0f8}(1.0,0.925,0.427,1.0)\n",
       " RGBA{N0f8}(0.682,0.18,0.0,1.0)   …  RGBA{N0f8}(0.973,0.471,0.0,1.0)\n",
       " RGBA{N0f8}(0.38,0.0,0.0,1.0)        RGBA{N0f8}(0.824,0.322,0.0,1.0)\n",
       " RGBA{N0f8}(0.235,0.0,0.0,1.0)       RGBA{N0f8}(0.808,0.306,0.0,1.0)\n",
       " ⋮                                ⋱  \n",
       " RGBA{N0f8}(0.588,0.086,0.0,1.0)     RGBA{N0f8}(0.345,0.0,0.0,1.0)\n",
       " RGBA{N0f8}(0.627,0.125,0.0,1.0)  …  RGBA{N0f8}(0.455,0.0,0.0,1.0)\n",
       " RGBA{N0f8}(1.0,0.792,0.294,1.0)     RGBA{N0f8}(0.855,0.353,0.0,1.0)\n",
       " RGBA{N0f8}(1.0,0.91,0.408,1.0)      RGBA{N0f8}(0.98,0.478,0.0,1.0)\n",
       " RGBA{N0f8}(1.0,0.682,0.184,1.0)     RGBA{N0f8}(1.0,0.549,0.051,1.0)\n",
       " RGBA{N0f8}(0.016,0.0,0.0,1.0)       RGBA{N0f8}(1.0,0.588,0.086,1.0)\n",
       " RGBA{N0f8}(1.0,0.518,0.016,1.0)  …  RGBA{N0f8}(0.953,0.455,0.0,1.0)\n",
       " RGBA{N0f8}(1.0,1.0,0.616,1.0)       RGBA{N0f8}(0.91,0.408,0.0,1.0)\n",
       " RGBA{N0f8}(1.0,1.0,0.796,1.0)       RGBA{N0f8}(1.0,0.557,0.059,1.0)\n",
       " RGBA{N0f8}(1.0,1.0,0.867,1.0)       RGBA{N0f8}(1.0,0.769,0.267,1.0)\n",
       " RGBA{N0f8}(1.0,1.0,0.714,1.0)       RGBA{N0f8}(1.0,0.831,0.329,1.0)\n",
       " RGBA{N0f8}(0.118,0.0,0.0,1.0)    …  RGBA{N0f8}(0.62,0.118,0.0,1.0)"
      ]
     },
     "execution_count": 53,
     "metadata": {},
     "output_type": "execute_result"
    }
   ],
   "source": [
    "img_path = \"newton_fractal1.png\"\n",
    "img = load(img_path)"
   ]
  },
  {
   "cell_type": "markdown",
   "metadata": {},
   "source": [
    "### Przykład 2. "
   ]
  },
  {
   "cell_type": "markdown",
   "metadata": {},
   "source": [
    "Jako kolejny przykład rozważmy funkcję:\n",
    "$$\n",
    "\\begin{align}\n",
    "f(x) = (z-2)(z-\\frac{1}{2})(z+\\frac{3}{2})(z+2)\n",
    "\\end{align}\n",
    "$$\n",
    "\n",
    "Pochodna:\n",
    "$$\n",
    "\\begin{align}\n",
    "f'(x) = 4z^3 + 3z^2 - \\frac{19z}{2} - 4\n",
    "\\end{align}\n",
    "$$\n",
    "\n",
    "Pierwiastki:\n",
    "$$\n",
    "\\begin{align}\n",
    "\\left[-2,\\frac{-3}{2}, \\frac{1}{2}, 2\\right]\n",
    "\\end{align}\n",
    "$$\n",
    "\n",
    "Spodziewane 4 kolory."
   ]
  },
  {
   "cell_type": "markdown",
   "metadata": {},
   "source": [
    "``` Python \n",
    "f = lambda z: (z-2)*(z-1/2)*(z+3/2)*(z+2)\n",
    "der = lambda z: -4 - (19*z)/2 + 3*z**2 + 4*z**3\n",
    "\n",
    "# n**2 - number of points\n",
    "plot_newton_fractal(f, der, n=500, domain = (1.23,1.45,-0.1,0.1))\n",
    "```"
   ]
  },
  {
   "cell_type": "code",
   "execution_count": 51,
   "metadata": {},
   "outputs": [
    {
     "data": {
      "image/png": "[encoded data removed]",
      "text/plain": [
       "761×761 Array{RGBA{N0f8},2} with eltype RGBA{Normed{UInt8,8}}:\n",
       " RGBA{N0f8}(0.0,0.0,0.0,1.0)  …  RGBA{N0f8}(0.0,0.0,0.0,1.0)\n",
       " RGBA{N0f8}(0.0,0.0,0.0,1.0)     RGBA{N0f8}(0.0,0.0,0.0,1.0)\n",
       " RGBA{N0f8}(0.0,0.0,0.0,1.0)     RGBA{N0f8}(0.0,0.0,0.0,1.0)\n",
       " RGBA{N0f8}(0.0,0.0,0.0,1.0)     RGBA{N0f8}(0.0,0.0,0.0,1.0)\n",
       " RGBA{N0f8}(0.0,0.0,0.0,1.0)     RGBA{N0f8}(0.0,0.0,0.0,1.0)\n",
       " RGBA{N0f8}(0.0,0.0,0.0,1.0)  …  RGBA{N0f8}(0.0,0.0,0.0,1.0)\n",
       " RGBA{N0f8}(0.0,0.0,0.0,1.0)     RGBA{N0f8}(0.0,0.0,0.0,1.0)\n",
       " RGBA{N0f8}(0.0,0.0,0.0,1.0)     RGBA{N0f8}(0.0,0.0,0.0,1.0)\n",
       " RGBA{N0f8}(0.0,0.0,0.0,1.0)     RGBA{N0f8}(0.0,0.0,0.0,1.0)\n",
       " RGBA{N0f8}(0.0,0.0,0.0,1.0)     RGBA{N0f8}(0.0,0.0,0.0,1.0)\n",
       " RGBA{N0f8}(0.0,0.0,0.0,1.0)  …  RGBA{N0f8}(0.0,0.0,0.0,1.0)\n",
       " RGBA{N0f8}(0.0,0.0,0.0,1.0)     RGBA{N0f8}(0.0,0.0,0.0,1.0)\n",
       " RGBA{N0f8}(0.0,0.0,0.0,1.0)     RGBA{N0f8}(0.0,0.0,0.0,1.0)\n",
       " ⋮                            ⋱  ⋮\n",
       " RGBA{N0f8}(0.0,0.0,0.0,1.0)     RGBA{N0f8}(0.0,0.0,0.0,1.0)\n",
       " RGBA{N0f8}(0.0,0.0,0.0,1.0)  …  RGBA{N0f8}(0.0,0.0,0.0,1.0)\n",
       " RGBA{N0f8}(0.0,0.0,0.0,1.0)     RGBA{N0f8}(0.0,0.0,0.0,1.0)\n",
       " RGBA{N0f8}(0.0,0.0,0.0,1.0)     RGBA{N0f8}(0.0,0.0,0.0,1.0)\n",
       " RGBA{N0f8}(0.0,0.0,0.0,1.0)     RGBA{N0f8}(0.0,0.0,0.0,1.0)\n",
       " RGBA{N0f8}(0.0,0.0,0.0,1.0)     RGBA{N0f8}(0.0,0.0,0.0,1.0)\n",
       " RGBA{N0f8}(0.0,0.0,0.0,1.0)  …  RGBA{N0f8}(0.0,0.0,0.0,1.0)\n",
       " RGBA{N0f8}(0.0,0.0,0.0,1.0)     RGBA{N0f8}(0.0,0.0,0.0,1.0)\n",
       " RGBA{N0f8}(0.0,0.0,0.0,1.0)     RGBA{N0f8}(0.0,0.0,0.0,1.0)\n",
       " RGBA{N0f8}(0.0,0.0,0.0,1.0)     RGBA{N0f8}(0.0,0.0,0.0,1.0)\n",
       " RGBA{N0f8}(0.0,0.0,0.0,1.0)     RGBA{N0f8}(0.0,0.0,0.0,1.0)\n",
       " RGBA{N0f8}(0.0,0.0,0.0,1.0)  …  RGBA{N0f8}(0.0,0.0,0.0,1.0)"
      ]
     },
     "execution_count": 51,
     "metadata": {},
     "output_type": "execute_result"
    }
   ],
   "source": [
    "img_path = \"newton_fractal2.png\"\n",
    "img = load(img_path)"
   ]
  }
 ],
 "metadata": {
  "kernelspec": {
   "display_name": "Julia 1.5.3",
   "language": "julia",
   "name": "julia-1.5"
  },
  "language_info": {
   "file_extension": ".jl",
   "mimetype": "application/julia",
   "name": "julia",
   "version": "1.5.3"
  }
 },
 "nbformat": 4,
 "nbformat_minor": 2
}
